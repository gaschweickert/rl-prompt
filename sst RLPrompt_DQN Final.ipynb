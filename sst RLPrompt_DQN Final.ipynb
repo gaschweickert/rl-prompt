{
 "cells": [
  {
   "cell_type": "code",
   "execution_count": 1,
   "metadata": {
    "id": "UoDJ-uYIO6b3"
   },
   "outputs": [
    {
     "name": "stdout",
     "output_type": "stream",
     "text": [
      "Requirement already satisfied: transformers in /Library/Frameworks/Python.framework/Versions/3.9/lib/python3.9/site-packages (4.14.1)\n",
      "Requirement already satisfied: filelock in /Library/Frameworks/Python.framework/Versions/3.9/lib/python3.9/site-packages (from transformers) (3.8.2)\n",
      "Requirement already satisfied: requests in /Library/Frameworks/Python.framework/Versions/3.9/lib/python3.9/site-packages (from transformers) (2.28.1)\n",
      "Requirement already satisfied: packaging>=20.0 in /Library/Frameworks/Python.framework/Versions/3.9/lib/python3.9/site-packages (from transformers) (22.0)\n",
      "Requirement already satisfied: numpy>=1.17 in /Library/Frameworks/Python.framework/Versions/3.9/lib/python3.9/site-packages (from transformers) (1.23.5)\n",
      "Requirement already satisfied: tokenizers<0.11,>=0.10.1 in /Library/Frameworks/Python.framework/Versions/3.9/lib/python3.9/site-packages (from transformers) (0.10.3)\n",
      "Requirement already satisfied: tqdm>=4.27 in /Library/Frameworks/Python.framework/Versions/3.9/lib/python3.9/site-packages (from transformers) (4.64.1)\n",
      "Requirement already satisfied: huggingface-hub<1.0,>=0.1.0 in /Library/Frameworks/Python.framework/Versions/3.9/lib/python3.9/site-packages (from transformers) (0.11.1)\n",
      "Requirement already satisfied: pyyaml>=5.1 in /Library/Frameworks/Python.framework/Versions/3.9/lib/python3.9/site-packages (from transformers) (6.0)\n",
      "Requirement already satisfied: regex!=2019.12.17 in /Library/Frameworks/Python.framework/Versions/3.9/lib/python3.9/site-packages (from transformers) (2022.10.31)\n",
      "Requirement already satisfied: sacremoses in /Library/Frameworks/Python.framework/Versions/3.9/lib/python3.9/site-packages (from transformers) (0.0.53)\n",
      "Requirement already satisfied: typing-extensions>=3.7.4.3 in /Library/Frameworks/Python.framework/Versions/3.9/lib/python3.9/site-packages (from huggingface-hub<1.0,>=0.1.0->transformers) (4.4.0)\n",
      "Requirement already satisfied: certifi>=2017.4.17 in /Library/Frameworks/Python.framework/Versions/3.9/lib/python3.9/site-packages (from requests->transformers) (2022.12.7)\n",
      "Requirement already satisfied: urllib3<1.27,>=1.21.1 in /Library/Frameworks/Python.framework/Versions/3.9/lib/python3.9/site-packages (from requests->transformers) (1.26.13)\n",
      "Requirement already satisfied: idna<4,>=2.5 in /Library/Frameworks/Python.framework/Versions/3.9/lib/python3.9/site-packages (from requests->transformers) (3.4)\n",
      "Requirement already satisfied: charset-normalizer<3,>=2 in /Library/Frameworks/Python.framework/Versions/3.9/lib/python3.9/site-packages (from requests->transformers) (2.1.1)\n",
      "Requirement already satisfied: six in /Library/Frameworks/Python.framework/Versions/3.9/lib/python3.9/site-packages (from sacremoses->transformers) (1.16.0)\n",
      "Requirement already satisfied: click in /Library/Frameworks/Python.framework/Versions/3.9/lib/python3.9/site-packages (from sacremoses->transformers) (8.1.3)\n",
      "Requirement already satisfied: joblib in /Library/Frameworks/Python.framework/Versions/3.9/lib/python3.9/site-packages (from sacremoses->transformers) (1.2.0)\n",
      "\n",
      "\u001b[1m[\u001b[0m\u001b[34;49mnotice\u001b[0m\u001b[1;39;49m]\u001b[0m\u001b[39;49m A new release of pip is available: \u001b[0m\u001b[31;49m23.0.1\u001b[0m\u001b[39;49m -> \u001b[0m\u001b[32;49m23.1.2\u001b[0m\n",
      "\u001b[1m[\u001b[0m\u001b[34;49mnotice\u001b[0m\u001b[1;39;49m]\u001b[0m\u001b[39;49m To update, run: \u001b[0m\u001b[32;49mpip install --upgrade pip\u001b[0m\n",
      "Requirement already satisfied: datasets in /Library/Frameworks/Python.framework/Versions/3.9/lib/python3.9/site-packages (2.10.1)\n",
      "Requirement already satisfied: multiprocess in /Library/Frameworks/Python.framework/Versions/3.9/lib/python3.9/site-packages (from datasets) (0.70.14)\n",
      "Requirement already satisfied: responses<0.19 in /Library/Frameworks/Python.framework/Versions/3.9/lib/python3.9/site-packages (from datasets) (0.18.0)\n",
      "Requirement already satisfied: huggingface-hub<1.0.0,>=0.2.0 in /Library/Frameworks/Python.framework/Versions/3.9/lib/python3.9/site-packages (from datasets) (0.11.1)\n",
      "Requirement already satisfied: packaging in /Library/Frameworks/Python.framework/Versions/3.9/lib/python3.9/site-packages (from datasets) (22.0)\n",
      "Requirement already satisfied: fsspec[http]>=2021.11.1 in /Library/Frameworks/Python.framework/Versions/3.9/lib/python3.9/site-packages (from datasets) (2022.11.0)\n",
      "Requirement already satisfied: pyarrow>=6.0.0 in /Library/Frameworks/Python.framework/Versions/3.9/lib/python3.9/site-packages (from datasets) (11.0.0)\n",
      "Requirement already satisfied: numpy>=1.17 in /Library/Frameworks/Python.framework/Versions/3.9/lib/python3.9/site-packages (from datasets) (1.23.5)\n",
      "Requirement already satisfied: xxhash in /Library/Frameworks/Python.framework/Versions/3.9/lib/python3.9/site-packages (from datasets) (3.2.0)\n",
      "Requirement already satisfied: pandas in /Library/Frameworks/Python.framework/Versions/3.9/lib/python3.9/site-packages (from datasets) (1.5.2)\n",
      "Requirement already satisfied: aiohttp in /Library/Frameworks/Python.framework/Versions/3.9/lib/python3.9/site-packages (from datasets) (3.8.3)\n",
      "Requirement already satisfied: dill<0.3.7,>=0.3.0 in /Library/Frameworks/Python.framework/Versions/3.9/lib/python3.9/site-packages (from datasets) (0.3.6)\n",
      "Requirement already satisfied: tqdm>=4.62.1 in /Library/Frameworks/Python.framework/Versions/3.9/lib/python3.9/site-packages (from datasets) (4.64.1)\n",
      "Requirement already satisfied: pyyaml>=5.1 in /Library/Frameworks/Python.framework/Versions/3.9/lib/python3.9/site-packages (from datasets) (6.0)\n",
      "Requirement already satisfied: requests>=2.19.0 in /Library/Frameworks/Python.framework/Versions/3.9/lib/python3.9/site-packages (from datasets) (2.28.1)\n",
      "Requirement already satisfied: attrs>=17.3.0 in /Library/Frameworks/Python.framework/Versions/3.9/lib/python3.9/site-packages (from aiohttp->datasets) (22.2.0)\n",
      "Requirement already satisfied: aiosignal>=1.1.2 in /Library/Frameworks/Python.framework/Versions/3.9/lib/python3.9/site-packages (from aiohttp->datasets) (1.3.1)\n",
      "Requirement already satisfied: frozenlist>=1.1.1 in /Library/Frameworks/Python.framework/Versions/3.9/lib/python3.9/site-packages (from aiohttp->datasets) (1.3.3)\n",
      "Requirement already satisfied: multidict<7.0,>=4.5 in /Library/Frameworks/Python.framework/Versions/3.9/lib/python3.9/site-packages (from aiohttp->datasets) (6.0.3)\n",
      "Requirement already satisfied: async-timeout<5.0,>=4.0.0a3 in /Library/Frameworks/Python.framework/Versions/3.9/lib/python3.9/site-packages (from aiohttp->datasets) (4.0.2)\n",
      "Requirement already satisfied: yarl<2.0,>=1.0 in /Library/Frameworks/Python.framework/Versions/3.9/lib/python3.9/site-packages (from aiohttp->datasets) (1.8.2)\n",
      "Requirement already satisfied: charset-normalizer<3.0,>=2.0 in /Library/Frameworks/Python.framework/Versions/3.9/lib/python3.9/site-packages (from aiohttp->datasets) (2.1.1)\n",
      "Requirement already satisfied: filelock in /Library/Frameworks/Python.framework/Versions/3.9/lib/python3.9/site-packages (from huggingface-hub<1.0.0,>=0.2.0->datasets) (3.8.2)\n",
      "Requirement already satisfied: typing-extensions>=3.7.4.3 in /Library/Frameworks/Python.framework/Versions/3.9/lib/python3.9/site-packages (from huggingface-hub<1.0.0,>=0.2.0->datasets) (4.4.0)\n",
      "Requirement already satisfied: urllib3<1.27,>=1.21.1 in /Library/Frameworks/Python.framework/Versions/3.9/lib/python3.9/site-packages (from requests>=2.19.0->datasets) (1.26.13)\n",
      "Requirement already satisfied: idna<4,>=2.5 in /Library/Frameworks/Python.framework/Versions/3.9/lib/python3.9/site-packages (from requests>=2.19.0->datasets) (3.4)\n",
      "Requirement already satisfied: certifi>=2017.4.17 in /Library/Frameworks/Python.framework/Versions/3.9/lib/python3.9/site-packages (from requests>=2.19.0->datasets) (2022.12.7)\n",
      "Requirement already satisfied: python-dateutil>=2.8.1 in /Library/Frameworks/Python.framework/Versions/3.9/lib/python3.9/site-packages (from pandas->datasets) (2.8.2)\n",
      "Requirement already satisfied: pytz>=2020.1 in /Library/Frameworks/Python.framework/Versions/3.9/lib/python3.9/site-packages (from pandas->datasets) (2022.7)\n",
      "Requirement already satisfied: six>=1.5 in /Library/Frameworks/Python.framework/Versions/3.9/lib/python3.9/site-packages (from python-dateutil>=2.8.1->pandas->datasets) (1.16.0)\n",
      "\n",
      "\u001b[1m[\u001b[0m\u001b[34;49mnotice\u001b[0m\u001b[1;39;49m]\u001b[0m\u001b[39;49m A new release of pip is available: \u001b[0m\u001b[31;49m23.0.1\u001b[0m\u001b[39;49m -> \u001b[0m\u001b[32;49m23.1.2\u001b[0m\n",
      "\u001b[1m[\u001b[0m\u001b[34;49mnotice\u001b[0m\u001b[1;39;49m]\u001b[0m\u001b[39;49m To update, run: \u001b[0m\u001b[32;49mpip install --upgrade pip\u001b[0m\n"
     ]
    }
   ],
   "source": [
    "!pip install transformers\n",
    "!pip install datasets\n",
    "# !pip install wandb\n"
   ]
  },
  {
   "cell_type": "code",
   "execution_count": 2,
   "metadata": {
    "id": "qgGFgFLYnMKK"
   },
   "outputs": [
    {
     "name": "stdout",
     "output_type": "stream",
     "text": [
      "Requirement already satisfied: xformers in /Library/Frameworks/Python.framework/Versions/3.9/lib/python3.9/site-packages (0.0.16)\n",
      "Requirement already satisfied: numpy in /Library/Frameworks/Python.framework/Versions/3.9/lib/python3.9/site-packages (from xformers) (1.23.5)\n",
      "Requirement already satisfied: pyre-extensions==0.0.23 in /Library/Frameworks/Python.framework/Versions/3.9/lib/python3.9/site-packages (from xformers) (0.0.23)\n",
      "Requirement already satisfied: torch>=1.12 in /Library/Frameworks/Python.framework/Versions/3.9/lib/python3.9/site-packages (from xformers) (2.0.0)\n",
      "Requirement already satisfied: typing-extensions in /Library/Frameworks/Python.framework/Versions/3.9/lib/python3.9/site-packages (from pyre-extensions==0.0.23->xformers) (4.4.0)\n",
      "Requirement already satisfied: typing-inspect in /Library/Frameworks/Python.framework/Versions/3.9/lib/python3.9/site-packages (from pyre-extensions==0.0.23->xformers) (0.8.0)\n",
      "Requirement already satisfied: filelock in /Library/Frameworks/Python.framework/Versions/3.9/lib/python3.9/site-packages (from torch>=1.12->xformers) (3.8.2)\n",
      "Requirement already satisfied: sympy in /Library/Frameworks/Python.framework/Versions/3.9/lib/python3.9/site-packages (from torch>=1.12->xformers) (1.11.1)\n",
      "Requirement already satisfied: networkx in /Library/Frameworks/Python.framework/Versions/3.9/lib/python3.9/site-packages (from torch>=1.12->xformers) (3.0)\n",
      "Requirement already satisfied: jinja2 in /Library/Frameworks/Python.framework/Versions/3.9/lib/python3.9/site-packages (from torch>=1.12->xformers) (3.1.2)\n",
      "Requirement already satisfied: MarkupSafe>=2.0 in /Library/Frameworks/Python.framework/Versions/3.9/lib/python3.9/site-packages (from jinja2->torch>=1.12->xformers) (2.1.2)\n",
      "Requirement already satisfied: mpmath>=0.19 in /Library/Frameworks/Python.framework/Versions/3.9/lib/python3.9/site-packages (from sympy->torch>=1.12->xformers) (1.2.1)\n",
      "Requirement already satisfied: mypy-extensions>=0.3.0 in /Library/Frameworks/Python.framework/Versions/3.9/lib/python3.9/site-packages (from typing-inspect->pyre-extensions==0.0.23->xformers) (1.0.0)\n",
      "\n",
      "\u001b[1m[\u001b[0m\u001b[34;49mnotice\u001b[0m\u001b[1;39;49m]\u001b[0m\u001b[39;49m A new release of pip is available: \u001b[0m\u001b[31;49m23.0.1\u001b[0m\u001b[39;49m -> \u001b[0m\u001b[32;49m23.1.2\u001b[0m\n",
      "\u001b[1m[\u001b[0m\u001b[34;49mnotice\u001b[0m\u001b[1;39;49m]\u001b[0m\u001b[39;49m To update, run: \u001b[0m\u001b[32;49mpip install --upgrade pip\u001b[0m\n"
     ]
    }
   ],
   "source": [
    "!pip install xformers"
   ]
  },
  {
   "cell_type": "markdown",
   "metadata": {
    "id": "tysT1FOkaVv8"
   },
   "source": []
  },
  {
   "cell_type": "code",
   "execution_count": 3,
   "metadata": {
    "id": "uKZOIafaaV81"
   },
   "outputs": [],
   "source": [
    "import torch.nn as nn\n",
    "import torch\n",
    "from transformers import pipeline, set_seed\n",
    "from transformers import GPT2Tokenizer\n",
    "\n",
    "\n",
    "class MLP(nn.Module):\n",
    "    ## multi layer perceptron thats inserted into distilgpt2\n",
    "    ## function is simple, its 2 linear layers that take the output of the transformer in distilgpt2 and it learns to steer the text into making better prompts\n",
    "    ## however, we only want to update parameters for the 2 linear layers, not the rest, hence the requires grad being set to false\n",
    "    ## output of the lm_head in this case is our Q value\n",
    "    ## lm_head outputs 50k size tensors, and it's argmax is the token that it represents (aka which word to pick out of the 50k vocab size)\n",
    "    ## according to the paper, this 50k size tensor also represents Q value since it decides which word to pick for our prompt\n",
    "    ## our 2 linear layers get fed in states aka the previous prompts that we've generated\n",
    "    ## they learn the appropriate Q value that the lm_head should output for the action of picking a word based on current reward and discounted max future reward (aka the target)\n",
    "    def __init__(self):\n",
    "        super().__init__()\n",
    "        self.lm_pipeline = pipeline('text-generation', model='distilgpt2')\n",
    "        self.policy = nn.Sequential(\n",
    "            nn.Linear(768, 2048),\n",
    "            nn.ReLU(),\n",
    "            nn.Linear(2048, 2048),\n",
    "            nn.ReLU(),\n",
    "            nn.Linear(2048, 768),\n",
    "#             nn.ReLU(),\n",
    "        )\n",
    "        def _init_weights(m):\n",
    "            if isinstance(m, nn.Linear):\n",
    "                nn.init.xavier_uniform_(m.weight, gain=0.0001)\n",
    "                m.bias.data.fill_(-0.0001)\n",
    "        self.policy.apply(_init_weights)\n",
    "        self.lm_pipeline.model.lm_head.requires_grad_(False)\n",
    "        self.lm_pipeline.model.transformer.requires_grad_(False)\n",
    "        self.lm_pipeline.model.lm_head = self.lm_pipeline.model.lm_head.to(device)\n",
    "        self.lm_pipeline.model.transformer = self.lm_pipeline.model.transformer.to(device)\n",
    "        self.tokenizer = GPT2Tokenizer.from_pretrained('distilgpt2', truncation_side = 'left')\n",
    "        self.tokenizer.pad_token = self.tokenizer.eos_token\n",
    "        self.lm_pipeline.model.train()\n",
    "    def forward(self, x):\n",
    "        # assert(x.shape[1] == 768)\n",
    "        # print(x.shape)\n",
    "        x = self.policy(x)\n",
    "        return self.lm_pipeline.model.lm_head(x)\n",
    "    def truncate(self, x):\n",
    "        arr1 = []\n",
    "        arr2 = []\n",
    "        for i in x:\n",
    "            token = self.tokenizer([i], return_tensors = 'pt')\n",
    "            inp = token['input_ids'][0,-3:]\n",
    "            masks = token['attention_mask'][0,-3:]\n",
    "            arr1.append(inp)\n",
    "            arr2.append(masks)\n",
    "        return {'input_ids':torch.cat(arr1).reshape(len(x),-1), 'attention_mask': torch.cat(arr2).reshape(len(x),-1)}\n",
    "            \n",
    "    def get_lm_output(self, x):\n",
    "        with torch.no_grad():\n",
    "          input = self.truncate(x)\n",
    "          for key, value in zip(input.keys(), input.values()):\n",
    "            input[key] = value.to(device)\n",
    "          return self.lm_pipeline.model.transformer(**input, use_cache=True).last_hidden_state\n",
    "    def get_prompt(self, x):\n",
    "        # print(x.shape)\n",
    "        return  self.lm_pipeline.tokenizer.decode(x.softmax(-1).argmax(-1).reshape(1))\n",
    "    def get_prompt_greedy(self, x, epsilon):\n",
    "        # print(x.shape)\n",
    "        if torch.rand(1) < epsilon:\n",
    "            return  self.lm_pipeline.tokenizer.decode(torch.randint(0, x.shape[-1], (1,)))\n",
    "        return  self.lm_pipeline.tokenizer.decode(x.softmax(-1).argmax(-1).reshape(1))\n",
    "    def get_prompt_softmax_greedy(self, x):\n",
    "        # print(x.shape)\n",
    "        return  self.lm_pipeline.tokenizer.decode()\n",
    "    "
   ]
  },
  {
   "cell_type": "code",
   "execution_count": 4,
   "metadata": {
    "id": "NpGsnCcUaX2a"
   },
   "outputs": [],
   "source": [
    "from transformers import pipeline\n",
    "\n",
    "import torch\n",
    "device = 'mps'\n",
    "\n",
    "class MLM():\n",
    "  ### Our masked LM model\n",
    "  ### no learning involved here, just try to get the reward for having it fill it with good vs bad\n",
    "  def __init__(self):\n",
    "   self.unmasker = pipeline('fill-mask', model='distilroberta-base')\n",
    "\n",
    "  def get_masked_word_class(self, input, prompt):\n",
    "    return self.unmasker(f'{input} {prompt} <mask>', targets = ['good', 'bad'])\n",
    "\n",
    "\n"
   ]
  },
  {
   "cell_type": "code",
   "execution_count": 5,
   "metadata": {
    "id": "p8XtdIkSadww"
   },
   "outputs": [],
   "source": [
    "\n",
    "import torch\n",
    "from tqdm import tqdm\n",
    "# import wandb\n",
    "### we have states which represents words that we feed into the distilgpt to get better words/prompts\n",
    "### prompt at time t is a result of picking the action from the mlp that results in the highest reward\n",
    "### can be written as argmax(reward(MLP(states)), arg = prompt)\n",
    "### our loss/regression target is essentially reward+discount*max(Q(s_t+1, a'_t+1) for all a')\n",
    "### this technically isn't the softqlearner, and is generally unstable and produces sparse rewards and takes an extremely long time to train\n",
    "class QLearner():\n",
    "\n",
    "    def __init__(self):\n",
    "        self.mlm = MLM()\n",
    "        self.mlp = MLP().to(device)\n",
    "        self.target = MLP().to(device)\n",
    "#         self.target.load_state_dict(self.mlp.state_dict())\n",
    "        # torch.manual_seed(95)\n",
    "\n",
    "        self.last_state = 'this'\n",
    "        self.prompt_reward = [0]\n",
    "        self.max_reward = 0\n",
    "        self.optimizer = torch.optim.AdamW(self.mlp.parameters(), lr=1e-4)\n",
    "        self.accuracy = []\n",
    "        self.val_acc = []\n",
    "        self.loss_ = []\n",
    "        self.epsilon = .9\n",
    "    def randomize(self, Q, epsilon): \n",
    "#         print(\"max, min \", Q.max(), Q.min())\n",
    "        r = torch.rand(1)\n",
    "#         print('before')\n",
    "#         print(Q.argmax(-1))\n",
    "        if r < epsilon:\n",
    "            index = torch.randint(0, Q.shape[-1], (1,))\n",
    "            \n",
    "            m = Q.max().item()\n",
    "            m = 1 if m == 0 else m\n",
    "            detached = Q.detach()\n",
    "#             print('index and max prob',index,m)\n",
    "            detached[:] = 0\n",
    "            detached[index] = m\n",
    "#             print('prob:',r)\n",
    "#         print('after')\n",
    "#         print(Q.argmax(-1))\n",
    "        return Q\n",
    "    # gets the actions for every state, and their Q values. actions in this case are the prompts\n",
    "    def get_actions_Q (self, last_state):\n",
    "        actions = []\n",
    "        Q = []\n",
    "        for i in range(5):\n",
    "          lm_output = self.mlp.get_lm_output([last_state]).to(device) \n",
    "          Q_ = self.mlp(lm_output)\n",
    "          Q.append(Q_)\n",
    "          last_state = self.mlp.get_prompt(Q_)\n",
    "          actions.append(last_state)\n",
    "        if type(actions) == str:\n",
    "          actions = [actions]\n",
    "        return actions, torch.cat(Q), last_state\n",
    "\n",
    "    def get_actions_Q_target (self, last_state):\n",
    "        actions = []\n",
    "        Q = []\n",
    "        for i in range(5):\n",
    "          lm_output = self.target.get_lm_output([last_state]).to(device) \n",
    "          Q_ = self.target(lm_output)\n",
    "          Q.append(Q_)\n",
    "          last_state = self.target.get_prompt(Q_)\n",
    "          actions.append(last_state)\n",
    "        if type(actions) == str:\n",
    "          actions = [actions]\n",
    "        return actions, torch.cat(Q), last_state\n",
    "\n",
    "\n",
    "    def get_actions_Q_input_specific (self, batch_input):\n",
    "        actions = []\n",
    "#         print(len(batch_input))\n",
    "        lm_output = self.mlp.get_lm_output(batch_input).to(device) \n",
    "        Q_ = self.mlp(lm_output)\n",
    "    \n",
    "#         print(Q_.shape)\n",
    "        Q_ = Q_[:,-1].reshape(Q_.shape[0], Q_.shape[-1]) #(16, 50k)\n",
    "        for i in range(Q_.shape[0]):\n",
    "          actions.append([self.mlp.get_prompt(Q_[i])])\n",
    "        \n",
    "        Q = [[self.randomize(Q_[i], self.epsilon).reshape(1, Q_.shape[-1])] for i in range(Q_.shape[0])]\n",
    "\n",
    "\n",
    "\n",
    "        for i in range(4):\n",
    "          lm_output = self.mlp.get_lm_output([ batch_input[j]+\"\".join(actions[j]) for j in range(len(actions))]).to(device) \n",
    "          Q_ = self.mlp(lm_output)\n",
    "        \n",
    "          Q_ = Q_[:,-1].reshape(Q_.shape[0], Q_.shape[-1])\n",
    "          for j in range(Q_.shape[0]):\n",
    "            Q[j].append(self.randomize(Q_[j], self.epsilon).reshape(1, Q_.shape[-1]))\n",
    "          \n",
    "          for j in range(Q_.shape[0]):\n",
    "            actions[j].append(self.mlp.get_prompt(Q_[j]))\n",
    "        if type(actions) == str:\n",
    "          actions = [actions]\n",
    "        # print(Q)\n",
    "        # print(actions)\n",
    "        Q = [torch.cat(Q__).reshape(1,5,-1) for Q__ in Q]\n",
    "        # print(torch.cat(Q).shape)\n",
    "        return actions, torch.cat(Q)\n",
    "\n",
    "    def get_actions_Q_input_specific_target (self, batch_input):\n",
    "        actions = []\n",
    "\n",
    "        lm_output = self.target.get_lm_output(batch_input).to(device) \n",
    "        Q_ = self.target(lm_output)\n",
    "        Q_ = Q_[:,-1].reshape(Q_.shape[0], Q_.shape[-1])\n",
    "        for i in range(Q_.shape[0]):\n",
    "          actions.append([self.mlp.get_prompt(Q_[i])])\n",
    "        Q = [[Q_[i].reshape(1, Q_.shape[-1])] for i in range(Q_.shape[0])]\n",
    "\n",
    "\n",
    "\n",
    "        for i in range(4):\n",
    "          lm_output = self.mlp.get_lm_output([batch_input[j]+\"\".join(actions[j]) for j in range(len(actions))]).to(device) \n",
    "          Q_ = self.target(lm_output)\n",
    "          Q_ = Q_[:,-1].reshape(Q_.shape[0], Q_.shape[-1])\n",
    "          for j in range(Q_.shape[0]):\n",
    "            Q[j].append(Q_[j].reshape(1, Q_.shape[-1]))\n",
    "          \n",
    "          for j in range(Q_.shape[0]):\n",
    "            actions[j].append(self.mlp.get_prompt(Q_[j]))\n",
    "        if type(actions) == str:\n",
    "          actions = [actions]\n",
    "\n",
    "        Q = [torch.cat(Q__).reshape(1,5,-1) for Q__ in Q]\n",
    "        # for i in Q:\n",
    "        #   for j in i:\n",
    "        #     print(j.shape)\n",
    "        # print(torch.cat(Q).shape)\n",
    "        return actions, torch.cat(Q)\n",
    "\n",
    "    # to be updated but currently the reward is set to how many correct classifications can this model make\n",
    "    def get_reward(self, train_x, train_y, prompt):\n",
    "        reward = 0\n",
    "        count = 0\n",
    "#         if '�' in prompt or 'Ġ' in prompt:\n",
    "#             return -10000\n",
    "        for sentence, cls in zip(train_x, train_y):\n",
    "                word_cls = self.mlm.get_masked_word_class(sentence, prompt)\n",
    "#                 if (word_cls[0]['token_str'] == 'good' and cls == 1) or (word_cls[0]['token_str'] == 'bad' and cls == 0):\n",
    "#                     reward = \n",
    "#                 else:\n",
    "#                     incorrect +=1\n",
    "                if (word_cls[0]['token_str'] == 'good' and cls == 1) or (word_cls[0]['token_str'] == 'bad' and cls == 0):\n",
    "                    reward += (word_cls[0]['score']- word_cls[1]['score'])\n",
    "                else:\n",
    "                    reward += (word_cls[1]['score']- word_cls[0]['score'])\n",
    "                count +=1\n",
    "        return reward/count\n",
    "    def get_accuracy(self, train_x, train_y, prompt):\n",
    "        count = 0\n",
    "        accurate = 0\n",
    "        for sentence, cls in zip(train_x, train_y):\n",
    "                word_cls = self.mlm.get_masked_word_class(sentence, prompt)\n",
    "                if (word_cls[0]['token_str'] == 'good' and cls == 1) or (word_cls[0]['token_str'] == 'bad' and cls == 0):\n",
    "                    reward = word_cls[0]['score']- word_cls[1]['score']\n",
    "                else:\n",
    "                    reward = word_cls[1]['score']- word_cls[0]['score']\n",
    "                count +=1\n",
    "                accurate = accurate + 1 if reward >0 else accurate\n",
    "        return accurate/count\n",
    "  \n",
    "    def loss(self, train_x, train_y):\n",
    "\n",
    "        actions, Q = self.get_actions_Q_input_specific(train_x)\n",
    "#         print(Q.shape)\n",
    "        reward = torch.tensor([self.get_reward(train_x, train_y, ' '.join(action)) for action in actions]).to(device)\n",
    "        accuracy = torch.tensor([self.get_accuracy(train_x, train_y, ' '.join(action)) for action in actions])\n",
    "#         reward = high_reward*2-1\n",
    "#         reward = high_reward\n",
    "        \n",
    "        reward = (200**(reward>0))*(100**(reward<=0))*reward\n",
    "        if reward.std() > 1e-3:\n",
    "            reward = (reward-reward.mean())/reward.std()\n",
    "        with torch.no_grad():\n",
    "          actions_, Q_, = self.get_actions_Q_input_specific_target(train_x)\n",
    "        return torch.nn.functional.mse_loss(\\\n",
    "            Q, \\\n",
    "            reward.reshape(-1,1,1)+\\\n",
    "            0.99*Q_.detach()), accuracy, [' '.join(action) for action in actions]\n",
    "    \n",
    "    def get_accuracy_(self, val_x, val_y, prompts):\n",
    "#         print(prompts)\n",
    "        return torch.tensor([self.get_accuracy(val_x, val_y, prompt) for prompt in prompts]).mean()\n",
    "\n",
    "\n",
    "    def train(self, train_x, train_y, val_x, val_y, epochs):\n",
    "        \n",
    "        for i in tqdm(range(epochs)):\n",
    "            self.optimizer.zero_grad()\n",
    "            loss, reward, prompts = self.loss(train_x, train_y)\n",
    "            loss.backward()\n",
    "            self.optimizer.step()\n",
    "#             train_accuracy = self.get_accuracy_(train_x, train_y, prompts)\n",
    "#             val_accuracy = self.get_accuracy_(val_x, val_y, prompts)\n",
    "            self.accuracy.append(reward.mean())\n",
    "            self.loss_.append(loss.item())\n",
    "            \n",
    "            if i %30 == 0:\n",
    "                self.epsilon = self.epsilon*.9\n",
    "            \n",
    "            if i %10==0:\n",
    "              target_weights = self.target.state_dict()\n",
    "              for key in target_weights:\n",
    "                target_weights[key] = self.mlp.state_dict()[key] \n",
    "              self.target.load_state_dict(target_weights)\n",
    "              \n",
    "              val_accuracy = self.get_accuracy_(val_x, val_y, prompts)\n",
    "              self.val_acc.append(val_accuracy)\n",
    "              print(f'loss:{loss.item()}, train_acc: {reward.mean()}, val_acc: {val_accuracy}')\n",
    "              print(f'prompts: {prompts}')\n",
    "#               wandb.log({\"train_acc\": reward.mean(), \"val_accuracy\": val_accuracy, 'prompts':prompts })\n",
    "            "
   ]
  },
  {
   "cell_type": "code",
   "execution_count": 6,
   "metadata": {
    "id": "Q1_nsjuPanWA"
   },
   "outputs": [],
   "source": [
    "\n",
    "ql = QLearner()"
   ]
  },
  {
   "cell_type": "code",
   "execution_count": 7,
   "metadata": {
    "colab": {
     "base_uri": "https://localhost:8080/",
     "height": 213,
     "referenced_widgets": [
      "90a11f34484a409b8bc3b6884f93e45d",
      "96066ad54cdf4dff8ad38fedbdbb3f27",
      "1f7b2952b64946b2a6dcb2d7acd73b27",
      "475a603cf2384121a9ee4f92edbf1e2b",
      "8bab4b6d225944648c0bb64efb6e30ba",
      "d431d07174c848ba8ef1070224b38743",
      "15946eeef51146b4b079986d3107aa14",
      "f18c07bace4747a7ac757b5a7913909c",
      "fa3fc3a33cec42e4a228356d67b734ab",
      "32cbd8b104214f8dadac51584844004b",
      "ed54dbbac3eb43fb85b8263f9db60b98",
      "514e78b83cd646fca27ac3d1123cde32",
      "3f181012fe7d41feaef629904e894173",
      "07c038651bcf4ed98ac7a41f01d09e04",
      "fed43f83c2bd4192bb04a7b81325c1ae",
      "ee966ca2638f42d78eddc42d559940a7",
      "8bc1cfae41b0400b801d3f0a2ec45c22",
      "4db7b862b0f34750b58f64f76c93c11d",
      "b3df6e6dfed942938cba586fb7f4722e",
      "df21b401080b4f2face0f7a53b42f813",
      "eb2c6a0bb19e4b0eb423785809314fcd",
      "17480ec7b5d84aa39d45f31459f02016",
      "7029981fe2db4a89a6af308a0e97eb16",
      "2392ed2205fa4c4788c59d9aa9bbd019",
      "5d148cd52f394fb6bb19339dfa2c0045",
      "e9b684dbdcc846deb0e83a0cc589c464",
      "9b3c10e05ff84c8d88d87598e0df8b47",
      "427c0871f5d34c118a4b1847bc58cf23",
      "0906331cec0c42d08e34101e32b1d10c",
      "33641ae3b703412f9ebd2fdb48b62e23",
      "ad34029e01e745ecb49784d43538e6b0",
      "28c4876d397d4ae6a1764e20543593ea",
      "8d05ab4ecaf243b69d8687bd95619d49",
      "51ec4efe428940919982a27f99c5f87d",
      "b3346812528044a3be34cae46951d1bc",
      "2afeec923bd3482db0a7c3431e88c7c7",
      "cd67ebccafd84db58f8cb5ec01421676",
      "7fbbf464abd14cff9587ff2dc239b3c6",
      "c946c5d89cee4e16bd626076c3887179",
      "e62e775a432546d985645146b187c0f1",
      "d8e62aab46504ded82a2d8279c96c282",
      "0b6a9f502ae74b18a25f702ded662682",
      "bfe85b8af6e54b51954eaa67df77cf90",
      "8335158d358245f7a1335c80cc8accda",
      "544ddb6d46964965999ac114ee30588e",
      "004d5bafdef04319b7db98d3dbf1fbd4",
      "4d89197fd71441b78d49f1e724dab72f",
      "2a6b6135342f4f69ae8b3328b4b878b7",
      "df5eabce102343758608a919fce209a5",
      "f7e0e0eccaab4010832bf507d87ab587",
      "b8aea0901e9a4ab6bfa6ff1805e4b240",
      "eb4007658adf4d40af675fa8c737353d",
      "6ee3af8e947d47cfa4ccd3773696d259",
      "7818019a0dfe4d9892df5ba27dc3a9a7",
      "c8363f97cc02473386a968e352c4ed4f",
      "9a4c4b725a3e43c0a74360b4d437a25f",
      "07003fc1a7ea47d1b54aca1a310f81fe",
      "6a68d3ff523d4a4d847e9346f755d20f",
      "b37988defa9e45a3a42df9eb3455f305",
      "bdca417ca5584a3094437b5ac82cebcd",
      "d4ce099d04514c068767329e5d766929",
      "3a50429fd183465294697b8c57cfec04",
      "e3b403059f5d4698a66599ac49ffa8cc",
      "b34c90e775fa4f5bb1f8a7848a6b6189",
      "08a5830e2d6445ff87e5add8fa2b9c4b",
      "78a947fe0b2a4541be7ff08248bac3ac",
      "e5023c4c6ba744cab046de47d85b7776",
      "1a838f890e344d5697da449b718768dd",
      "db80025ecd274720acea9770af3d6740",
      "880ad94be3aa4713b99d79fce23245e4",
      "1393ffbc23c1455aa8ba96bf7ebb6628",
      "6c8bbbb3b592472fb09fbeefe11f54b7",
      "d54d3fe606da44348f7363ec37d2c0bc",
      "743f9ec230c54b319d8cccc4e5964938",
      "69ebd508301b4fac8349923a33bf92d7",
      "24be459b901441f9b826001f8e97995b",
      "2df0c555b4a34f219ad6db88305b8085",
      "8520ecfd26d74daa881a13ddaaebbe36",
      "e2d9a29c8c1b461895a4585cd105dffb",
      "1949410280a34448bb7f36db6ec9e73f",
      "72016e6fa04a478eac1611edd0426aaa",
      "d8583886b5dc44598e87a345711f3071",
      "8c74cbcc177d4528b57d2a349c87b1ff",
      "2347e2c9b6a7446490cf2997ab804d2f",
      "2263c4c3734e4b94be842e8acc554939",
      "ae86d11872c941e19f02e8fbc76e0f02",
      "01efce9fdd394765b0f953de34f45519",
      "92eac85d7447409d8e58483b05c1a704"
     ]
    },
    "id": "QAMe-JQvE0KB",
    "outputId": "8756756d-d374-4db8-b579-4a4b7e510a41"
   },
   "outputs": [],
   "source": [
    "import pandas as pd\n",
    "train_x = list(pd.read_csv('sst2_train')['sentence'])\n",
    "train_y = list(pd.read_csv('sst2_train')['label'])\n",
    "\n",
    "val_x = list(pd.read_csv('sst2_val')['sentence'])\n",
    "val_y = list(pd.read_csv('sst2_val')['label'])"
   ]
  },
  {
   "cell_type": "code",
   "execution_count": 8,
   "metadata": {
    "colab": {
     "base_uri": "https://localhost:8080/"
    },
    "id": "6mRz6CFFbVzV",
    "outputId": "1119b8a4-3c93-45ab-9c5d-bfe94392d62c"
   },
   "outputs": [
    {
     "name": "stderr",
     "output_type": "stream",
     "text": [
      "  0%|                                     | 1/2999 [01:08<57:03:08, 68.51s/it]"
     ]
    },
    {
     "name": "stdout",
     "output_type": "stream",
     "text": [
      "loss:0.8749993443489075, train_acc: 0.53125, val_acc: 0.5043749809265137\n",
      "prompts: [' Image 503 ievers inks  airst', ' Image  liberated  granting  lightsaber  graffiti', ' Image fman message oser  Uniform', ' Image  gre ald  RELEASE ifled', ' Image  sake l  Delhi  205', ' Image  studies  filing  Nexus  gcc', ' Image  requiring  Force  Apostles  Gerrard', ' Image North  Militia reb osph']\n"
     ]
    },
    {
     "name": "stderr",
     "output_type": "stream",
     "text": [
      "  0%|▏                                   | 11/2999 [03:04<20:55:49, 25.22s/it]"
     ]
    },
    {
     "name": "stdout",
     "output_type": "stream",
     "text": [
      "loss:3.0630177207058296e-05, train_acc: 0.578125, val_acc: 0.5225000381469727\n",
      "prompts: [' of  of  Harvey  Explos  overhaul', ' of  Bj  of outheastern  of', ' of rors  kingdoms  reside five', ' of CSS  vantage  Lindsay  Rel', ' of  people  behaves eway  of', ' of  MB  of  Spokane  calls', ' of  bestowed policy  dism  of', ' of  of  possibly  expenditure  Pharma']\n"
     ]
    },
    {
     "name": "stderr",
     "output_type": "stream",
     "text": [
      "  1%|▎                                   | 21/2999 [05:00<20:35:51, 24.90s/it]"
     ]
    },
    {
     "name": "stdout",
     "output_type": "stream",
     "text": [
      "loss:0.00020589858468156308, train_acc: 0.546875, val_acc: 0.5218750238418579\n",
      "prompts: [' of ribune  astronaut  adamant our', ' of cffff  of  of atis', ' of  pap level  triple luck', ' of ques 402  of Catalog', ' of  of special  dataset SL', ' of  Drill  Osaka  intervention  hep', ' of  Nico abil  of  of', ' of  likelihood  of  envelop Motor']\n"
     ]
    },
    {
     "name": "stderr",
     "output_type": "stream",
     "text": [
      "  1%|▎                                   | 31/2999 [06:55<20:18:10, 24.63s/it]"
     ]
    },
    {
     "name": "stdout",
     "output_type": "stream",
     "text": [
      "loss:0.0012749630259349942, train_acc: 0.59375, val_acc: 0.5249999761581421\n",
      "prompts: [',  inspecting  dip  thriving  Equipment', ', pei ensical  shelling  spears', ',  Hansen ,  contains ,', ',  disposable  when , OST', ', ------------- Wa  Balance reat', ', , Origin , 174', ',  proven  blinding MAS ,', ', , cture  deep uming']\n"
     ]
    },
    {
     "name": "stderr",
     "output_type": "stream",
     "text": [
      "  1%|▍                                   | 41/2999 [08:50<20:16:01, 24.67s/it]"
     ]
    },
    {
     "name": "stdout",
     "output_type": "stream",
     "text": [
      "loss:0.00455052312463522, train_acc: 0.609375, val_acc: 0.5287500023841858\n",
      "prompts: [', headers  Discuss  plentiful ,', ', 017  Siege STEP  couldn', ',  punct  inexplicable  Minimum ,', ', /.  current ,  rh', ',  related  Bars  Scriptures ,', ',  Essex  Ms aunder  four', ',  Barker  predicate  clothed ,', ',  Hollow  whipped  trance  respecting']\n"
     ]
    },
    {
     "name": "stderr",
     "output_type": "stream",
     "text": [
      "  2%|▌                                   | 51/2999 [10:45<20:07:01, 24.57s/it]"
     ]
    },
    {
     "name": "stdout",
     "output_type": "stream",
     "text": [
      "loss:0.01040890347212553, train_acc: 0.578125, val_acc: 0.5106250047683716\n",
      "prompts: [',  McD ,  Robot  Gap', ', PH  ordinary ETS  ↑', ', or urance  poking rit', ',  elders lev , ,', ',  neighborhood asionally  Kre  overrun', ', , , BILITIES ,', ', ,  Fram  Polish oa', ', ,  rationale  made ,']\n"
     ]
    },
    {
     "name": "stderr",
     "output_type": "stream",
     "text": [
      "  2%|▋                                   | 61/2999 [12:39<19:59:41, 24.50s/it]"
     ]
    },
    {
     "name": "stdout",
     "output_type": "stream",
     "text": [
      "loss:0.8918634653091431, train_acc: 0.578125, val_acc: 0.5112500190734863\n",
      "prompts: [', ones security ,  Together', ', , strap  defective requently', ', , rawdownload ihar  Wi', ', ,  revolutionary  regard  Cont', ',  varies  Bout  simplest ,', ',  stun array  Alz ,', ', gang  Weinstein ,  Punch', \",  ', cap ka ,\"]\n"
     ]
    },
    {
     "name": "stderr",
     "output_type": "stream",
     "text": [
      "  2%|▊                                   | 71/2999 [14:34<19:58:45, 24.56s/it]"
     ]
    },
    {
     "name": "stdout",
     "output_type": "stream",
     "text": [
      "loss:0.8918986320495605, train_acc: 0.515625, val_acc: 0.5118750333786011\n",
      "prompts: [',  Focus adjust  FX annot', ', Mir  ye  hears Ec', ', , , ta games', ', ,  log ,  Reserved', ',  BR Magic ,  Corruption', ', , ,  Magnus  Elastic', ', vere vernment  perce  assistant', ', , units  gadget ,']\n"
     ]
    },
    {
     "name": "stderr",
     "output_type": "stream",
     "text": [
      "  3%|▉                                   | 81/2999 [16:29<19:58:31, 24.64s/it]"
     ]
    },
    {
     "name": "stdout",
     "output_type": "stream",
     "text": [
      "loss:0.048459261655807495, train_acc: 0.59375, val_acc: 0.5049999952316284\n",
      "prompts: [', , , Advanced  Lux', ',  excluding  gathers  barely  politician', ', ulating  cohesive  novelty Republican', ',  parade , Pure á', ', ,  recovery  Me  poverty', ', ,  Grove agnar  pedestrian', ', ,  ----- FC ,', ', wagon , , ,']\n"
     ]
    },
    {
     "name": "stderr",
     "output_type": "stream",
     "text": [
      "  3%|█                                   | 91/2999 [18:24<19:55:37, 24.67s/it]"
     ]
    },
    {
     "name": "stdout",
     "output_type": "stream",
     "text": [
      "loss:0.898029088973999, train_acc: 0.546875, val_acc: 0.5181249976158142\n",
      "prompts: [', ,  biodiversity  overse  To', ', , gars  panels Paper', ', 89  levers , ,', ', ,  pronounced ,  Aid', ',  rudimentary Ops  shimmer ,', ', aney ,  accompan  graphic', ', , Pand Help  Arpaio', ',  beam , ,  unexpected']\n"
     ]
    },
    {
     "name": "stderr",
     "output_type": "stream",
     "text": [
      "  3%|█▏                                 | 101/2999 [20:19<19:54:07, 24.72s/it]"
     ]
    },
    {
     "name": "stdout",
     "output_type": "stream",
     "text": [
      "loss:0.0874423012137413, train_acc: 0.578125, val_acc: 0.5056250095367432\n",
      "prompts: [', , capacity  published  Kabul', ',  twent recomm  Dodd  Lauren', ', , ,  enormously  coached', ', , ky zyme  aristocracy', ',  mainline ,  affordability  bass', ', , WM  Roz ,', ', , QUEST  Assault ,', ', , , pering ,']\n"
     ]
    },
    {
     "name": "stderr",
     "output_type": "stream",
     "text": [
      "  4%|█▎                                 | 111/2999 [22:14<19:51:42, 24.76s/it]"
     ]
    },
    {
     "name": "stdout",
     "output_type": "stream",
     "text": [
      "loss:0.09620660543441772, train_acc: 0.578125, val_acc: 0.5531250238418579\n",
      "prompts: [', 669  swarm , ,', ',  reluctantly , LOAD ,', ', , ,  scrap AUT', ',  succession  oppos , Tonight', ',  translated , illation  prehistoric', ', 591  profiling , ,', ', ,  Sacrifice pire ,', ', ,  Trick  creeping ,']\n"
     ]
    },
    {
     "name": "stderr",
     "output_type": "stream",
     "text": [
      "  4%|█▍                                 | 121/2999 [24:10<19:54:05, 24.89s/it]"
     ]
    },
    {
     "name": "stdout",
     "output_type": "stream",
     "text": [
      "loss:0.19906386733055115, train_acc: 0.59375, val_acc: 0.5118750333786011\n",
      "prompts: [',  should ,  surroundings ,', ', ,  Drugs  NIC  bay', ',  demoral  hangs  Caucasus  insulated', ', lez  am  host  fab', ',  test  140  innumerable ,', ',  overseas  specificity  unmarked Girl', ',  dragons  Ware , ,', ', onents  comparative  merciless �']\n"
     ]
    },
    {
     "name": "stderr",
     "output_type": "stream",
     "text": [
      "  4%|█▌                                 | 131/2999 [26:05<19:43:52, 24.77s/it]"
     ]
    },
    {
     "name": "stdout",
     "output_type": "stream",
     "text": [
      "loss:0.9713921546936035, train_acc: 0.53125, val_acc: 0.5231250524520874\n",
      "prompts: [', ,  covering  423 ,', ',  ADV  Hunger  Ake Dist', ', , Camp , ,', ',  Beginning esteem ,  Gloria', ',  Uk idy , Sy', ',  gut , Corn  Costco', ', , ,  atroc  handed', ', , , , ,']\n"
     ]
    },
    {
     "name": "stderr",
     "output_type": "stream",
     "text": [
      "  5%|█▋                                 | 141/2999 [28:00<19:32:53, 24.62s/it]"
     ]
    },
    {
     "name": "stdout",
     "output_type": "stream",
     "text": [
      "loss:0.2070329338312149, train_acc: 0.609375, val_acc: 0.512499988079071\n",
      "prompts: [',  Nan ,  Hav ,', ',  slew Dec  ethn ,', ', , , , ,', ', , ,  Levels ,', ',  Buildings atra agonal  manifestation', ', , pound  difficult  attempt', ', , ,  daughter oyle', ', , , donald ,']\n"
     ]
    },
    {
     "name": "stderr",
     "output_type": "stream",
     "text": [
      "  5%|█▊                                 | 151/2999 [29:54<19:24:07, 24.53s/it]"
     ]
    },
    {
     "name": "stdout",
     "output_type": "stream",
     "text": [
      "loss:0.27458563446998596, train_acc: 0.609375, val_acc: 0.5149999856948853\n",
      "prompts: [', orld rive  sugar  pursu', ', , Ed Hamilton ill', ', , , ,  tend', ',  icons , iations ,', ', , , Mus  Suffolk', ', having , ILLE depth', ',  gas aping  smuggled  assistance', ',  habitats News Too ,']\n"
     ]
    },
    {
     "name": "stderr",
     "output_type": "stream",
     "text": [
      "  5%|█▉                                 | 161/2999 [31:48<19:17:45, 24.48s/it]"
     ]
    },
    {
     "name": "stdout",
     "output_type": "stream",
     "text": [
      "loss:0.25957733392715454, train_acc: 0.53125, val_acc: 0.5049999952316284\n",
      "prompts: [',  omega despite , ,', ', , , 14 ,', ',  Christie ,  lyric vich', ',  caffe ,  humiliating  Rod', ', ,  swing  rul ,', ', , ,  drown ,', ', , , , ,', ', ,  Jackie essential ,']\n"
     ]
    },
    {
     "name": "stderr",
     "output_type": "stream",
     "text": [
      "  6%|█▉                                 | 171/2999 [33:41<19:14:55, 24.50s/it]"
     ]
    },
    {
     "name": "stdout",
     "output_type": "stream",
     "text": [
      "loss:1.03363037109375, train_acc: 0.515625, val_acc: 0.5137500166893005\n",
      "prompts: [',  surround ― , ,', ',  Layout ,  priceless  Rapid', ',  rumors , , Roger', ', , iago , ,', ', , ,  Angola porter', ', , , , ,', ', , , , ,', ',  leaps  anyway ,  1600']\n"
     ]
    },
    {
     "name": "stderr",
     "output_type": "stream",
     "text": [
      "  6%|██                                 | 181/2999 [35:39<19:52:09, 25.38s/it]"
     ]
    },
    {
     "name": "stdout",
     "output_type": "stream",
     "text": [
      "loss:1.0619455575942993, train_acc: 0.515625, val_acc: 0.5043749809265137\n",
      "prompts: [', , , ,  UNESCO', ',  Biology  villains , amily', ',  vanish oster ,  clout', ',  AFTER ouf  campaigning  mute', ', ,  hamstring , ,', ',  Mercer , ,  Tat', ', , , , ,', ', , , ,  exits']\n"
     ]
    },
    {
     "name": "stderr",
     "output_type": "stream",
     "text": [
      "  6%|██▏                                | 191/2999 [37:34<19:22:47, 24.85s/it]"
     ]
    },
    {
     "name": "stdout",
     "output_type": "stream",
     "text": [
      "loss:0.3084775507450104, train_acc: 0.59375, val_acc: 0.5149999856948853\n",
      "prompts: [', , , ,  acknowledgment', ', , ,  blanket Different', ',  urged omet , ,', ', , ,  Wrong Desc', ', , ,  relationships ,', ', , , ,  duck', ', ,  majestic , ,', ',  Am ベ ás ,']\n"
     ]
    },
    {
     "name": "stderr",
     "output_type": "stream",
     "text": [
      "  7%|██▎                                | 201/2999 [39:30<19:32:58, 25.15s/it]"
     ]
    },
    {
     "name": "stdout",
     "output_type": "stream",
     "text": [
      "loss:1.1609971523284912, train_acc: 0.59375, val_acc: 0.5112500190734863\n",
      "prompts: [', , eryl  sket Characters', ',  eff nen , ,', ', , ,  KN ,', ',  thrott  Normal , ,', ', ivalent , zb  se', ',  automotive , , ,', ', , gement  advisory ,', ',  squat ,  frequency  healer']\n"
     ]
    },
    {
     "name": "stderr",
     "output_type": "stream",
     "text": [
      "  7%|██▍                                | 211/2999 [41:26<19:20:56, 24.98s/it]"
     ]
    },
    {
     "name": "stdout",
     "output_type": "stream",
     "text": [
      "loss:0.31600359082221985, train_acc: 0.5625, val_acc: 0.5087500214576721\n",
      "prompts: [', , , , Results', ', , , , ,', ', ammy  Tiny  Frequency ,', ', MX , , ,', ', ,  ref , ,', ',  avenues , ,  PS', ',  Returning  commod  tearing ,', ', ,  Windows , ,']\n"
     ]
    },
    {
     "name": "stderr",
     "output_type": "stream",
     "text": [
      "  7%|██▌                                | 221/2999 [43:20<19:04:24, 24.72s/it]"
     ]
    },
    {
     "name": "stdout",
     "output_type": "stream",
     "text": [
      "loss:0.42449966073036194, train_acc: 0.5, val_acc: 0.5206249952316284\n",
      "prompts: [', , ,  Chef Pract', ',  NIC , outine  Preview', ', Commercial , , cephal', ', , , , ,', ', , ,  sam ,', ',  distributor Type , ,', ', Us  adoptive  headline rights', ', , ,  Ill ,']\n"
     ]
    },
    {
     "name": "stderr",
     "output_type": "stream",
     "text": [
      "  8%|██▋                                | 231/2999 [45:14<19:01:02, 24.73s/it]"
     ]
    },
    {
     "name": "stdout",
     "output_type": "stream",
     "text": [
      "loss:1.4637523889541626, train_acc: 0.578125, val_acc: 0.5262500047683716\n",
      "prompts: [', ,  Hills  Repair ,', ', ,  satisfies ,  ≡', ', , � , ,', ', ,  Too ,  grows', ', annot ,  Pra ,', ', ,  1952 ails ,', ', , ,  DM resses', ', ,  flurry , ly']\n"
     ]
    },
    {
     "name": "stderr",
     "output_type": "stream",
     "text": [
      "  8%|██▊                                | 241/2999 [47:08<18:57:45, 24.75s/it]"
     ]
    },
    {
     "name": "stdout",
     "output_type": "stream",
     "text": [
      "loss:0.5671942234039307, train_acc: 0.546875, val_acc: 0.5143749713897705\n",
      "prompts: [', , , , ,', ',  body  Dylan  cryptic  Purpose', ', , ,  Applied ,', ', , , , ocrates', ', Update  Southwest , ,', ', , , plementation pillar', ', , connect tf ,', ',  recognised  Buchanan  Nec  commuting']\n"
     ]
    },
    {
     "name": "stderr",
     "output_type": "stream",
     "text": [
      "  8%|██▉                                | 251/2999 [49:03<18:53:18, 24.74s/it]"
     ]
    },
    {
     "name": "stdout",
     "output_type": "stream",
     "text": [
      "loss:0.2935757637023926, train_acc: 0.515625, val_acc: 0.5137500166893005\n",
      "prompts: [', , , , ,', ', , , , ,', ', ,  bipartisan  pall ,', ', , , , ,', ', , , ,  Kenyan', ', ,  Mahm , ,', ', baby , ippers ,', ',  dexterity  young , ,']\n"
     ]
    },
    {
     "name": "stderr",
     "output_type": "stream",
     "text": [
      "  9%|███                                | 261/2999 [50:57<18:48:54, 24.74s/it]"
     ]
    },
    {
     "name": "stdout",
     "output_type": "stream",
     "text": [
      "loss:1.5482081174850464, train_acc: 0.609375, val_acc: 0.518750011920929\n",
      "prompts: [',  disgusting , , Hung', ', cyl , , ,', ', , , ,  injecting', ', , outside  Interpret ,', ',  noon icate colm ,', ', , ,  Farming Min', ', , , , ,', ',  switching , , ,']\n"
     ]
    },
    {
     "name": "stderr",
     "output_type": "stream",
     "text": [
      "  9%|███▏                               | 271/2999 [52:51<18:39:47, 24.63s/it]"
     ]
    },
    {
     "name": "stdout",
     "output_type": "stream",
     "text": [
      "loss:0.30209943652153015, train_acc: 0.546875, val_acc: 0.5087499618530273\n",
      "prompts: [', ,  dystop , ,', ', , then  quota ,', ', , ,  Interstate ,', ', , , , ,', ',  pg , , ,', ', , ,  LW ,', ', , , , ,', ', , , , ,']\n"
     ]
    },
    {
     "name": "stderr",
     "output_type": "stream",
     "text": [
      "  9%|███▎                               | 281/2999 [54:46<18:39:13, 24.71s/it]"
     ]
    },
    {
     "name": "stdout",
     "output_type": "stream",
     "text": [
      "loss:0.4863123595714569, train_acc: 0.5625, val_acc: 0.5099999904632568\n",
      "prompts: [', ,  precarious orders  Yang', ', , , , ,', ', , , , ,', ', , , , ,', ',  Walt , , ,', ', , , , ,', ', ,  fishes Bre ,', ', , ,  Marqu  hopped']\n"
     ]
    },
    {
     "name": "stderr",
     "output_type": "stream",
     "text": [
      " 10%|███▍                               | 291/2999 [56:40<18:37:09, 24.75s/it]"
     ]
    },
    {
     "name": "stdout",
     "output_type": "stream",
     "text": [
      "loss:1.2908480167388916, train_acc: 0.546875, val_acc: 0.5368750095367432\n",
      "prompts: [',  cage , moderate  buf', ', , , vernight ,', ', , ocene , ,', ', LP  instituted , ,', ', sample , , ,', ', dden 0001 ,  overturned', ', , , 68 ,', ', ,  seeming , ,']\n"
     ]
    },
    {
     "name": "stderr",
     "output_type": "stream",
     "text": [
      " 10%|███▌                               | 301/2999 [58:35<18:32:25, 24.74s/it]"
     ]
    },
    {
     "name": "stdout",
     "output_type": "stream",
     "text": [
      "loss:0.7810065746307373, train_acc: 0.640625, val_acc: 0.5112500190734863\n",
      "prompts: [', , ,  seasoned ,', ', , ,  dreams ,', ',  virt , itiveness ,', ', ,  assist ,  hem', ',  synaptic  anch , dd', ',  silicone  Pear , ,', ', ,  i ,  disinformation', ', endant , , ,']\n"
     ]
    },
    {
     "name": "stderr",
     "output_type": "stream",
     "text": [
      " 10%|███▍                             | 311/2999 [1:00:29<18:27:02, 24.71s/it]"
     ]
    },
    {
     "name": "stdout",
     "output_type": "stream",
     "text": [
      "loss:0.587834358215332, train_acc: 0.5625, val_acc: 0.5\n",
      "prompts: [',  Autom , , ,', ', , , , ,', ',  cabin , , ,', ', , , , ,', ', ,  Fletcher , ,', ', ,  CIA  meth  unconsciously', ', , ,  novel orno', ', , , HAM ,']\n"
     ]
    },
    {
     "name": "stderr",
     "output_type": "stream",
     "text": [
      " 11%|███▌                             | 321/2999 [1:02:23<18:17:11, 24.58s/it]"
     ]
    },
    {
     "name": "stdout",
     "output_type": "stream",
     "text": [
      "loss:0.6237779855728149, train_acc: 0.59375, val_acc: 0.5125000476837158\n",
      "prompts: [', , , , ,', ', , bett Contribut ,', ',  Discuss , , ,', ', \\x02  Catherine , ,', ', , ,  package ,', ', ,  pree , ,', ', range ,  Xue ,', ', , , , ,']\n"
     ]
    },
    {
     "name": "stderr",
     "output_type": "stream",
     "text": [
      " 11%|███▋                             | 331/2999 [1:04:17<18:10:49, 24.53s/it]"
     ]
    },
    {
     "name": "stdout",
     "output_type": "stream",
     "text": [
      "loss:0.4401470124721527, train_acc: 0.578125, val_acc: 0.5118749737739563\n",
      "prompts: [', , CHO  crunch ,', ', , , ,  Scher', ', , , , ,', ',  Broadcast , , ,', ', , , , ,', ', , , , ,', ', , ,  waiting ,', ', , afer , ,']\n"
     ]
    },
    {
     "name": "stderr",
     "output_type": "stream",
     "text": [
      " 11%|███▊                             | 341/2999 [1:06:10<18:12:19, 24.66s/it]"
     ]
    },
    {
     "name": "stdout",
     "output_type": "stream",
     "text": [
      "loss:0.8677011132240295, train_acc: 0.59375, val_acc: 0.5250000357627869\n",
      "prompts: [', , ,  sorrow  \\\\\"', ',  emphasize ,  pertaining ,', ', OWER  Chaff , ,', ', , , , ,', ', ,  oblivious , ,', ', , � ,  Howell', ', organ , , ,', ', ,  Miz , fil']\n"
     ]
    },
    {
     "name": "stderr",
     "output_type": "stream",
     "text": [
      " 12%|███▊                             | 351/2999 [1:08:04<18:03:49, 24.56s/it]"
     ]
    },
    {
     "name": "stdout",
     "output_type": "stream",
     "text": [
      "loss:0.911105751991272, train_acc: 0.609375, val_acc: 0.5256249904632568\n",
      "prompts: [', ,  Street , ,', ', official ,  1953 162', ', Wed , , ,', ', ,  editorial  patient ,', ',  pops , , ,', ',  omin , , ,', ', , ,  pra ,', ', urst , , ,']\n"
     ]
    },
    {
     "name": "stderr",
     "output_type": "stream",
     "text": [
      " 12%|███▉                             | 361/2999 [1:09:58<18:01:46, 24.60s/it]"
     ]
    },
    {
     "name": "stdout",
     "output_type": "stream",
     "text": [
      "loss:0.7652836441993713, train_acc: 0.578125, val_acc: 0.5081249475479126\n",
      "prompts: [', ,  py bsite arget', ', , , , ,', ',  off , ,  orgasm', ', , , VEL ,', ', , , , ,', ', , , , ,', ', ,  logically , Exec', ', , , aredevil ,']\n"
     ]
    },
    {
     "name": "stderr",
     "output_type": "stream",
     "text": [
      " 12%|████                             | 371/2999 [1:11:51<17:53:25, 24.51s/it]"
     ]
    },
    {
     "name": "stdout",
     "output_type": "stream",
     "text": [
      "loss:0.5360252857208252, train_acc: 0.546875, val_acc: 0.5081249475479126\n",
      "prompts: [', , , ,  extracted', ', , ,  manipulate ,', ',  Mirage , , ,', ', ,  electrons , ,', ', , ,  STR ,', ', , , , ,', ', , , , ,', ', , , , ,']\n"
     ]
    },
    {
     "name": "stderr",
     "output_type": "stream",
     "text": [
      " 13%|████▏                            | 381/2999 [1:13:45<17:49:59, 24.52s/it]"
     ]
    },
    {
     "name": "stdout",
     "output_type": "stream",
     "text": [
      "loss:0.908751368522644, train_acc: 0.671875, val_acc: 0.5362499952316284\n",
      "prompts: [', , , Break ,', ', , afety , ,', ', ticket  verbal , ,', ', , , , ,', ', ,  Hel , adapt', ', , eman , ,', ', bies , , ,', ', , ,  educator Internal']\n"
     ]
    },
    {
     "name": "stderr",
     "output_type": "stream",
     "text": [
      " 13%|████▎                            | 391/2999 [1:15:39<17:51:21, 24.65s/it]"
     ]
    },
    {
     "name": "stdout",
     "output_type": "stream",
     "text": [
      "loss:0.5851663947105408, train_acc: 0.53125, val_acc: 0.5112500190734863\n",
      "prompts: [', , , , ,', ', ,  RD  obstacles ,', ', , ,  Changed ,', ', , ,  rubbish ,', ', , , , ,', ', , , , ,', ', , Ser , ,', ', , ,  atheist ,']\n"
     ]
    },
    {
     "name": "stderr",
     "output_type": "stream",
     "text": [
      " 13%|████▍                            | 401/2999 [1:17:34<17:48:41, 24.68s/it]"
     ]
    },
    {
     "name": "stdout",
     "output_type": "stream",
     "text": [
      "loss:0.5342338681221008, train_acc: 0.5625, val_acc: 0.5206249952316284\n",
      "prompts: [', , , , ,', ', matical , , ,', ', , , , ,', ', , 61 , ,', ', , , , ,', ', , requency , ,', ',  Marble , , ,', ', ,  Maryland , ,']\n"
     ]
    },
    {
     "name": "stderr",
     "output_type": "stream",
     "text": [
      " 14%|████▌                            | 411/2999 [1:19:29<17:51:20, 24.84s/it]"
     ]
    },
    {
     "name": "stdout",
     "output_type": "stream",
     "text": [
      "loss:0.8718322515487671, train_acc: 0.5625, val_acc: 0.5106250047683716\n",
      "prompts: [', , , ancers ,', ', , , , ,', ', ,  Depending  EPA  sour', ', , , , ,', ', , , , ,', ',  fifth , ,  critiques', ',  counterfe , , ,', ', ,  chin , ,']\n"
     ]
    },
    {
     "name": "stderr",
     "output_type": "stream",
     "text": [
      " 14%|████▋                            | 421/2999 [1:21:24<17:50:33, 24.92s/it]"
     ]
    },
    {
     "name": "stdout",
     "output_type": "stream",
     "text": [
      "loss:0.9039886593818665, train_acc: 0.578125, val_acc: 0.5181249976158142\n",
      "prompts: [', , hero , ,', ', , , 675 ,', ', , , , ,', ', , ,  Gov ,', ',  intensify  tournament ,  By', ',  fragmented , , ,', ', ,  hashtag , ,', ', ,  Warp , ,']\n"
     ]
    },
    {
     "name": "stderr",
     "output_type": "stream",
     "text": [
      " 14%|████▋                            | 431/2999 [1:23:20<17:50:54, 25.02s/it]"
     ]
    },
    {
     "name": "stdout",
     "output_type": "stream",
     "text": [
      "loss:0.6814413666725159, train_acc: 0.5625, val_acc: 0.515625\n",
      "prompts: [', , ,  compensate  hesitant', ', , , , ,', ', , , , ,', ', , , , ,', ', , , ahan tone', ', , , ,  LOVE', ', , , phones ,', ', Group , , ,']\n"
     ]
    },
    {
     "name": "stderr",
     "output_type": "stream",
     "text": [
      " 15%|████▊                            | 441/2999 [1:25:16<17:43:31, 24.95s/it]"
     ]
    },
    {
     "name": "stdout",
     "output_type": "stream",
     "text": [
      "loss:0.6811894178390503, train_acc: 0.53125, val_acc: 0.5187499523162842\n",
      "prompts: [', , , , ,', ', , , , ,', ', AK  competition , ,', ', ,  truck ,  pairs', ', , , , ,', ', , , , ,', ', , , , ,', ', , , , ,']\n"
     ]
    },
    {
     "name": "stderr",
     "output_type": "stream",
     "text": [
      " 15%|█████                             | 450/2999 [1:26:38<8:10:46, 11.55s/it]\n"
     ]
    },
    {
     "ename": "KeyboardInterrupt",
     "evalue": "",
     "output_type": "error",
     "traceback": [
      "\u001b[0;31m---------------------------------------------------------------------------\u001b[0m",
      "\u001b[0;31mKeyboardInterrupt\u001b[0m                         Traceback (most recent call last)",
      "Cell \u001b[0;32mIn[8], line 16\u001b[0m\n\u001b[1;32m      1\u001b[0m \u001b[38;5;28;01mimport\u001b[39;00m \u001b[38;5;21;01mrandom\u001b[39;00m\n\u001b[1;32m      3\u001b[0m \u001b[38;5;66;03m# # start a new wandb run to track this script\u001b[39;00m\n\u001b[1;32m      4\u001b[0m \u001b[38;5;66;03m# wandb.init(\u001b[39;00m\n\u001b[1;32m      5\u001b[0m \u001b[38;5;66;03m#     # set the wandb project where this run will be logged\u001b[39;00m\n\u001b[0;32m   (...)\u001b[0m\n\u001b[1;32m     14\u001b[0m \u001b[38;5;66;03m#     }\u001b[39;00m\n\u001b[1;32m     15\u001b[0m \u001b[38;5;66;03m# )\u001b[39;00m\n\u001b[0;32m---> 16\u001b[0m \u001b[43mql\u001b[49m\u001b[38;5;241;43m.\u001b[39;49m\u001b[43mtrain\u001b[49m\u001b[43m(\u001b[49m\u001b[43mtrain_x\u001b[49m\u001b[43m,\u001b[49m\u001b[43m \u001b[49m\u001b[43mtrain_y\u001b[49m\u001b[43m,\u001b[49m\u001b[43m \u001b[49m\u001b[43mval_x\u001b[49m\u001b[43m,\u001b[49m\u001b[43m \u001b[49m\u001b[43mval_y\u001b[49m\u001b[43m,\u001b[49m\u001b[43m \u001b[49m\u001b[43mepochs\u001b[49m\u001b[43m \u001b[49m\u001b[38;5;241;43m=\u001b[39;49m\u001b[43m \u001b[49m\u001b[38;5;241;43m2999\u001b[39;49m\u001b[43m)\u001b[49m\n",
      "Cell \u001b[0;32mIn[5], line 212\u001b[0m, in \u001b[0;36mQLearner.train\u001b[0;34m(self, train_x, train_y, val_x, val_y, epochs)\u001b[0m\n\u001b[1;32m    209\u001b[0m   target_weights[key] \u001b[38;5;241m=\u001b[39m \u001b[38;5;28mself\u001b[39m\u001b[38;5;241m.\u001b[39mmlp\u001b[38;5;241m.\u001b[39mstate_dict()[key] \n\u001b[1;32m    210\u001b[0m \u001b[38;5;28mself\u001b[39m\u001b[38;5;241m.\u001b[39mtarget\u001b[38;5;241m.\u001b[39mload_state_dict(target_weights)\n\u001b[0;32m--> 212\u001b[0m val_accuracy \u001b[38;5;241m=\u001b[39m \u001b[38;5;28;43mself\u001b[39;49m\u001b[38;5;241;43m.\u001b[39;49m\u001b[43mget_accuracy_\u001b[49m\u001b[43m(\u001b[49m\u001b[43mval_x\u001b[49m\u001b[43m,\u001b[49m\u001b[43m \u001b[49m\u001b[43mval_y\u001b[49m\u001b[43m,\u001b[49m\u001b[43m \u001b[49m\u001b[43mprompts\u001b[49m\u001b[43m)\u001b[49m\n\u001b[1;32m    213\u001b[0m \u001b[38;5;28mself\u001b[39m\u001b[38;5;241m.\u001b[39mval_acc\u001b[38;5;241m.\u001b[39mappend(val_accuracy)\n\u001b[1;32m    214\u001b[0m \u001b[38;5;28mprint\u001b[39m(\u001b[38;5;124mf\u001b[39m\u001b[38;5;124m'\u001b[39m\u001b[38;5;124mloss:\u001b[39m\u001b[38;5;132;01m{\u001b[39;00mloss\u001b[38;5;241m.\u001b[39mitem()\u001b[38;5;132;01m}\u001b[39;00m\u001b[38;5;124m, train_acc: \u001b[39m\u001b[38;5;132;01m{\u001b[39;00mreward\u001b[38;5;241m.\u001b[39mmean()\u001b[38;5;132;01m}\u001b[39;00m\u001b[38;5;124m, val_acc: \u001b[39m\u001b[38;5;132;01m{\u001b[39;00mval_accuracy\u001b[38;5;132;01m}\u001b[39;00m\u001b[38;5;124m'\u001b[39m)\n",
      "Cell \u001b[0;32mIn[5], line 188\u001b[0m, in \u001b[0;36mQLearner.get_accuracy_\u001b[0;34m(self, val_x, val_y, prompts)\u001b[0m\n\u001b[1;32m    186\u001b[0m     \u001b[38;5;28;01mdef\u001b[39;00m \u001b[38;5;21mget_accuracy_\u001b[39m(\u001b[38;5;28mself\u001b[39m, val_x, val_y, prompts):\n\u001b[1;32m    187\u001b[0m \u001b[38;5;66;03m#         print(prompts)\u001b[39;00m\n\u001b[0;32m--> 188\u001b[0m         \u001b[38;5;28;01mreturn\u001b[39;00m torch\u001b[38;5;241m.\u001b[39mtensor([\u001b[38;5;28mself\u001b[39m\u001b[38;5;241m.\u001b[39mget_accuracy(val_x, val_y, prompt) \u001b[38;5;28;01mfor\u001b[39;00m prompt \u001b[38;5;129;01min\u001b[39;00m prompts])\u001b[38;5;241m.\u001b[39mmean()\n",
      "Cell \u001b[0;32mIn[5], line 188\u001b[0m, in \u001b[0;36m<listcomp>\u001b[0;34m(.0)\u001b[0m\n\u001b[1;32m    186\u001b[0m     \u001b[38;5;28;01mdef\u001b[39;00m \u001b[38;5;21mget_accuracy_\u001b[39m(\u001b[38;5;28mself\u001b[39m, val_x, val_y, prompts):\n\u001b[1;32m    187\u001b[0m \u001b[38;5;66;03m#         print(prompts)\u001b[39;00m\n\u001b[0;32m--> 188\u001b[0m         \u001b[38;5;28;01mreturn\u001b[39;00m torch\u001b[38;5;241m.\u001b[39mtensor([\u001b[38;5;28;43mself\u001b[39;49m\u001b[38;5;241;43m.\u001b[39;49m\u001b[43mget_accuracy\u001b[49m\u001b[43m(\u001b[49m\u001b[43mval_x\u001b[49m\u001b[43m,\u001b[49m\u001b[43m \u001b[49m\u001b[43mval_y\u001b[49m\u001b[43m,\u001b[49m\u001b[43m \u001b[49m\u001b[43mprompt\u001b[49m\u001b[43m)\u001b[49m \u001b[38;5;28;01mfor\u001b[39;00m prompt \u001b[38;5;129;01min\u001b[39;00m prompts])\u001b[38;5;241m.\u001b[39mmean()\n",
      "Cell \u001b[0;32mIn[5], line 158\u001b[0m, in \u001b[0;36mQLearner.get_accuracy\u001b[0;34m(self, train_x, train_y, prompt)\u001b[0m\n\u001b[1;32m    156\u001b[0m accurate \u001b[38;5;241m=\u001b[39m \u001b[38;5;241m0\u001b[39m\n\u001b[1;32m    157\u001b[0m \u001b[38;5;28;01mfor\u001b[39;00m sentence, \u001b[38;5;28mcls\u001b[39m \u001b[38;5;129;01min\u001b[39;00m \u001b[38;5;28mzip\u001b[39m(train_x, train_y):\n\u001b[0;32m--> 158\u001b[0m         word_cls \u001b[38;5;241m=\u001b[39m \u001b[38;5;28;43mself\u001b[39;49m\u001b[38;5;241;43m.\u001b[39;49m\u001b[43mmlm\u001b[49m\u001b[38;5;241;43m.\u001b[39;49m\u001b[43mget_masked_word_class\u001b[49m\u001b[43m(\u001b[49m\u001b[43msentence\u001b[49m\u001b[43m,\u001b[49m\u001b[43m \u001b[49m\u001b[43mprompt\u001b[49m\u001b[43m)\u001b[49m\n\u001b[1;32m    159\u001b[0m         \u001b[38;5;28;01mif\u001b[39;00m (word_cls[\u001b[38;5;241m0\u001b[39m][\u001b[38;5;124m'\u001b[39m\u001b[38;5;124mtoken_str\u001b[39m\u001b[38;5;124m'\u001b[39m] \u001b[38;5;241m==\u001b[39m \u001b[38;5;124m'\u001b[39m\u001b[38;5;124mgood\u001b[39m\u001b[38;5;124m'\u001b[39m \u001b[38;5;129;01mand\u001b[39;00m \u001b[38;5;28mcls\u001b[39m \u001b[38;5;241m==\u001b[39m \u001b[38;5;241m1\u001b[39m) \u001b[38;5;129;01mor\u001b[39;00m (word_cls[\u001b[38;5;241m0\u001b[39m][\u001b[38;5;124m'\u001b[39m\u001b[38;5;124mtoken_str\u001b[39m\u001b[38;5;124m'\u001b[39m] \u001b[38;5;241m==\u001b[39m \u001b[38;5;124m'\u001b[39m\u001b[38;5;124mbad\u001b[39m\u001b[38;5;124m'\u001b[39m \u001b[38;5;129;01mand\u001b[39;00m \u001b[38;5;28mcls\u001b[39m \u001b[38;5;241m==\u001b[39m \u001b[38;5;241m0\u001b[39m):\n\u001b[1;32m    160\u001b[0m             reward \u001b[38;5;241m=\u001b[39m word_cls[\u001b[38;5;241m0\u001b[39m][\u001b[38;5;124m'\u001b[39m\u001b[38;5;124mscore\u001b[39m\u001b[38;5;124m'\u001b[39m]\u001b[38;5;241m-\u001b[39m word_cls[\u001b[38;5;241m1\u001b[39m][\u001b[38;5;124m'\u001b[39m\u001b[38;5;124mscore\u001b[39m\u001b[38;5;124m'\u001b[39m]\n",
      "Cell \u001b[0;32mIn[4], line 13\u001b[0m, in \u001b[0;36mMLM.get_masked_word_class\u001b[0;34m(self, input, prompt)\u001b[0m\n\u001b[1;32m     12\u001b[0m \u001b[38;5;28;01mdef\u001b[39;00m \u001b[38;5;21mget_masked_word_class\u001b[39m(\u001b[38;5;28mself\u001b[39m, \u001b[38;5;28minput\u001b[39m, prompt):\n\u001b[0;32m---> 13\u001b[0m   \u001b[38;5;28;01mreturn\u001b[39;00m \u001b[38;5;28;43mself\u001b[39;49m\u001b[38;5;241;43m.\u001b[39;49m\u001b[43munmasker\u001b[49m\u001b[43m(\u001b[49m\u001b[38;5;124;43mf\u001b[39;49m\u001b[38;5;124;43m'\u001b[39;49m\u001b[38;5;132;43;01m{\u001b[39;49;00m\u001b[38;5;28;43minput\u001b[39;49m\u001b[38;5;132;43;01m}\u001b[39;49;00m\u001b[38;5;124;43m \u001b[39;49m\u001b[38;5;132;43;01m{\u001b[39;49;00m\u001b[43mprompt\u001b[49m\u001b[38;5;132;43;01m}\u001b[39;49;00m\u001b[38;5;124;43m <mask>\u001b[39;49m\u001b[38;5;124;43m'\u001b[39;49m\u001b[43m,\u001b[49m\u001b[43m \u001b[49m\u001b[43mtargets\u001b[49m\u001b[43m \u001b[49m\u001b[38;5;241;43m=\u001b[39;49m\u001b[43m \u001b[49m\u001b[43m[\u001b[49m\u001b[38;5;124;43m'\u001b[39;49m\u001b[38;5;124;43mgood\u001b[39;49m\u001b[38;5;124;43m'\u001b[39;49m\u001b[43m,\u001b[49m\u001b[43m \u001b[49m\u001b[38;5;124;43m'\u001b[39;49m\u001b[38;5;124;43mbad\u001b[39;49m\u001b[38;5;124;43m'\u001b[39;49m\u001b[43m]\u001b[49m\u001b[43m)\u001b[49m\n",
      "File \u001b[0;32m/Library/Frameworks/Python.framework/Versions/3.9/lib/python3.9/site-packages/transformers/pipelines/fill_mask.py:225\u001b[0m, in \u001b[0;36mFillMaskPipeline.__call__\u001b[0;34m(self, inputs, *args, **kwargs)\u001b[0m\n\u001b[1;32m    203\u001b[0m \u001b[38;5;28;01mdef\u001b[39;00m \u001b[38;5;21m__call__\u001b[39m(\u001b[38;5;28mself\u001b[39m, inputs, \u001b[38;5;241m*\u001b[39margs, \u001b[38;5;241m*\u001b[39m\u001b[38;5;241m*\u001b[39mkwargs):\n\u001b[1;32m    204\u001b[0m \u001b[38;5;250m    \u001b[39m\u001b[38;5;124;03m\"\"\"\u001b[39;00m\n\u001b[1;32m    205\u001b[0m \u001b[38;5;124;03m    Fill the masked token in the text(s) given as inputs.\u001b[39;00m\n\u001b[1;32m    206\u001b[0m \n\u001b[0;32m   (...)\u001b[0m\n\u001b[1;32m    223\u001b[0m \u001b[38;5;124;03m        - **token** (:obj:`str`) -- The predicted token (to replace the masked one).\u001b[39;00m\n\u001b[1;32m    224\u001b[0m \u001b[38;5;124;03m    \"\"\"\u001b[39;00m\n\u001b[0;32m--> 225\u001b[0m     outputs \u001b[38;5;241m=\u001b[39m \u001b[38;5;28;43msuper\u001b[39;49m\u001b[43m(\u001b[49m\u001b[43m)\u001b[49m\u001b[38;5;241;43m.\u001b[39;49m\u001b[38;5;21;43m__call__\u001b[39;49m\u001b[43m(\u001b[49m\u001b[43minputs\u001b[49m\u001b[43m,\u001b[49m\u001b[43m \u001b[49m\u001b[38;5;241;43m*\u001b[39;49m\u001b[38;5;241;43m*\u001b[39;49m\u001b[43mkwargs\u001b[49m\u001b[43m)\u001b[49m\n\u001b[1;32m    226\u001b[0m     \u001b[38;5;28;01mif\u001b[39;00m \u001b[38;5;28misinstance\u001b[39m(inputs, \u001b[38;5;28mlist\u001b[39m) \u001b[38;5;129;01mand\u001b[39;00m \u001b[38;5;28mlen\u001b[39m(inputs) \u001b[38;5;241m==\u001b[39m \u001b[38;5;241m1\u001b[39m:\n\u001b[1;32m    227\u001b[0m         \u001b[38;5;28;01mreturn\u001b[39;00m outputs[\u001b[38;5;241m0\u001b[39m]\n",
      "File \u001b[0;32m/Library/Frameworks/Python.framework/Versions/3.9/lib/python3.9/site-packages/transformers/pipelines/base.py:1068\u001b[0m, in \u001b[0;36mPipeline.__call__\u001b[0;34m(self, inputs, num_workers, batch_size, *args, **kwargs)\u001b[0m\n\u001b[1;32m   1066\u001b[0m \u001b[38;5;28;01mif\u001b[39;00m args:\n\u001b[1;32m   1067\u001b[0m     logger\u001b[38;5;241m.\u001b[39mwarning(\u001b[38;5;124mf\u001b[39m\u001b[38;5;124m\"\u001b[39m\u001b[38;5;124mIgnoring args : \u001b[39m\u001b[38;5;132;01m{\u001b[39;00margs\u001b[38;5;132;01m}\u001b[39;00m\u001b[38;5;124m\"\u001b[39m)\n\u001b[0;32m-> 1068\u001b[0m preprocess_params, forward_params, postprocess_params \u001b[38;5;241m=\u001b[39m \u001b[38;5;28;43mself\u001b[39;49m\u001b[38;5;241;43m.\u001b[39;49m\u001b[43m_sanitize_parameters\u001b[49m\u001b[43m(\u001b[49m\u001b[38;5;241;43m*\u001b[39;49m\u001b[38;5;241;43m*\u001b[39;49m\u001b[43mkwargs\u001b[49m\u001b[43m)\u001b[49m\n\u001b[1;32m   1070\u001b[0m \u001b[38;5;66;03m# Fuse __init__ params and __call__ params without modifying the __init__ ones.\u001b[39;00m\n\u001b[1;32m   1071\u001b[0m preprocess_params \u001b[38;5;241m=\u001b[39m {\u001b[38;5;241m*\u001b[39m\u001b[38;5;241m*\u001b[39m\u001b[38;5;28mself\u001b[39m\u001b[38;5;241m.\u001b[39m_preprocess_params, \u001b[38;5;241m*\u001b[39m\u001b[38;5;241m*\u001b[39mpreprocess_params}\n",
      "File \u001b[0;32m/Library/Frameworks/Python.framework/Versions/3.9/lib/python3.9/site-packages/transformers/pipelines/fill_mask.py:191\u001b[0m, in \u001b[0;36mFillMaskPipeline._sanitize_parameters\u001b[0;34m(self, top_k, targets)\u001b[0m\n\u001b[1;32m    188\u001b[0m postprocess_params \u001b[38;5;241m=\u001b[39m {}\n\u001b[1;32m    190\u001b[0m \u001b[38;5;28;01mif\u001b[39;00m targets \u001b[38;5;129;01mis\u001b[39;00m \u001b[38;5;129;01mnot\u001b[39;00m \u001b[38;5;28;01mNone\u001b[39;00m:\n\u001b[0;32m--> 191\u001b[0m     target_ids \u001b[38;5;241m=\u001b[39m \u001b[38;5;28;43mself\u001b[39;49m\u001b[38;5;241;43m.\u001b[39;49m\u001b[43mget_target_ids\u001b[49m\u001b[43m(\u001b[49m\u001b[43mtargets\u001b[49m\u001b[43m,\u001b[49m\u001b[43m \u001b[49m\u001b[43mtop_k\u001b[49m\u001b[43m)\u001b[49m\n\u001b[1;32m    192\u001b[0m     postprocess_params[\u001b[38;5;124m\"\u001b[39m\u001b[38;5;124mtarget_ids\u001b[39m\u001b[38;5;124m\"\u001b[39m] \u001b[38;5;241m=\u001b[39m target_ids\n\u001b[1;32m    194\u001b[0m \u001b[38;5;28;01mif\u001b[39;00m top_k \u001b[38;5;129;01mis\u001b[39;00m \u001b[38;5;129;01mnot\u001b[39;00m \u001b[38;5;28;01mNone\u001b[39;00m:\n",
      "File \u001b[0;32m/Library/Frameworks/Python.framework/Versions/3.9/lib/python3.9/site-packages/transformers/pipelines/fill_mask.py:150\u001b[0m, in \u001b[0;36mFillMaskPipeline.get_target_ids\u001b[0;34m(self, targets, top_k)\u001b[0m\n\u001b[1;32m    148\u001b[0m     targets \u001b[38;5;241m=\u001b[39m [targets]\n\u001b[1;32m    149\u001b[0m \u001b[38;5;28;01mtry\u001b[39;00m:\n\u001b[0;32m--> 150\u001b[0m     vocab \u001b[38;5;241m=\u001b[39m \u001b[38;5;28;43mself\u001b[39;49m\u001b[38;5;241;43m.\u001b[39;49m\u001b[43mtokenizer\u001b[49m\u001b[38;5;241;43m.\u001b[39;49m\u001b[43mget_vocab\u001b[49m\u001b[43m(\u001b[49m\u001b[43m)\u001b[49m\n\u001b[1;32m    151\u001b[0m \u001b[38;5;28;01mexcept\u001b[39;00m \u001b[38;5;167;01mException\u001b[39;00m:\n\u001b[1;32m    152\u001b[0m     vocab \u001b[38;5;241m=\u001b[39m {}\n",
      "File \u001b[0;32m/Library/Frameworks/Python.framework/Versions/3.9/lib/python3.9/site-packages/transformers/tokenization_utils_fast.py:147\u001b[0m, in \u001b[0;36mPreTrainedTokenizerFast.get_vocab\u001b[0;34m(self)\u001b[0m\n\u001b[1;32m    146\u001b[0m \u001b[38;5;28;01mdef\u001b[39;00m \u001b[38;5;21mget_vocab\u001b[39m(\u001b[38;5;28mself\u001b[39m) \u001b[38;5;241m-\u001b[39m\u001b[38;5;241m>\u001b[39m Dict[\u001b[38;5;28mstr\u001b[39m, \u001b[38;5;28mint\u001b[39m]:\n\u001b[0;32m--> 147\u001b[0m     \u001b[38;5;28;01mreturn\u001b[39;00m \u001b[38;5;28;43mself\u001b[39;49m\u001b[38;5;241;43m.\u001b[39;49m\u001b[43m_tokenizer\u001b[49m\u001b[38;5;241;43m.\u001b[39;49m\u001b[43mget_vocab\u001b[49m\u001b[43m(\u001b[49m\u001b[43mwith_added_tokens\u001b[49m\u001b[38;5;241;43m=\u001b[39;49m\u001b[38;5;28;43;01mTrue\u001b[39;49;00m\u001b[43m)\u001b[49m\n",
      "\u001b[0;31mKeyboardInterrupt\u001b[0m: "
     ]
    }
   ],
   "source": [
    "import random\n",
    "\n",
    "# # start a new wandb run to track this script\n",
    "# wandb.init(\n",
    "#     # set the wandb project where this run will be logged\n",
    "#     project=\"DQN RLPrompt LOCAL MPS\",\n",
    "    \n",
    "#     # track hyperparameters and run metadata\n",
    "#     config={\n",
    "#     \"learning_rate\": 1e-4,\n",
    "#     \"architecture\": \"DQN\",\n",
    "#     \"dataset\": \"sst\",\n",
    "#     \"epochs\": 2999,\n",
    "#     }\n",
    "# )\n",
    "ql.train(train_x, train_y, val_x, val_y, epochs = 2999)"
   ]
  },
  {
   "cell_type": "code",
   "execution_count": null,
   "metadata": {
    "colab": {
     "base_uri": "https://localhost:8080/",
     "height": 467
    },
    "id": "lahaylmsi-NU",
    "outputId": "c919aa9a-ab9f-4b6b-e3a7-55d46fcc493d"
   },
   "outputs": [],
   "source": [
    "import matplotlib.pyplot as plt\n",
    "\n",
    "plt.plot([i for i in range(len(ql.accuracy))], ql.accuracy)\n",
    "plt.xlabel('Epochs/ Training Episodes')\n",
    "plt.ylabel('Train Accuracy')\n",
    "## next attempt: try putting the new token into target since it should be the future action thats being compared\n"
   ]
  },
  {
   "cell_type": "code",
   "execution_count": null,
   "metadata": {
    "colab": {
     "base_uri": "https://localhost:8080/",
     "height": 448
    },
    "id": "XxBOG6HzeoOl",
    "outputId": "4571ee8c-dd24-4efc-8931-eadb6623bac4"
   },
   "outputs": [],
   "source": [
    "import matplotlib.pyplot as plt\n",
    "\n",
    "plt.plot([i for i in range(len(ql.loss_))], ql.loss_)\n",
    "\n",
    "## next attempt: try putting the new token into target since it should be the future action thats being compared"
   ]
  },
  {
   "cell_type": "code",
   "execution_count": 9,
   "metadata": {
    "id": "RxxyI2LneoOm",
    "outputId": "d696c9fc-bf2f-4adc-9959-2fb91325db47"
   },
   "outputs": [
    {
     "data": {
      "text/plain": [
       "<matplotlib.legend.Legend at 0x32cc968e0>"
      ]
     },
     "execution_count": 9,
     "metadata": {},
     "output_type": "execute_result"
    },
    {
     "data": {
      "image/png": "[encoded data removed]",
      "text/plain": [
       "<Figure size 640x480 with 1 Axes>"
      ]
     },
     "metadata": {},
     "output_type": "display_data"
    }
   ],
   "source": [
    "import matplotlib.pyplot as plt\n",
    "plt.plot([i for i in range(len(ql.accuracy))], ql.accuracy, label = 'training')\n",
    "plt.plot([i*10 for i in range(len(ql.val_acc))], ql.val_acc, label = 'validation')\n",
    "plt.xlabel('Epochs/ Episodes')\n",
    "plt.ylabel('Accuracy')\n",
    "plt.legend()\n",
    "## next attempt: try putting the new token into target since it should be the future action thats being compared"
   ]
  },
  {
   "cell_type": "code",
   "execution_count": null,
   "metadata": {},
   "outputs": [],
   "source": [
    "test_x = list(pd.read_csv('sst2_test')['sentence'])\n",
    "test_y = list(pd.read_csv('sst2_test')['label'])\n",
    "\n",
    "with torch.no_grad():\n",
    "    prompts, _ = ql.get_actions_Q_input_specific_target(val_x)\n",
    "    accuracy = ql.get_accuracy(test_x, test_y, ' '.join(prompts[0]))"
   ]
  },
  {
   "cell_type": "code",
   "execution_count": null,
   "metadata": {},
   "outputs": [],
   "source": [
    "print(accuracy)"
   ]
  },
  {
   "cell_type": "code",
   "execution_count": null,
   "metadata": {},
   "outputs": [],
   "source": [
    "ql.mlp.lm_pipeline.tokenizer.convert_ids_to_tokens([1,2,3,4])"
   ]
  },
  {
   "cell_type": "code",
   "execution_count": null,
   "metadata": {},
   "outputs": [],
   "source": [
    "ql.epsilon "
   ]
  },
  {
   "cell_type": "code",
   "execution_count": null,
   "metadata": {},
   "outputs": [],
   "source": []
  },
  {
   "cell_type": "code",
   "execution_count": null,
   "metadata": {},
   "outputs": [],
   "source": []
  },
  {
   "cell_type": "code",
   "execution_count": null,
   "metadata": {},
   "outputs": [],
   "source": []
  }
 ],
 "metadata": {
  "accelerator": "GPU",
  "colab": {
   "gpuType": "T4",
   "provenance": []
  },
  "gpuClass": "standard",
  "kernelspec": {
   "display_name": "Python 3 (ipykernel)",
   "language": "python",
   "name": "python3"
  },
  "language_info": {
   "codemirror_mode": {
    "name": "ipython",
    "version": 3
   },
   "file_extension": ".py",
   "mimetype": "text/x-python",
   "name": "python",
   "nbconvert_exporter": "python",
   "pygments_lexer": "ipython3",
   "version": "3.9.11"
  },
  "widgets": {
   "application/vnd.jupyter.widget-state+json": {
    "004d5bafdef04319b7db98d3dbf1fbd4": {
     "model_module": "@jupyter-widgets/controls",
     "model_module_version": "1.5.0",
     "model_name": "HTMLModel",
     "state": {
      "_dom_classes": [],
      "_model_module": "@jupyter-widgets/controls",
      "_model_module_version": "1.5.0",
      "_model_name": "HTMLModel",
      "_view_count": null,
      "_view_module": "@jupyter-widgets/controls",
      "_view_module_version": "1.5.0",
      "_view_name": "HTMLView",
      "description": "",
      "description_tooltip": null,
      "layout": "IPY_MODEL_f7e0e0eccaab4010832bf507d87ab587",
      "placeholder": "​",
      "style": "IPY_MODEL_b8aea0901e9a4ab6bfa6ff1805e4b240",
      "value": "Generating train split: 100%"
     }
    },
    "01efce9fdd394765b0f953de34f45519": {
     "model_module": "@jupyter-widgets/base",
     "model_module_version": "1.2.0",
     "model_name": "LayoutModel",
     "state": {
      "_model_module": "@jupyter-widgets/base",
      "_model_module_version": "1.2.0",
      "_model_name": "LayoutModel",
      "_view_count": null,
      "_view_module": "@jupyter-widgets/base",
      "_view_module_version": "1.2.0",
      "_view_name": "LayoutView",
      "align_content": null,
      "align_items": null,
      "align_self": null,
      "border": null,
      "bottom": null,
      "display": null,
      "flex": null,
      "flex_flow": null,
      "grid_area": null,
      "grid_auto_columns": null,
      "grid_auto_flow": null,
      "grid_auto_rows": null,
      "grid_column": null,
      "grid_gap": null,
      "grid_row": null,
      "grid_template_areas": null,
      "grid_template_columns": null,
      "grid_template_rows": null,
      "height": null,
      "justify_content": null,
      "justify_items": null,
      "left": null,
      "margin": null,
      "max_height": null,
      "max_width": null,
      "min_height": null,
      "min_width": null,
      "object_fit": null,
      "object_position": null,
      "order": null,
      "overflow": null,
      "overflow_x": null,
      "overflow_y": null,
      "padding": null,
      "right": null,
      "top": null,
      "visibility": null,
      "width": null
     }
    },
    "07003fc1a7ea47d1b54aca1a310f81fe": {
     "model_module": "@jupyter-widgets/controls",
     "model_module_version": "1.5.0",
     "model_name": "HTMLModel",
     "state": {
      "_dom_classes": [],
      "_model_module": "@jupyter-widgets/controls",
      "_model_module_version": "1.5.0",
      "_model_name": "HTMLModel",
      "_view_count": null,
      "_view_module": "@jupyter-widgets/controls",
      "_view_module_version": "1.5.0",
      "_view_name": "HTMLView",
      "description": "",
      "description_tooltip": null,
      "layout": "IPY_MODEL_d4ce099d04514c068767329e5d766929",
      "placeholder": "​",
      "style": "IPY_MODEL_3a50429fd183465294697b8c57cfec04",
      "value": "Generating validation split:   0%"
     }
    },
    "07c038651bcf4ed98ac7a41f01d09e04": {
     "model_module": "@jupyter-widgets/controls",
     "model_module_version": "1.5.0",
     "model_name": "FloatProgressModel",
     "state": {
      "_dom_classes": [],
      "_model_module": "@jupyter-widgets/controls",
      "_model_module_version": "1.5.0",
      "_model_name": "FloatProgressModel",
      "_view_count": null,
      "_view_module": "@jupyter-widgets/controls",
      "_view_module_version": "1.5.0",
      "_view_name": "ProgressView",
      "bar_style": "success",
      "description": "",
      "description_tooltip": null,
      "layout": "IPY_MODEL_b3df6e6dfed942938cba586fb7f4722e",
      "max": 1848,
      "min": 0,
      "orientation": "horizontal",
      "style": "IPY_MODEL_df21b401080b4f2face0f7a53b42f813",
      "value": 1848
     }
    },
    "08a5830e2d6445ff87e5add8fa2b9c4b": {
     "model_module": "@jupyter-widgets/base",
     "model_module_version": "1.2.0",
     "model_name": "LayoutModel",
     "state": {
      "_model_module": "@jupyter-widgets/base",
      "_model_module_version": "1.2.0",
      "_model_name": "LayoutModel",
      "_view_count": null,
      "_view_module": "@jupyter-widgets/base",
      "_view_module_version": "1.2.0",
      "_view_name": "LayoutView",
      "align_content": null,
      "align_items": null,
      "align_self": null,
      "border": null,
      "bottom": null,
      "display": null,
      "flex": null,
      "flex_flow": null,
      "grid_area": null,
      "grid_auto_columns": null,
      "grid_auto_flow": null,
      "grid_auto_rows": null,
      "grid_column": null,
      "grid_gap": null,
      "grid_row": null,
      "grid_template_areas": null,
      "grid_template_columns": null,
      "grid_template_rows": null,
      "height": null,
      "justify_content": null,
      "justify_items": null,
      "left": null,
      "margin": null,
      "max_height": null,
      "max_width": null,
      "min_height": null,
      "min_width": null,
      "object_fit": null,
      "object_position": null,
      "order": null,
      "overflow": null,
      "overflow_x": null,
      "overflow_y": null,
      "padding": null,
      "right": null,
      "top": null,
      "visibility": null,
      "width": null
     }
    },
    "0906331cec0c42d08e34101e32b1d10c": {
     "model_module": "@jupyter-widgets/controls",
     "model_module_version": "1.5.0",
     "model_name": "DescriptionStyleModel",
     "state": {
      "_model_module": "@jupyter-widgets/controls",
      "_model_module_version": "1.5.0",
      "_model_name": "DescriptionStyleModel",
      "_view_count": null,
      "_view_module": "@jupyter-widgets/base",
      "_view_module_version": "1.2.0",
      "_view_name": "StyleView",
      "description_width": ""
     }
    },
    "0b6a9f502ae74b18a25f702ded662682": {
     "model_module": "@jupyter-widgets/controls",
     "model_module_version": "1.5.0",
     "model_name": "ProgressStyleModel",
     "state": {
      "_model_module": "@jupyter-widgets/controls",
      "_model_module_version": "1.5.0",
      "_model_name": "ProgressStyleModel",
      "_view_count": null,
      "_view_module": "@jupyter-widgets/base",
      "_view_module_version": "1.2.0",
      "_view_name": "StyleView",
      "bar_color": null,
      "description_width": ""
     }
    },
    "1393ffbc23c1455aa8ba96bf7ebb6628": {
     "model_module": "@jupyter-widgets/base",
     "model_module_version": "1.2.0",
     "model_name": "LayoutModel",
     "state": {
      "_model_module": "@jupyter-widgets/base",
      "_model_module_version": "1.2.0",
      "_model_name": "LayoutModel",
      "_view_count": null,
      "_view_module": "@jupyter-widgets/base",
      "_view_module_version": "1.2.0",
      "_view_name": "LayoutView",
      "align_content": null,
      "align_items": null,
      "align_self": null,
      "border": null,
      "bottom": null,
      "display": null,
      "flex": null,
      "flex_flow": null,
      "grid_area": null,
      "grid_auto_columns": null,
      "grid_auto_flow": null,
      "grid_auto_rows": null,
      "grid_column": null,
      "grid_gap": null,
      "grid_row": null,
      "grid_template_areas": null,
      "grid_template_columns": null,
      "grid_template_rows": null,
      "height": null,
      "justify_content": null,
      "justify_items": null,
      "left": null,
      "margin": null,
      "max_height": null,
      "max_width": null,
      "min_height": null,
      "min_width": null,
      "object_fit": null,
      "object_position": null,
      "order": null,
      "overflow": null,
      "overflow_x": null,
      "overflow_y": null,
      "padding": null,
      "right": null,
      "top": null,
      "visibility": "hidden",
      "width": null
     }
    },
    "15946eeef51146b4b079986d3107aa14": {
     "model_module": "@jupyter-widgets/controls",
     "model_module_version": "1.5.0",
     "model_name": "DescriptionStyleModel",
     "state": {
      "_model_module": "@jupyter-widgets/controls",
      "_model_module_version": "1.5.0",
      "_model_name": "DescriptionStyleModel",
      "_view_count": null,
      "_view_module": "@jupyter-widgets/base",
      "_view_module_version": "1.2.0",
      "_view_name": "StyleView",
      "description_width": ""
     }
    },
    "17480ec7b5d84aa39d45f31459f02016": {
     "model_module": "@jupyter-widgets/controls",
     "model_module_version": "1.5.0",
     "model_name": "DescriptionStyleModel",
     "state": {
      "_model_module": "@jupyter-widgets/controls",
      "_model_module_version": "1.5.0",
      "_model_name": "DescriptionStyleModel",
      "_view_count": null,
      "_view_module": "@jupyter-widgets/base",
      "_view_module_version": "1.2.0",
      "_view_name": "StyleView",
      "description_width": ""
     }
    },
    "1949410280a34448bb7f36db6ec9e73f": {
     "model_module": "@jupyter-widgets/controls",
     "model_module_version": "1.5.0",
     "model_name": "FloatProgressModel",
     "state": {
      "_dom_classes": [],
      "_model_module": "@jupyter-widgets/controls",
      "_model_module_version": "1.5.0",
      "_model_name": "FloatProgressModel",
      "_view_count": null,
      "_view_module": "@jupyter-widgets/controls",
      "_view_module_version": "1.5.0",
      "_view_name": "ProgressView",
      "bar_style": "success",
      "description": "",
      "description_tooltip": null,
      "layout": "IPY_MODEL_2263c4c3734e4b94be842e8acc554939",
      "max": 3,
      "min": 0,
      "orientation": "horizontal",
      "style": "IPY_MODEL_ae86d11872c941e19f02e8fbc76e0f02",
      "value": 3
     }
    },
    "1a838f890e344d5697da449b718768dd": {
     "model_module": "@jupyter-widgets/controls",
     "model_module_version": "1.5.0",
     "model_name": "HTMLModel",
     "state": {
      "_dom_classes": [],
      "_model_module": "@jupyter-widgets/controls",
      "_model_module_version": "1.5.0",
      "_model_name": "HTMLModel",
      "_view_count": null,
      "_view_module": "@jupyter-widgets/controls",
      "_view_module_version": "1.5.0",
      "_view_name": "HTMLView",
      "description": "",
      "description_tooltip": null,
      "layout": "IPY_MODEL_6c8bbbb3b592472fb09fbeefe11f54b7",
      "placeholder": "​",
      "style": "IPY_MODEL_d54d3fe606da44348f7363ec37d2c0bc",
      "value": "Generating test split:  78%"
     }
    },
    "1f7b2952b64946b2a6dcb2d7acd73b27": {
     "model_module": "@jupyter-widgets/controls",
     "model_module_version": "1.5.0",
     "model_name": "FloatProgressModel",
     "state": {
      "_dom_classes": [],
      "_model_module": "@jupyter-widgets/controls",
      "_model_module_version": "1.5.0",
      "_model_name": "FloatProgressModel",
      "_view_count": null,
      "_view_module": "@jupyter-widgets/controls",
      "_view_module_version": "1.5.0",
      "_view_name": "ProgressView",
      "bar_style": "success",
      "description": "",
      "description_tooltip": null,
      "layout": "IPY_MODEL_f18c07bace4747a7ac757b5a7913909c",
      "max": 3770,
      "min": 0,
      "orientation": "horizontal",
      "style": "IPY_MODEL_fa3fc3a33cec42e4a228356d67b734ab",
      "value": 3770
     }
    },
    "2263c4c3734e4b94be842e8acc554939": {
     "model_module": "@jupyter-widgets/base",
     "model_module_version": "1.2.0",
     "model_name": "LayoutModel",
     "state": {
      "_model_module": "@jupyter-widgets/base",
      "_model_module_version": "1.2.0",
      "_model_name": "LayoutModel",
      "_view_count": null,
      "_view_module": "@jupyter-widgets/base",
      "_view_module_version": "1.2.0",
      "_view_name": "LayoutView",
      "align_content": null,
      "align_items": null,
      "align_self": null,
      "border": null,
      "bottom": null,
      "display": null,
      "flex": null,
      "flex_flow": null,
      "grid_area": null,
      "grid_auto_columns": null,
      "grid_auto_flow": null,
      "grid_auto_rows": null,
      "grid_column": null,
      "grid_gap": null,
      "grid_row": null,
      "grid_template_areas": null,
      "grid_template_columns": null,
      "grid_template_rows": null,
      "height": null,
      "justify_content": null,
      "justify_items": null,
      "left": null,
      "margin": null,
      "max_height": null,
      "max_width": null,
      "min_height": null,
      "min_width": null,
      "object_fit": null,
      "object_position": null,
      "order": null,
      "overflow": null,
      "overflow_x": null,
      "overflow_y": null,
      "padding": null,
      "right": null,
      "top": null,
      "visibility": null,
      "width": null
     }
    },
    "2347e2c9b6a7446490cf2997ab804d2f": {
     "model_module": "@jupyter-widgets/controls",
     "model_module_version": "1.5.0",
     "model_name": "DescriptionStyleModel",
     "state": {
      "_model_module": "@jupyter-widgets/controls",
      "_model_module_version": "1.5.0",
      "_model_name": "DescriptionStyleModel",
      "_view_count": null,
      "_view_module": "@jupyter-widgets/base",
      "_view_module_version": "1.2.0",
      "_view_name": "StyleView",
      "description_width": ""
     }
    },
    "2392ed2205fa4c4788c59d9aa9bbd019": {
     "model_module": "@jupyter-widgets/controls",
     "model_module_version": "1.5.0",
     "model_name": "HTMLModel",
     "state": {
      "_dom_classes": [],
      "_model_module": "@jupyter-widgets/controls",
      "_model_module_version": "1.5.0",
      "_model_name": "HTMLModel",
      "_view_count": null,
      "_view_module": "@jupyter-widgets/controls",
      "_view_module_version": "1.5.0",
      "_view_name": "HTMLView",
      "description": "",
      "description_tooltip": null,
      "layout": "IPY_MODEL_427c0871f5d34c118a4b1847bc58cf23",
      "placeholder": "​",
      "style": "IPY_MODEL_0906331cec0c42d08e34101e32b1d10c",
      "value": "Downloading readme: 100%"
     }
    },
    "24be459b901441f9b826001f8e97995b": {
     "model_module": "@jupyter-widgets/base",
     "model_module_version": "1.2.0",
     "model_name": "LayoutModel",
     "state": {
      "_model_module": "@jupyter-widgets/base",
      "_model_module_version": "1.2.0",
      "_model_name": "LayoutModel",
      "_view_count": null,
      "_view_module": "@jupyter-widgets/base",
      "_view_module_version": "1.2.0",
      "_view_name": "LayoutView",
      "align_content": null,
      "align_items": null,
      "align_self": null,
      "border": null,
      "bottom": null,
      "display": null,
      "flex": null,
      "flex_flow": null,
      "grid_area": null,
      "grid_auto_columns": null,
      "grid_auto_flow": null,
      "grid_auto_rows": null,
      "grid_column": null,
      "grid_gap": null,
      "grid_row": null,
      "grid_template_areas": null,
      "grid_template_columns": null,
      "grid_template_rows": null,
      "height": null,
      "justify_content": null,
      "justify_items": null,
      "left": null,
      "margin": null,
      "max_height": null,
      "max_width": null,
      "min_height": null,
      "min_width": null,
      "object_fit": null,
      "object_position": null,
      "order": null,
      "overflow": null,
      "overflow_x": null,
      "overflow_y": null,
      "padding": null,
      "right": null,
      "top": null,
      "visibility": null,
      "width": null
     }
    },
    "28c4876d397d4ae6a1764e20543593ea": {
     "model_module": "@jupyter-widgets/base",
     "model_module_version": "1.2.0",
     "model_name": "LayoutModel",
     "state": {
      "_model_module": "@jupyter-widgets/base",
      "_model_module_version": "1.2.0",
      "_model_name": "LayoutModel",
      "_view_count": null,
      "_view_module": "@jupyter-widgets/base",
      "_view_module_version": "1.2.0",
      "_view_name": "LayoutView",
      "align_content": null,
      "align_items": null,
      "align_self": null,
      "border": null,
      "bottom": null,
      "display": null,
      "flex": null,
      "flex_flow": null,
      "grid_area": null,
      "grid_auto_columns": null,
      "grid_auto_flow": null,
      "grid_auto_rows": null,
      "grid_column": null,
      "grid_gap": null,
      "grid_row": null,
      "grid_template_areas": null,
      "grid_template_columns": null,
      "grid_template_rows": null,
      "height": null,
      "justify_content": null,
      "justify_items": null,
      "left": null,
      "margin": null,
      "max_height": null,
      "max_width": null,
      "min_height": null,
      "min_width": null,
      "object_fit": null,
      "object_position": null,
      "order": null,
      "overflow": null,
      "overflow_x": null,
      "overflow_y": null,
      "padding": null,
      "right": null,
      "top": null,
      "visibility": null,
      "width": null
     }
    },
    "2a6b6135342f4f69ae8b3328b4b878b7": {
     "model_module": "@jupyter-widgets/controls",
     "model_module_version": "1.5.0",
     "model_name": "HTMLModel",
     "state": {
      "_dom_classes": [],
      "_model_module": "@jupyter-widgets/controls",
      "_model_module_version": "1.5.0",
      "_model_name": "HTMLModel",
      "_view_count": null,
      "_view_module": "@jupyter-widgets/controls",
      "_view_module_version": "1.5.0",
      "_view_name": "HTMLView",
      "description": "",
      "description_tooltip": null,
      "layout": "IPY_MODEL_7818019a0dfe4d9892df5ba27dc3a9a7",
      "placeholder": "​",
      "style": "IPY_MODEL_c8363f97cc02473386a968e352c4ed4f",
      "value": " 67349/67349 [00:03&lt;00:00, 16000.51 examples/s]"
     }
    },
    "2afeec923bd3482db0a7c3431e88c7c7": {
     "model_module": "@jupyter-widgets/controls",
     "model_module_version": "1.5.0",
     "model_name": "FloatProgressModel",
     "state": {
      "_dom_classes": [],
      "_model_module": "@jupyter-widgets/controls",
      "_model_module_version": "1.5.0",
      "_model_name": "FloatProgressModel",
      "_view_count": null,
      "_view_module": "@jupyter-widgets/controls",
      "_view_module_version": "1.5.0",
      "_view_name": "ProgressView",
      "bar_style": "success",
      "description": "",
      "description_tooltip": null,
      "layout": "IPY_MODEL_d8e62aab46504ded82a2d8279c96c282",
      "max": 7439277,
      "min": 0,
      "orientation": "horizontal",
      "style": "IPY_MODEL_0b6a9f502ae74b18a25f702ded662682",
      "value": 7439277
     }
    },
    "2df0c555b4a34f219ad6db88305b8085": {
     "model_module": "@jupyter-widgets/controls",
     "model_module_version": "1.5.0",
     "model_name": "DescriptionStyleModel",
     "state": {
      "_model_module": "@jupyter-widgets/controls",
      "_model_module_version": "1.5.0",
      "_model_name": "DescriptionStyleModel",
      "_view_count": null,
      "_view_module": "@jupyter-widgets/base",
      "_view_module_version": "1.2.0",
      "_view_name": "StyleView",
      "description_width": ""
     }
    },
    "32cbd8b104214f8dadac51584844004b": {
     "model_module": "@jupyter-widgets/base",
     "model_module_version": "1.2.0",
     "model_name": "LayoutModel",
     "state": {
      "_model_module": "@jupyter-widgets/base",
      "_model_module_version": "1.2.0",
      "_model_name": "LayoutModel",
      "_view_count": null,
      "_view_module": "@jupyter-widgets/base",
      "_view_module_version": "1.2.0",
      "_view_name": "LayoutView",
      "align_content": null,
      "align_items": null,
      "align_self": null,
      "border": null,
      "bottom": null,
      "display": null,
      "flex": null,
      "flex_flow": null,
      "grid_area": null,
      "grid_auto_columns": null,
      "grid_auto_flow": null,
      "grid_auto_rows": null,
      "grid_column": null,
      "grid_gap": null,
      "grid_row": null,
      "grid_template_areas": null,
      "grid_template_columns": null,
      "grid_template_rows": null,
      "height": null,
      "justify_content": null,
      "justify_items": null,
      "left": null,
      "margin": null,
      "max_height": null,
      "max_width": null,
      "min_height": null,
      "min_width": null,
      "object_fit": null,
      "object_position": null,
      "order": null,
      "overflow": null,
      "overflow_x": null,
      "overflow_y": null,
      "padding": null,
      "right": null,
      "top": null,
      "visibility": null,
      "width": null
     }
    },
    "33641ae3b703412f9ebd2fdb48b62e23": {
     "model_module": "@jupyter-widgets/base",
     "model_module_version": "1.2.0",
     "model_name": "LayoutModel",
     "state": {
      "_model_module": "@jupyter-widgets/base",
      "_model_module_version": "1.2.0",
      "_model_name": "LayoutModel",
      "_view_count": null,
      "_view_module": "@jupyter-widgets/base",
      "_view_module_version": "1.2.0",
      "_view_name": "LayoutView",
      "align_content": null,
      "align_items": null,
      "align_self": null,
      "border": null,
      "bottom": null,
      "display": null,
      "flex": null,
      "flex_flow": null,
      "grid_area": null,
      "grid_auto_columns": null,
      "grid_auto_flow": null,
      "grid_auto_rows": null,
      "grid_column": null,
      "grid_gap": null,
      "grid_row": null,
      "grid_template_areas": null,
      "grid_template_columns": null,
      "grid_template_rows": null,
      "height": null,
      "justify_content": null,
      "justify_items": null,
      "left": null,
      "margin": null,
      "max_height": null,
      "max_width": null,
      "min_height": null,
      "min_width": null,
      "object_fit": null,
      "object_position": null,
      "order": null,
      "overflow": null,
      "overflow_x": null,
      "overflow_y": null,
      "padding": null,
      "right": null,
      "top": null,
      "visibility": null,
      "width": null
     }
    },
    "3a50429fd183465294697b8c57cfec04": {
     "model_module": "@jupyter-widgets/controls",
     "model_module_version": "1.5.0",
     "model_name": "DescriptionStyleModel",
     "state": {
      "_model_module": "@jupyter-widgets/controls",
      "_model_module_version": "1.5.0",
      "_model_name": "DescriptionStyleModel",
      "_view_count": null,
      "_view_module": "@jupyter-widgets/base",
      "_view_module_version": "1.2.0",
      "_view_name": "StyleView",
      "description_width": ""
     }
    },
    "3f181012fe7d41feaef629904e894173": {
     "model_module": "@jupyter-widgets/controls",
     "model_module_version": "1.5.0",
     "model_name": "HTMLModel",
     "state": {
      "_dom_classes": [],
      "_model_module": "@jupyter-widgets/controls",
      "_model_module_version": "1.5.0",
      "_model_name": "HTMLModel",
      "_view_count": null,
      "_view_module": "@jupyter-widgets/controls",
      "_view_module_version": "1.5.0",
      "_view_name": "HTMLView",
      "description": "",
      "description_tooltip": null,
      "layout": "IPY_MODEL_8bc1cfae41b0400b801d3f0a2ec45c22",
      "placeholder": "​",
      "style": "IPY_MODEL_4db7b862b0f34750b58f64f76c93c11d",
      "value": "Downloading metadata: 100%"
     }
    },
    "427c0871f5d34c118a4b1847bc58cf23": {
     "model_module": "@jupyter-widgets/base",
     "model_module_version": "1.2.0",
     "model_name": "LayoutModel",
     "state": {
      "_model_module": "@jupyter-widgets/base",
      "_model_module_version": "1.2.0",
      "_model_name": "LayoutModel",
      "_view_count": null,
      "_view_module": "@jupyter-widgets/base",
      "_view_module_version": "1.2.0",
      "_view_name": "LayoutView",
      "align_content": null,
      "align_items": null,
      "align_self": null,
      "border": null,
      "bottom": null,
      "display": null,
      "flex": null,
      "flex_flow": null,
      "grid_area": null,
      "grid_auto_columns": null,
      "grid_auto_flow": null,
      "grid_auto_rows": null,
      "grid_column": null,
      "grid_gap": null,
      "grid_row": null,
      "grid_template_areas": null,
      "grid_template_columns": null,
      "grid_template_rows": null,
      "height": null,
      "justify_content": null,
      "justify_items": null,
      "left": null,
      "margin": null,
      "max_height": null,
      "max_width": null,
      "min_height": null,
      "min_width": null,
      "object_fit": null,
      "object_position": null,
      "order": null,
      "overflow": null,
      "overflow_x": null,
      "overflow_y": null,
      "padding": null,
      "right": null,
      "top": null,
      "visibility": null,
      "width": null
     }
    },
    "475a603cf2384121a9ee4f92edbf1e2b": {
     "model_module": "@jupyter-widgets/controls",
     "model_module_version": "1.5.0",
     "model_name": "HTMLModel",
     "state": {
      "_dom_classes": [],
      "_model_module": "@jupyter-widgets/controls",
      "_model_module_version": "1.5.0",
      "_model_name": "HTMLModel",
      "_view_count": null,
      "_view_module": "@jupyter-widgets/controls",
      "_view_module_version": "1.5.0",
      "_view_name": "HTMLView",
      "description": "",
      "description_tooltip": null,
      "layout": "IPY_MODEL_32cbd8b104214f8dadac51584844004b",
      "placeholder": "​",
      "style": "IPY_MODEL_ed54dbbac3eb43fb85b8263f9db60b98",
      "value": " 3.77k/3.77k [00:00&lt;00:00, 226kB/s]"
     }
    },
    "4d89197fd71441b78d49f1e724dab72f": {
     "model_module": "@jupyter-widgets/controls",
     "model_module_version": "1.5.0",
     "model_name": "FloatProgressModel",
     "state": {
      "_dom_classes": [],
      "_model_module": "@jupyter-widgets/controls",
      "_model_module_version": "1.5.0",
      "_model_name": "FloatProgressModel",
      "_view_count": null,
      "_view_module": "@jupyter-widgets/controls",
      "_view_module_version": "1.5.0",
      "_view_name": "ProgressView",
      "bar_style": "",
      "description": "",
      "description_tooltip": null,
      "layout": "IPY_MODEL_eb4007658adf4d40af675fa8c737353d",
      "max": 67349,
      "min": 0,
      "orientation": "horizontal",
      "style": "IPY_MODEL_6ee3af8e947d47cfa4ccd3773696d259",
      "value": 67349
     }
    },
    "4db7b862b0f34750b58f64f76c93c11d": {
     "model_module": "@jupyter-widgets/controls",
     "model_module_version": "1.5.0",
     "model_name": "DescriptionStyleModel",
     "state": {
      "_model_module": "@jupyter-widgets/controls",
      "_model_module_version": "1.5.0",
      "_model_name": "DescriptionStyleModel",
      "_view_count": null,
      "_view_module": "@jupyter-widgets/base",
      "_view_module_version": "1.2.0",
      "_view_name": "StyleView",
      "description_width": ""
     }
    },
    "514e78b83cd646fca27ac3d1123cde32": {
     "model_module": "@jupyter-widgets/controls",
     "model_module_version": "1.5.0",
     "model_name": "HBoxModel",
     "state": {
      "_dom_classes": [],
      "_model_module": "@jupyter-widgets/controls",
      "_model_module_version": "1.5.0",
      "_model_name": "HBoxModel",
      "_view_count": null,
      "_view_module": "@jupyter-widgets/controls",
      "_view_module_version": "1.5.0",
      "_view_name": "HBoxView",
      "box_style": "",
      "children": [
       "IPY_MODEL_3f181012fe7d41feaef629904e894173",
       "IPY_MODEL_07c038651bcf4ed98ac7a41f01d09e04",
       "IPY_MODEL_fed43f83c2bd4192bb04a7b81325c1ae"
      ],
      "layout": "IPY_MODEL_ee966ca2638f42d78eddc42d559940a7"
     }
    },
    "51ec4efe428940919982a27f99c5f87d": {
     "model_module": "@jupyter-widgets/controls",
     "model_module_version": "1.5.0",
     "model_name": "HBoxModel",
     "state": {
      "_dom_classes": [],
      "_model_module": "@jupyter-widgets/controls",
      "_model_module_version": "1.5.0",
      "_model_name": "HBoxModel",
      "_view_count": null,
      "_view_module": "@jupyter-widgets/controls",
      "_view_module_version": "1.5.0",
      "_view_name": "HBoxView",
      "box_style": "",
      "children": [
       "IPY_MODEL_b3346812528044a3be34cae46951d1bc",
       "IPY_MODEL_2afeec923bd3482db0a7c3431e88c7c7",
       "IPY_MODEL_cd67ebccafd84db58f8cb5ec01421676"
      ],
      "layout": "IPY_MODEL_7fbbf464abd14cff9587ff2dc239b3c6"
     }
    },
    "544ddb6d46964965999ac114ee30588e": {
     "model_module": "@jupyter-widgets/controls",
     "model_module_version": "1.5.0",
     "model_name": "HBoxModel",
     "state": {
      "_dom_classes": [],
      "_model_module": "@jupyter-widgets/controls",
      "_model_module_version": "1.5.0",
      "_model_name": "HBoxModel",
      "_view_count": null,
      "_view_module": "@jupyter-widgets/controls",
      "_view_module_version": "1.5.0",
      "_view_name": "HBoxView",
      "box_style": "",
      "children": [
       "IPY_MODEL_004d5bafdef04319b7db98d3dbf1fbd4",
       "IPY_MODEL_4d89197fd71441b78d49f1e724dab72f",
       "IPY_MODEL_2a6b6135342f4f69ae8b3328b4b878b7"
      ],
      "layout": "IPY_MODEL_df5eabce102343758608a919fce209a5"
     }
    },
    "5d148cd52f394fb6bb19339dfa2c0045": {
     "model_module": "@jupyter-widgets/controls",
     "model_module_version": "1.5.0",
     "model_name": "FloatProgressModel",
     "state": {
      "_dom_classes": [],
      "_model_module": "@jupyter-widgets/controls",
      "_model_module_version": "1.5.0",
      "_model_name": "FloatProgressModel",
      "_view_count": null,
      "_view_module": "@jupyter-widgets/controls",
      "_view_module_version": "1.5.0",
      "_view_name": "ProgressView",
      "bar_style": "success",
      "description": "",
      "description_tooltip": null,
      "layout": "IPY_MODEL_33641ae3b703412f9ebd2fdb48b62e23",
      "max": 5100,
      "min": 0,
      "orientation": "horizontal",
      "style": "IPY_MODEL_ad34029e01e745ecb49784d43538e6b0",
      "value": 5100
     }
    },
    "69ebd508301b4fac8349923a33bf92d7": {
     "model_module": "@jupyter-widgets/controls",
     "model_module_version": "1.5.0",
     "model_name": "ProgressStyleModel",
     "state": {
      "_model_module": "@jupyter-widgets/controls",
      "_model_module_version": "1.5.0",
      "_model_name": "ProgressStyleModel",
      "_view_count": null,
      "_view_module": "@jupyter-widgets/base",
      "_view_module_version": "1.2.0",
      "_view_name": "StyleView",
      "bar_color": null,
      "description_width": ""
     }
    },
    "6a68d3ff523d4a4d847e9346f755d20f": {
     "model_module": "@jupyter-widgets/controls",
     "model_module_version": "1.5.0",
     "model_name": "FloatProgressModel",
     "state": {
      "_dom_classes": [],
      "_model_module": "@jupyter-widgets/controls",
      "_model_module_version": "1.5.0",
      "_model_name": "FloatProgressModel",
      "_view_count": null,
      "_view_module": "@jupyter-widgets/controls",
      "_view_module_version": "1.5.0",
      "_view_name": "ProgressView",
      "bar_style": "",
      "description": "",
      "description_tooltip": null,
      "layout": "IPY_MODEL_e3b403059f5d4698a66599ac49ffa8cc",
      "max": 872,
      "min": 0,
      "orientation": "horizontal",
      "style": "IPY_MODEL_b34c90e775fa4f5bb1f8a7848a6b6189",
      "value": 872
     }
    },
    "6c8bbbb3b592472fb09fbeefe11f54b7": {
     "model_module": "@jupyter-widgets/base",
     "model_module_version": "1.2.0",
     "model_name": "LayoutModel",
     "state": {
      "_model_module": "@jupyter-widgets/base",
      "_model_module_version": "1.2.0",
      "_model_name": "LayoutModel",
      "_view_count": null,
      "_view_module": "@jupyter-widgets/base",
      "_view_module_version": "1.2.0",
      "_view_name": "LayoutView",
      "align_content": null,
      "align_items": null,
      "align_self": null,
      "border": null,
      "bottom": null,
      "display": null,
      "flex": null,
      "flex_flow": null,
      "grid_area": null,
      "grid_auto_columns": null,
      "grid_auto_flow": null,
      "grid_auto_rows": null,
      "grid_column": null,
      "grid_gap": null,
      "grid_row": null,
      "grid_template_areas": null,
      "grid_template_columns": null,
      "grid_template_rows": null,
      "height": null,
      "justify_content": null,
      "justify_items": null,
      "left": null,
      "margin": null,
      "max_height": null,
      "max_width": null,
      "min_height": null,
      "min_width": null,
      "object_fit": null,
      "object_position": null,
      "order": null,
      "overflow": null,
      "overflow_x": null,
      "overflow_y": null,
      "padding": null,
      "right": null,
      "top": null,
      "visibility": null,
      "width": null
     }
    },
    "6ee3af8e947d47cfa4ccd3773696d259": {
     "model_module": "@jupyter-widgets/controls",
     "model_module_version": "1.5.0",
     "model_name": "ProgressStyleModel",
     "state": {
      "_model_module": "@jupyter-widgets/controls",
      "_model_module_version": "1.5.0",
      "_model_name": "ProgressStyleModel",
      "_view_count": null,
      "_view_module": "@jupyter-widgets/base",
      "_view_module_version": "1.2.0",
      "_view_name": "StyleView",
      "bar_color": null,
      "description_width": ""
     }
    },
    "7029981fe2db4a89a6af308a0e97eb16": {
     "model_module": "@jupyter-widgets/controls",
     "model_module_version": "1.5.0",
     "model_name": "HBoxModel",
     "state": {
      "_dom_classes": [],
      "_model_module": "@jupyter-widgets/controls",
      "_model_module_version": "1.5.0",
      "_model_name": "HBoxModel",
      "_view_count": null,
      "_view_module": "@jupyter-widgets/controls",
      "_view_module_version": "1.5.0",
      "_view_name": "HBoxView",
      "box_style": "",
      "children": [
       "IPY_MODEL_2392ed2205fa4c4788c59d9aa9bbd019",
       "IPY_MODEL_5d148cd52f394fb6bb19339dfa2c0045",
       "IPY_MODEL_e9b684dbdcc846deb0e83a0cc589c464"
      ],
      "layout": "IPY_MODEL_9b3c10e05ff84c8d88d87598e0df8b47"
     }
    },
    "72016e6fa04a478eac1611edd0426aaa": {
     "model_module": "@jupyter-widgets/controls",
     "model_module_version": "1.5.0",
     "model_name": "HTMLModel",
     "state": {
      "_dom_classes": [],
      "_model_module": "@jupyter-widgets/controls",
      "_model_module_version": "1.5.0",
      "_model_name": "HTMLModel",
      "_view_count": null,
      "_view_module": "@jupyter-widgets/controls",
      "_view_module_version": "1.5.0",
      "_view_name": "HTMLView",
      "description": "",
      "description_tooltip": null,
      "layout": "IPY_MODEL_01efce9fdd394765b0f953de34f45519",
      "placeholder": "​",
      "style": "IPY_MODEL_92eac85d7447409d8e58483b05c1a704",
      "value": " 3/3 [00:00&lt;00:00, 135.83it/s]"
     }
    },
    "743f9ec230c54b319d8cccc4e5964938": {
     "model_module": "@jupyter-widgets/base",
     "model_module_version": "1.2.0",
     "model_name": "LayoutModel",
     "state": {
      "_model_module": "@jupyter-widgets/base",
      "_model_module_version": "1.2.0",
      "_model_name": "LayoutModel",
      "_view_count": null,
      "_view_module": "@jupyter-widgets/base",
      "_view_module_version": "1.2.0",
      "_view_name": "LayoutView",
      "align_content": null,
      "align_items": null,
      "align_self": null,
      "border": null,
      "bottom": null,
      "display": null,
      "flex": null,
      "flex_flow": null,
      "grid_area": null,
      "grid_auto_columns": null,
      "grid_auto_flow": null,
      "grid_auto_rows": null,
      "grid_column": null,
      "grid_gap": null,
      "grid_row": null,
      "grid_template_areas": null,
      "grid_template_columns": null,
      "grid_template_rows": null,
      "height": null,
      "justify_content": null,
      "justify_items": null,
      "left": null,
      "margin": null,
      "max_height": null,
      "max_width": null,
      "min_height": null,
      "min_width": null,
      "object_fit": null,
      "object_position": null,
      "order": null,
      "overflow": null,
      "overflow_x": null,
      "overflow_y": null,
      "padding": null,
      "right": null,
      "top": null,
      "visibility": null,
      "width": null
     }
    },
    "7818019a0dfe4d9892df5ba27dc3a9a7": {
     "model_module": "@jupyter-widgets/base",
     "model_module_version": "1.2.0",
     "model_name": "LayoutModel",
     "state": {
      "_model_module": "@jupyter-widgets/base",
      "_model_module_version": "1.2.0",
      "_model_name": "LayoutModel",
      "_view_count": null,
      "_view_module": "@jupyter-widgets/base",
      "_view_module_version": "1.2.0",
      "_view_name": "LayoutView",
      "align_content": null,
      "align_items": null,
      "align_self": null,
      "border": null,
      "bottom": null,
      "display": null,
      "flex": null,
      "flex_flow": null,
      "grid_area": null,
      "grid_auto_columns": null,
      "grid_auto_flow": null,
      "grid_auto_rows": null,
      "grid_column": null,
      "grid_gap": null,
      "grid_row": null,
      "grid_template_areas": null,
      "grid_template_columns": null,
      "grid_template_rows": null,
      "height": null,
      "justify_content": null,
      "justify_items": null,
      "left": null,
      "margin": null,
      "max_height": null,
      "max_width": null,
      "min_height": null,
      "min_width": null,
      "object_fit": null,
      "object_position": null,
      "order": null,
      "overflow": null,
      "overflow_x": null,
      "overflow_y": null,
      "padding": null,
      "right": null,
      "top": null,
      "visibility": null,
      "width": null
     }
    },
    "78a947fe0b2a4541be7ff08248bac3ac": {
     "model_module": "@jupyter-widgets/controls",
     "model_module_version": "1.5.0",
     "model_name": "DescriptionStyleModel",
     "state": {
      "_model_module": "@jupyter-widgets/controls",
      "_model_module_version": "1.5.0",
      "_model_name": "DescriptionStyleModel",
      "_view_count": null,
      "_view_module": "@jupyter-widgets/base",
      "_view_module_version": "1.2.0",
      "_view_name": "StyleView",
      "description_width": ""
     }
    },
    "7fbbf464abd14cff9587ff2dc239b3c6": {
     "model_module": "@jupyter-widgets/base",
     "model_module_version": "1.2.0",
     "model_name": "LayoutModel",
     "state": {
      "_model_module": "@jupyter-widgets/base",
      "_model_module_version": "1.2.0",
      "_model_name": "LayoutModel",
      "_view_count": null,
      "_view_module": "@jupyter-widgets/base",
      "_view_module_version": "1.2.0",
      "_view_name": "LayoutView",
      "align_content": null,
      "align_items": null,
      "align_self": null,
      "border": null,
      "bottom": null,
      "display": null,
      "flex": null,
      "flex_flow": null,
      "grid_area": null,
      "grid_auto_columns": null,
      "grid_auto_flow": null,
      "grid_auto_rows": null,
      "grid_column": null,
      "grid_gap": null,
      "grid_row": null,
      "grid_template_areas": null,
      "grid_template_columns": null,
      "grid_template_rows": null,
      "height": null,
      "justify_content": null,
      "justify_items": null,
      "left": null,
      "margin": null,
      "max_height": null,
      "max_width": null,
      "min_height": null,
      "min_width": null,
      "object_fit": null,
      "object_position": null,
      "order": null,
      "overflow": null,
      "overflow_x": null,
      "overflow_y": null,
      "padding": null,
      "right": null,
      "top": null,
      "visibility": null,
      "width": null
     }
    },
    "8335158d358245f7a1335c80cc8accda": {
     "model_module": "@jupyter-widgets/controls",
     "model_module_version": "1.5.0",
     "model_name": "DescriptionStyleModel",
     "state": {
      "_model_module": "@jupyter-widgets/controls",
      "_model_module_version": "1.5.0",
      "_model_name": "DescriptionStyleModel",
      "_view_count": null,
      "_view_module": "@jupyter-widgets/base",
      "_view_module_version": "1.2.0",
      "_view_name": "StyleView",
      "description_width": ""
     }
    },
    "8520ecfd26d74daa881a13ddaaebbe36": {
     "model_module": "@jupyter-widgets/controls",
     "model_module_version": "1.5.0",
     "model_name": "HBoxModel",
     "state": {
      "_dom_classes": [],
      "_model_module": "@jupyter-widgets/controls",
      "_model_module_version": "1.5.0",
      "_model_name": "HBoxModel",
      "_view_count": null,
      "_view_module": "@jupyter-widgets/controls",
      "_view_module_version": "1.5.0",
      "_view_name": "HBoxView",
      "box_style": "",
      "children": [
       "IPY_MODEL_e2d9a29c8c1b461895a4585cd105dffb",
       "IPY_MODEL_1949410280a34448bb7f36db6ec9e73f",
       "IPY_MODEL_72016e6fa04a478eac1611edd0426aaa"
      ],
      "layout": "IPY_MODEL_d8583886b5dc44598e87a345711f3071"
     }
    },
    "880ad94be3aa4713b99d79fce23245e4": {
     "model_module": "@jupyter-widgets/controls",
     "model_module_version": "1.5.0",
     "model_name": "HTMLModel",
     "state": {
      "_dom_classes": [],
      "_model_module": "@jupyter-widgets/controls",
      "_model_module_version": "1.5.0",
      "_model_name": "HTMLModel",
      "_view_count": null,
      "_view_module": "@jupyter-widgets/controls",
      "_view_module_version": "1.5.0",
      "_view_name": "HTMLView",
      "description": "",
      "description_tooltip": null,
      "layout": "IPY_MODEL_24be459b901441f9b826001f8e97995b",
      "placeholder": "​",
      "style": "IPY_MODEL_2df0c555b4a34f219ad6db88305b8085",
      "value": " 1414/1821 [00:00&lt;00:00, 11849.90 examples/s]"
     }
    },
    "8bab4b6d225944648c0bb64efb6e30ba": {
     "model_module": "@jupyter-widgets/base",
     "model_module_version": "1.2.0",
     "model_name": "LayoutModel",
     "state": {
      "_model_module": "@jupyter-widgets/base",
      "_model_module_version": "1.2.0",
      "_model_name": "LayoutModel",
      "_view_count": null,
      "_view_module": "@jupyter-widgets/base",
      "_view_module_version": "1.2.0",
      "_view_name": "LayoutView",
      "align_content": null,
      "align_items": null,
      "align_self": null,
      "border": null,
      "bottom": null,
      "display": null,
      "flex": null,
      "flex_flow": null,
      "grid_area": null,
      "grid_auto_columns": null,
      "grid_auto_flow": null,
      "grid_auto_rows": null,
      "grid_column": null,
      "grid_gap": null,
      "grid_row": null,
      "grid_template_areas": null,
      "grid_template_columns": null,
      "grid_template_rows": null,
      "height": null,
      "justify_content": null,
      "justify_items": null,
      "left": null,
      "margin": null,
      "max_height": null,
      "max_width": null,
      "min_height": null,
      "min_width": null,
      "object_fit": null,
      "object_position": null,
      "order": null,
      "overflow": null,
      "overflow_x": null,
      "overflow_y": null,
      "padding": null,
      "right": null,
      "top": null,
      "visibility": null,
      "width": null
     }
    },
    "8bc1cfae41b0400b801d3f0a2ec45c22": {
     "model_module": "@jupyter-widgets/base",
     "model_module_version": "1.2.0",
     "model_name": "LayoutModel",
     "state": {
      "_model_module": "@jupyter-widgets/base",
      "_model_module_version": "1.2.0",
      "_model_name": "LayoutModel",
      "_view_count": null,
      "_view_module": "@jupyter-widgets/base",
      "_view_module_version": "1.2.0",
      "_view_name": "LayoutView",
      "align_content": null,
      "align_items": null,
      "align_self": null,
      "border": null,
      "bottom": null,
      "display": null,
      "flex": null,
      "flex_flow": null,
      "grid_area": null,
      "grid_auto_columns": null,
      "grid_auto_flow": null,
      "grid_auto_rows": null,
      "grid_column": null,
      "grid_gap": null,
      "grid_row": null,
      "grid_template_areas": null,
      "grid_template_columns": null,
      "grid_template_rows": null,
      "height": null,
      "justify_content": null,
      "justify_items": null,
      "left": null,
      "margin": null,
      "max_height": null,
      "max_width": null,
      "min_height": null,
      "min_width": null,
      "object_fit": null,
      "object_position": null,
      "order": null,
      "overflow": null,
      "overflow_x": null,
      "overflow_y": null,
      "padding": null,
      "right": null,
      "top": null,
      "visibility": null,
      "width": null
     }
    },
    "8c74cbcc177d4528b57d2a349c87b1ff": {
     "model_module": "@jupyter-widgets/base",
     "model_module_version": "1.2.0",
     "model_name": "LayoutModel",
     "state": {
      "_model_module": "@jupyter-widgets/base",
      "_model_module_version": "1.2.0",
      "_model_name": "LayoutModel",
      "_view_count": null,
      "_view_module": "@jupyter-widgets/base",
      "_view_module_version": "1.2.0",
      "_view_name": "LayoutView",
      "align_content": null,
      "align_items": null,
      "align_self": null,
      "border": null,
      "bottom": null,
      "display": null,
      "flex": null,
      "flex_flow": null,
      "grid_area": null,
      "grid_auto_columns": null,
      "grid_auto_flow": null,
      "grid_auto_rows": null,
      "grid_column": null,
      "grid_gap": null,
      "grid_row": null,
      "grid_template_areas": null,
      "grid_template_columns": null,
      "grid_template_rows": null,
      "height": null,
      "justify_content": null,
      "justify_items": null,
      "left": null,
      "margin": null,
      "max_height": null,
      "max_width": null,
      "min_height": null,
      "min_width": null,
      "object_fit": null,
      "object_position": null,
      "order": null,
      "overflow": null,
      "overflow_x": null,
      "overflow_y": null,
      "padding": null,
      "right": null,
      "top": null,
      "visibility": null,
      "width": null
     }
    },
    "8d05ab4ecaf243b69d8687bd95619d49": {
     "model_module": "@jupyter-widgets/controls",
     "model_module_version": "1.5.0",
     "model_name": "DescriptionStyleModel",
     "state": {
      "_model_module": "@jupyter-widgets/controls",
      "_model_module_version": "1.5.0",
      "_model_name": "DescriptionStyleModel",
      "_view_count": null,
      "_view_module": "@jupyter-widgets/base",
      "_view_module_version": "1.2.0",
      "_view_name": "StyleView",
      "description_width": ""
     }
    },
    "90a11f34484a409b8bc3b6884f93e45d": {
     "model_module": "@jupyter-widgets/controls",
     "model_module_version": "1.5.0",
     "model_name": "HBoxModel",
     "state": {
      "_dom_classes": [],
      "_model_module": "@jupyter-widgets/controls",
      "_model_module_version": "1.5.0",
      "_model_name": "HBoxModel",
      "_view_count": null,
      "_view_module": "@jupyter-widgets/controls",
      "_view_module_version": "1.5.0",
      "_view_name": "HBoxView",
      "box_style": "",
      "children": [
       "IPY_MODEL_96066ad54cdf4dff8ad38fedbdbb3f27",
       "IPY_MODEL_1f7b2952b64946b2a6dcb2d7acd73b27",
       "IPY_MODEL_475a603cf2384121a9ee4f92edbf1e2b"
      ],
      "layout": "IPY_MODEL_8bab4b6d225944648c0bb64efb6e30ba"
     }
    },
    "92eac85d7447409d8e58483b05c1a704": {
     "model_module": "@jupyter-widgets/controls",
     "model_module_version": "1.5.0",
     "model_name": "DescriptionStyleModel",
     "state": {
      "_model_module": "@jupyter-widgets/controls",
      "_model_module_version": "1.5.0",
      "_model_name": "DescriptionStyleModel",
      "_view_count": null,
      "_view_module": "@jupyter-widgets/base",
      "_view_module_version": "1.2.0",
      "_view_name": "StyleView",
      "description_width": ""
     }
    },
    "96066ad54cdf4dff8ad38fedbdbb3f27": {
     "model_module": "@jupyter-widgets/controls",
     "model_module_version": "1.5.0",
     "model_name": "HTMLModel",
     "state": {
      "_dom_classes": [],
      "_model_module": "@jupyter-widgets/controls",
      "_model_module_version": "1.5.0",
      "_model_name": "HTMLModel",
      "_view_count": null,
      "_view_module": "@jupyter-widgets/controls",
      "_view_module_version": "1.5.0",
      "_view_name": "HTMLView",
      "description": "",
      "description_tooltip": null,
      "layout": "IPY_MODEL_d431d07174c848ba8ef1070224b38743",
      "placeholder": "​",
      "style": "IPY_MODEL_15946eeef51146b4b079986d3107aa14",
      "value": "Downloading builder script: 100%"
     }
    },
    "9a4c4b725a3e43c0a74360b4d437a25f": {
     "model_module": "@jupyter-widgets/controls",
     "model_module_version": "1.5.0",
     "model_name": "HBoxModel",
     "state": {
      "_dom_classes": [],
      "_model_module": "@jupyter-widgets/controls",
      "_model_module_version": "1.5.0",
      "_model_name": "HBoxModel",
      "_view_count": null,
      "_view_module": "@jupyter-widgets/controls",
      "_view_module_version": "1.5.0",
      "_view_name": "HBoxView",
      "box_style": "",
      "children": [
       "IPY_MODEL_07003fc1a7ea47d1b54aca1a310f81fe",
       "IPY_MODEL_6a68d3ff523d4a4d847e9346f755d20f",
       "IPY_MODEL_b37988defa9e45a3a42df9eb3455f305"
      ],
      "layout": "IPY_MODEL_bdca417ca5584a3094437b5ac82cebcd"
     }
    },
    "9b3c10e05ff84c8d88d87598e0df8b47": {
     "model_module": "@jupyter-widgets/base",
     "model_module_version": "1.2.0",
     "model_name": "LayoutModel",
     "state": {
      "_model_module": "@jupyter-widgets/base",
      "_model_module_version": "1.2.0",
      "_model_name": "LayoutModel",
      "_view_count": null,
      "_view_module": "@jupyter-widgets/base",
      "_view_module_version": "1.2.0",
      "_view_name": "LayoutView",
      "align_content": null,
      "align_items": null,
      "align_self": null,
      "border": null,
      "bottom": null,
      "display": null,
      "flex": null,
      "flex_flow": null,
      "grid_area": null,
      "grid_auto_columns": null,
      "grid_auto_flow": null,
      "grid_auto_rows": null,
      "grid_column": null,
      "grid_gap": null,
      "grid_row": null,
      "grid_template_areas": null,
      "grid_template_columns": null,
      "grid_template_rows": null,
      "height": null,
      "justify_content": null,
      "justify_items": null,
      "left": null,
      "margin": null,
      "max_height": null,
      "max_width": null,
      "min_height": null,
      "min_width": null,
      "object_fit": null,
      "object_position": null,
      "order": null,
      "overflow": null,
      "overflow_x": null,
      "overflow_y": null,
      "padding": null,
      "right": null,
      "top": null,
      "visibility": null,
      "width": null
     }
    },
    "ad34029e01e745ecb49784d43538e6b0": {
     "model_module": "@jupyter-widgets/controls",
     "model_module_version": "1.5.0",
     "model_name": "ProgressStyleModel",
     "state": {
      "_model_module": "@jupyter-widgets/controls",
      "_model_module_version": "1.5.0",
      "_model_name": "ProgressStyleModel",
      "_view_count": null,
      "_view_module": "@jupyter-widgets/base",
      "_view_module_version": "1.2.0",
      "_view_name": "StyleView",
      "bar_color": null,
      "description_width": ""
     }
    },
    "ae86d11872c941e19f02e8fbc76e0f02": {
     "model_module": "@jupyter-widgets/controls",
     "model_module_version": "1.5.0",
     "model_name": "ProgressStyleModel",
     "state": {
      "_model_module": "@jupyter-widgets/controls",
      "_model_module_version": "1.5.0",
      "_model_name": "ProgressStyleModel",
      "_view_count": null,
      "_view_module": "@jupyter-widgets/base",
      "_view_module_version": "1.2.0",
      "_view_name": "StyleView",
      "bar_color": null,
      "description_width": ""
     }
    },
    "b3346812528044a3be34cae46951d1bc": {
     "model_module": "@jupyter-widgets/controls",
     "model_module_version": "1.5.0",
     "model_name": "HTMLModel",
     "state": {
      "_dom_classes": [],
      "_model_module": "@jupyter-widgets/controls",
      "_model_module_version": "1.5.0",
      "_model_name": "HTMLModel",
      "_view_count": null,
      "_view_module": "@jupyter-widgets/controls",
      "_view_module_version": "1.5.0",
      "_view_name": "HTMLView",
      "description": "",
      "description_tooltip": null,
      "layout": "IPY_MODEL_c946c5d89cee4e16bd626076c3887179",
      "placeholder": "​",
      "style": "IPY_MODEL_e62e775a432546d985645146b187c0f1",
      "value": "Downloading data: 100%"
     }
    },
    "b34c90e775fa4f5bb1f8a7848a6b6189": {
     "model_module": "@jupyter-widgets/controls",
     "model_module_version": "1.5.0",
     "model_name": "ProgressStyleModel",
     "state": {
      "_model_module": "@jupyter-widgets/controls",
      "_model_module_version": "1.5.0",
      "_model_name": "ProgressStyleModel",
      "_view_count": null,
      "_view_module": "@jupyter-widgets/base",
      "_view_module_version": "1.2.0",
      "_view_name": "StyleView",
      "bar_color": null,
      "description_width": ""
     }
    },
    "b37988defa9e45a3a42df9eb3455f305": {
     "model_module": "@jupyter-widgets/controls",
     "model_module_version": "1.5.0",
     "model_name": "HTMLModel",
     "state": {
      "_dom_classes": [],
      "_model_module": "@jupyter-widgets/controls",
      "_model_module_version": "1.5.0",
      "_model_name": "HTMLModel",
      "_view_count": null,
      "_view_module": "@jupyter-widgets/controls",
      "_view_module_version": "1.5.0",
      "_view_name": "HTMLView",
      "description": "",
      "description_tooltip": null,
      "layout": "IPY_MODEL_08a5830e2d6445ff87e5add8fa2b9c4b",
      "placeholder": "​",
      "style": "IPY_MODEL_78a947fe0b2a4541be7ff08248bac3ac",
      "value": " 0/872 [00:00&lt;?, ? examples/s]"
     }
    },
    "b3df6e6dfed942938cba586fb7f4722e": {
     "model_module": "@jupyter-widgets/base",
     "model_module_version": "1.2.0",
     "model_name": "LayoutModel",
     "state": {
      "_model_module": "@jupyter-widgets/base",
      "_model_module_version": "1.2.0",
      "_model_name": "LayoutModel",
      "_view_count": null,
      "_view_module": "@jupyter-widgets/base",
      "_view_module_version": "1.2.0",
      "_view_name": "LayoutView",
      "align_content": null,
      "align_items": null,
      "align_self": null,
      "border": null,
      "bottom": null,
      "display": null,
      "flex": null,
      "flex_flow": null,
      "grid_area": null,
      "grid_auto_columns": null,
      "grid_auto_flow": null,
      "grid_auto_rows": null,
      "grid_column": null,
      "grid_gap": null,
      "grid_row": null,
      "grid_template_areas": null,
      "grid_template_columns": null,
      "grid_template_rows": null,
      "height": null,
      "justify_content": null,
      "justify_items": null,
      "left": null,
      "margin": null,
      "max_height": null,
      "max_width": null,
      "min_height": null,
      "min_width": null,
      "object_fit": null,
      "object_position": null,
      "order": null,
      "overflow": null,
      "overflow_x": null,
      "overflow_y": null,
      "padding": null,
      "right": null,
      "top": null,
      "visibility": null,
      "width": null
     }
    },
    "b8aea0901e9a4ab6bfa6ff1805e4b240": {
     "model_module": "@jupyter-widgets/controls",
     "model_module_version": "1.5.0",
     "model_name": "DescriptionStyleModel",
     "state": {
      "_model_module": "@jupyter-widgets/controls",
      "_model_module_version": "1.5.0",
      "_model_name": "DescriptionStyleModel",
      "_view_count": null,
      "_view_module": "@jupyter-widgets/base",
      "_view_module_version": "1.2.0",
      "_view_name": "StyleView",
      "description_width": ""
     }
    },
    "bdca417ca5584a3094437b5ac82cebcd": {
     "model_module": "@jupyter-widgets/base",
     "model_module_version": "1.2.0",
     "model_name": "LayoutModel",
     "state": {
      "_model_module": "@jupyter-widgets/base",
      "_model_module_version": "1.2.0",
      "_model_name": "LayoutModel",
      "_view_count": null,
      "_view_module": "@jupyter-widgets/base",
      "_view_module_version": "1.2.0",
      "_view_name": "LayoutView",
      "align_content": null,
      "align_items": null,
      "align_self": null,
      "border": null,
      "bottom": null,
      "display": null,
      "flex": null,
      "flex_flow": null,
      "grid_area": null,
      "grid_auto_columns": null,
      "grid_auto_flow": null,
      "grid_auto_rows": null,
      "grid_column": null,
      "grid_gap": null,
      "grid_row": null,
      "grid_template_areas": null,
      "grid_template_columns": null,
      "grid_template_rows": null,
      "height": null,
      "justify_content": null,
      "justify_items": null,
      "left": null,
      "margin": null,
      "max_height": null,
      "max_width": null,
      "min_height": null,
      "min_width": null,
      "object_fit": null,
      "object_position": null,
      "order": null,
      "overflow": null,
      "overflow_x": null,
      "overflow_y": null,
      "padding": null,
      "right": null,
      "top": null,
      "visibility": "hidden",
      "width": null
     }
    },
    "bfe85b8af6e54b51954eaa67df77cf90": {
     "model_module": "@jupyter-widgets/base",
     "model_module_version": "1.2.0",
     "model_name": "LayoutModel",
     "state": {
      "_model_module": "@jupyter-widgets/base",
      "_model_module_version": "1.2.0",
      "_model_name": "LayoutModel",
      "_view_count": null,
      "_view_module": "@jupyter-widgets/base",
      "_view_module_version": "1.2.0",
      "_view_name": "LayoutView",
      "align_content": null,
      "align_items": null,
      "align_self": null,
      "border": null,
      "bottom": null,
      "display": null,
      "flex": null,
      "flex_flow": null,
      "grid_area": null,
      "grid_auto_columns": null,
      "grid_auto_flow": null,
      "grid_auto_rows": null,
      "grid_column": null,
      "grid_gap": null,
      "grid_row": null,
      "grid_template_areas": null,
      "grid_template_columns": null,
      "grid_template_rows": null,
      "height": null,
      "justify_content": null,
      "justify_items": null,
      "left": null,
      "margin": null,
      "max_height": null,
      "max_width": null,
      "min_height": null,
      "min_width": null,
      "object_fit": null,
      "object_position": null,
      "order": null,
      "overflow": null,
      "overflow_x": null,
      "overflow_y": null,
      "padding": null,
      "right": null,
      "top": null,
      "visibility": null,
      "width": null
     }
    },
    "c8363f97cc02473386a968e352c4ed4f": {
     "model_module": "@jupyter-widgets/controls",
     "model_module_version": "1.5.0",
     "model_name": "DescriptionStyleModel",
     "state": {
      "_model_module": "@jupyter-widgets/controls",
      "_model_module_version": "1.5.0",
      "_model_name": "DescriptionStyleModel",
      "_view_count": null,
      "_view_module": "@jupyter-widgets/base",
      "_view_module_version": "1.2.0",
      "_view_name": "StyleView",
      "description_width": ""
     }
    },
    "c946c5d89cee4e16bd626076c3887179": {
     "model_module": "@jupyter-widgets/base",
     "model_module_version": "1.2.0",
     "model_name": "LayoutModel",
     "state": {
      "_model_module": "@jupyter-widgets/base",
      "_model_module_version": "1.2.0",
      "_model_name": "LayoutModel",
      "_view_count": null,
      "_view_module": "@jupyter-widgets/base",
      "_view_module_version": "1.2.0",
      "_view_name": "LayoutView",
      "align_content": null,
      "align_items": null,
      "align_self": null,
      "border": null,
      "bottom": null,
      "display": null,
      "flex": null,
      "flex_flow": null,
      "grid_area": null,
      "grid_auto_columns": null,
      "grid_auto_flow": null,
      "grid_auto_rows": null,
      "grid_column": null,
      "grid_gap": null,
      "grid_row": null,
      "grid_template_areas": null,
      "grid_template_columns": null,
      "grid_template_rows": null,
      "height": null,
      "justify_content": null,
      "justify_items": null,
      "left": null,
      "margin": null,
      "max_height": null,
      "max_width": null,
      "min_height": null,
      "min_width": null,
      "object_fit": null,
      "object_position": null,
      "order": null,
      "overflow": null,
      "overflow_x": null,
      "overflow_y": null,
      "padding": null,
      "right": null,
      "top": null,
      "visibility": null,
      "width": null
     }
    },
    "cd67ebccafd84db58f8cb5ec01421676": {
     "model_module": "@jupyter-widgets/controls",
     "model_module_version": "1.5.0",
     "model_name": "HTMLModel",
     "state": {
      "_dom_classes": [],
      "_model_module": "@jupyter-widgets/controls",
      "_model_module_version": "1.5.0",
      "_model_name": "HTMLModel",
      "_view_count": null,
      "_view_module": "@jupyter-widgets/controls",
      "_view_module_version": "1.5.0",
      "_view_name": "HTMLView",
      "description": "",
      "description_tooltip": null,
      "layout": "IPY_MODEL_bfe85b8af6e54b51954eaa67df77cf90",
      "placeholder": "​",
      "style": "IPY_MODEL_8335158d358245f7a1335c80cc8accda",
      "value": " 7.44M/7.44M [00:00&lt;00:00, 69.1MB/s]"
     }
    },
    "d431d07174c848ba8ef1070224b38743": {
     "model_module": "@jupyter-widgets/base",
     "model_module_version": "1.2.0",
     "model_name": "LayoutModel",
     "state": {
      "_model_module": "@jupyter-widgets/base",
      "_model_module_version": "1.2.0",
      "_model_name": "LayoutModel",
      "_view_count": null,
      "_view_module": "@jupyter-widgets/base",
      "_view_module_version": "1.2.0",
      "_view_name": "LayoutView",
      "align_content": null,
      "align_items": null,
      "align_self": null,
      "border": null,
      "bottom": null,
      "display": null,
      "flex": null,
      "flex_flow": null,
      "grid_area": null,
      "grid_auto_columns": null,
      "grid_auto_flow": null,
      "grid_auto_rows": null,
      "grid_column": null,
      "grid_gap": null,
      "grid_row": null,
      "grid_template_areas": null,
      "grid_template_columns": null,
      "grid_template_rows": null,
      "height": null,
      "justify_content": null,
      "justify_items": null,
      "left": null,
      "margin": null,
      "max_height": null,
      "max_width": null,
      "min_height": null,
      "min_width": null,
      "object_fit": null,
      "object_position": null,
      "order": null,
      "overflow": null,
      "overflow_x": null,
      "overflow_y": null,
      "padding": null,
      "right": null,
      "top": null,
      "visibility": null,
      "width": null
     }
    },
    "d4ce099d04514c068767329e5d766929": {
     "model_module": "@jupyter-widgets/base",
     "model_module_version": "1.2.0",
     "model_name": "LayoutModel",
     "state": {
      "_model_module": "@jupyter-widgets/base",
      "_model_module_version": "1.2.0",
      "_model_name": "LayoutModel",
      "_view_count": null,
      "_view_module": "@jupyter-widgets/base",
      "_view_module_version": "1.2.0",
      "_view_name": "LayoutView",
      "align_content": null,
      "align_items": null,
      "align_self": null,
      "border": null,
      "bottom": null,
      "display": null,
      "flex": null,
      "flex_flow": null,
      "grid_area": null,
      "grid_auto_columns": null,
      "grid_auto_flow": null,
      "grid_auto_rows": null,
      "grid_column": null,
      "grid_gap": null,
      "grid_row": null,
      "grid_template_areas": null,
      "grid_template_columns": null,
      "grid_template_rows": null,
      "height": null,
      "justify_content": null,
      "justify_items": null,
      "left": null,
      "margin": null,
      "max_height": null,
      "max_width": null,
      "min_height": null,
      "min_width": null,
      "object_fit": null,
      "object_position": null,
      "order": null,
      "overflow": null,
      "overflow_x": null,
      "overflow_y": null,
      "padding": null,
      "right": null,
      "top": null,
      "visibility": null,
      "width": null
     }
    },
    "d54d3fe606da44348f7363ec37d2c0bc": {
     "model_module": "@jupyter-widgets/controls",
     "model_module_version": "1.5.0",
     "model_name": "DescriptionStyleModel",
     "state": {
      "_model_module": "@jupyter-widgets/controls",
      "_model_module_version": "1.5.0",
      "_model_name": "DescriptionStyleModel",
      "_view_count": null,
      "_view_module": "@jupyter-widgets/base",
      "_view_module_version": "1.2.0",
      "_view_name": "StyleView",
      "description_width": ""
     }
    },
    "d8583886b5dc44598e87a345711f3071": {
     "model_module": "@jupyter-widgets/base",
     "model_module_version": "1.2.0",
     "model_name": "LayoutModel",
     "state": {
      "_model_module": "@jupyter-widgets/base",
      "_model_module_version": "1.2.0",
      "_model_name": "LayoutModel",
      "_view_count": null,
      "_view_module": "@jupyter-widgets/base",
      "_view_module_version": "1.2.0",
      "_view_name": "LayoutView",
      "align_content": null,
      "align_items": null,
      "align_self": null,
      "border": null,
      "bottom": null,
      "display": null,
      "flex": null,
      "flex_flow": null,
      "grid_area": null,
      "grid_auto_columns": null,
      "grid_auto_flow": null,
      "grid_auto_rows": null,
      "grid_column": null,
      "grid_gap": null,
      "grid_row": null,
      "grid_template_areas": null,
      "grid_template_columns": null,
      "grid_template_rows": null,
      "height": null,
      "justify_content": null,
      "justify_items": null,
      "left": null,
      "margin": null,
      "max_height": null,
      "max_width": null,
      "min_height": null,
      "min_width": null,
      "object_fit": null,
      "object_position": null,
      "order": null,
      "overflow": null,
      "overflow_x": null,
      "overflow_y": null,
      "padding": null,
      "right": null,
      "top": null,
      "visibility": null,
      "width": null
     }
    },
    "d8e62aab46504ded82a2d8279c96c282": {
     "model_module": "@jupyter-widgets/base",
     "model_module_version": "1.2.0",
     "model_name": "LayoutModel",
     "state": {
      "_model_module": "@jupyter-widgets/base",
      "_model_module_version": "1.2.0",
      "_model_name": "LayoutModel",
      "_view_count": null,
      "_view_module": "@jupyter-widgets/base",
      "_view_module_version": "1.2.0",
      "_view_name": "LayoutView",
      "align_content": null,
      "align_items": null,
      "align_self": null,
      "border": null,
      "bottom": null,
      "display": null,
      "flex": null,
      "flex_flow": null,
      "grid_area": null,
      "grid_auto_columns": null,
      "grid_auto_flow": null,
      "grid_auto_rows": null,
      "grid_column": null,
      "grid_gap": null,
      "grid_row": null,
      "grid_template_areas": null,
      "grid_template_columns": null,
      "grid_template_rows": null,
      "height": null,
      "justify_content": null,
      "justify_items": null,
      "left": null,
      "margin": null,
      "max_height": null,
      "max_width": null,
      "min_height": null,
      "min_width": null,
      "object_fit": null,
      "object_position": null,
      "order": null,
      "overflow": null,
      "overflow_x": null,
      "overflow_y": null,
      "padding": null,
      "right": null,
      "top": null,
      "visibility": null,
      "width": null
     }
    },
    "db80025ecd274720acea9770af3d6740": {
     "model_module": "@jupyter-widgets/controls",
     "model_module_version": "1.5.0",
     "model_name": "FloatProgressModel",
     "state": {
      "_dom_classes": [],
      "_model_module": "@jupyter-widgets/controls",
      "_model_module_version": "1.5.0",
      "_model_name": "FloatProgressModel",
      "_view_count": null,
      "_view_module": "@jupyter-widgets/controls",
      "_view_module_version": "1.5.0",
      "_view_name": "ProgressView",
      "bar_style": "",
      "description": "",
      "description_tooltip": null,
      "layout": "IPY_MODEL_743f9ec230c54b319d8cccc4e5964938",
      "max": 1821,
      "min": 0,
      "orientation": "horizontal",
      "style": "IPY_MODEL_69ebd508301b4fac8349923a33bf92d7",
      "value": 1821
     }
    },
    "df21b401080b4f2face0f7a53b42f813": {
     "model_module": "@jupyter-widgets/controls",
     "model_module_version": "1.5.0",
     "model_name": "ProgressStyleModel",
     "state": {
      "_model_module": "@jupyter-widgets/controls",
      "_model_module_version": "1.5.0",
      "_model_name": "ProgressStyleModel",
      "_view_count": null,
      "_view_module": "@jupyter-widgets/base",
      "_view_module_version": "1.2.0",
      "_view_name": "StyleView",
      "bar_color": null,
      "description_width": ""
     }
    },
    "df5eabce102343758608a919fce209a5": {
     "model_module": "@jupyter-widgets/base",
     "model_module_version": "1.2.0",
     "model_name": "LayoutModel",
     "state": {
      "_model_module": "@jupyter-widgets/base",
      "_model_module_version": "1.2.0",
      "_model_name": "LayoutModel",
      "_view_count": null,
      "_view_module": "@jupyter-widgets/base",
      "_view_module_version": "1.2.0",
      "_view_name": "LayoutView",
      "align_content": null,
      "align_items": null,
      "align_self": null,
      "border": null,
      "bottom": null,
      "display": null,
      "flex": null,
      "flex_flow": null,
      "grid_area": null,
      "grid_auto_columns": null,
      "grid_auto_flow": null,
      "grid_auto_rows": null,
      "grid_column": null,
      "grid_gap": null,
      "grid_row": null,
      "grid_template_areas": null,
      "grid_template_columns": null,
      "grid_template_rows": null,
      "height": null,
      "justify_content": null,
      "justify_items": null,
      "left": null,
      "margin": null,
      "max_height": null,
      "max_width": null,
      "min_height": null,
      "min_width": null,
      "object_fit": null,
      "object_position": null,
      "order": null,
      "overflow": null,
      "overflow_x": null,
      "overflow_y": null,
      "padding": null,
      "right": null,
      "top": null,
      "visibility": "hidden",
      "width": null
     }
    },
    "e2d9a29c8c1b461895a4585cd105dffb": {
     "model_module": "@jupyter-widgets/controls",
     "model_module_version": "1.5.0",
     "model_name": "HTMLModel",
     "state": {
      "_dom_classes": [],
      "_model_module": "@jupyter-widgets/controls",
      "_model_module_version": "1.5.0",
      "_model_name": "HTMLModel",
      "_view_count": null,
      "_view_module": "@jupyter-widgets/controls",
      "_view_module_version": "1.5.0",
      "_view_name": "HTMLView",
      "description": "",
      "description_tooltip": null,
      "layout": "IPY_MODEL_8c74cbcc177d4528b57d2a349c87b1ff",
      "placeholder": "​",
      "style": "IPY_MODEL_2347e2c9b6a7446490cf2997ab804d2f",
      "value": "100%"
     }
    },
    "e3b403059f5d4698a66599ac49ffa8cc": {
     "model_module": "@jupyter-widgets/base",
     "model_module_version": "1.2.0",
     "model_name": "LayoutModel",
     "state": {
      "_model_module": "@jupyter-widgets/base",
      "_model_module_version": "1.2.0",
      "_model_name": "LayoutModel",
      "_view_count": null,
      "_view_module": "@jupyter-widgets/base",
      "_view_module_version": "1.2.0",
      "_view_name": "LayoutView",
      "align_content": null,
      "align_items": null,
      "align_self": null,
      "border": null,
      "bottom": null,
      "display": null,
      "flex": null,
      "flex_flow": null,
      "grid_area": null,
      "grid_auto_columns": null,
      "grid_auto_flow": null,
      "grid_auto_rows": null,
      "grid_column": null,
      "grid_gap": null,
      "grid_row": null,
      "grid_template_areas": null,
      "grid_template_columns": null,
      "grid_template_rows": null,
      "height": null,
      "justify_content": null,
      "justify_items": null,
      "left": null,
      "margin": null,
      "max_height": null,
      "max_width": null,
      "min_height": null,
      "min_width": null,
      "object_fit": null,
      "object_position": null,
      "order": null,
      "overflow": null,
      "overflow_x": null,
      "overflow_y": null,
      "padding": null,
      "right": null,
      "top": null,
      "visibility": null,
      "width": null
     }
    },
    "e5023c4c6ba744cab046de47d85b7776": {
     "model_module": "@jupyter-widgets/controls",
     "model_module_version": "1.5.0",
     "model_name": "HBoxModel",
     "state": {
      "_dom_classes": [],
      "_model_module": "@jupyter-widgets/controls",
      "_model_module_version": "1.5.0",
      "_model_name": "HBoxModel",
      "_view_count": null,
      "_view_module": "@jupyter-widgets/controls",
      "_view_module_version": "1.5.0",
      "_view_name": "HBoxView",
      "box_style": "",
      "children": [
       "IPY_MODEL_1a838f890e344d5697da449b718768dd",
       "IPY_MODEL_db80025ecd274720acea9770af3d6740",
       "IPY_MODEL_880ad94be3aa4713b99d79fce23245e4"
      ],
      "layout": "IPY_MODEL_1393ffbc23c1455aa8ba96bf7ebb6628"
     }
    },
    "e62e775a432546d985645146b187c0f1": {
     "model_module": "@jupyter-widgets/controls",
     "model_module_version": "1.5.0",
     "model_name": "DescriptionStyleModel",
     "state": {
      "_model_module": "@jupyter-widgets/controls",
      "_model_module_version": "1.5.0",
      "_model_name": "DescriptionStyleModel",
      "_view_count": null,
      "_view_module": "@jupyter-widgets/base",
      "_view_module_version": "1.2.0",
      "_view_name": "StyleView",
      "description_width": ""
     }
    },
    "e9b684dbdcc846deb0e83a0cc589c464": {
     "model_module": "@jupyter-widgets/controls",
     "model_module_version": "1.5.0",
     "model_name": "HTMLModel",
     "state": {
      "_dom_classes": [],
      "_model_module": "@jupyter-widgets/controls",
      "_model_module_version": "1.5.0",
      "_model_name": "HTMLModel",
      "_view_count": null,
      "_view_module": "@jupyter-widgets/controls",
      "_view_module_version": "1.5.0",
      "_view_name": "HTMLView",
      "description": "",
      "description_tooltip": null,
      "layout": "IPY_MODEL_28c4876d397d4ae6a1764e20543593ea",
      "placeholder": "​",
      "style": "IPY_MODEL_8d05ab4ecaf243b69d8687bd95619d49",
      "value": " 5.10k/5.10k [00:00&lt;00:00, 347kB/s]"
     }
    },
    "eb2c6a0bb19e4b0eb423785809314fcd": {
     "model_module": "@jupyter-widgets/base",
     "model_module_version": "1.2.0",
     "model_name": "LayoutModel",
     "state": {
      "_model_module": "@jupyter-widgets/base",
      "_model_module_version": "1.2.0",
      "_model_name": "LayoutModel",
      "_view_count": null,
      "_view_module": "@jupyter-widgets/base",
      "_view_module_version": "1.2.0",
      "_view_name": "LayoutView",
      "align_content": null,
      "align_items": null,
      "align_self": null,
      "border": null,
      "bottom": null,
      "display": null,
      "flex": null,
      "flex_flow": null,
      "grid_area": null,
      "grid_auto_columns": null,
      "grid_auto_flow": null,
      "grid_auto_rows": null,
      "grid_column": null,
      "grid_gap": null,
      "grid_row": null,
      "grid_template_areas": null,
      "grid_template_columns": null,
      "grid_template_rows": null,
      "height": null,
      "justify_content": null,
      "justify_items": null,
      "left": null,
      "margin": null,
      "max_height": null,
      "max_width": null,
      "min_height": null,
      "min_width": null,
      "object_fit": null,
      "object_position": null,
      "order": null,
      "overflow": null,
      "overflow_x": null,
      "overflow_y": null,
      "padding": null,
      "right": null,
      "top": null,
      "visibility": null,
      "width": null
     }
    },
    "eb4007658adf4d40af675fa8c737353d": {
     "model_module": "@jupyter-widgets/base",
     "model_module_version": "1.2.0",
     "model_name": "LayoutModel",
     "state": {
      "_model_module": "@jupyter-widgets/base",
      "_model_module_version": "1.2.0",
      "_model_name": "LayoutModel",
      "_view_count": null,
      "_view_module": "@jupyter-widgets/base",
      "_view_module_version": "1.2.0",
      "_view_name": "LayoutView",
      "align_content": null,
      "align_items": null,
      "align_self": null,
      "border": null,
      "bottom": null,
      "display": null,
      "flex": null,
      "flex_flow": null,
      "grid_area": null,
      "grid_auto_columns": null,
      "grid_auto_flow": null,
      "grid_auto_rows": null,
      "grid_column": null,
      "grid_gap": null,
      "grid_row": null,
      "grid_template_areas": null,
      "grid_template_columns": null,
      "grid_template_rows": null,
      "height": null,
      "justify_content": null,
      "justify_items": null,
      "left": null,
      "margin": null,
      "max_height": null,
      "max_width": null,
      "min_height": null,
      "min_width": null,
      "object_fit": null,
      "object_position": null,
      "order": null,
      "overflow": null,
      "overflow_x": null,
      "overflow_y": null,
      "padding": null,
      "right": null,
      "top": null,
      "visibility": null,
      "width": null
     }
    },
    "ed54dbbac3eb43fb85b8263f9db60b98": {
     "model_module": "@jupyter-widgets/controls",
     "model_module_version": "1.5.0",
     "model_name": "DescriptionStyleModel",
     "state": {
      "_model_module": "@jupyter-widgets/controls",
      "_model_module_version": "1.5.0",
      "_model_name": "DescriptionStyleModel",
      "_view_count": null,
      "_view_module": "@jupyter-widgets/base",
      "_view_module_version": "1.2.0",
      "_view_name": "StyleView",
      "description_width": ""
     }
    },
    "ee966ca2638f42d78eddc42d559940a7": {
     "model_module": "@jupyter-widgets/base",
     "model_module_version": "1.2.0",
     "model_name": "LayoutModel",
     "state": {
      "_model_module": "@jupyter-widgets/base",
      "_model_module_version": "1.2.0",
      "_model_name": "LayoutModel",
      "_view_count": null,
      "_view_module": "@jupyter-widgets/base",
      "_view_module_version": "1.2.0",
      "_view_name": "LayoutView",
      "align_content": null,
      "align_items": null,
      "align_self": null,
      "border": null,
      "bottom": null,
      "display": null,
      "flex": null,
      "flex_flow": null,
      "grid_area": null,
      "grid_auto_columns": null,
      "grid_auto_flow": null,
      "grid_auto_rows": null,
      "grid_column": null,
      "grid_gap": null,
      "grid_row": null,
      "grid_template_areas": null,
      "grid_template_columns": null,
      "grid_template_rows": null,
      "height": null,
      "justify_content": null,
      "justify_items": null,
      "left": null,
      "margin": null,
      "max_height": null,
      "max_width": null,
      "min_height": null,
      "min_width": null,
      "object_fit": null,
      "object_position": null,
      "order": null,
      "overflow": null,
      "overflow_x": null,
      "overflow_y": null,
      "padding": null,
      "right": null,
      "top": null,
      "visibility": null,
      "width": null
     }
    },
    "f18c07bace4747a7ac757b5a7913909c": {
     "model_module": "@jupyter-widgets/base",
     "model_module_version": "1.2.0",
     "model_name": "LayoutModel",
     "state": {
      "_model_module": "@jupyter-widgets/base",
      "_model_module_version": "1.2.0",
      "_model_name": "LayoutModel",
      "_view_count": null,
      "_view_module": "@jupyter-widgets/base",
      "_view_module_version": "1.2.0",
      "_view_name": "LayoutView",
      "align_content": null,
      "align_items": null,
      "align_self": null,
      "border": null,
      "bottom": null,
      "display": null,
      "flex": null,
      "flex_flow": null,
      "grid_area": null,
      "grid_auto_columns": null,
      "grid_auto_flow": null,
      "grid_auto_rows": null,
      "grid_column": null,
      "grid_gap": null,
      "grid_row": null,
      "grid_template_areas": null,
      "grid_template_columns": null,
      "grid_template_rows": null,
      "height": null,
      "justify_content": null,
      "justify_items": null,
      "left": null,
      "margin": null,
      "max_height": null,
      "max_width": null,
      "min_height": null,
      "min_width": null,
      "object_fit": null,
      "object_position": null,
      "order": null,
      "overflow": null,
      "overflow_x": null,
      "overflow_y": null,
      "padding": null,
      "right": null,
      "top": null,
      "visibility": null,
      "width": null
     }
    },
    "f7e0e0eccaab4010832bf507d87ab587": {
     "model_module": "@jupyter-widgets/base",
     "model_module_version": "1.2.0",
     "model_name": "LayoutModel",
     "state": {
      "_model_module": "@jupyter-widgets/base",
      "_model_module_version": "1.2.0",
      "_model_name": "LayoutModel",
      "_view_count": null,
      "_view_module": "@jupyter-widgets/base",
      "_view_module_version": "1.2.0",
      "_view_name": "LayoutView",
      "align_content": null,
      "align_items": null,
      "align_self": null,
      "border": null,
      "bottom": null,
      "display": null,
      "flex": null,
      "flex_flow": null,
      "grid_area": null,
      "grid_auto_columns": null,
      "grid_auto_flow": null,
      "grid_auto_rows": null,
      "grid_column": null,
      "grid_gap": null,
      "grid_row": null,
      "grid_template_areas": null,
      "grid_template_columns": null,
      "grid_template_rows": null,
      "height": null,
      "justify_content": null,
      "justify_items": null,
      "left": null,
      "margin": null,
      "max_height": null,
      "max_width": null,
      "min_height": null,
      "min_width": null,
      "object_fit": null,
      "object_position": null,
      "order": null,
      "overflow": null,
      "overflow_x": null,
      "overflow_y": null,
      "padding": null,
      "right": null,
      "top": null,
      "visibility": null,
      "width": null
     }
    },
    "fa3fc3a33cec42e4a228356d67b734ab": {
     "model_module": "@jupyter-widgets/controls",
     "model_module_version": "1.5.0",
     "model_name": "ProgressStyleModel",
     "state": {
      "_model_module": "@jupyter-widgets/controls",
      "_model_module_version": "1.5.0",
      "_model_name": "ProgressStyleModel",
      "_view_count": null,
      "_view_module": "@jupyter-widgets/base",
      "_view_module_version": "1.2.0",
      "_view_name": "StyleView",
      "bar_color": null,
      "description_width": ""
     }
    },
    "fed43f83c2bd4192bb04a7b81325c1ae": {
     "model_module": "@jupyter-widgets/controls",
     "model_module_version": "1.5.0",
     "model_name": "HTMLModel",
     "state": {
      "_dom_classes": [],
      "_model_module": "@jupyter-widgets/controls",
      "_model_module_version": "1.5.0",
      "_model_name": "HTMLModel",
      "_view_count": null,
      "_view_module": "@jupyter-widgets/controls",
      "_view_module_version": "1.5.0",
      "_view_name": "HTMLView",
      "description": "",
      "description_tooltip": null,
      "layout": "IPY_MODEL_eb2c6a0bb19e4b0eb423785809314fcd",
      "placeholder": "​",
      "style": "IPY_MODEL_17480ec7b5d84aa39d45f31459f02016",
      "value": " 1.85k/1.85k [00:00&lt;00:00, 109kB/s]"
     }
    }
   }
  }
 },
 "nbformat": 4,
 "nbformat_minor": 1
}
