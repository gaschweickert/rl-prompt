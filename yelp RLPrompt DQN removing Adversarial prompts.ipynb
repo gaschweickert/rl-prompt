{
 "cells": [
  {
   "cell_type": "code",
   "execution_count": 1,
   "metadata": {
    "id": "UoDJ-uYIO6b3"
   },
   "outputs": [
    {
     "name": "stdout",
     "output_type": "stream",
     "text": [
      "Requirement already satisfied: transformers in /home/greg/miniconda3/lib/python3.9/site-packages (4.29.2)\n",
      "Requirement already satisfied: packaging>=20.0 in /home/greg/miniconda3/lib/python3.9/site-packages (from transformers) (22.0)\n",
      "Requirement already satisfied: numpy>=1.17 in /home/greg/miniconda3/lib/python3.9/site-packages (from transformers) (1.23.5)\n",
      "Requirement already satisfied: tokenizers!=0.11.3,<0.14,>=0.11.1 in /home/greg/miniconda3/lib/python3.9/site-packages (from transformers) (0.13.3)\n",
      "Requirement already satisfied: tqdm>=4.27 in /home/greg/miniconda3/lib/python3.9/site-packages (from transformers) (4.64.1)\n",
      "Requirement already satisfied: regex!=2019.12.17 in /home/greg/miniconda3/lib/python3.9/site-packages (from transformers) (2023.5.5)\n",
      "Requirement already satisfied: huggingface-hub<1.0,>=0.14.1 in /home/greg/miniconda3/lib/python3.9/site-packages (from transformers) (0.14.1)\n",
      "Requirement already satisfied: pyyaml>=5.1 in /home/greg/miniconda3/lib/python3.9/site-packages (from transformers) (6.0)\n",
      "Requirement already satisfied: requests in /home/greg/miniconda3/lib/python3.9/site-packages (from transformers) (2.28.1)\n",
      "Requirement already satisfied: filelock in /home/greg/miniconda3/lib/python3.9/site-packages (from transformers) (3.12.0)\n",
      "Requirement already satisfied: fsspec in /home/greg/miniconda3/lib/python3.9/site-packages (from huggingface-hub<1.0,>=0.14.1->transformers) (2023.5.0)\n",
      "Requirement already satisfied: typing-extensions>=3.7.4.3 in /home/greg/miniconda3/lib/python3.9/site-packages (from huggingface-hub<1.0,>=0.14.1->transformers) (4.4.0)\n",
      "Requirement already satisfied: charset-normalizer<3,>=2 in /home/greg/miniconda3/lib/python3.9/site-packages (from requests->transformers) (2.0.4)\n",
      "Requirement already satisfied: idna<4,>=2.5 in /home/greg/miniconda3/lib/python3.9/site-packages (from requests->transformers) (3.4)\n",
      "Requirement already satisfied: urllib3<1.27,>=1.21.1 in /home/greg/miniconda3/lib/python3.9/site-packages (from requests->transformers) (1.26.14)\n",
      "Requirement already satisfied: certifi>=2017.4.17 in /home/greg/miniconda3/lib/python3.9/site-packages (from requests->transformers) (2022.12.7)\n",
      "Requirement already satisfied: datasets in /home/greg/miniconda3/lib/python3.9/site-packages (2.12.0)\n",
      "Requirement already satisfied: xxhash in /home/greg/miniconda3/lib/python3.9/site-packages (from datasets) (3.2.0)\n",
      "Requirement already satisfied: dill<0.3.7,>=0.3.0 in /home/greg/miniconda3/lib/python3.9/site-packages (from datasets) (0.3.6)\n",
      "Requirement already satisfied: responses<0.19 in /home/greg/miniconda3/lib/python3.9/site-packages (from datasets) (0.18.0)\n",
      "Requirement already satisfied: multiprocess in /home/greg/miniconda3/lib/python3.9/site-packages (from datasets) (0.70.14)\n",
      "Requirement already satisfied: packaging in /home/greg/miniconda3/lib/python3.9/site-packages (from datasets) (22.0)\n",
      "Requirement already satisfied: numpy>=1.17 in /home/greg/miniconda3/lib/python3.9/site-packages (from datasets) (1.23.5)\n",
      "Requirement already satisfied: tqdm>=4.62.1 in /home/greg/miniconda3/lib/python3.9/site-packages (from datasets) (4.64.1)\n",
      "Requirement already satisfied: pyyaml>=5.1 in /home/greg/miniconda3/lib/python3.9/site-packages (from datasets) (6.0)\n",
      "Requirement already satisfied: fsspec[http]>=2021.11.1 in /home/greg/miniconda3/lib/python3.9/site-packages (from datasets) (2023.5.0)\n",
      "Requirement already satisfied: huggingface-hub<1.0.0,>=0.11.0 in /home/greg/miniconda3/lib/python3.9/site-packages (from datasets) (0.14.1)\n",
      "Requirement already satisfied: requests>=2.19.0 in /home/greg/miniconda3/lib/python3.9/site-packages (from datasets) (2.28.1)\n",
      "Requirement already satisfied: pandas in /home/greg/miniconda3/lib/python3.9/site-packages (from datasets) (1.5.2)\n",
      "Requirement already satisfied: aiohttp in /home/greg/miniconda3/lib/python3.9/site-packages (from datasets) (3.8.4)\n",
      "Requirement already satisfied: pyarrow>=8.0.0 in /home/greg/miniconda3/lib/python3.9/site-packages (from datasets) (12.0.0)\n",
      "Requirement already satisfied: frozenlist>=1.1.1 in /home/greg/miniconda3/lib/python3.9/site-packages (from aiohttp->datasets) (1.3.3)\n",
      "Requirement already satisfied: multidict<7.0,>=4.5 in /home/greg/miniconda3/lib/python3.9/site-packages (from aiohttp->datasets) (6.0.4)\n",
      "Requirement already satisfied: attrs>=17.3.0 in /home/greg/miniconda3/lib/python3.9/site-packages (from aiohttp->datasets) (22.1.0)\n",
      "Requirement already satisfied: charset-normalizer<4.0,>=2.0 in /home/greg/miniconda3/lib/python3.9/site-packages (from aiohttp->datasets) (2.0.4)\n",
      "Requirement already satisfied: aiosignal>=1.1.2 in /home/greg/miniconda3/lib/python3.9/site-packages (from aiohttp->datasets) (1.3.1)\n",
      "Requirement already satisfied: yarl<2.0,>=1.0 in /home/greg/miniconda3/lib/python3.9/site-packages (from aiohttp->datasets) (1.8.2)\n",
      "Requirement already satisfied: async-timeout<5.0,>=4.0.0a3 in /home/greg/miniconda3/lib/python3.9/site-packages (from aiohttp->datasets) (4.0.2)\n",
      "Requirement already satisfied: typing-extensions>=3.7.4.3 in /home/greg/miniconda3/lib/python3.9/site-packages (from huggingface-hub<1.0.0,>=0.11.0->datasets) (4.4.0)\n",
      "Requirement already satisfied: filelock in /home/greg/miniconda3/lib/python3.9/site-packages (from huggingface-hub<1.0.0,>=0.11.0->datasets) (3.12.0)\n",
      "Requirement already satisfied: idna<4,>=2.5 in /home/greg/miniconda3/lib/python3.9/site-packages (from requests>=2.19.0->datasets) (3.4)\n",
      "Requirement already satisfied: certifi>=2017.4.17 in /home/greg/miniconda3/lib/python3.9/site-packages (from requests>=2.19.0->datasets) (2022.12.7)\n",
      "Requirement already satisfied: urllib3<1.27,>=1.21.1 in /home/greg/miniconda3/lib/python3.9/site-packages (from requests>=2.19.0->datasets) (1.26.14)\n",
      "Requirement already satisfied: python-dateutil>=2.8.1 in /home/greg/miniconda3/lib/python3.9/site-packages (from pandas->datasets) (2.8.2)\n",
      "Requirement already satisfied: pytz>=2020.1 in /home/greg/miniconda3/lib/python3.9/site-packages (from pandas->datasets) (2022.7)\n",
      "Requirement already satisfied: six>=1.5 in /home/greg/miniconda3/lib/python3.9/site-packages (from python-dateutil>=2.8.1->pandas->datasets) (1.16.0)\n"
     ]
    }
   ],
   "source": [
    "!pip install transformers\n",
    "!pip install datasets\n",
    "# !pip install wandb\n"
   ]
  },
  {
   "cell_type": "code",
   "execution_count": 11,
   "metadata": {
    "id": "qgGFgFLYnMKK"
   },
   "outputs": [
    {
     "name": "stdout",
     "output_type": "stream",
     "text": [
      "Requirement already satisfied: xformers in /home/greg/miniconda3/lib/python3.9/site-packages (0.0.19)\n",
      "Requirement already satisfied: torch==2.0.0 in /home/greg/miniconda3/lib/python3.9/site-packages (from xformers) (2.0.0)\n",
      "Requirement already satisfied: pyre-extensions==0.0.29 in /home/greg/miniconda3/lib/python3.9/site-packages (from xformers) (0.0.29)\n",
      "Requirement already satisfied: numpy in /home/greg/miniconda3/lib/python3.9/site-packages (from xformers) (1.23.5)\n",
      "Requirement already satisfied: typing-inspect in /home/greg/miniconda3/lib/python3.9/site-packages (from pyre-extensions==0.0.29->xformers) (0.8.0)\n",
      "Requirement already satisfied: typing-extensions in /home/greg/miniconda3/lib/python3.9/site-packages (from pyre-extensions==0.0.29->xformers) (4.4.0)\n",
      "Requirement already satisfied: filelock in /home/greg/miniconda3/lib/python3.9/site-packages (from torch==2.0.0->xformers) (3.12.0)\n",
      "Requirement already satisfied: networkx in /home/greg/miniconda3/lib/python3.9/site-packages (from torch==2.0.0->xformers) (3.1)\n",
      "Requirement already satisfied: nvidia-cusparse-cu11==11.7.4.91 in /home/greg/miniconda3/lib/python3.9/site-packages (from torch==2.0.0->xformers) (11.7.4.91)\n",
      "Requirement already satisfied: triton==2.0.0 in /home/greg/miniconda3/lib/python3.9/site-packages (from torch==2.0.0->xformers) (2.0.0)\n",
      "Requirement already satisfied: nvidia-cudnn-cu11==8.5.0.96 in /home/greg/miniconda3/lib/python3.9/site-packages (from torch==2.0.0->xformers) (8.5.0.96)\n",
      "Requirement already satisfied: nvidia-cuda-cupti-cu11==11.7.101 in /home/greg/miniconda3/lib/python3.9/site-packages (from torch==2.0.0->xformers) (11.7.101)\n",
      "Requirement already satisfied: nvidia-cusolver-cu11==11.4.0.1 in /home/greg/miniconda3/lib/python3.9/site-packages (from torch==2.0.0->xformers) (11.4.0.1)\n",
      "Requirement already satisfied: nvidia-cuda-runtime-cu11==11.7.99 in /home/greg/miniconda3/lib/python3.9/site-packages (from torch==2.0.0->xformers) (11.7.99)\n",
      "Requirement already satisfied: nvidia-nvtx-cu11==11.7.91 in /home/greg/miniconda3/lib/python3.9/site-packages (from torch==2.0.0->xformers) (11.7.91)\n",
      "Requirement already satisfied: jinja2 in /home/greg/miniconda3/lib/python3.9/site-packages (from torch==2.0.0->xformers) (3.1.2)\n",
      "Requirement already satisfied: sympy in /home/greg/miniconda3/lib/python3.9/site-packages (from torch==2.0.0->xformers) (1.12)\n",
      "Requirement already satisfied: nvidia-cufft-cu11==10.9.0.58 in /home/greg/miniconda3/lib/python3.9/site-packages (from torch==2.0.0->xformers) (10.9.0.58)\n",
      "Requirement already satisfied: nvidia-nccl-cu11==2.14.3 in /home/greg/miniconda3/lib/python3.9/site-packages (from torch==2.0.0->xformers) (2.14.3)\n",
      "Requirement already satisfied: nvidia-cublas-cu11==11.10.3.66 in /home/greg/miniconda3/lib/python3.9/site-packages (from torch==2.0.0->xformers) (11.10.3.66)\n",
      "Requirement already satisfied: nvidia-curand-cu11==10.2.10.91 in /home/greg/miniconda3/lib/python3.9/site-packages (from torch==2.0.0->xformers) (10.2.10.91)\n",
      "Requirement already satisfied: nvidia-cuda-nvrtc-cu11==11.7.99 in /home/greg/miniconda3/lib/python3.9/site-packages (from torch==2.0.0->xformers) (11.7.99)\n",
      "Requirement already satisfied: wheel in /home/greg/miniconda3/lib/python3.9/site-packages (from nvidia-cublas-cu11==11.10.3.66->torch==2.0.0->xformers) (0.37.1)\n",
      "Requirement already satisfied: setuptools in /home/greg/miniconda3/lib/python3.9/site-packages (from nvidia-cublas-cu11==11.10.3.66->torch==2.0.0->xformers) (65.6.3)\n",
      "Requirement already satisfied: cmake in /home/greg/miniconda3/lib/python3.9/site-packages (from triton==2.0.0->torch==2.0.0->xformers) (3.26.3)\n",
      "Requirement already satisfied: lit in /home/greg/miniconda3/lib/python3.9/site-packages (from triton==2.0.0->torch==2.0.0->xformers) (16.0.5)\n",
      "Requirement already satisfied: MarkupSafe>=2.0 in /home/greg/miniconda3/lib/python3.9/site-packages (from jinja2->torch==2.0.0->xformers) (2.1.1)\n",
      "Requirement already satisfied: mpmath>=0.19 in /home/greg/miniconda3/lib/python3.9/site-packages (from sympy->torch==2.0.0->xformers) (1.3.0)\n",
      "Requirement already satisfied: mypy-extensions>=0.3.0 in /home/greg/miniconda3/lib/python3.9/site-packages (from typing-inspect->pyre-extensions==0.0.29->xformers) (1.0.0)\n"
     ]
    }
   ],
   "source": [
    "!pip install xformers"
   ]
  },
  {
   "attachments": {},
   "cell_type": "markdown",
   "metadata": {
    "id": "tysT1FOkaVv8"
   },
   "source": []
  },
  {
   "cell_type": "code",
   "execution_count": 3,
   "metadata": {},
   "outputs": [
    {
     "name": "stdout",
     "output_type": "stream",
     "text": [
      "True\n"
     ]
    }
   ],
   "source": [
    "import torch\n",
    "print(torch.cuda.is_available())"
   ]
  },
  {
   "cell_type": "code",
   "execution_count": 17,
   "metadata": {
    "id": "uKZOIafaaV81"
   },
   "outputs": [],
   "source": [
    "import torch.nn as nn\n",
    "import torch\n",
    "from transformers import pipeline, set_seed\n",
    "from transformers import GPT2Tokenizer\n",
    "\n",
    "\n",
    "class MLP(nn.Module):\n",
    "    ## multi layer perceptron thats inserted into distilgpt2\n",
    "    ## function is simple, its 2 linear layers that take the output of the transformer in distilgpt2 and it learns to steer the text into making better prompts\n",
    "    ## however, we only want to update parameters for the 2 linear layers, not the rest, hence the requires grad being set to false\n",
    "    ## output of the lm_head in this case is our Q value\n",
    "    ## lm_head outputs 50k size tensors, and it's argmax is the token that it represents (aka which word to pick out of the 50k vocab size)\n",
    "    ## according to the paper, this 50k size tensor also represents Q value since it decides which word to pick for our prompt\n",
    "    ## our 2 linear layers get fed in states aka the previous prompts that we've generated\n",
    "    ## they learn the appropriate Q value that the lm_head should output for the action of picking a word based on current reward and discounted max future reward (aka the target)\n",
    "    def __init__(self):\n",
    "        super().__init__()\n",
    "        self.lm_pipeline = pipeline('text-generation', model='distilgpt2')\n",
    "        self.policy = nn.Sequential(\n",
    "            nn.Linear(768, 2048),\n",
    "            nn.ReLU(),\n",
    "            nn.Linear(2048, 2048),\n",
    "            nn.ReLU(),\n",
    "            nn.Linear(2048, 768),\n",
    "#             nn.ReLU(),\n",
    "        )\n",
    "        def _init_weights(m):\n",
    "            if isinstance(m, nn.Linear):\n",
    "                nn.init.xavier_uniform_(m.weight, gain=0.0001)\n",
    "                m.bias.data.fill_(-0.0001)\n",
    "        self.policy.apply(_init_weights)\n",
    "        self.lm_pipeline.model.lm_head.requires_grad_(False)\n",
    "        self.lm_pipeline.model.transformer.requires_grad_(False)\n",
    "        self.lm_pipeline.model.lm_head = self.lm_pipeline.model.lm_head.to(device)\n",
    "        self.lm_pipeline.model.transformer = self.lm_pipeline.model.transformer.to(device)\n",
    "        self.tokenizer = GPT2Tokenizer.from_pretrained('distilgpt2', truncation_side = 'left')\n",
    "        self.tokenizer.pad_token = self.tokenizer.eos_token\n",
    "        self.lm_pipeline.model.train()\n",
    "    def forward(self, x):\n",
    "        # assert(x.shape[1] == 768)\n",
    "        # print(x.shape)\n",
    "        x = self.policy(x)\n",
    "        return self.lm_pipeline.model.lm_head(x)\n",
    "    def truncate(self, x):\n",
    "        arr1 = []\n",
    "        arr2 = []\n",
    "        for i in x:\n",
    "            token = self.tokenizer([i], return_tensors = 'pt')\n",
    "            inp = token['input_ids'][0,-3:]\n",
    "            masks = token['attention_mask'][0,-3:]\n",
    "            arr1.append(inp)\n",
    "            arr2.append(masks)\n",
    "        return {'input_ids':torch.cat(arr1).reshape(len(x),-1), 'attention_mask': torch.cat(arr2).reshape(len(x),-1)}\n",
    "            \n",
    "    def get_lm_output(self, x):\n",
    "        with torch.no_grad():\n",
    "          input = self.truncate(x)\n",
    "          for key, value in zip(input.keys(), input.values()):\n",
    "            input[key] = value.to(device)\n",
    "          return self.lm_pipeline.model.transformer(**input, use_cache=True).last_hidden_state\n",
    "    def get_prompt(self, x):\n",
    "        # print(x.shape)\n",
    "        return  (self.lm_pipeline.tokenizer.convert_ids_to_tokens(x.softmax(-1).argmax(-1).reshape(1))[0]).replace('Ġ','')\n",
    "    def get_prompt_greedy(self, x, epsilon):\n",
    "        # print(x.shape)\n",
    "        if torch.rand(1) < epsilon:\n",
    "            return  self.lm_pipeline.tokenizer.decode(torch.randint(0, x.shape[-1], (1,)))\n",
    "        return  self.lm_pipeline.tokenizer.decode(x.softmax(-1).argmax(-1).reshape(1))\n",
    "    def get_prompt_softmax_greedy(self, x):\n",
    "        # print(x.shape)\n",
    "        return  self.lm_pipeline.tokenizer.decode()\n",
    "    "
   ]
  },
  {
   "cell_type": "code",
   "execution_count": 18,
   "metadata": {
    "id": "NpGsnCcUaX2a"
   },
   "outputs": [],
   "source": [
    "from transformers import pipeline\n",
    "\n",
    "import torch\n",
    "device = \"cpu\"\n",
    "\n",
    "class MLM():\n",
    "  ### Our masked LM model\n",
    "  ### no learning involved here, just try to get the reward for having it fill it with good vs bad\n",
    "  def __init__(self):\n",
    "   self.unmasker = pipeline('fill-mask', model='distilroberta-base')\n",
    "\n",
    "  def get_masked_word_class(self, input, prompt):\n",
    "    return self.unmasker(f'{input} {prompt} <mask>', targets = ['good', 'bad'])\n",
    "\n",
    "\n"
   ]
  },
  {
   "cell_type": "code",
   "execution_count": 31,
   "metadata": {
    "id": "p8XtdIkSadww"
   },
   "outputs": [],
   "source": [
    "\n",
    "import torch\n",
    "from tqdm import tqdm\n",
    "# import wandb\n",
    "### we have states which represents words that we feed into the distilgpt to get better words/prompts\n",
    "### prompt at time t is a result of picking the action from the mlp that results in the highest reward\n",
    "### can be written as argmax(reward(MLP(states)), arg = prompt)\n",
    "### our loss/regression target is essentially reward+discount*max(Q(s_t+1, a'_t+1) for all a')\n",
    "### this technically isn't the softqlearner, and is generally unstable and produces sparse rewards and takes an extremely long time to train\n",
    "class QLearner():\n",
    "\n",
    "    def __init__(self):\n",
    "        self.mlm = MLM()\n",
    "        self.mlp = MLP().to(device)\n",
    "        self.target = MLP().to(device)\n",
    "#         self.target.load_state_dict(self.mlp.state_dict())\n",
    "        # torch.manual_seed(95)\n",
    "\n",
    "        self.last_state = 'this'\n",
    "        self.prompt_reward = [0]\n",
    "        self.max_reward = 0\n",
    "        self.optimizer = torch.optim.AdamW(self.mlp.parameters(), lr=1e-4)\n",
    "        self.accuracy = []\n",
    "        self.val_acc = []\n",
    "        self.loss_ = []\n",
    "        self.epsilon = .9\n",
    "    def randomize(self, Q, epsilon): \n",
    "#         print(\"max, min \", Q.max(), Q.min())\n",
    "        r = torch.rand(1)\n",
    "#         print('before')\n",
    "#         print(Q.argmax(-1))\n",
    "        if r < epsilon:\n",
    "            index = torch.randint(0, Q.shape[-1], (1,))\n",
    "            \n",
    "            m = Q.max().item()\n",
    "            m = 1 if m == 0 else m\n",
    "            detached = Q.detach()\n",
    "#             print('index and max prob',index,m)\n",
    "            detached[:] = 0\n",
    "            detached[index] = m\n",
    "#             print('prob:',r)\n",
    "#         print('after')\n",
    "#         print(Q.argmax(-1))\n",
    "        return Q\n",
    "    # gets the actions for every state, and their Q values. actions in this case are the prompts\n",
    "    def get_actions_Q (self, last_state):\n",
    "        actions = []\n",
    "        Q = []\n",
    "        for i in range(5):\n",
    "          lm_output = self.mlp.get_lm_output([last_state]).to(device) \n",
    "          Q_ = self.mlp(lm_output)\n",
    "          Q.append(Q_)\n",
    "          last_state = self.mlp.get_prompt(Q_)\n",
    "          actions.append(last_state)\n",
    "        if type(actions) == str:\n",
    "          actions = [actions]\n",
    "        return actions, torch.cat(Q), last_state\n",
    "\n",
    "    def get_actions_Q_target (self, last_state):\n",
    "        actions = []\n",
    "        Q = []\n",
    "        for i in range(5):\n",
    "          lm_output = self.target.get_lm_output([last_state]).to(device) \n",
    "          Q_ = self.target(lm_output)\n",
    "          Q.append(Q_)\n",
    "          last_state = self.target.get_prompt(Q_)\n",
    "          actions.append(last_state)\n",
    "        if type(actions) == str:\n",
    "          actions = [actions]\n",
    "        return actions, torch.cat(Q), last_state\n",
    "\n",
    "\n",
    "    def get_actions_Q_input_specific (self, batch_input):\n",
    "        actions = []\n",
    "#         print(len(batch_input))\n",
    "        lm_output = self.mlp.get_lm_output(batch_input).to(device) \n",
    "        Q_ = self.mlp(lm_output)\n",
    "    \n",
    "#         print(Q_.shape)\n",
    "        Q_ = Q_[:,-1].reshape(Q_.shape[0], Q_.shape[-1]) #(16, 50k)\n",
    "        for i in range(Q_.shape[0]):\n",
    "          actions.append([self.mlp.get_prompt(Q_[i])])\n",
    "        \n",
    "        Q = [[self.randomize(Q_[i], self.epsilon).reshape(1, Q_.shape[-1])] for i in range(Q_.shape[0])]\n",
    "\n",
    "\n",
    "\n",
    "        for i in range(1):\n",
    "          lm_output = self.mlp.get_lm_output([ batch_input[j]+\"\".join(actions[j]) for j in range(len(actions))]).to(device) \n",
    "          Q_ = self.mlp(lm_output)\n",
    "        \n",
    "          Q_ = Q_[:,-1].reshape(Q_.shape[0], Q_.shape[-1])\n",
    "          for j in range(Q_.shape[0]):\n",
    "            Q[j].append(self.randomize(Q_[j], self.epsilon).reshape(1, Q_.shape[-1]))\n",
    "          \n",
    "          for j in range(Q_.shape[0]):\n",
    "            actions[j].append(self.mlp.get_prompt(Q_[j]))\n",
    "        if type(actions) == str:\n",
    "          actions = [actions]\n",
    "        # print(Q)\n",
    "        # print(actions)\n",
    "        Q = [torch.cat(Q__).reshape(1,2,-1) for Q__ in Q]\n",
    "        # print(torch.cat(Q).shape)\n",
    "        return actions, torch.cat(Q)\n",
    "\n",
    "    def get_actions_Q_input_specific_target (self, batch_input):\n",
    "        actions = []\n",
    "\n",
    "        lm_output = self.target.get_lm_output(batch_input).to(device) \n",
    "        Q_ = self.target(lm_output)\n",
    "        Q_ = Q_[:,-1].reshape(Q_.shape[0], Q_.shape[-1])\n",
    "        for i in range(Q_.shape[0]):\n",
    "          actions.append([self.mlp.get_prompt(Q_[i])])\n",
    "        Q = [[Q_[i].reshape(1, Q_.shape[-1])] for i in range(Q_.shape[0])]\n",
    "\n",
    "\n",
    "\n",
    "        for i in range(1):\n",
    "          lm_output = self.mlp.get_lm_output([batch_input[j]+\"\".join(actions[j]) for j in range(len(actions))]).to(device) \n",
    "          Q_ = self.target(lm_output)\n",
    "          Q_ = Q_[:,-1].reshape(Q_.shape[0], Q_.shape[-1])\n",
    "          for j in range(Q_.shape[0]):\n",
    "            Q[j].append(Q_[j].reshape(1, Q_.shape[-1]))\n",
    "          \n",
    "          for j in range(Q_.shape[0]):\n",
    "            actions[j].append(self.mlp.get_prompt(Q_[j]))\n",
    "        if type(actions) == str:\n",
    "          actions = [actions]\n",
    "\n",
    "        Q = [torch.cat(Q__).reshape(1,2,-1) for Q__ in Q]\n",
    "        # for i in Q:\n",
    "        #   for j in i:\n",
    "        #     print(j.shape)\n",
    "        # print(torch.cat(Q).shape)\n",
    "        return actions, torch.cat(Q)\n",
    "\n",
    "    # to be updated but currently the reward is set to how many correct classifications can this model make\n",
    "    def get_reward(self, train_x, train_y, prompt):\n",
    "        reward = 0\n",
    "        count = 0\n",
    "        \n",
    "        for sentence, cls in zip(train_x, train_y):\n",
    "                word_cls = self.mlm.get_masked_word_class(sentence, prompt)\n",
    "#                 if (word_cls[0]['token_str'] == 'good' and cls == 1) or (word_cls[0]['token_str'] == 'bad' and cls == 0):\n",
    "#                     reward = \n",
    "#                 else:\n",
    "#                     incorrect +=1\n",
    "                if (word_cls[0]['token_str'] == 'good' and cls == 1) or (word_cls[0]['token_str'] == 'bad' and cls == 0):\n",
    "                    reward += (word_cls[0]['score']- word_cls[1]['score'])\n",
    "                else:\n",
    "                    reward += (word_cls[1]['score']- word_cls[0]['score'])\n",
    "                count +=1\n",
    "        return reward/count\n",
    "    def get_accuracy(self, train_x, train_y, prompt):\n",
    "        count = 0\n",
    "        accurate = 0\n",
    "        for sentence, cls in zip(train_x, train_y):\n",
    "                word_cls = self.mlm.get_masked_word_class(sentence, prompt)\n",
    "                if (word_cls[0]['token_str'] == 'good' and cls == 1) or (word_cls[0]['token_str'] == 'bad' and cls == 0):\n",
    "                    reward = word_cls[0]['score']- word_cls[1]['score']\n",
    "                else:\n",
    "                    reward = word_cls[1]['score']- word_cls[0]['score']\n",
    "                count +=1\n",
    "                accurate = accurate + 1 if reward >0 else accurate\n",
    "        return accurate/count\n",
    "  \n",
    "    def loss(self, train_x, train_y):\n",
    "\n",
    "        actions, Q = self.get_actions_Q_input_specific(train_x)\n",
    "#         print(Q.shape)\n",
    "        reward = torch.tensor([self.get_reward(train_x, train_y, ' '.join(action)) for action in actions]).to(device)\n",
    "        accuracy = torch.tensor([self.get_accuracy(train_x, train_y, ' '.join(action)) for action in actions])\n",
    "#         reward = high_reward*2-1\n",
    "#         reward = high_reward\n",
    "        if reward.std() > 1e-3:\n",
    "            reward = (reward-reward.mean())/reward.std()\n",
    "        reward = (200**(reward>0))*(100**(reward<=0))*reward\n",
    "        with torch.no_grad():\n",
    "          actions_, Q_, = self.get_actions_Q_input_specific_target(train_x)\n",
    "        return torch.nn.functional.mse_loss(\\\n",
    "            Q, \\\n",
    "            reward.reshape(-1,1,1)+\\\n",
    "            0.99*Q_.detach()), accuracy, [' '.join(action) for action in actions]\n",
    "    \n",
    "    def get_accuracy_(self, val_x, val_y, prompts):\n",
    "#         print(prompts)\n",
    "        return torch.tensor([self.get_accuracy(val_x, val_y, prompt) for prompt in prompts]).mean()\n",
    "\n",
    "\n",
    "    def train(self, train_x, train_y, val_x, val_y, epochs):\n",
    "        \n",
    "        for i in tqdm(range(epochs)):\n",
    "            self.optimizer.zero_grad()\n",
    "            loss, reward, prompts = self.loss(train_x, train_y)\n",
    "            loss.backward()\n",
    "            self.optimizer.step()\n",
    "#             train_accuracy = self.get_accuracy_(train_x, train_y, prompts)\n",
    "#             val_accuracy = self.get_accuracy_(val_x, val_y, prompts)\n",
    "            self.accuracy.append(reward.mean())\n",
    "            self.loss_.append(loss.item())\n",
    "            \n",
    "            if i %30 == 0:\n",
    "                self.epsilon = self.epsilon*.9\n",
    "            \n",
    "            if i %10==0:\n",
    "              target_weights = self.target.state_dict()\n",
    "              for key in target_weights:\n",
    "                target_weights[key] = self.mlp.state_dict()[key] \n",
    "              self.target.load_state_dict(target_weights)\n",
    "              \n",
    "              val_accuracy = self.get_accuracy_(val_x, val_y, prompts)\n",
    "              self.val_acc.append(val_accuracy)\n",
    "              print(f'loss:{loss.item()}, train_acc: {reward.mean()}, val_acc: {val_accuracy}')\n",
    "              print(f'prompts: {prompts}')\n",
    "#               wandb.log({\"train_acc\": reward.mean(), \"val_accuracy\": val_accuracy, 'prompts':prompts })\n",
    "            "
   ]
  },
  {
   "cell_type": "code",
   "execution_count": 32,
   "metadata": {
    "id": "Q1_nsjuPanWA"
   },
   "outputs": [],
   "source": [
    "\n",
    "ql = QLearner()"
   ]
  },
  {
   "cell_type": "code",
   "execution_count": 33,
   "metadata": {
    "colab": {
     "base_uri": "https://localhost:8080/",
     "height": 213,
     "referenced_widgets": [
      "90a11f34484a409b8bc3b6884f93e45d",
      "96066ad54cdf4dff8ad38fedbdbb3f27",
      "1f7b2952b64946b2a6dcb2d7acd73b27",
      "475a603cf2384121a9ee4f92edbf1e2b",
      "8bab4b6d225944648c0bb64efb6e30ba",
      "d431d07174c848ba8ef1070224b38743",
      "15946eeef51146b4b079986d3107aa14",
      "f18c07bace4747a7ac757b5a7913909c",
      "fa3fc3a33cec42e4a228356d67b734ab",
      "32cbd8b104214f8dadac51584844004b",
      "ed54dbbac3eb43fb85b8263f9db60b98",
      "514e78b83cd646fca27ac3d1123cde32",
      "3f181012fe7d41feaef629904e894173",
      "07c038651bcf4ed98ac7a41f01d09e04",
      "fed43f83c2bd4192bb04a7b81325c1ae",
      "ee966ca2638f42d78eddc42d559940a7",
      "8bc1cfae41b0400b801d3f0a2ec45c22",
      "4db7b862b0f34750b58f64f76c93c11d",
      "b3df6e6dfed942938cba586fb7f4722e",
      "df21b401080b4f2face0f7a53b42f813",
      "eb2c6a0bb19e4b0eb423785809314fcd",
      "17480ec7b5d84aa39d45f31459f02016",
      "7029981fe2db4a89a6af308a0e97eb16",
      "2392ed2205fa4c4788c59d9aa9bbd019",
      "5d148cd52f394fb6bb19339dfa2c0045",
      "e9b684dbdcc846deb0e83a0cc589c464",
      "9b3c10e05ff84c8d88d87598e0df8b47",
      "427c0871f5d34c118a4b1847bc58cf23",
      "0906331cec0c42d08e34101e32b1d10c",
      "33641ae3b703412f9ebd2fdb48b62e23",
      "ad34029e01e745ecb49784d43538e6b0",
      "28c4876d397d4ae6a1764e20543593ea",
      "8d05ab4ecaf243b69d8687bd95619d49",
      "51ec4efe428940919982a27f99c5f87d",
      "b3346812528044a3be34cae46951d1bc",
      "2afeec923bd3482db0a7c3431e88c7c7",
      "cd67ebccafd84db58f8cb5ec01421676",
      "7fbbf464abd14cff9587ff2dc239b3c6",
      "c946c5d89cee4e16bd626076c3887179",
      "e62e775a432546d985645146b187c0f1",
      "d8e62aab46504ded82a2d8279c96c282",
      "0b6a9f502ae74b18a25f702ded662682",
      "bfe85b8af6e54b51954eaa67df77cf90",
      "8335158d358245f7a1335c80cc8accda",
      "544ddb6d46964965999ac114ee30588e",
      "004d5bafdef04319b7db98d3dbf1fbd4",
      "4d89197fd71441b78d49f1e724dab72f",
      "2a6b6135342f4f69ae8b3328b4b878b7",
      "df5eabce102343758608a919fce209a5",
      "f7e0e0eccaab4010832bf507d87ab587",
      "b8aea0901e9a4ab6bfa6ff1805e4b240",
      "eb4007658adf4d40af675fa8c737353d",
      "6ee3af8e947d47cfa4ccd3773696d259",
      "7818019a0dfe4d9892df5ba27dc3a9a7",
      "c8363f97cc02473386a968e352c4ed4f",
      "9a4c4b725a3e43c0a74360b4d437a25f",
      "07003fc1a7ea47d1b54aca1a310f81fe",
      "6a68d3ff523d4a4d847e9346f755d20f",
      "b37988defa9e45a3a42df9eb3455f305",
      "bdca417ca5584a3094437b5ac82cebcd",
      "d4ce099d04514c068767329e5d766929",
      "3a50429fd183465294697b8c57cfec04",
      "e3b403059f5d4698a66599ac49ffa8cc",
      "b34c90e775fa4f5bb1f8a7848a6b6189",
      "08a5830e2d6445ff87e5add8fa2b9c4b",
      "78a947fe0b2a4541be7ff08248bac3ac",
      "e5023c4c6ba744cab046de47d85b7776",
      "1a838f890e344d5697da449b718768dd",
      "db80025ecd274720acea9770af3d6740",
      "880ad94be3aa4713b99d79fce23245e4",
      "1393ffbc23c1455aa8ba96bf7ebb6628",
      "6c8bbbb3b592472fb09fbeefe11f54b7",
      "d54d3fe606da44348f7363ec37d2c0bc",
      "743f9ec230c54b319d8cccc4e5964938",
      "69ebd508301b4fac8349923a33bf92d7",
      "24be459b901441f9b826001f8e97995b",
      "2df0c555b4a34f219ad6db88305b8085",
      "8520ecfd26d74daa881a13ddaaebbe36",
      "e2d9a29c8c1b461895a4585cd105dffb",
      "1949410280a34448bb7f36db6ec9e73f",
      "72016e6fa04a478eac1611edd0426aaa",
      "d8583886b5dc44598e87a345711f3071",
      "8c74cbcc177d4528b57d2a349c87b1ff",
      "2347e2c9b6a7446490cf2997ab804d2f",
      "2263c4c3734e4b94be842e8acc554939",
      "ae86d11872c941e19f02e8fbc76e0f02",
      "01efce9fdd394765b0f953de34f45519",
      "92eac85d7447409d8e58483b05c1a704"
     ]
    },
    "id": "QAMe-JQvE0KB",
    "outputId": "8756756d-d374-4db8-b579-4a4b7e510a41"
   },
   "outputs": [],
   "source": [
    "import pandas as pd\n",
    "train_x = list(pd.read_csv('yelp_train')['text'].apply(lambda x: x[:1000]))\n",
    "train_y = list(pd.read_csv('yelp_train')['label'])\n",
    "\n",
    "train_x = train_x + train_x[-4:]\n",
    "train_y = train_y[:4] + train_y[-4:]\n",
    "val_x = list(pd.read_csv('yelp_val')['text'].apply(lambda x: x[:1000]))\n",
    "val_y = list(pd.read_csv('yelp_val')['label'])"
   ]
  },
  {
   "cell_type": "code",
   "execution_count": 34,
   "metadata": {
    "colab": {
     "base_uri": "https://localhost:8080/"
    },
    "id": "6mRz6CFFbVzV",
    "outputId": "1119b8a4-3c93-45ab-9c5d-bfe94392d62c"
   },
   "outputs": [
    {
     "name": "stderr",
     "output_type": "stream",
     "text": [
      "  0%|          | 1/2999 [03:20<166:59:52, 200.53s/it]"
     ]
    },
    {
     "name": "stdout",
     "output_type": "stream",
     "text": [
      "loss:2.9080331387376646e-06, train_acc: 0.4618055522441864, val_acc: 0.5529513955116272\n",
      "prompts: ['Image Image', 'Image Ven', 'Image Trick', 'Image Iron', 'Image reported', 'Image Cloak', 'Image Promise', 'Image scrolling', 'Image ighton', 'Image domain', 'Image poses', 'Image brainer', 'Image ECK', 'Image consumer', 'Image innovations', 'Image Image', 'Image scient', 'Image abama', 'Image Latest', 'Image KI', 'Image Struct', 'Image unci', 'Image necessarily', 'Image clarified', 'Image vre', 'Image blister', 'Image innon', 'Image Nerd', 'Image Image', 'Image ception', 'Image Image', 'Image etz', 'Image pled', 'Image licensee', 'Image ather', 'Image ways']\n"
     ]
    },
    {
     "name": "stderr",
     "output_type": "stream",
     "text": [
      "  0%|          | 11/2999 [17:05<93:11:45, 112.28s/it]"
     ]
    },
    {
     "name": "stdout",
     "output_type": "stream",
     "text": [
      "loss:7.552474562544376e-05, train_acc: 0.4270833432674408, val_acc: 0.6041666865348816\n",
      "prompts: ['ĸļ believable', 'ĸļ ripped', 'ĸļ ĸļ', 'ĸļ ĸļ', 'ĸļ incor', 'ĸļ attends', 'ĸļ dies', 'ĸļ Day', 'ĸļ tag', 'ĸļ ĸļ', 'ĸļ Diver', 'ĸļ Intel', 'ĸļ Dave', 'ĸļ ĸļ', 'ĸļ Female', 'ĸļ ĸļ', 'ĸļ ĸļ', 'ĸļ gz', 'ĸļ stereotypical', 'ĸļ ãĥ¯', 'ĸļ Economic', 'ĸļ Marxism', 'ĸļ available', 'ĸļ tall', 'ĸļ Lamp', 'ĸļ owment', 'ĸļ ĸļ', 'ĸļ kil', 'ĸļ guiActive', 'ĸļ conversation', 'ĸļ framed', 'ĸļ ĸļ', 'ĸļ ĸļ', 'ĸļ cursing', 'ĸļ nan', 'ĸļ ĸļ']\n"
     ]
    },
    {
     "name": "stderr",
     "output_type": "stream",
     "text": [
      "  1%|          | 21/2999 [30:53<92:36:20, 111.95s/it]"
     ]
    },
    {
     "name": "stdout",
     "output_type": "stream",
     "text": [
      "loss:0.00047219733824022114, train_acc: 0.4097222089767456, val_acc: 0.6223958134651184\n",
      "prompts: ['ĸļ 1971', 'ĸļ edition', 'ĸļ ĸļ', 'ĸļ ying', 'ĸļ 218', 'ĸļ steadily', 'ĸļ cand', 'ĸļ democratic', 'ĸļ Grab', 'ĸļ MAC', 'ĸļ Charter', 'ĸļ ateral', 'ĸļ tunnels', 'ĸļ Emer', 'ĸļ branch', 'ĸļ Boone', 'ĸļ mismatch', 'ĸļ comet', 'ĸļ âĸł', 'ĸļ Jeff', 'ĸļ ĸļ', 'ĸļ feature', 'ĸļ airports', 'ĸļ Executive', 'ĸļ ĸļ', 'ĸļ IDS', 'ĸļ Growth', 'ĸļ ĸļ', 'ĸļ ĸļ', 'ĸļ ĸļ', 'ĸļ resources', 'ĸļ ĸļ', 'ĸļ Learn', 'ĸļ Talk', 'ĸļ ĸļ', 'ĸļ ĸļ']\n"
     ]
    },
    {
     "name": "stderr",
     "output_type": "stream",
     "text": [
      "  1%|          | 31/2999 [44:46<92:17:34, 111.95s/it]"
     ]
    },
    {
     "name": "stdout",
     "output_type": "stream",
     "text": [
      "loss:0.0020738786552101374, train_acc: 0.4097222089767456, val_acc: 0.6163194179534912\n",
      "prompts: ['ĸļ ĸļ', 'ĸļ transl', 'ĸļ panel', 'ĸļ unilaterally', 'ĸļ Diversity', 'ĸļ autobi', 'ĸļ UKIP', 'ĸļ upwards', 'ĸļ Investor', 'ĸļ telecommunications', 'ĸļ aur', 'ĸļ ĸļ', 'ĸļ Improved', 'ĸļ sane', 'ĸļ ĸļ', 'ĸļ Plasma', 'ĸļ misconduct', 'ĸļ idges', 'ĸļ ãĥ¼ãĥ«', 'ĸļ formula', 'ĸļ assets', 'ĸļ acre', 'ĸļ ĸļ', 'ĸļ ve', 'ĸļ painting', 'ĸļ ĸļ', 'ĸļ ĸļ', 'ĸļ ĸļ', 'ĸļ Nitrome', 'ĸļ psychological', 'ĸļ ĸļ', 'ĸļ Vertical', 'ĸļ rotated', 'ĸļ ĸļ', 'ĸļ tract', 'ĸļ outrage']\n"
     ]
    },
    {
     "name": "stderr",
     "output_type": "stream",
     "text": [
      "  1%|▏         | 41/2999 [58:44<93:04:38, 113.28s/it]"
     ]
    },
    {
     "name": "stdout",
     "output_type": "stream",
     "text": [
      "loss:0.005592054687440395, train_acc: 0.3784722089767456, val_acc: 0.6284722089767456\n",
      "prompts: ['ĸļ mistress', 'ĸļ ĸļ', 'ĸļ ĸļ', 'ĸļ enter', 'ĸļ appropri', 'ĸļ movie', 'ĸļ Medicine', 'ĸļ tr', 'ĸļ updating', 'ĸļ ĸļ', 'ĸļ gaze', 'ĸļ ĸļ', 'ĸļ te', 'ĸļ fit', 'ĸļ getting', 'ĸļ recession', 'ĸļ PRES', 'ĸļ Grade', 'ĸļ categor', 'ĸļ ĸļ', 'ĸļ Immun', 'ĸļ sulfur', 'ĸļ approx', 'ĸļ Shir', 'ĸļ Pakistan', 'ĸļ exploded', 'ĸļ confronted', 'ĸļ legged', 'ĸļ tml', 'ĸļ otation', 'ĸļ ĸļ', 'ĸļ mighty', 'ĸļ ĸļ', 'ĸļ XCOM', 'ĸļ centrif', 'ĸļ vegan']\n"
     ]
    },
    {
     "name": "stderr",
     "output_type": "stream",
     "text": [
      "  2%|▏         | 51/2999 [1:12:37<91:49:20, 112.13s/it]"
     ]
    },
    {
     "name": "stdout",
     "output_type": "stream",
     "text": [
      "loss:0.012564035132527351, train_acc: 0.3958333432674408, val_acc: 0.6006944179534912\n",
      "prompts: ['ĸļ ĸļ', 'ĸļ Initial', 'ĸļ mberg', 'ĸļ ĸļ', 'ĸļ æŃ', 'ĸļ ĸļ', 'ĸļ ĸļ', 'ĸļ ĸļ', 'ĸļ Fuck', 'ĸļ IAS', 'ĸļ comprehens', 'ĸļ orn', 'ĸļ influx', 'ĸļ Macy', 'ĸļ ĸļ', 'ĸļ enacted', 'ĸļ Lines', 'ĸļ yards', 'ĸļ oplan', 'ĸļ Av', 'ĸļ Republicans', 'ĸļ Du', 'ĸļ purple', 'ĸļ sm', 'ĸļ 050', 'ĸļ ĸļ', 'ĸļ unusually', 'ĸļ projector', 'ĸļ Willis', 'ĸļ ĸļ', 'ĸļ transitions', 'ĸļ surreal', 'ĸļ init', 'ĸļ ĸļ', 'ĸļ 640', 'ĸļ ĸļ']\n"
     ]
    },
    {
     "name": "stderr",
     "output_type": "stream",
     "text": [
      "  2%|▏         | 61/2999 [1:26:21<90:38:26, 111.06s/it]"
     ]
    },
    {
     "name": "stdout",
     "output_type": "stream",
     "text": [
      "loss:0.02519441395998001, train_acc: 0.3993055522441864, val_acc: 0.6302083134651184\n",
      "prompts: ['ĸļ survival', 'ĸļ fract', 'ĸļ borders', 'ĸļ ĸļ', 'ĸļ direct', 'ĸļ imoto', 'ĸļ plate', 'ĸļ âķ', 'ĸļ Solutions', 'ĸļ ¹', 'ĸļ protocol', 'ĸļ ĸļ', 'ĸļ ĸļ', 'ĸļ ĸļ', 'ĸļ Screw', 'ĸļ Ukraine', 'ĸļ Kik', 'ĸļ risis', 'ĸļ Cod', 'ĸļ Lyft', 'ĸļ Mer', 'ĸļ ĸļ', 'ĸļ saddle', 'ĸļ Here', 'ĸļ ĸļ', 'ĸļ necessary', 'ĸļ 264', 'ĸļ ming', 'ĸļ memorable', 'ĸļ Kum', 'ĸļ Field', \"ĸļ '),\", 'ĸļ ĸļ', 'ĸļ ank', 'ĸļ animous', 'ĸļ godd']\n"
     ]
    },
    {
     "name": "stderr",
     "output_type": "stream",
     "text": [
      "  2%|▏         | 71/2999 [1:40:10<90:53:04, 111.74s/it]"
     ]
    },
    {
     "name": "stdout",
     "output_type": "stream",
     "text": [
      "loss:0.031796976923942566, train_acc: 0.3923611044883728, val_acc: 0.5946180820465088\n",
      "prompts: ['ĸļ Instance', 'ĸļ Huh', 'ĸļ D', 'ĸļ ĸļ', 'ĸļ written', 'ĸļ uppet', 'ĸļ ĸļ', 'ĸļ Donetsk', 'ĸļ Percy', 'ĸļ ĸļ', 'ĸļ ĸļ', 'ĸļ bipolar', 'ĸļ rising', 'ĸļ olon', 'ĸļ inent', 'ĸļ ĸļ', 'ĸļ rib', 'ĸļ itt', 'ĸļ ĸļ', 'ĸļ civilian', 'ĸļ ĸļ', 'ĸļ ĸļ', 'ĸļ ĸļ', 'ĸļ gay', 'ĸļ ĸļ', 'ĸļ even', 'ĸļ Nose', 'ĸļ ĸļ', 'ĸļ Red', 'ĸļ ĸļ', 'ĸļ Mode', 'ĸļ classmate', 'ĸļ cr', 'ĸļ TOUR', 'ĸļ activism', 'ĸļ otent']\n"
     ]
    },
    {
     "name": "stderr",
     "output_type": "stream",
     "text": [
      "  3%|▎         | 81/2999 [1:54:02<91:12:50, 112.53s/it]"
     ]
    },
    {
     "name": "stdout",
     "output_type": "stream",
     "text": [
      "loss:0.052880849689245224, train_acc: 0.4236111044883728, val_acc: 0.5902777910232544\n",
      "prompts: ['ĸļ \\\\/\\\\/', 'ĸļ ĸļ', 'ĸļ thing', 'ĸļ ĸļ', 'ĸļ ĸļ', 'ĸļ ĸļ', 'ĸļ ĸļ', 'ĸļ ĸļ', 'ĸļ ĸļ', 'ĸļ ĸļ', 'ĸļ replied', 'ĸļ ĸļ', 'ĸļ ĸļ', 'ĸļ announcing', 'ĸļ ĸļ', 'ĸļ arranted', 'ĸļ ĸļ', 'ĸļ Hass', 'ĸļ ondo', 'ĸļ Kai', 'ĸļ temple', 'ĸļ aka', 'ĸļ annoy', 'ĸļ gym', 'ĸļ Engineers', 'ĸļ Hicks', 'ĸļ ĸļ', 'ĸļ Armed', 'ĸļ Holly', 'ĸļ impressions', 'ĸļ solo', 'ĸļ ĸļ', 'ĸļ Liberal', 'ĸļ culminating', 'ĸļ Boko', 'ĸļ 1913']\n"
     ]
    },
    {
     "name": "stderr",
     "output_type": "stream",
     "text": [
      "  3%|▎         | 91/2999 [2:07:51<90:17:47, 111.78s/it]"
     ]
    },
    {
     "name": "stdout",
     "output_type": "stream",
     "text": [
      "loss:0.07124350219964981, train_acc: 0.4201388955116272, val_acc: 0.6006944179534912\n",
      "prompts: ['ĸļ acists', 'ĸļ ski', 'ĸļ Mayhem', 'ĸļ ĸļ', 'ĸļ ĸļ', 'ĸļ Spiritual', 'ĸļ twenties', 'ĸļ ÅŁ', 'ĸļ ById', 'ĸļ 380', 'ĸļ air', 'ĸļ ĸļ', 'ĸļ ĸļ', 'ĸļ Luigi', 'ĸļ mass', 'ĸļ Sta', 'ĸļ Arc', 'ĸļ crisis', 'ĸļ ãĥĪ', 'ĸļ Sidd', 'ĸļ combinations', 'ĸļ precedent', 'ĸļ ĸļ', 'ĸļ ĸļ', 'ĸļ ophob', 'ĸļ flick', 'ĸļ separate', 'ĸļ ĸļ', 'ĸļ whispering', 'ĸļ ĸļ', 'ĸļ staunch', 'ĸļ ãĤ´', 'ĸļ ĸļ', 'ĸļ ĸļ', 'ĸļ ĸļ', 'ĸļ ĸļ']\n"
     ]
    },
    {
     "name": "stderr",
     "output_type": "stream",
     "text": [
      "  3%|▎         | 101/2999 [2:21:40<90:34:07, 112.51s/it]"
     ]
    },
    {
     "name": "stdout",
     "output_type": "stream",
     "text": [
      "loss:0.09556823968887329, train_acc: 0.4131944477558136, val_acc: 0.6032986044883728\n",
      "prompts: ['ĸļ vt', 'ĸļ embroiled', 'ĸļ lith', 'ĸļ iful', 'ĸļ emotion', 'ĸļ ĸļ', 'ĸļ Property', 'ĸļ Ps', 'ĸļ ĸļ', 'ĸļ ĸļ', 'ĸļ vant', 'ĸļ ĸļ', 'ĸļ ĸļ', 'ĸļ ople', 'ĸļ ĸļ', 'ĸļ mole', 'ĸļ ears', 'ĸļ allion', 'ĸļ roadside', 'ĸļ Driver', 'ĸļ Rouge', 'ĸļ Cra', 'ĸļ ĸļ', 'ĸļ helper', 'ĸļ ãĢ', 'ĸļ spe', 'ĸļ ĸļ', 'ĸļ habi', 'ĸļ redesigned', 'ĸļ ĸļ', 'ĸļ Chapters', 'ĸļ lip', 'ĸļ 351', 'ĸļ ĸļ', 'ĸļ ĸļ', 'ĸļ aircraft']\n"
     ]
    },
    {
     "name": "stderr",
     "output_type": "stream",
     "text": [
      "  4%|▎         | 111/2999 [2:35:31<90:27:31, 112.76s/it]"
     ]
    },
    {
     "name": "stdout",
     "output_type": "stream",
     "text": [
      "loss:0.1414855271577835, train_acc: 0.3923611044883728, val_acc: 0.6319444179534912\n",
      "prompts: ['ĸļ furnished', 'ĸļ antics', 'ĸļ vacc', 'ĸļ ĸļ', 'ĸļ Farm', 'ĸļ Rusty', 'ĸļ defines', 'ĸļ Comment', 'ĸļ exchanging', 'ĸļ passes', 'ĸļ ĸļ', 'ĸļ STON', 'ĸļ sinks', 'ĸļ whose', 'ĸļ SUP', 'ĸļ ĸļ', 'ĸļ ĸļ', 'ĸļ Ottawa', 'ĸļ ĸļ', 'ĸļ utopian', 'ĸļ Leslie', 'ĸļ sport', 'ĸļ ĸļ', 'ĸļ goals', 'ĸļ append', 'ĸļ well', 'ĸļ ojure', 'ĸļ CODE', 'ĸļ doorstep', 'ĸļ ĸļ', 'ĸļ decoding', 'ĸļ Can', 'ĸļ ĸļ', 'ĸļ Fuller', 'ĸļ ĸļ', 'ĸļ sac']\n"
     ]
    },
    {
     "name": "stderr",
     "output_type": "stream",
     "text": [
      "  4%|▍         | 121/2999 [2:49:25<90:04:01, 112.66s/it]"
     ]
    },
    {
     "name": "stdout",
     "output_type": "stream",
     "text": [
      "loss:0.1808054894208908, train_acc: 0.4097222089767456, val_acc: 0.6154513955116272\n",
      "prompts: ['ĸļ 265', 'ĸļ ĸļ', 'ĸļ dam', 'ĸļ Ø³', 'ĸļ Mazda', 'ĸļ Ret', 'ĸļ ĸļ', 'ĸļ Calif', 'ĸļ ĸļ', 'ĸļ painter', 'ĸļ Nin', 'ĸļ biodiversity', 'ĸļ Macron', 'ĸļ strengths', 'ĸļ deferred', 'ĸļ Ivan', 'ĸļ column', 'ĸļ RIS', 'ĸļ report', 'ĸļ zoning', 'ĸļ DC', 'ĸļ ine', 'ĸļ arding', 'ĸļ ĸļ', 'ĸļ ¶æ', 'ĸļ ordeal', 'ĸļ ĸļ', 'ĸļ orus', 'ĸļ Off', 'ĸļ ĸļ', 'ĸļ laps', 'ĸļ ĸļ', 'ĸļ discrep', 'ĸļ ĸļ', 'ĸļ ĸļ', 'ĸļ wa']\n"
     ]
    },
    {
     "name": "stderr",
     "output_type": "stream",
     "text": [
      "  4%|▍         | 131/2999 [3:03:10<88:53:57, 111.59s/it]"
     ]
    },
    {
     "name": "stdout",
     "output_type": "stream",
     "text": [
      "loss:0.15601445734500885, train_acc: 0.4305555522441864, val_acc: 0.5720486044883728\n",
      "prompts: ['ĸļ ĸļ', 'ĸļ ucc', 'ĸļ ĸļ', 'ĸļ ĸļ', 'ĸļ ãĥİ', 'ĸļ ling', 'ĸļ ĸļ', 'ĸļ ĸļ', 'ĸļ rocket', 'ĸļ Activity', 'ĸļ ĸļ', 'ĸļ ĸļ', 'ĸļ 992', 'ĸļ ĸļ', 'ĸļ ĸļ', 'ĸļ umbling', 'ĸļ ub', 'ĸļ deny', 'ĸļ le', 'ĸļ Riley', 'ĸļ pg', 'ĸļ Jesuit', 'ĸļ ĸļ', 'ĸļ ĸļ', 'ĸļ Bigfoot', 'ĸļ SWAT', 'ĸļ ĸļ', 'ĸļ ĸļ', 'ĸļ pointless', 'ĸļ ĸļ', 'ĸļ ĸļ', 'ĸļ Costco', 'ĸļ Frenzy', 'ĸļ ĸļ', 'ĸļ ĸļ', 'ĸļ acknowledging']\n"
     ]
    },
    {
     "name": "stderr",
     "output_type": "stream",
     "text": [
      "  5%|▍         | 141/2999 [3:16:58<88:55:34, 112.01s/it]"
     ]
    },
    {
     "name": "stdout",
     "output_type": "stream",
     "text": [
      "loss:0.2119973748922348, train_acc: 0.4201388955116272, val_acc: 0.59375\n",
      "prompts: ['ĸļ agon', 'ĸļ holog', 'ĸļ Speedway', 'ĸļ Allah', 'ĸļ Beckham', 'ĸļ guns', 'ĸļ arresting', 'ĸļ ĸļ', 'ĸļ ĸļ', 'ĸļ ĸļ', 'ĸļ connections', 'ĸļ Northeast', 'ĸļ ĸļ', 'ĸļ è£ı', 'ĸļ ĸļ', 'ĸļ Friend', 'ĸļ rather', 'ĸļ ĸļ', 'ĸļ Authorities', 'ĸļ adas', 'ĸļ ĸļ', 'ĸļ cul', 'ĸļ lieu', 'ĸļ adeon', 'ĸļ ĸļ', 'ĸļ chuck', 'ĸļ Use', 'ĸļ ĸļ', 'ĸļ ĸļ', 'ĸļ filler', 'ĸļ win', 'ĸļ ĸļ', 'ĸļ ĸļ', 'ĸļ ĸļ', 'ĸļ ĸļ', 'ĸļ ĸļ']\n"
     ]
    },
    {
     "name": "stderr",
     "output_type": "stream",
     "text": [
      "  5%|▌         | 151/2999 [3:30:41<88:06:46, 111.38s/it]"
     ]
    },
    {
     "name": "stdout",
     "output_type": "stream",
     "text": [
      "loss:0.24404484033584595, train_acc: 0.4166666567325592, val_acc: 0.5911458134651184\n",
      "prompts: ['ĸļ Lo', 'ĸļ lodged', 'ĸļ liberal', 'ĸļ ĸļ', 'ĸļ ĸļ', 'ĸļ pas', 'ĸļ ĸļ', 'ĸļ ĸļ', 'ĸļ disturbance', 'ĸļ tax', 'ĸļ Duration', 'ĸļ ĸļ', 'ĸļ replace', 'ĸļ ĸļ', 'ĸļ overw', 'ĸļ ĸļ', 'ĸļ Thames', 'ĸļ ctuary', 'ĸļ ĸļ', 'ĸļ 229', 'ĸļ presc', 'ĸļ heading', 'ĸļ ĸļ', 'ĸļ next', 'ĸļ ĸļ', 'ĸļ magnitude', 'ĸļ ĸļ', 'ĸļ jection', 'ĸļ ĸļ', 'ĸļ Believe', 'ĸļ ĸļ', 'ĸļ parachute', 'ĸļ appropriation', 'ĸļ Toyota', 'ĸļ ĸļ', 'ĸļ Fiction']\n"
     ]
    },
    {
     "name": "stderr",
     "output_type": "stream",
     "text": [
      "  5%|▌         | 161/2999 [3:44:30<88:04:25, 111.72s/it]"
     ]
    },
    {
     "name": "stdout",
     "output_type": "stream",
     "text": [
      "loss:0.2298724204301834, train_acc: 0.4444444477558136, val_acc: 0.5616319179534912\n",
      "prompts: ['ĸļ ĸļ', 'ĸļ ĸļ', 'ĸļ ĸļ', 'ĸļ ĸļ', 'ĸļ na', 'ĸļ hotels', 'ĸļ ĸļ', 'ĸļ ĸļ', 'ĸļ strategies', 'ĸļ fur', 'ĸļ ĸļ', 'ĸļ modem', 'ĸļ ãĤĴ', 'ĸļ ĸļ', 'ĸļ ĸļ', 'ĸļ ĸļ', 'ĸļ ĸļ', 'ĸļ 625', 'ĸļ incumb', 'ĸļ ĸļ', 'ĸļ repre', 'ĸļ ĸļ', 'ĸļ frequency', 'ĸļ ĸļ', 'ĸļ ĸļ', 'ĸļ hur', 'ĸļ ĸļ', 'ĸļ JECT', 'ĸļ asing', 'ĸļ ourning', 'ĸļ ĸļ', 'ĸļ ĸļ', 'ĸļ 365', 'ĸļ forefront', 'ĸļ ĸļ', 'ĸļ ĸļ']\n"
     ]
    },
    {
     "name": "stderr",
     "output_type": "stream",
     "text": [
      "  6%|▌         | 171/2999 [3:58:16<87:30:39, 111.40s/it]"
     ]
    },
    {
     "name": "stdout",
     "output_type": "stream",
     "text": [
      "loss:0.3203641474246979, train_acc: 0.4340277910232544, val_acc: 0.5807291865348816\n",
      "prompts: ['ĸļ replica', 'ĸļ ĸļ', 'ĸļ ĸļ', 'ĸļ NOR', 'ĸļ ĸļ', 'ĸļ entrepreneurship', 'ĸļ ĸļ', 'ĸļ techn', 'ĸļ excitement', 'ĸļ Wilson', 'ĸļ ĸļ', 'ĸļ ĸļ', 'ĸļ membrane', 'ĸļ lain', 'ĸļ rather', 'ĸļ ĸļ', 'ĸļ 900', 'ĸļ ĸļ', 'ĸļ ĸļ', 'ĸļ adventure', 'ĸļ ĸļ', 'ĸļ Know', 'ĸļ Current', 'ĸļ ĸļ', 'ĸļ ĸļ', 'ĸļ ĸļ', 'ĸļ ĸļ', 'ĸļ SEE', 'ĸļ terday', 'ĸļ ĸļ', 'ĸļ ĸļ', 'ĸļ biased', 'ĸļ Text', 'ĸļ ĸļ', 'ĸļ ĸļ', 'ĸļ Wheels']\n"
     ]
    },
    {
     "name": "stderr",
     "output_type": "stream",
     "text": [
      "  6%|▌         | 181/2999 [4:12:05<87:28:38, 111.75s/it]"
     ]
    },
    {
     "name": "stdout",
     "output_type": "stream",
     "text": [
      "loss:0.345689982175827, train_acc: 0.4375, val_acc: 0.5859375\n",
      "prompts: ['ĸļ formidable', 'ĸļ regiment', 'ĸļ ĸļ', 'ĸļ thirty', 'ĸļ wana', 'ĸļ proble', 'ĸļ ĸļ', 'ĸļ ĸļ', 'ĸļ Swamp', 'ĸļ ĸļ', 'ĸļ ended', 'ĸļ ĸļ', 'ĸļ tools', 'ĸļ noon', 'ĸļ peek', 'ĸļ eers', 'ĸļ ĸļ', 'ĸļ ĸļ', 'ĸļ ĸļ', 'ĸļ ĸļ', 'ĸļ ograms', 'ĸļ ĸļ', 'ĸļ ĸļ', 'ĸļ ĸļ', 'ĸļ ĸļ', 'ĸļ 217', 'ĸļ ĸļ', 'ĸļ airs', 'ĸļ Reflex', 'ĸļ ĸļ', 'ĸļ ĸļ', 'ĸļ ĸļ', 'ĸļ Radiation', 'ĸļ largest', 'ĸļ 653', 'ĸļ defund']\n"
     ]
    },
    {
     "name": "stderr",
     "output_type": "stream",
     "text": [
      "  6%|▋         | 191/2999 [4:25:51<87:03:08, 111.61s/it]"
     ]
    },
    {
     "name": "stdout",
     "output_type": "stream",
     "text": [
      "loss:0.23659895360469818, train_acc: 0.4409722089767456, val_acc: 0.5486111044883728\n",
      "prompts: ['ĸļ Hert', 'ĸļ ĸļ', 'ĸļ clenched', 'ĸļ ventilation', 'ĸļ Slowly', 'ĸļ bole', 'ĸļ ĸļ', 'ĸļ ĸļ', 'ĸļ ĸļ', 'ĸļ ĸļ', 'ĸļ ĸļ', 'ĸļ ĸļ', 'ĸļ Wen', 'ĸļ ĸļ', 'ĸļ ĸļ', 'ĸļ ĸļ', 'ĸļ ĸļ', 'ĸļ listened', 'ĸļ ĸļ', 'ĸļ ĸļ', 'ĸļ ĸļ', 'ĸļ ĸļ', 'ĸļ ĸļ', 'ĸļ ĸļ', 'ĸļ healthy', 'ĸļ ĸļ', 'ĸļ usage', 'ĸļ ĸļ', 'ĸļ RGB', 'ĸļ ĸļ', 'ĸļ ĸļ', 'ĸļ ĸļ', 'ĸļ pol', 'ĸļ ĸļ', 'ĸļ missing', 'ĸļ ĸļ']\n"
     ]
    },
    {
     "name": "stderr",
     "output_type": "stream",
     "text": [
      "  7%|▋         | 201/2999 [4:39:39<87:10:39, 112.17s/it]"
     ]
    },
    {
     "name": "stdout",
     "output_type": "stream",
     "text": [
      "loss:0.34322482347488403, train_acc: 0.4444444477558136, val_acc: 0.5755208134651184\n",
      "prompts: ['ĸļ ĸļ', 'ĸļ ĸļ', 'ĸļ ĸļ', 'ĸļ ĸļ', 'ĸļ ĸļ', 'ĸļ Defense', 'ĸļ ĸļ', 'ĸļ 181', 'ĸļ ĸļ', 'ĸļ ĸļ', 'ĸļ ĸļ', 'ĸļ Buff', 'ĸļ Californ', 'ĸļ ĸļ', 'ĸļ ĸļ', 'ĸļ ĸļ', 'ĸļ ĸļ', 'ĸļ assadors', 'ĸļ ĸļ', 'ĸļ ĸļ', 'ĸļ ĸļ', 'ĸļ ĸļ', 'ĸļ apon', 'ĸļ ĸļ', 'ĸļ drifting', 'ĸļ ĸļ', 'ĸļ ĸļ', 'ĸļ ĸļ', 'ĸļ WE', 'ĸļ normalized', 'ĸļ NiÃ±o', 'ĸļ Rohingya', 'ĸļ choked', 'ĸļ ĸļ', 'ĸļ sac', 'ĸļ wholesale']\n"
     ]
    },
    {
     "name": "stderr",
     "output_type": "stream",
     "text": [
      "  7%|▋         | 211/2999 [4:53:26<86:26:46, 111.62s/it]"
     ]
    },
    {
     "name": "stdout",
     "output_type": "stream",
     "text": [
      "loss:0.3547235131263733, train_acc: 0.4479166567325592, val_acc: 0.5703125\n",
      "prompts: ['ĸļ ĸļ', 'ĸļ ĸļ', 'ĸļ labelled', 'ĸļ Britain', 'ĸļ Shades', 'ĸļ ĸļ', 'ĸļ Transgender', 'ĸļ lar', 'ĸļ ĸļ', 'ĸļ ĸļ', 'ĸļ 217', 'ĸļ ĸļ', 'ĸļ ĸļ', 'ĸļ ĸļ', 'ĸļ Paraly', 'ĸļ ĸļ', 'ĸļ ĸļ', 'ĸļ STD', 'ĸļ ĸļ', 'ĸļ ĸļ', 'ĸļ ĸļ', 'ĸļ Platinum', 'ĸļ ĸļ', 'ĸļ urrent', 'ĸļ ĸļ', 'ĸļ ĸļ', 'ĸļ ĸļ', 'ĸļ ĸļ', 'ĸļ ĸļ', 'ĸļ habit', 'ĸļ desper', 'ĸļ default', 'ĸļ ĸļ', 'ĸļ ĸļ', 'ĸļ ĸļ', 'ĸļ ĸļ']\n"
     ]
    },
    {
     "name": "stderr",
     "output_type": "stream",
     "text": [
      "  7%|▋         | 221/2999 [5:07:11<86:02:03, 111.49s/it]"
     ]
    },
    {
     "name": "stdout",
     "output_type": "stream",
     "text": [
      "loss:0.4047846794128418, train_acc: 0.4756944477558136, val_acc: 0.5381944179534912\n",
      "prompts: ['ĸļ ĸļ', 'ĸļ ĸļ', 'ĸļ ĸļ', 'ĸļ ĸļ', 'ĸļ ĸļ', 'ĸļ Quick', 'ĸļ ĸļ', 'ĸļ oids', 'ĸļ ĸļ', 'ĸļ ĸļ', 'ĸļ BAR', 'ĸļ stores', 'ĸļ recons', 'ĸļ ĸļ', 'ĸļ ĸļ', 'ĸļ ĸļ', 'ĸļ ĸļ', 'ĸļ rophe', 'ĸļ ĸļ', 'ĸļ ĸļ', 'ĸļ voc', 'ĸļ ĸļ', 'ĸļ ĸļ', 'ĸļ ĸļ', 'ĸļ ĸļ', 'ĸļ âĺħâĺħ', 'ĸļ ĸļ', 'ĸļ niche', 'ĸļ ĸļ', 'ĸļ previously', 'ĸļ ĸļ', 'ĸļ ĸļ', 'ĸļ Elijah', 'ĸļ ĸļ', 'ĸļ odiac', 'ĸļ ĸļ']\n"
     ]
    },
    {
     "name": "stderr",
     "output_type": "stream",
     "text": [
      "  8%|▊         | 231/2999 [5:20:57<85:34:08, 111.29s/it]"
     ]
    },
    {
     "name": "stdout",
     "output_type": "stream",
     "text": [
      "loss:0.3823101222515106, train_acc: 0.4409722089767456, val_acc: 0.5460069179534912\n",
      "prompts: ['ĸļ ĸļ', 'ĸļ ĸļ', 'ĸļ ĸļ', 'ĸļ Defeat', 'ĸļ ĸļ', 'ĸļ ĸļ', 'ĸļ femin', 'ĸļ promising', 'ĸļ ĸļ', 'ĸļ olog', 'ĸļ ĸļ', 'ĸļ ĸļ', 'ĸļ franch', 'ĸļ ĸļ', 'ĸļ ĸļ', 'ĸļ ĸļ', 'ĸļ periodic', 'ĸļ ĸļ', 'ĸļ utions', 'ĸļ belie', 'ĸļ ĸļ', 'ĸļ progressive', 'ĸļ ĸļ', 'ĸļ ĸļ', 'ĸļ ĸļ', 'ĸļ ĸļ', 'ĸļ ĸļ', 'ĸļ ĸļ', 'ĸļ ĸļ', 'ĸļ Clubs', 'ĸļ ĸļ', 'ĸļ ĸļ', 'ĸļ ĸļ', 'ĸļ N', 'ĸļ ĸļ', 'ĸļ Polish']\n"
     ]
    },
    {
     "name": "stderr",
     "output_type": "stream",
     "text": [
      "  8%|▊         | 241/2999 [5:34:44<85:38:45, 111.79s/it]"
     ]
    },
    {
     "name": "stdout",
     "output_type": "stream",
     "text": [
      "loss:0.5146331191062927, train_acc: 0.4444444477558136, val_acc: 0.5633680820465088\n",
      "prompts: ['ĸļ simplest', 'ĸļ ĸļ', 'ĸļ ĸļ', 'ĸļ uish', 'ĸļ ladder', 'ĸļ ĸļ', 'ĸļ raining', 'ĸļ ĸļ', 'ĸļ ĸļ', 'ĸļ ĸļ', 'ĸļ pursuing', 'ĸļ neglect', 'ĸļ ĸļ', 'ĸļ ĸļ', 'ĸļ ĸļ', 'ĸļ ĸļ', 'ĸļ Share', 'ĸļ ĸļ', 'ĸļ mutually', 'ĸļ Pont', 'ĸļ ĸļ', 'ĸļ ĸļ', 'ĸļ product', 'ĸļ strips', 'ĸļ ĸļ', 'ĸļ ĸļ', 'ĸļ ĸļ', 'ĸļ ĸļ', 'ĸļ ĸļ', 'ĸļ ĸļ', 'ĸļ ĸļ', 'ĸļ ĸļ', 'ĸļ OTOS', 'ĸļ ashes', 'ĸļ nic', 'ĸļ ĸļ']\n"
     ]
    },
    {
     "name": "stderr",
     "output_type": "stream",
     "text": [
      "  8%|▊         | 251/2999 [5:48:31<85:14:19, 111.67s/it]"
     ]
    },
    {
     "name": "stdout",
     "output_type": "stream",
     "text": [
      "loss:0.45166248083114624, train_acc: 0.4583333432674408, val_acc: 0.5434027910232544\n",
      "prompts: ['ĸļ ĸļ', 'ĸļ ĸļ', 'ĸļ ĸļ', 'ĸļ ackets', 'ĸļ ĸļ', 'ĸļ ĸļ', 'ĸļ ĸļ', 'ĸļ ĸļ', 'ĸļ Viol', 'ĸļ ĸļ', 'ĸļ lein', 'ĸļ ĸļ', 'ĸļ miss', 'ĸļ ims', 'ĸļ ĸļ', 'ĸļ ssh', 'ĸļ 52', 'ĸļ ousands', 'ĸļ ĸļ', 'ĸļ @', 'ĸļ ior', 'ĸļ ĸļ', 'ĸļ ĸļ', 'ĸļ quests', 'ĸļ ĸļ', 'ĸļ ĸļ', 'ĸļ ĸļ', 'ĸļ ĸļ', 'ĸļ Kuala', 'ĸļ ĸļ', 'ĸļ Your', 'ĸļ ĸļ', 'ĸļ ĸļ', 'ĸļ ĸļ', 'ĸļ ĸļ', 'ĸļ ĸļ']\n"
     ]
    },
    {
     "name": "stderr",
     "output_type": "stream",
     "text": [
      "  9%|▊         | 261/2999 [6:02:17<84:42:41, 111.38s/it]"
     ]
    },
    {
     "name": "stdout",
     "output_type": "stream",
     "text": [
      "loss:0.5859175324440002, train_acc: 0.4444444477558136, val_acc: 0.5859375\n",
      "prompts: ['ĸļ ĸļ', 'ĸļ Hearing', 'ĸļ ren', 'ĸļ barrels', 'ĸļ ĸļ', 'ĸļ Women', 'ĸļ redress', 'ĸļ swing', 'ĸļ Fas', 'ĸļ Quin', 'ĸļ ĸļ', 'ĸļ oy', 'ĸļ Dele', 'ĸļ Sixth', 'ĸļ ĸļ', 'ĸļ ĸļ', 'ĸļ ĸļ', 'ĸļ ĸļ', 'ĸļ 375', 'ĸļ 1861', 'ĸļ Computing', 'ĸļ ĸļ', 'ĸļ ĸļ', 'ĸļ ĸļ', 'ĸļ Mobile', 'ĸļ ĸļ', 'ĸļ zinc', 'ĸļ ĸļ', 'ĸļ ĸļ', 'ĸļ Will', 'ĸļ counties', 'ĸļ ĸļ', 'ĸļ ĸļ', 'ĸļ changed', 'ĸļ ĸļ', 'ĸļ ĸļ']\n"
     ]
    },
    {
     "name": "stderr",
     "output_type": "stream",
     "text": [
      "  9%|▉         | 271/2999 [6:16:03<84:28:40, 111.48s/it]"
     ]
    },
    {
     "name": "stdout",
     "output_type": "stream",
     "text": [
      "loss:0.6101810932159424, train_acc: 0.4618055522441864, val_acc: 0.5581597089767456\n",
      "prompts: ['ĸļ ĸļ', 'ĸļ described', 'ĸļ ĸļ', 'ĸļ wandering', 'ĸļ ĸļ', 'ĸļ laying', 'ĸļ ĸļ', 'ĸļ ĸļ', 'ĸļ Manhattan', 'ĸļ Consult', 'ĸļ Command', 'ĸļ ĸļ', 'ĸļ ĸļ', 'ĸļ ĸļ', 'ĸļ stewards', 'ĸļ ĸļ', 'ĸļ ĸļ', 'ĸļ ĸļ', 'ĸļ accredited', 'ĸļ ĸļ', 'ĸļ ĸļ', 'ĸļ ĸļ', 'ĸļ ĸļ', 'ĸļ ĸļ', 'ĸļ ĸļ', 'ĸļ ĸļ', 'ĸļ Runner', 'ĸļ ĸļ', 'ĸļ Chall', 'ĸļ ĸļ', 'ĸļ allied', 'ĸļ ĸļ', 'ĸļ ĸļ', 'ĸļ ĸļ', 'ĸļ ĸļ', 'ĸļ ĸļ']\n"
     ]
    },
    {
     "name": "stderr",
     "output_type": "stream",
     "text": [
      "  9%|▉         | 281/2999 [6:29:49<84:18:23, 111.66s/it]"
     ]
    },
    {
     "name": "stdout",
     "output_type": "stream",
     "text": [
      "loss:0.589252769947052, train_acc: 0.4618055522441864, val_acc: 0.5477430820465088\n",
      "prompts: ['ĸļ ĸļ', 'ĸļ ĸļ', 'ĸļ ĸļ', 'ĸļ Pet', 'ĸļ ĸļ', 'ĸļ ĸļ', 'ĸļ supporters', 'ĸļ ĸļ', 'ĸļ ĸļ', 'ĸļ Universal', 'ĸļ ĸļ', 'ĸļ ĸļ', 'ĸļ ĸļ', 'ĸļ ĸļ', 'ĸļ Ja', 'ĸļ ĸļ', 'ĸļ ĸļ', 'ĸļ ĸļ', 'ĸļ ĸļ', 'ĸļ ĸļ', 'ĸļ Access', 'ĸļ DMCA', 'ĸļ ĸļ', 'ĸļ Scrib', 'ĸļ ĸļ', 'ĸļ realism', 'ĸļ ĸļ', 'ĸļ unders', 'ĸļ ĸļ', 'ĸļ ĸļ', 'ĸļ ĸļ', 'ĸļ ĸļ', 'ĸļ ĸļ', 'ĸļ Angeles', 'ĸļ blur', 'ĸļ Consult']\n"
     ]
    },
    {
     "name": "stderr",
     "output_type": "stream",
     "text": [
      " 10%|▉         | 291/2999 [6:43:36<84:01:20, 111.70s/it]"
     ]
    },
    {
     "name": "stdout",
     "output_type": "stream",
     "text": [
      "loss:0.6055545210838318, train_acc: 0.4340277910232544, val_acc: 0.5703125\n",
      "prompts: ['ĸļ ĸļ', 'ĸļ cooling', 'ĸļ ĸļ', 'ĸļ inker', 'ĸļ relapse', 'ĸļ Exam', 'ĸļ ĸļ', 'ĸļ adies', 'ĸļ Nek', 'ĸļ ĸļ', 'ĸļ ĸļ', 'ĸļ ĸļ', 'ĸļ Rey', 'ĸļ ĸļ', 'ĸļ Host', 'ĸļ models', 'ĸļ ĸļ', 'ĸļ ĸļ', 'ĸļ turnout', 'ĸļ ĸļ', 'ĸļ ĸļ', 'ĸļ conquer', 'ĸļ sylvania', 'ĸļ ĸļ', 'ĸļ ĸļ', 'ĸļ ĸļ', 'ĸļ ĸļ', 'ĸļ ĸļ', 'ĸļ ĸļ', 'ĸļ boats', 'ĸļ ĸļ', 'ĸļ ĸļ', 'ĸļ mayor', 'ĸļ ĸļ', 'ĸļ ĸļ', 'ĸļ ĸļ']\n"
     ]
    },
    {
     "name": "stderr",
     "output_type": "stream",
     "text": [
      " 10%|█         | 301/2999 [6:57:25<83:59:49, 112.08s/it]"
     ]
    },
    {
     "name": "stdout",
     "output_type": "stream",
     "text": [
      "loss:0.4904129207134247, train_acc: 0.4583333432674408, val_acc: 0.5572916865348816\n",
      "prompts: ['ĸļ Siri', 'ĸļ comp', 'ĸļ ĸļ', 'ĸļ SPACE', 'ĸļ declarations', 'ĸļ Alzheimer', 'ĸļ ĸļ', 'ĸļ ĸļ', 'ĸļ ĸļ', 'ĸļ ĸļ', 'ĸļ ĸļ', 'ĸļ ĸļ', 'ĸļ ĸļ', 'ĸļ ĸļ', 'ĸļ ĸļ', 'ĸļ Vehicle', 'ĸļ ĸļ', 'ĸļ ĸļ', 'ĸļ ĸļ', 'ĸļ Rac', 'ĸļ ĸļ', 'ĸļ ĸļ', 'ĸļ ĸļ', 'ĸļ ĸļ', 'ĸļ obsc', 'ĸļ ittal', 'ĸļ ĸļ', 'ĸļ ĸļ', 'ĸļ ĸļ', 'ĸļ ID', 'ĸļ reci', 'ĸļ ĸļ', 'ĸļ ĸļ', 'ĸļ 641', 'ĸļ accuses', 'ĸļ ĸļ']\n"
     ]
    },
    {
     "name": "stderr",
     "output_type": "stream",
     "text": [
      " 10%|█         | 311/2999 [7:11:10<83:02:40, 111.22s/it]"
     ]
    },
    {
     "name": "stdout",
     "output_type": "stream",
     "text": [
      "loss:0.5229552984237671, train_acc: 0.4861111044883728, val_acc: 0.5173611044883728\n",
      "prompts: ['ĸļ ĸļ', 'ĸļ aji', 'ĸļ ĸļ', 'ĸļ ĸļ', 'ĸļ ĸļ', 'ĸļ ĸļ', 'ĸļ ĸļ', 'ĸļ ĸļ', 'ĸļ sort', 'ĸļ ĸļ', 'ĸļ Rye', 'ĸļ ĸļ', 'ĸļ ĸļ', 'ĸļ ĸļ', 'ĸļ ĸļ', 'ĸļ ĸļ', 'ĸļ ĸļ', 'ĸļ ĸļ', 'ĸļ ĸļ', 'ĸļ ĸļ', 'ĸļ rec', 'ĸļ ĸļ', 'ĸļ ĸļ', 'ĸļ ĸļ', 'ĸļ JC', 'ĸļ ĸļ', 'ĸļ ĸļ', 'ĸļ ĸļ', 'ĸļ ĸļ', 'ĸļ ĸļ', 'ĸļ ĸļ', 'ĸļ ĸļ', 'ĸļ ĸļ', 'ĸļ max', 'ĸļ ĸļ', 'ĸļ ĸļ']\n"
     ]
    },
    {
     "name": "stderr",
     "output_type": "stream",
     "text": [
      " 11%|█         | 321/2999 [7:24:48<82:17:06, 110.61s/it]"
     ]
    },
    {
     "name": "stdout",
     "output_type": "stream",
     "text": [
      "loss:0.6702964305877686, train_acc: 0.4479166567325592, val_acc: 0.5503472089767456\n",
      "prompts: ['ĸļ ĸļ', 'ĸļ Label', 'ĸļ ĸļ', 'ĸļ Director', 'ĸļ referrals', 'ĸļ ĸļ', 'ĸļ CEPT', 'ĸļ ĸļ', 'ĸļ ĸļ', 'ĸļ ĸļ', 'ĸļ ĸļ', 'ĸļ Runtime', 'ĸļ endez', 'ĸļ educational', 'ĸļ ĸļ', 'ĸļ ophen', 'ĸļ ĸļ', 'ĸļ hig', 'ĸļ ĸļ', 'ĸļ ĸļ', 'ĸļ ĸļ', 'ĸļ ĸļ', 'ĸļ ĸļ', 'ĸļ ĸļ', 'ĸļ ĸļ', 'ĸļ ĸļ', 'ĸļ ĸļ', 'ĸļ ocks', 'ĸļ employer', 'ĸļ ĸļ', 'ĸļ ĸļ', 'ĸļ ĸļ', 'ĸļ Cry', 'ĸļ spin', 'ĸļ ĸļ', 'ĸļ ansen']\n"
     ]
    },
    {
     "name": "stderr",
     "output_type": "stream",
     "text": [
      " 11%|█         | 331/2999 [7:38:29<82:11:12, 110.90s/it]"
     ]
    },
    {
     "name": "stdout",
     "output_type": "stream",
     "text": [
      "loss:0.9507696628570557, train_acc: 0.4548611044883728, val_acc: 0.5607638955116272\n",
      "prompts: ['ĸļ balcon', 'ĸļ ĸļ', 'ĸļ ĸļ', 'ĸļ apart', 'ĸļ repeat', 'ĸļ ĸļ', 'ĸļ ĸļ', 'ĸļ ĸļ', 'ĸļ ĸļ', 'ĸļ Hide', 'ĸļ ĸļ', 'ĸļ ĸļ', 'ĸļ ĸļ', 'ĸļ Holmes', 'ĸļ ĸļ', 'ĸļ ĸļ', 'ĸļ ĸļ', 'ĸļ ĸļ', 'ĸļ ĸļ', 'ĸļ into', 'ĸļ ĸļ', 'ĸļ ĸļ', 'ĸļ 14', 'ĸļ ĸļ', 'ĸļ misleading', 'ĸļ finale', 'ĸļ aul', 'ĸļ ĸļ', 'ĸļ ĸļ', 'ĸļ ĸļ', 'ĸļ barely', 'ĸļ ĸļ', 'ĸļ Board', 'ĸļ surge', 'ĸļ ĸļ', 'ĸļ ĸļ']\n"
     ]
    },
    {
     "name": "stderr",
     "output_type": "stream",
     "text": [
      " 11%|█▏        | 341/2999 [7:52:23<83:54:36, 113.65s/it]"
     ]
    },
    {
     "name": "stdout",
     "output_type": "stream",
     "text": [
      "loss:0.4230966866016388, train_acc: 0.4895833432674408, val_acc: 0.5095486044883728\n",
      "prompts: ['ĸļ ĸļ', 'ĸļ ĸļ', 'ĸļ ĸļ', 'ĸļ ĸļ', 'ĸļ ĸļ', 'ĸļ ĸļ', 'ĸļ ĸļ', 'ĸļ ĸļ', 'ĸļ quin', 'ĸļ ĸļ', 'ĸļ learns', 'ĸļ ĸļ', 'ĸļ ĸļ', 'ĸļ ĸļ', 'ĸļ ĸļ', 'ĸļ ĸļ', 'ĸļ ĸļ', 'ĸļ ĸļ', 'ĸļ ĸļ', 'ĸļ ĸļ', 'ĸļ ĸļ', 'ĸļ pan', 'ĸļ ĸļ', 'ĸļ ĸļ', 'ĸļ ĸļ', 'ĸļ ĸļ', 'ĸļ ĸļ', 'ĸļ ĸļ', 'ĸļ ĸļ', 'ĸļ ĸļ', 'ĸļ ĸļ', 'ĸļ ĸļ', 'ĸļ ĸļ', 'ĸļ ĸļ', 'ĸļ ĸļ', 'ĸļ manac']\n"
     ]
    },
    {
     "name": "stderr",
     "output_type": "stream",
     "text": [
      " 12%|█▏        | 351/2999 [8:06:18<82:25:15, 112.05s/it]"
     ]
    },
    {
     "name": "stdout",
     "output_type": "stream",
     "text": [
      "loss:0.9551907181739807, train_acc: 0.4409722089767456, val_acc: 0.5729166865348816\n",
      "prompts: ['ĸļ ĸļ', 'ĸļ ĸļ', 'ĸļ ĸļ', 'ĸļ ĸļ', 'ĸļ ĸļ', 'ĸļ ĸļ', 'ĸļ Standing', 'ĸļ ĸļ', 'ĸļ ĸļ', 'ĸļ ĸļ', 'ĸļ ĸļ', 'ĸļ 1070', 'ĸļ ĸļ', 'ĸļ Mo', 'ĸļ ĸļ', 'ĸļ ĸļ', 'ĸļ ĸļ', 'ĸļ ĸļ', 'ĸļ McGill', 'ĸļ ĸļ', 'ĸļ ĸļ', 'ĸļ occupation', 'ĸļ ĸļ', 'ĸļ ĸļ', 'ĸļ wage', 'ĸļ ĸļ', 'ĸļ ĸļ', 'ĸļ ty', 'ĸļ SUP', 'ĸļ casing', 'ĸļ Brus', 'ĸļ Water', 'ĸļ unstoppable', 'ĸļ Um', 'ĸļ ĸļ', 'ĸļ 306']\n"
     ]
    },
    {
     "name": "stderr",
     "output_type": "stream",
     "text": [
      " 12%|█▏        | 361/2999 [8:20:12<82:35:06, 112.70s/it]"
     ]
    },
    {
     "name": "stdout",
     "output_type": "stream",
     "text": [
      "loss:0.7863126993179321, train_acc: 0.4375, val_acc: 0.5616319179534912\n",
      "prompts: ['ĸļ ĸļ', 'ĸļ ĸļ', 'ĸļ ĸļ', 'ĸļ ĸļ', 'ĸļ Croatia', 'ĸļ ĸļ', 'ĸļ ĸļ', 'ĸļ 358', 'ĸļ expense', 'ĸļ ĸļ', 'ĸļ ĸļ', 'ĸļ Mull', 'ĸļ ĸļ', 'ĸļ ĸļ', 'ĸļ ĸļ', 'ĸļ favourites', 'ĸļ tit', 'ĸļ Comment', 'ĸļ VALUE', 'ĸļ ĸļ', 'ĸļ ĸļ', 'ĸļ ĸļ', 'ĸļ 1960', 'ĸļ ĸļ', 'ĸļ ĸļ', 'ĸļ probing', 'ĸļ ĸļ', 'ĸļ ?ãĢį', 'ĸļ ĸļ', 'ĸļ Outside', 'ĸļ ĸļ', 'ĸļ reset', 'ĸļ cas', 'ĸļ ĸļ', 'ĸļ ĸļ', 'ĸļ wandering']\n"
     ]
    },
    {
     "name": "stderr",
     "output_type": "stream",
     "text": [
      " 12%|█▏        | 371/2999 [8:34:00<81:38:33, 111.84s/it]"
     ]
    },
    {
     "name": "stdout",
     "output_type": "stream",
     "text": [
      "loss:0.5613512396812439, train_acc: 0.4722222089767456, val_acc: 0.53125\n",
      "prompts: ['ĸļ ĸļ', 'ĸļ ĸļ', 'ĸļ ĸļ', 'ĸļ ĸļ', 'ĸļ ĸļ', 'ĸļ footprints', 'ĸļ ĸļ', 'ĸļ ĸļ', 'ĸļ Department', 'ĸļ ĸļ', 'ĸļ oute', 'ĸļ ĸļ', 'ĸļ dx', 'ĸļ ĸļ', 'ĸļ ĸļ', 'ĸļ ĸļ', 'ĸļ ĸļ', 'ĸļ ĸļ', 'ĸļ ĸļ', 'ĸļ ĸļ', 'ĸļ ĸļ', 'ĸļ ĸļ', 'ĸļ 530', 'ĸļ ĸļ', 'ĸļ ĸļ', 'ĸļ Alpha', 'ĸļ ĸļ', 'ĸļ ĸļ', 'ĸļ ĸļ', 'ĸļ ĸļ', 'ĸļ ĸļ', 'ĸļ ĸļ', 'ĸļ ĸļ', 'ĸļ ĸļ', 'ĸļ Rampage', 'ĸļ ĸļ']\n"
     ]
    },
    {
     "name": "stderr",
     "output_type": "stream",
     "text": [
      " 13%|█▎        | 381/2999 [8:47:49<81:15:55, 111.75s/it]"
     ]
    },
    {
     "name": "stdout",
     "output_type": "stream",
     "text": [
      "loss:0.5869008898735046, train_acc: 0.46875, val_acc: 0.5329861044883728\n",
      "prompts: ['ĸļ ĸļ', 'ĸļ abdom', 'ĸļ 0002', 'ĸļ ĸļ', 'ĸļ Plus', 'ĸļ ĸļ', 'ĸļ ĸļ', 'ĸļ ĸļ', 'ĸļ ĸļ', 'ĸļ ĸļ', 'ĸļ ĸļ', 'ĸļ ĸļ', 'ĸļ ĸļ', 'ĸļ ĸļ', 'ĸļ fifteen', 'ĸļ ĸļ', 'ĸļ ĸļ', 'ĸļ ĸļ', 'ĸļ ĸļ', 'ĸļ ĸļ', 'ĸļ ĸļ', 'ĸļ Talks', 'ĸļ ĸļ', 'ĸļ ĸļ', 'ĸļ ĸļ', 'ĸļ USDA', 'ĸļ ĸļ', 'ĸļ ĸļ', 'ĸļ ĸļ', 'ĸļ ĸļ', 'ĸļ ĸļ', 'ĸļ ĸļ', 'ĸļ volent', 'ĸļ ĸļ', 'ĸļ ĸļ', 'ĸļ subparagraph']\n"
     ]
    },
    {
     "name": "stderr",
     "output_type": "stream",
     "text": [
      " 13%|█▎        | 391/2999 [9:01:45<81:42:27, 112.79s/it]"
     ]
    },
    {
     "name": "stdout",
     "output_type": "stream",
     "text": [
      "loss:0.8577198386192322, train_acc: 0.4513888955116272, val_acc: 0.5460069179534912\n",
      "prompts: ['ĸļ ply', 'ĸļ ĸļ', 'ĸļ maturity', 'ĸļ ĸļ', 'ĸļ ĸļ', 'ĸļ ĸļ', 'ĸļ sew', 'ĸļ ĸļ', 'ĸļ ĸļ', 'ĸļ ĸļ', 'ĸļ ĸļ', 'ĸļ KR', 'ĸļ ĸļ', 'ĸļ mining', 'ĸļ *.', 'ĸļ ĸļ', 'ĸļ ĸļ', 'ĸļ ĸļ', 'ĸļ ĸļ', 'ĸļ ĸļ', 'ĸļ ĸļ', 'ĸļ ĸļ', 'ĸļ garden', 'ĸļ Ryzen', 'ĸļ ĸļ', 'ĸļ ĸļ', 'ĸļ ĸļ', 'ĸļ ĸļ', 'ĸļ ĸļ', 'ĸļ ĸļ', 'ĸļ ĸļ', 'ĸļ jars', 'ĸļ ĸļ', 'ĸļ ĸļ', 'ĸļ ĸļ', 'ĸļ Trials']\n"
     ]
    },
    {
     "name": "stderr",
     "output_type": "stream",
     "text": [
      " 13%|█▎        | 401/2999 [9:15:46<82:05:29, 113.75s/it]"
     ]
    },
    {
     "name": "stdout",
     "output_type": "stream",
     "text": [
      "loss:0.8112853169441223, train_acc: 0.4583333432674408, val_acc: 0.5442708134651184\n",
      "prompts: ['ĸļ ĸļ', 'ĸļ rika', 'ĸļ ĸļ', 'ĸļ missionary', 'ĸļ ĸļ', 'ĸļ result', 'ĸļ ĸļ', 'ĸļ ĸļ', 'ĸļ recreate', 'ĸļ ĸļ', 'ĸļ ĸļ', 'ĸļ ĸļ', 'ĸļ ĸļ', 'ĸļ respected', 'ĸļ ĸļ', 'ĸļ ĸļ', 'ĸļ Olivier', 'ĸļ curing', 'ĸļ ĸļ', 'ĸļ ĸļ', 'ĸļ ĸļ', 'ĸļ ĸļ', 'ĸļ ĸļ', 'ĸļ ĸļ', 'ĸļ na', 'ĸļ ĸļ', 'ĸļ ĸļ', 'ĸļ ĸļ', 'ĸļ ĸļ', 'ĸļ ĸļ', 'ĸļ ĸļ', 'ĸļ Pak', 'ĸļ Attributes', 'ĸļ ĸļ', 'ĸļ ĸļ', 'ĸļ ĸļ']\n"
     ]
    },
    {
     "name": "stderr",
     "output_type": "stream",
     "text": [
      " 14%|█▎        | 407/2999 [9:37:15<61:16:18, 85.10s/it] \n"
     ]
    },
    {
     "ename": "KeyboardInterrupt",
     "evalue": "",
     "output_type": "error",
     "traceback": [
      "\u001b[0;31m---------------------------------------------------------------------------\u001b[0m",
      "\u001b[0;31mKeyboardInterrupt\u001b[0m                         Traceback (most recent call last)",
      "Cell \u001b[0;32mIn[34], line 16\u001b[0m\n\u001b[1;32m      1\u001b[0m \u001b[39mimport\u001b[39;00m \u001b[39mrandom\u001b[39;00m\n\u001b[1;32m      3\u001b[0m \u001b[39m# # start a new wandb run to track this script\u001b[39;00m\n\u001b[1;32m      4\u001b[0m \u001b[39m# wandb.init(\u001b[39;00m\n\u001b[1;32m      5\u001b[0m \u001b[39m#     # set the wandb project where this run will be logged\u001b[39;00m\n\u001b[0;32m   (...)\u001b[0m\n\u001b[1;32m     14\u001b[0m \u001b[39m#     }\u001b[39;00m\n\u001b[1;32m     15\u001b[0m \u001b[39m# )\u001b[39;00m\n\u001b[0;32m---> 16\u001b[0m ql\u001b[39m.\u001b[39;49mtrain(train_x, train_y, val_x, val_y, epochs \u001b[39m=\u001b[39;49m \u001b[39m2999\u001b[39;49m)\n",
      "Cell \u001b[0;32mIn[31], line 193\u001b[0m, in \u001b[0;36mQLearner.train\u001b[0;34m(self, train_x, train_y, val_x, val_y, epochs)\u001b[0m\n\u001b[1;32m    191\u001b[0m \u001b[39mfor\u001b[39;00m i \u001b[39min\u001b[39;00m tqdm(\u001b[39mrange\u001b[39m(epochs)):\n\u001b[1;32m    192\u001b[0m     \u001b[39mself\u001b[39m\u001b[39m.\u001b[39moptimizer\u001b[39m.\u001b[39mzero_grad()\n\u001b[0;32m--> 193\u001b[0m     loss, reward, prompts \u001b[39m=\u001b[39m \u001b[39mself\u001b[39;49m\u001b[39m.\u001b[39;49mloss(train_x, train_y)\n\u001b[1;32m    194\u001b[0m     loss\u001b[39m.\u001b[39mbackward()\n\u001b[1;32m    195\u001b[0m     \u001b[39mself\u001b[39m\u001b[39m.\u001b[39moptimizer\u001b[39m.\u001b[39mstep()\n",
      "Cell \u001b[0;32mIn[31], line 171\u001b[0m, in \u001b[0;36mQLearner.loss\u001b[0;34m(self, train_x, train_y)\u001b[0m\n\u001b[1;32m    169\u001b[0m \u001b[39m#         print(Q.shape)\u001b[39;00m\n\u001b[1;32m    170\u001b[0m         reward \u001b[39m=\u001b[39m torch\u001b[39m.\u001b[39mtensor([\u001b[39mself\u001b[39m\u001b[39m.\u001b[39mget_reward(train_x, train_y, \u001b[39m'\u001b[39m\u001b[39m \u001b[39m\u001b[39m'\u001b[39m\u001b[39m.\u001b[39mjoin(action)) \u001b[39mfor\u001b[39;00m action \u001b[39min\u001b[39;00m actions])\u001b[39m.\u001b[39mto(device)\n\u001b[0;32m--> 171\u001b[0m         accuracy \u001b[39m=\u001b[39m torch\u001b[39m.\u001b[39mtensor([\u001b[39mself\u001b[39m\u001b[39m.\u001b[39mget_accuracy(train_x, train_y, \u001b[39m'\u001b[39m\u001b[39m \u001b[39m\u001b[39m'\u001b[39m\u001b[39m.\u001b[39mjoin(action)) \u001b[39mfor\u001b[39;00m action \u001b[39min\u001b[39;00m actions])\n\u001b[1;32m    172\u001b[0m \u001b[39m#         reward = high_reward*2-1\u001b[39;00m\n\u001b[1;32m    173\u001b[0m \u001b[39m#         reward = high_reward\u001b[39;00m\n\u001b[1;32m    174\u001b[0m         \u001b[39mif\u001b[39;00m reward\u001b[39m.\u001b[39mstd() \u001b[39m>\u001b[39m \u001b[39m1e-3\u001b[39m:\n",
      "Cell \u001b[0;32mIn[31], line 171\u001b[0m, in \u001b[0;36m<listcomp>\u001b[0;34m(.0)\u001b[0m\n\u001b[1;32m    169\u001b[0m \u001b[39m#         print(Q.shape)\u001b[39;00m\n\u001b[1;32m    170\u001b[0m         reward \u001b[39m=\u001b[39m torch\u001b[39m.\u001b[39mtensor([\u001b[39mself\u001b[39m\u001b[39m.\u001b[39mget_reward(train_x, train_y, \u001b[39m'\u001b[39m\u001b[39m \u001b[39m\u001b[39m'\u001b[39m\u001b[39m.\u001b[39mjoin(action)) \u001b[39mfor\u001b[39;00m action \u001b[39min\u001b[39;00m actions])\u001b[39m.\u001b[39mto(device)\n\u001b[0;32m--> 171\u001b[0m         accuracy \u001b[39m=\u001b[39m torch\u001b[39m.\u001b[39mtensor([\u001b[39mself\u001b[39;49m\u001b[39m.\u001b[39;49mget_accuracy(train_x, train_y, \u001b[39m'\u001b[39;49m\u001b[39m \u001b[39;49m\u001b[39m'\u001b[39;49m\u001b[39m.\u001b[39;49mjoin(action)) \u001b[39mfor\u001b[39;00m action \u001b[39min\u001b[39;00m actions])\n\u001b[1;32m    172\u001b[0m \u001b[39m#         reward = high_reward*2-1\u001b[39;00m\n\u001b[1;32m    173\u001b[0m \u001b[39m#         reward = high_reward\u001b[39;00m\n\u001b[1;32m    174\u001b[0m         \u001b[39mif\u001b[39;00m reward\u001b[39m.\u001b[39mstd() \u001b[39m>\u001b[39m \u001b[39m1e-3\u001b[39m:\n",
      "Cell \u001b[0;32mIn[31], line 157\u001b[0m, in \u001b[0;36mQLearner.get_accuracy\u001b[0;34m(self, train_x, train_y, prompt)\u001b[0m\n\u001b[1;32m    155\u001b[0m accurate \u001b[39m=\u001b[39m \u001b[39m0\u001b[39m\n\u001b[1;32m    156\u001b[0m \u001b[39mfor\u001b[39;00m sentence, \u001b[39mcls\u001b[39m \u001b[39min\u001b[39;00m \u001b[39mzip\u001b[39m(train_x, train_y):\n\u001b[0;32m--> 157\u001b[0m         word_cls \u001b[39m=\u001b[39m \u001b[39mself\u001b[39;49m\u001b[39m.\u001b[39;49mmlm\u001b[39m.\u001b[39;49mget_masked_word_class(sentence, prompt)\n\u001b[1;32m    158\u001b[0m         \u001b[39mif\u001b[39;00m (word_cls[\u001b[39m0\u001b[39m][\u001b[39m'\u001b[39m\u001b[39mtoken_str\u001b[39m\u001b[39m'\u001b[39m] \u001b[39m==\u001b[39m \u001b[39m'\u001b[39m\u001b[39mgood\u001b[39m\u001b[39m'\u001b[39m \u001b[39mand\u001b[39;00m \u001b[39mcls\u001b[39m \u001b[39m==\u001b[39m \u001b[39m1\u001b[39m) \u001b[39mor\u001b[39;00m (word_cls[\u001b[39m0\u001b[39m][\u001b[39m'\u001b[39m\u001b[39mtoken_str\u001b[39m\u001b[39m'\u001b[39m] \u001b[39m==\u001b[39m \u001b[39m'\u001b[39m\u001b[39mbad\u001b[39m\u001b[39m'\u001b[39m \u001b[39mand\u001b[39;00m \u001b[39mcls\u001b[39m \u001b[39m==\u001b[39m \u001b[39m0\u001b[39m):\n\u001b[1;32m    159\u001b[0m             reward \u001b[39m=\u001b[39m word_cls[\u001b[39m0\u001b[39m][\u001b[39m'\u001b[39m\u001b[39mscore\u001b[39m\u001b[39m'\u001b[39m]\u001b[39m-\u001b[39m word_cls[\u001b[39m1\u001b[39m][\u001b[39m'\u001b[39m\u001b[39mscore\u001b[39m\u001b[39m'\u001b[39m]\n",
      "Cell \u001b[0;32mIn[18], line 13\u001b[0m, in \u001b[0;36mMLM.get_masked_word_class\u001b[0;34m(self, input, prompt)\u001b[0m\n\u001b[1;32m     12\u001b[0m \u001b[39mdef\u001b[39;00m \u001b[39mget_masked_word_class\u001b[39m(\u001b[39mself\u001b[39m, \u001b[39minput\u001b[39m, prompt):\n\u001b[0;32m---> 13\u001b[0m   \u001b[39mreturn\u001b[39;00m \u001b[39mself\u001b[39;49m\u001b[39m.\u001b[39;49munmasker(\u001b[39mf\u001b[39;49m\u001b[39m'\u001b[39;49m\u001b[39m{\u001b[39;49;00m\u001b[39minput\u001b[39;49m\u001b[39m}\u001b[39;49;00m\u001b[39m \u001b[39;49m\u001b[39m{\u001b[39;49;00mprompt\u001b[39m}\u001b[39;49;00m\u001b[39m <mask>\u001b[39;49m\u001b[39m'\u001b[39;49m, targets \u001b[39m=\u001b[39;49m [\u001b[39m'\u001b[39;49m\u001b[39mgood\u001b[39;49m\u001b[39m'\u001b[39;49m, \u001b[39m'\u001b[39;49m\u001b[39mbad\u001b[39;49m\u001b[39m'\u001b[39;49m])\n",
      "File \u001b[0;32m~/miniconda3/lib/python3.9/site-packages/transformers/pipelines/fill_mask.py:239\u001b[0m, in \u001b[0;36mFillMaskPipeline.__call__\u001b[0;34m(self, inputs, *args, **kwargs)\u001b[0m\n\u001b[1;32m    217\u001b[0m \u001b[39mdef\u001b[39;00m \u001b[39m__call__\u001b[39m(\u001b[39mself\u001b[39m, inputs, \u001b[39m*\u001b[39margs, \u001b[39m*\u001b[39m\u001b[39m*\u001b[39mkwargs):\n\u001b[1;32m    218\u001b[0m     \u001b[39m\"\"\"\u001b[39;00m\n\u001b[1;32m    219\u001b[0m \u001b[39m    Fill the masked token in the text(s) given as inputs.\u001b[39;00m\n\u001b[1;32m    220\u001b[0m \n\u001b[0;32m   (...)\u001b[0m\n\u001b[1;32m    237\u001b[0m \u001b[39m        - **token_str** (`str`) -- The predicted token (to replace the masked one).\u001b[39;00m\n\u001b[1;32m    238\u001b[0m \u001b[39m    \"\"\"\u001b[39;00m\n\u001b[0;32m--> 239\u001b[0m     outputs \u001b[39m=\u001b[39m \u001b[39msuper\u001b[39;49m()\u001b[39m.\u001b[39;49m\u001b[39m__call__\u001b[39;49m(inputs, \u001b[39m*\u001b[39;49m\u001b[39m*\u001b[39;49mkwargs)\n\u001b[1;32m    240\u001b[0m     \u001b[39mif\u001b[39;00m \u001b[39misinstance\u001b[39m(inputs, \u001b[39mlist\u001b[39m) \u001b[39mand\u001b[39;00m \u001b[39mlen\u001b[39m(inputs) \u001b[39m==\u001b[39m \u001b[39m1\u001b[39m:\n\u001b[1;32m    241\u001b[0m         \u001b[39mreturn\u001b[39;00m outputs[\u001b[39m0\u001b[39m]\n",
      "File \u001b[0;32m~/miniconda3/lib/python3.9/site-packages/transformers/pipelines/base.py:1119\u001b[0m, in \u001b[0;36mPipeline.__call__\u001b[0;34m(self, inputs, num_workers, batch_size, *args, **kwargs)\u001b[0m\n\u001b[1;32m   1111\u001b[0m     \u001b[39mreturn\u001b[39;00m \u001b[39mnext\u001b[39m(\n\u001b[1;32m   1112\u001b[0m         \u001b[39miter\u001b[39m(\n\u001b[1;32m   1113\u001b[0m             \u001b[39mself\u001b[39m\u001b[39m.\u001b[39mget_iterator(\n\u001b[0;32m   (...)\u001b[0m\n\u001b[1;32m   1116\u001b[0m         )\n\u001b[1;32m   1117\u001b[0m     )\n\u001b[1;32m   1118\u001b[0m \u001b[39melse\u001b[39;00m:\n\u001b[0;32m-> 1119\u001b[0m     \u001b[39mreturn\u001b[39;00m \u001b[39mself\u001b[39;49m\u001b[39m.\u001b[39;49mrun_single(inputs, preprocess_params, forward_params, postprocess_params)\n",
      "File \u001b[0;32m~/miniconda3/lib/python3.9/site-packages/transformers/pipelines/base.py:1126\u001b[0m, in \u001b[0;36mPipeline.run_single\u001b[0;34m(self, inputs, preprocess_params, forward_params, postprocess_params)\u001b[0m\n\u001b[1;32m   1124\u001b[0m \u001b[39mdef\u001b[39;00m \u001b[39mrun_single\u001b[39m(\u001b[39mself\u001b[39m, inputs, preprocess_params, forward_params, postprocess_params):\n\u001b[1;32m   1125\u001b[0m     model_inputs \u001b[39m=\u001b[39m \u001b[39mself\u001b[39m\u001b[39m.\u001b[39mpreprocess(inputs, \u001b[39m*\u001b[39m\u001b[39m*\u001b[39mpreprocess_params)\n\u001b[0;32m-> 1126\u001b[0m     model_outputs \u001b[39m=\u001b[39m \u001b[39mself\u001b[39;49m\u001b[39m.\u001b[39;49mforward(model_inputs, \u001b[39m*\u001b[39;49m\u001b[39m*\u001b[39;49mforward_params)\n\u001b[1;32m   1127\u001b[0m     outputs \u001b[39m=\u001b[39m \u001b[39mself\u001b[39m\u001b[39m.\u001b[39mpostprocess(model_outputs, \u001b[39m*\u001b[39m\u001b[39m*\u001b[39mpostprocess_params)\n\u001b[1;32m   1128\u001b[0m     \u001b[39mreturn\u001b[39;00m outputs\n",
      "File \u001b[0;32m~/miniconda3/lib/python3.9/site-packages/transformers/pipelines/base.py:1025\u001b[0m, in \u001b[0;36mPipeline.forward\u001b[0;34m(self, model_inputs, **forward_params)\u001b[0m\n\u001b[1;32m   1023\u001b[0m     \u001b[39mwith\u001b[39;00m inference_context():\n\u001b[1;32m   1024\u001b[0m         model_inputs \u001b[39m=\u001b[39m \u001b[39mself\u001b[39m\u001b[39m.\u001b[39m_ensure_tensor_on_device(model_inputs, device\u001b[39m=\u001b[39m\u001b[39mself\u001b[39m\u001b[39m.\u001b[39mdevice)\n\u001b[0;32m-> 1025\u001b[0m         model_outputs \u001b[39m=\u001b[39m \u001b[39mself\u001b[39;49m\u001b[39m.\u001b[39;49m_forward(model_inputs, \u001b[39m*\u001b[39;49m\u001b[39m*\u001b[39;49mforward_params)\n\u001b[1;32m   1026\u001b[0m         model_outputs \u001b[39m=\u001b[39m \u001b[39mself\u001b[39m\u001b[39m.\u001b[39m_ensure_tensor_on_device(model_outputs, device\u001b[39m=\u001b[39mtorch\u001b[39m.\u001b[39mdevice(\u001b[39m\"\u001b[39m\u001b[39mcpu\u001b[39m\u001b[39m\"\u001b[39m))\n\u001b[1;32m   1027\u001b[0m \u001b[39melse\u001b[39;00m:\n",
      "File \u001b[0;32m~/miniconda3/lib/python3.9/site-packages/transformers/pipelines/fill_mask.py:101\u001b[0m, in \u001b[0;36mFillMaskPipeline._forward\u001b[0;34m(self, model_inputs)\u001b[0m\n\u001b[1;32m    100\u001b[0m \u001b[39mdef\u001b[39;00m \u001b[39m_forward\u001b[39m(\u001b[39mself\u001b[39m, model_inputs):\n\u001b[0;32m--> 101\u001b[0m     model_outputs \u001b[39m=\u001b[39m \u001b[39mself\u001b[39;49m\u001b[39m.\u001b[39;49mmodel(\u001b[39m*\u001b[39;49m\u001b[39m*\u001b[39;49mmodel_inputs)\n\u001b[1;32m    102\u001b[0m     model_outputs[\u001b[39m\"\u001b[39m\u001b[39minput_ids\u001b[39m\u001b[39m\"\u001b[39m] \u001b[39m=\u001b[39m model_inputs[\u001b[39m\"\u001b[39m\u001b[39minput_ids\u001b[39m\u001b[39m\"\u001b[39m]\n\u001b[1;32m    103\u001b[0m     \u001b[39mreturn\u001b[39;00m model_outputs\n",
      "File \u001b[0;32m~/miniconda3/lib/python3.9/site-packages/torch/nn/modules/module.py:1130\u001b[0m, in \u001b[0;36mModule._call_impl\u001b[0;34m(self, *input, **kwargs)\u001b[0m\n\u001b[1;32m   1126\u001b[0m \u001b[39m# If we don't have any hooks, we want to skip the rest of the logic in\u001b[39;00m\n\u001b[1;32m   1127\u001b[0m \u001b[39m# this function, and just call forward.\u001b[39;00m\n\u001b[1;32m   1128\u001b[0m \u001b[39mif\u001b[39;00m \u001b[39mnot\u001b[39;00m (\u001b[39mself\u001b[39m\u001b[39m.\u001b[39m_backward_hooks \u001b[39mor\u001b[39;00m \u001b[39mself\u001b[39m\u001b[39m.\u001b[39m_forward_hooks \u001b[39mor\u001b[39;00m \u001b[39mself\u001b[39m\u001b[39m.\u001b[39m_forward_pre_hooks \u001b[39mor\u001b[39;00m _global_backward_hooks\n\u001b[1;32m   1129\u001b[0m         \u001b[39mor\u001b[39;00m _global_forward_hooks \u001b[39mor\u001b[39;00m _global_forward_pre_hooks):\n\u001b[0;32m-> 1130\u001b[0m     \u001b[39mreturn\u001b[39;00m forward_call(\u001b[39m*\u001b[39;49m\u001b[39minput\u001b[39;49m, \u001b[39m*\u001b[39;49m\u001b[39m*\u001b[39;49mkwargs)\n\u001b[1;32m   1131\u001b[0m \u001b[39m# Do not call functions when jit is used\u001b[39;00m\n\u001b[1;32m   1132\u001b[0m full_backward_hooks, non_full_backward_hooks \u001b[39m=\u001b[39m [], []\n",
      "File \u001b[0;32m~/miniconda3/lib/python3.9/site-packages/transformers/models/roberta/modeling_roberta.py:1100\u001b[0m, in \u001b[0;36mRobertaForMaskedLM.forward\u001b[0;34m(self, input_ids, attention_mask, token_type_ids, position_ids, head_mask, inputs_embeds, encoder_hidden_states, encoder_attention_mask, labels, output_attentions, output_hidden_states, return_dict)\u001b[0m\n\u001b[1;32m   1090\u001b[0m \u001b[39mr\u001b[39m\u001b[39m\"\"\"\u001b[39;00m\n\u001b[1;32m   1091\u001b[0m \u001b[39mlabels (`torch.LongTensor` of shape `(batch_size, sequence_length)`, *optional*):\u001b[39;00m\n\u001b[1;32m   1092\u001b[0m \u001b[39m    Labels for computing the masked language modeling loss. Indices should be in `[-100, 0, ...,\u001b[39;00m\n\u001b[0;32m   (...)\u001b[0m\n\u001b[1;32m   1096\u001b[0m \u001b[39m    Used to hide legacy arguments that have been deprecated.\u001b[39;00m\n\u001b[1;32m   1097\u001b[0m \u001b[39m\"\"\"\u001b[39;00m\n\u001b[1;32m   1098\u001b[0m return_dict \u001b[39m=\u001b[39m return_dict \u001b[39mif\u001b[39;00m return_dict \u001b[39mis\u001b[39;00m \u001b[39mnot\u001b[39;00m \u001b[39mNone\u001b[39;00m \u001b[39melse\u001b[39;00m \u001b[39mself\u001b[39m\u001b[39m.\u001b[39mconfig\u001b[39m.\u001b[39muse_return_dict\n\u001b[0;32m-> 1100\u001b[0m outputs \u001b[39m=\u001b[39m \u001b[39mself\u001b[39;49m\u001b[39m.\u001b[39;49mroberta(\n\u001b[1;32m   1101\u001b[0m     input_ids,\n\u001b[1;32m   1102\u001b[0m     attention_mask\u001b[39m=\u001b[39;49mattention_mask,\n\u001b[1;32m   1103\u001b[0m     token_type_ids\u001b[39m=\u001b[39;49mtoken_type_ids,\n\u001b[1;32m   1104\u001b[0m     position_ids\u001b[39m=\u001b[39;49mposition_ids,\n\u001b[1;32m   1105\u001b[0m     head_mask\u001b[39m=\u001b[39;49mhead_mask,\n\u001b[1;32m   1106\u001b[0m     inputs_embeds\u001b[39m=\u001b[39;49minputs_embeds,\n\u001b[1;32m   1107\u001b[0m     encoder_hidden_states\u001b[39m=\u001b[39;49mencoder_hidden_states,\n\u001b[1;32m   1108\u001b[0m     encoder_attention_mask\u001b[39m=\u001b[39;49mencoder_attention_mask,\n\u001b[1;32m   1109\u001b[0m     output_attentions\u001b[39m=\u001b[39;49moutput_attentions,\n\u001b[1;32m   1110\u001b[0m     output_hidden_states\u001b[39m=\u001b[39;49moutput_hidden_states,\n\u001b[1;32m   1111\u001b[0m     return_dict\u001b[39m=\u001b[39;49mreturn_dict,\n\u001b[1;32m   1112\u001b[0m )\n\u001b[1;32m   1113\u001b[0m sequence_output \u001b[39m=\u001b[39m outputs[\u001b[39m0\u001b[39m]\n\u001b[1;32m   1114\u001b[0m prediction_scores \u001b[39m=\u001b[39m \u001b[39mself\u001b[39m\u001b[39m.\u001b[39mlm_head(sequence_output)\n",
      "File \u001b[0;32m~/miniconda3/lib/python3.9/site-packages/torch/nn/modules/module.py:1130\u001b[0m, in \u001b[0;36mModule._call_impl\u001b[0;34m(self, *input, **kwargs)\u001b[0m\n\u001b[1;32m   1126\u001b[0m \u001b[39m# If we don't have any hooks, we want to skip the rest of the logic in\u001b[39;00m\n\u001b[1;32m   1127\u001b[0m \u001b[39m# this function, and just call forward.\u001b[39;00m\n\u001b[1;32m   1128\u001b[0m \u001b[39mif\u001b[39;00m \u001b[39mnot\u001b[39;00m (\u001b[39mself\u001b[39m\u001b[39m.\u001b[39m_backward_hooks \u001b[39mor\u001b[39;00m \u001b[39mself\u001b[39m\u001b[39m.\u001b[39m_forward_hooks \u001b[39mor\u001b[39;00m \u001b[39mself\u001b[39m\u001b[39m.\u001b[39m_forward_pre_hooks \u001b[39mor\u001b[39;00m _global_backward_hooks\n\u001b[1;32m   1129\u001b[0m         \u001b[39mor\u001b[39;00m _global_forward_hooks \u001b[39mor\u001b[39;00m _global_forward_pre_hooks):\n\u001b[0;32m-> 1130\u001b[0m     \u001b[39mreturn\u001b[39;00m forward_call(\u001b[39m*\u001b[39;49m\u001b[39minput\u001b[39;49m, \u001b[39m*\u001b[39;49m\u001b[39m*\u001b[39;49mkwargs)\n\u001b[1;32m   1131\u001b[0m \u001b[39m# Do not call functions when jit is used\u001b[39;00m\n\u001b[1;32m   1132\u001b[0m full_backward_hooks, non_full_backward_hooks \u001b[39m=\u001b[39m [], []\n",
      "File \u001b[0;32m~/miniconda3/lib/python3.9/site-packages/transformers/models/roberta/modeling_roberta.py:852\u001b[0m, in \u001b[0;36mRobertaModel.forward\u001b[0;34m(self, input_ids, attention_mask, token_type_ids, position_ids, head_mask, inputs_embeds, encoder_hidden_states, encoder_attention_mask, past_key_values, use_cache, output_attentions, output_hidden_states, return_dict)\u001b[0m\n\u001b[1;32m    843\u001b[0m head_mask \u001b[39m=\u001b[39m \u001b[39mself\u001b[39m\u001b[39m.\u001b[39mget_head_mask(head_mask, \u001b[39mself\u001b[39m\u001b[39m.\u001b[39mconfig\u001b[39m.\u001b[39mnum_hidden_layers)\n\u001b[1;32m    845\u001b[0m embedding_output \u001b[39m=\u001b[39m \u001b[39mself\u001b[39m\u001b[39m.\u001b[39membeddings(\n\u001b[1;32m    846\u001b[0m     input_ids\u001b[39m=\u001b[39minput_ids,\n\u001b[1;32m    847\u001b[0m     position_ids\u001b[39m=\u001b[39mposition_ids,\n\u001b[0;32m   (...)\u001b[0m\n\u001b[1;32m    850\u001b[0m     past_key_values_length\u001b[39m=\u001b[39mpast_key_values_length,\n\u001b[1;32m    851\u001b[0m )\n\u001b[0;32m--> 852\u001b[0m encoder_outputs \u001b[39m=\u001b[39m \u001b[39mself\u001b[39;49m\u001b[39m.\u001b[39;49mencoder(\n\u001b[1;32m    853\u001b[0m     embedding_output,\n\u001b[1;32m    854\u001b[0m     attention_mask\u001b[39m=\u001b[39;49mextended_attention_mask,\n\u001b[1;32m    855\u001b[0m     head_mask\u001b[39m=\u001b[39;49mhead_mask,\n\u001b[1;32m    856\u001b[0m     encoder_hidden_states\u001b[39m=\u001b[39;49mencoder_hidden_states,\n\u001b[1;32m    857\u001b[0m     encoder_attention_mask\u001b[39m=\u001b[39;49mencoder_extended_attention_mask,\n\u001b[1;32m    858\u001b[0m     past_key_values\u001b[39m=\u001b[39;49mpast_key_values,\n\u001b[1;32m    859\u001b[0m     use_cache\u001b[39m=\u001b[39;49muse_cache,\n\u001b[1;32m    860\u001b[0m     output_attentions\u001b[39m=\u001b[39;49moutput_attentions,\n\u001b[1;32m    861\u001b[0m     output_hidden_states\u001b[39m=\u001b[39;49moutput_hidden_states,\n\u001b[1;32m    862\u001b[0m     return_dict\u001b[39m=\u001b[39;49mreturn_dict,\n\u001b[1;32m    863\u001b[0m )\n\u001b[1;32m    864\u001b[0m sequence_output \u001b[39m=\u001b[39m encoder_outputs[\u001b[39m0\u001b[39m]\n\u001b[1;32m    865\u001b[0m pooled_output \u001b[39m=\u001b[39m \u001b[39mself\u001b[39m\u001b[39m.\u001b[39mpooler(sequence_output) \u001b[39mif\u001b[39;00m \u001b[39mself\u001b[39m\u001b[39m.\u001b[39mpooler \u001b[39mis\u001b[39;00m \u001b[39mnot\u001b[39;00m \u001b[39mNone\u001b[39;00m \u001b[39melse\u001b[39;00m \u001b[39mNone\u001b[39;00m\n",
      "File \u001b[0;32m~/miniconda3/lib/python3.9/site-packages/torch/nn/modules/module.py:1130\u001b[0m, in \u001b[0;36mModule._call_impl\u001b[0;34m(self, *input, **kwargs)\u001b[0m\n\u001b[1;32m   1126\u001b[0m \u001b[39m# If we don't have any hooks, we want to skip the rest of the logic in\u001b[39;00m\n\u001b[1;32m   1127\u001b[0m \u001b[39m# this function, and just call forward.\u001b[39;00m\n\u001b[1;32m   1128\u001b[0m \u001b[39mif\u001b[39;00m \u001b[39mnot\u001b[39;00m (\u001b[39mself\u001b[39m\u001b[39m.\u001b[39m_backward_hooks \u001b[39mor\u001b[39;00m \u001b[39mself\u001b[39m\u001b[39m.\u001b[39m_forward_hooks \u001b[39mor\u001b[39;00m \u001b[39mself\u001b[39m\u001b[39m.\u001b[39m_forward_pre_hooks \u001b[39mor\u001b[39;00m _global_backward_hooks\n\u001b[1;32m   1129\u001b[0m         \u001b[39mor\u001b[39;00m _global_forward_hooks \u001b[39mor\u001b[39;00m _global_forward_pre_hooks):\n\u001b[0;32m-> 1130\u001b[0m     \u001b[39mreturn\u001b[39;00m forward_call(\u001b[39m*\u001b[39;49m\u001b[39minput\u001b[39;49m, \u001b[39m*\u001b[39;49m\u001b[39m*\u001b[39;49mkwargs)\n\u001b[1;32m   1131\u001b[0m \u001b[39m# Do not call functions when jit is used\u001b[39;00m\n\u001b[1;32m   1132\u001b[0m full_backward_hooks, non_full_backward_hooks \u001b[39m=\u001b[39m [], []\n",
      "File \u001b[0;32m~/miniconda3/lib/python3.9/site-packages/transformers/models/roberta/modeling_roberta.py:527\u001b[0m, in \u001b[0;36mRobertaEncoder.forward\u001b[0;34m(self, hidden_states, attention_mask, head_mask, encoder_hidden_states, encoder_attention_mask, past_key_values, use_cache, output_attentions, output_hidden_states, return_dict)\u001b[0m\n\u001b[1;32m    518\u001b[0m     layer_outputs \u001b[39m=\u001b[39m torch\u001b[39m.\u001b[39mutils\u001b[39m.\u001b[39mcheckpoint\u001b[39m.\u001b[39mcheckpoint(\n\u001b[1;32m    519\u001b[0m         create_custom_forward(layer_module),\n\u001b[1;32m    520\u001b[0m         hidden_states,\n\u001b[0;32m   (...)\u001b[0m\n\u001b[1;32m    524\u001b[0m         encoder_attention_mask,\n\u001b[1;32m    525\u001b[0m     )\n\u001b[1;32m    526\u001b[0m \u001b[39melse\u001b[39;00m:\n\u001b[0;32m--> 527\u001b[0m     layer_outputs \u001b[39m=\u001b[39m layer_module(\n\u001b[1;32m    528\u001b[0m         hidden_states,\n\u001b[1;32m    529\u001b[0m         attention_mask,\n\u001b[1;32m    530\u001b[0m         layer_head_mask,\n\u001b[1;32m    531\u001b[0m         encoder_hidden_states,\n\u001b[1;32m    532\u001b[0m         encoder_attention_mask,\n\u001b[1;32m    533\u001b[0m         past_key_value,\n\u001b[1;32m    534\u001b[0m         output_attentions,\n\u001b[1;32m    535\u001b[0m     )\n\u001b[1;32m    537\u001b[0m hidden_states \u001b[39m=\u001b[39m layer_outputs[\u001b[39m0\u001b[39m]\n\u001b[1;32m    538\u001b[0m \u001b[39mif\u001b[39;00m use_cache:\n",
      "File \u001b[0;32m~/miniconda3/lib/python3.9/site-packages/torch/nn/modules/module.py:1130\u001b[0m, in \u001b[0;36mModule._call_impl\u001b[0;34m(self, *input, **kwargs)\u001b[0m\n\u001b[1;32m   1126\u001b[0m \u001b[39m# If we don't have any hooks, we want to skip the rest of the logic in\u001b[39;00m\n\u001b[1;32m   1127\u001b[0m \u001b[39m# this function, and just call forward.\u001b[39;00m\n\u001b[1;32m   1128\u001b[0m \u001b[39mif\u001b[39;00m \u001b[39mnot\u001b[39;00m (\u001b[39mself\u001b[39m\u001b[39m.\u001b[39m_backward_hooks \u001b[39mor\u001b[39;00m \u001b[39mself\u001b[39m\u001b[39m.\u001b[39m_forward_hooks \u001b[39mor\u001b[39;00m \u001b[39mself\u001b[39m\u001b[39m.\u001b[39m_forward_pre_hooks \u001b[39mor\u001b[39;00m _global_backward_hooks\n\u001b[1;32m   1129\u001b[0m         \u001b[39mor\u001b[39;00m _global_forward_hooks \u001b[39mor\u001b[39;00m _global_forward_pre_hooks):\n\u001b[0;32m-> 1130\u001b[0m     \u001b[39mreturn\u001b[39;00m forward_call(\u001b[39m*\u001b[39;49m\u001b[39minput\u001b[39;49m, \u001b[39m*\u001b[39;49m\u001b[39m*\u001b[39;49mkwargs)\n\u001b[1;32m   1131\u001b[0m \u001b[39m# Do not call functions when jit is used\u001b[39;00m\n\u001b[1;32m   1132\u001b[0m full_backward_hooks, non_full_backward_hooks \u001b[39m=\u001b[39m [], []\n",
      "File \u001b[0;32m~/miniconda3/lib/python3.9/site-packages/transformers/models/roberta/modeling_roberta.py:453\u001b[0m, in \u001b[0;36mRobertaLayer.forward\u001b[0;34m(self, hidden_states, attention_mask, head_mask, encoder_hidden_states, encoder_attention_mask, past_key_value, output_attentions)\u001b[0m\n\u001b[1;32m    450\u001b[0m     cross_attn_present_key_value \u001b[39m=\u001b[39m cross_attention_outputs[\u001b[39m-\u001b[39m\u001b[39m1\u001b[39m]\n\u001b[1;32m    451\u001b[0m     present_key_value \u001b[39m=\u001b[39m present_key_value \u001b[39m+\u001b[39m cross_attn_present_key_value\n\u001b[0;32m--> 453\u001b[0m layer_output \u001b[39m=\u001b[39m apply_chunking_to_forward(\n\u001b[1;32m    454\u001b[0m     \u001b[39mself\u001b[39;49m\u001b[39m.\u001b[39;49mfeed_forward_chunk, \u001b[39mself\u001b[39;49m\u001b[39m.\u001b[39;49mchunk_size_feed_forward, \u001b[39mself\u001b[39;49m\u001b[39m.\u001b[39;49mseq_len_dim, attention_output\n\u001b[1;32m    455\u001b[0m )\n\u001b[1;32m    456\u001b[0m outputs \u001b[39m=\u001b[39m (layer_output,) \u001b[39m+\u001b[39m outputs\n\u001b[1;32m    458\u001b[0m \u001b[39m# if decoder, return the attn key/values as the last output\u001b[39;00m\n",
      "File \u001b[0;32m~/miniconda3/lib/python3.9/site-packages/transformers/pytorch_utils.py:236\u001b[0m, in \u001b[0;36mapply_chunking_to_forward\u001b[0;34m(forward_fn, chunk_size, chunk_dim, *input_tensors)\u001b[0m\n\u001b[1;32m    233\u001b[0m     \u001b[39m# concatenate output at same dimension\u001b[39;00m\n\u001b[1;32m    234\u001b[0m     \u001b[39mreturn\u001b[39;00m torch\u001b[39m.\u001b[39mcat(output_chunks, dim\u001b[39m=\u001b[39mchunk_dim)\n\u001b[0;32m--> 236\u001b[0m \u001b[39mreturn\u001b[39;00m forward_fn(\u001b[39m*\u001b[39;49minput_tensors)\n",
      "File \u001b[0;32m~/miniconda3/lib/python3.9/site-packages/transformers/models/roberta/modeling_roberta.py:465\u001b[0m, in \u001b[0;36mRobertaLayer.feed_forward_chunk\u001b[0;34m(self, attention_output)\u001b[0m\n\u001b[1;32m    464\u001b[0m \u001b[39mdef\u001b[39;00m \u001b[39mfeed_forward_chunk\u001b[39m(\u001b[39mself\u001b[39m, attention_output):\n\u001b[0;32m--> 465\u001b[0m     intermediate_output \u001b[39m=\u001b[39m \u001b[39mself\u001b[39;49m\u001b[39m.\u001b[39;49mintermediate(attention_output)\n\u001b[1;32m    466\u001b[0m     layer_output \u001b[39m=\u001b[39m \u001b[39mself\u001b[39m\u001b[39m.\u001b[39moutput(intermediate_output, attention_output)\n\u001b[1;32m    467\u001b[0m     \u001b[39mreturn\u001b[39;00m layer_output\n",
      "File \u001b[0;32m~/miniconda3/lib/python3.9/site-packages/torch/nn/modules/module.py:1130\u001b[0m, in \u001b[0;36mModule._call_impl\u001b[0;34m(self, *input, **kwargs)\u001b[0m\n\u001b[1;32m   1126\u001b[0m \u001b[39m# If we don't have any hooks, we want to skip the rest of the logic in\u001b[39;00m\n\u001b[1;32m   1127\u001b[0m \u001b[39m# this function, and just call forward.\u001b[39;00m\n\u001b[1;32m   1128\u001b[0m \u001b[39mif\u001b[39;00m \u001b[39mnot\u001b[39;00m (\u001b[39mself\u001b[39m\u001b[39m.\u001b[39m_backward_hooks \u001b[39mor\u001b[39;00m \u001b[39mself\u001b[39m\u001b[39m.\u001b[39m_forward_hooks \u001b[39mor\u001b[39;00m \u001b[39mself\u001b[39m\u001b[39m.\u001b[39m_forward_pre_hooks \u001b[39mor\u001b[39;00m _global_backward_hooks\n\u001b[1;32m   1129\u001b[0m         \u001b[39mor\u001b[39;00m _global_forward_hooks \u001b[39mor\u001b[39;00m _global_forward_pre_hooks):\n\u001b[0;32m-> 1130\u001b[0m     \u001b[39mreturn\u001b[39;00m forward_call(\u001b[39m*\u001b[39;49m\u001b[39minput\u001b[39;49m, \u001b[39m*\u001b[39;49m\u001b[39m*\u001b[39;49mkwargs)\n\u001b[1;32m   1131\u001b[0m \u001b[39m# Do not call functions when jit is used\u001b[39;00m\n\u001b[1;32m   1132\u001b[0m full_backward_hooks, non_full_backward_hooks \u001b[39m=\u001b[39m [], []\n",
      "File \u001b[0;32m~/miniconda3/lib/python3.9/site-packages/transformers/models/roberta/modeling_roberta.py:363\u001b[0m, in \u001b[0;36mRobertaIntermediate.forward\u001b[0;34m(self, hidden_states)\u001b[0m\n\u001b[1;32m    362\u001b[0m \u001b[39mdef\u001b[39;00m \u001b[39mforward\u001b[39m(\u001b[39mself\u001b[39m, hidden_states: torch\u001b[39m.\u001b[39mTensor) \u001b[39m-\u001b[39m\u001b[39m>\u001b[39m torch\u001b[39m.\u001b[39mTensor:\n\u001b[0;32m--> 363\u001b[0m     hidden_states \u001b[39m=\u001b[39m \u001b[39mself\u001b[39;49m\u001b[39m.\u001b[39;49mdense(hidden_states)\n\u001b[1;32m    364\u001b[0m     hidden_states \u001b[39m=\u001b[39m \u001b[39mself\u001b[39m\u001b[39m.\u001b[39mintermediate_act_fn(hidden_states)\n\u001b[1;32m    365\u001b[0m     \u001b[39mreturn\u001b[39;00m hidden_states\n",
      "File \u001b[0;32m~/miniconda3/lib/python3.9/site-packages/torch/nn/modules/module.py:1130\u001b[0m, in \u001b[0;36mModule._call_impl\u001b[0;34m(self, *input, **kwargs)\u001b[0m\n\u001b[1;32m   1126\u001b[0m \u001b[39m# If we don't have any hooks, we want to skip the rest of the logic in\u001b[39;00m\n\u001b[1;32m   1127\u001b[0m \u001b[39m# this function, and just call forward.\u001b[39;00m\n\u001b[1;32m   1128\u001b[0m \u001b[39mif\u001b[39;00m \u001b[39mnot\u001b[39;00m (\u001b[39mself\u001b[39m\u001b[39m.\u001b[39m_backward_hooks \u001b[39mor\u001b[39;00m \u001b[39mself\u001b[39m\u001b[39m.\u001b[39m_forward_hooks \u001b[39mor\u001b[39;00m \u001b[39mself\u001b[39m\u001b[39m.\u001b[39m_forward_pre_hooks \u001b[39mor\u001b[39;00m _global_backward_hooks\n\u001b[1;32m   1129\u001b[0m         \u001b[39mor\u001b[39;00m _global_forward_hooks \u001b[39mor\u001b[39;00m _global_forward_pre_hooks):\n\u001b[0;32m-> 1130\u001b[0m     \u001b[39mreturn\u001b[39;00m forward_call(\u001b[39m*\u001b[39;49m\u001b[39minput\u001b[39;49m, \u001b[39m*\u001b[39;49m\u001b[39m*\u001b[39;49mkwargs)\n\u001b[1;32m   1131\u001b[0m \u001b[39m# Do not call functions when jit is used\u001b[39;00m\n\u001b[1;32m   1132\u001b[0m full_backward_hooks, non_full_backward_hooks \u001b[39m=\u001b[39m [], []\n",
      "File \u001b[0;32m~/miniconda3/lib/python3.9/site-packages/torch/nn/modules/linear.py:114\u001b[0m, in \u001b[0;36mLinear.forward\u001b[0;34m(self, input)\u001b[0m\n\u001b[1;32m    113\u001b[0m \u001b[39mdef\u001b[39;00m \u001b[39mforward\u001b[39m(\u001b[39mself\u001b[39m, \u001b[39minput\u001b[39m: Tensor) \u001b[39m-\u001b[39m\u001b[39m>\u001b[39m Tensor:\n\u001b[0;32m--> 114\u001b[0m     \u001b[39mreturn\u001b[39;00m F\u001b[39m.\u001b[39mlinear(\u001b[39minput\u001b[39m, \u001b[39mself\u001b[39m\u001b[39m.\u001b[39mweight, \u001b[39mself\u001b[39;49m\u001b[39m.\u001b[39;49mbias)\n",
      "File \u001b[0;32m~/miniconda3/lib/python3.9/site-packages/torch/nn/modules/module.py:1194\u001b[0m, in \u001b[0;36mModule.__getattr__\u001b[0;34m(self, name)\u001b[0m\n\u001b[1;32m   1191\u001b[0m     \u001b[39mif\u001b[39;00m \u001b[39m'\u001b[39m\u001b[39m_is_full_backward_hook\u001b[39m\u001b[39m'\u001b[39m \u001b[39mnot\u001b[39;00m \u001b[39min\u001b[39;00m \u001b[39mself\u001b[39m\u001b[39m.\u001b[39m\u001b[39m__dict__\u001b[39m:\n\u001b[1;32m   1192\u001b[0m         \u001b[39mself\u001b[39m\u001b[39m.\u001b[39m_is_full_backward_hook \u001b[39m=\u001b[39m \u001b[39mNone\u001b[39;00m\n\u001b[0;32m-> 1194\u001b[0m \u001b[39mdef\u001b[39;00m \u001b[39m__getattr__\u001b[39m(\u001b[39mself\u001b[39m, name: \u001b[39mstr\u001b[39m) \u001b[39m-\u001b[39m\u001b[39m>\u001b[39m Union[Tensor, \u001b[39m'\u001b[39m\u001b[39mModule\u001b[39m\u001b[39m'\u001b[39m]:\n\u001b[1;32m   1195\u001b[0m     \u001b[39mif\u001b[39;00m \u001b[39m'\u001b[39m\u001b[39m_parameters\u001b[39m\u001b[39m'\u001b[39m \u001b[39min\u001b[39;00m \u001b[39mself\u001b[39m\u001b[39m.\u001b[39m\u001b[39m__dict__\u001b[39m:\n\u001b[1;32m   1196\u001b[0m         _parameters \u001b[39m=\u001b[39m \u001b[39mself\u001b[39m\u001b[39m.\u001b[39m\u001b[39m__dict__\u001b[39m[\u001b[39m'\u001b[39m\u001b[39m_parameters\u001b[39m\u001b[39m'\u001b[39m]\n",
      "\u001b[0;31mKeyboardInterrupt\u001b[0m: "
     ]
    }
   ],
   "source": [
    "import random\n",
    "\n",
    "# # start a new wandb run to track this script\n",
    "# wandb.init(\n",
    "#     # set the wandb project where this run will be logged\n",
    "#     project=\"DQN RLPrompt LOCAL MPS\",\n",
    "    \n",
    "#     # track hyperparameters and run metadata\n",
    "#     config={\n",
    "#     \"learning_rate\": 1e-4,\n",
    "#     \"architecture\": \"DQN\",\n",
    "#     \"dataset\": \"sst\",\n",
    "#     \"epochs\": 2999,\n",
    "#     }\n",
    "# )\n",
    "ql.train(train_x, train_y, val_x, val_y, epochs = 2999)"
   ]
  },
  {
   "cell_type": "code",
   "execution_count": 35,
   "metadata": {
    "colab": {
     "base_uri": "https://localhost:8080/",
     "height": 467
    },
    "id": "lahaylmsi-NU",
    "outputId": "c919aa9a-ab9f-4b6b-e3a7-55d46fcc493d"
   },
   "outputs": [
    {
     "data": {
      "text/plain": [
       "Text(0, 0.5, 'Train Accuracy')"
      ]
     },
     "execution_count": 35,
     "metadata": {},
     "output_type": "execute_result"
    },
    {
     "data": {
      "image/png": "[encoded data removed]",
      "text/plain": [
       "<Figure size 640x480 with 1 Axes>"
      ]
     },
     "metadata": {},
     "output_type": "display_data"
    }
   ],
   "source": [
    "import matplotlib.pyplot as plt\n",
    "\n",
    "plt.plot([i for i in range(len(ql.accuracy))], ql.accuracy)\n",
    "plt.xlabel('Epochs/ Training Episodes')\n",
    "plt.ylabel('Train Accuracy')\n",
    "## next attempt: try putting the new token into target since it should be the future action thats being compared\n"
   ]
  },
  {
   "cell_type": "code",
   "execution_count": 36,
   "metadata": {
    "colab": {
     "base_uri": "https://localhost:8080/",
     "height": 448
    },
    "id": "XxBOG6HzeoOl",
    "outputId": "4571ee8c-dd24-4efc-8931-eadb6623bac4"
   },
   "outputs": [
    {
     "data": {
      "text/plain": [
       "[<matplotlib.lines.Line2D at 0x7f3bee81b1f0>]"
      ]
     },
     "execution_count": 36,
     "metadata": {},
     "output_type": "execute_result"
    },
    {
     "data": {
      "image/png": "[encoded data removed]",
      "text/plain": [
       "<Figure size 640x480 with 1 Axes>"
      ]
     },
     "metadata": {},
     "output_type": "display_data"
    }
   ],
   "source": [
    "import matplotlib.pyplot as plt\n",
    "\n",
    "plt.plot([i for i in range(len(ql.loss_))], ql.loss_)\n",
    "\n",
    "## next attempt: try putting the new token into target since it should be the future action thats being compared"
   ]
  },
  {
   "cell_type": "code",
   "execution_count": 37,
   "metadata": {
    "id": "RxxyI2LneoOm",
    "outputId": "d696c9fc-bf2f-4adc-9959-2fb91325db47"
   },
   "outputs": [
    {
     "data": {
      "text/plain": [
       "<matplotlib.legend.Legend at 0x7f3ce2a2a160>"
      ]
     },
     "execution_count": 37,
     "metadata": {},
     "output_type": "execute_result"
    },
    {
     "data": {
      "image/png": "[encoded data removed]",
      "text/plain": [
       "<Figure size 640x480 with 1 Axes>"
      ]
     },
     "metadata": {},
     "output_type": "display_data"
    }
   ],
   "source": [
    "import matplotlib.pyplot as plt\n",
    "plt.plot([i for i in range(len(ql.accuracy))], ql.accuracy, label = 'training')\n",
    "plt.plot([i*10 for i in range(len(ql.val_acc))], ql.val_acc, label = 'validation')\n",
    "plt.xlabel('Epochs/ Episodes')\n",
    "plt.ylabel('Accuracy')\n",
    "plt.legend()\n",
    "## next attempt: try putting the new token into target since it should be the future action thats being compared"
   ]
  },
  {
   "cell_type": "code",
   "execution_count": null,
   "metadata": {},
   "outputs": [],
   "source": [
    "test_x = list(pd.read_csv('yelp_test')['text'].apply(lambda x: x[:1000]))\n",
    "test_y = list(pd.read_csv('yelp_test')['label'])\n",
    "\n",
    "with torch.no_grad():\n",
    "    prompts, Q = ql.get_actions_Q_input_specific_target(val_x)\n",
    "#     accuracy = ql.get_accuracy_(test_x, test_y, [' '.join(prompt) for prompt in prompts])"
   ]
  },
  {
   "cell_type": "code",
   "execution_count": null,
   "metadata": {},
   "outputs": [],
   "source": [
    "print(ql.get_accuracy_(test_x, test_y, [' '.join(prompt) for prompt in prompts][1]))"
   ]
  },
  {
   "cell_type": "code",
   "execution_count": null,
   "metadata": {},
   "outputs": [],
   "source": [
    "for ch in (''.join(prompts[0])):\n",
    "    print(ord(ch))"
   ]
  },
  {
   "cell_type": "code",
   "execution_count": null,
   "metadata": {},
   "outputs": [],
   "source": [
    "Q[0].softmax(-1).argmax(-1)"
   ]
  },
  {
   "cell_type": "code",
   "execution_count": null,
   "metadata": {},
   "outputs": [],
   "source": [
    "ord(prompts[0][0][0])"
   ]
  },
  {
   "cell_type": "code",
   "execution_count": null,
   "metadata": {},
   "outputs": [],
   "source": [
    "Q[0].softmax(-1).argmax(-1)"
   ]
  },
  {
   "cell_type": "code",
   "execution_count": null,
   "metadata": {},
   "outputs": [],
   "source": [
    "ql.mlp.lm_pipeline.tokenizer.convert_ids_to_tokens([31204])"
   ]
  },
  {
   "cell_type": "code",
   "execution_count": null,
   "metadata": {},
   "outputs": [],
   "source": [
    "type(ql.mlp.lm_pipeline.tokenizer)"
   ]
  },
  {
   "cell_type": "code",
   "execution_count": null,
   "metadata": {},
   "outputs": [],
   "source": [
    "dir(ql.mlp.lm_pipeline.tokenizer)"
   ]
  },
  {
   "cell_type": "code",
   "execution_count": null,
   "metadata": {},
   "outputs": [],
   "source": []
  }
 ],
 "metadata": {
  "accelerator": "GPU",
  "colab": {
   "gpuType": "T4",
   "provenance": []
  },
  "gpuClass": "standard",
  "kernelspec": {
   "display_name": "Python 3 (ipykernel)",
   "language": "python",
   "name": "python3"
  },
  "language_info": {
   "codemirror_mode": {
    "name": "ipython",
    "version": 3
   },
   "file_extension": ".py",
   "mimetype": "text/x-python",
   "name": "python",
   "nbconvert_exporter": "python",
   "pygments_lexer": "ipython3",
   "version": "3.9.12"
  },
  "widgets": {
   "application/vnd.jupyter.widget-state+json": {
    "004d5bafdef04319b7db98d3dbf1fbd4": {
     "model_module": "@jupyter-widgets/controls",
     "model_module_version": "1.5.0",
     "model_name": "HTMLModel",
     "state": {
      "_dom_classes": [],
      "_model_module": "@jupyter-widgets/controls",
      "_model_module_version": "1.5.0",
      "_model_name": "HTMLModel",
      "_view_count": null,
      "_view_module": "@jupyter-widgets/controls",
      "_view_module_version": "1.5.0",
      "_view_name": "HTMLView",
      "description": "",
      "description_tooltip": null,
      "layout": "IPY_MODEL_f7e0e0eccaab4010832bf507d87ab587",
      "placeholder": "​",
      "style": "IPY_MODEL_b8aea0901e9a4ab6bfa6ff1805e4b240",
      "value": "Generating train split: 100%"
     }
    },
    "01efce9fdd394765b0f953de34f45519": {
     "model_module": "@jupyter-widgets/base",
     "model_module_version": "1.2.0",
     "model_name": "LayoutModel",
     "state": {
      "_model_module": "@jupyter-widgets/base",
      "_model_module_version": "1.2.0",
      "_model_name": "LayoutModel",
      "_view_count": null,
      "_view_module": "@jupyter-widgets/base",
      "_view_module_version": "1.2.0",
      "_view_name": "LayoutView",
      "align_content": null,
      "align_items": null,
      "align_self": null,
      "border": null,
      "bottom": null,
      "display": null,
      "flex": null,
      "flex_flow": null,
      "grid_area": null,
      "grid_auto_columns": null,
      "grid_auto_flow": null,
      "grid_auto_rows": null,
      "grid_column": null,
      "grid_gap": null,
      "grid_row": null,
      "grid_template_areas": null,
      "grid_template_columns": null,
      "grid_template_rows": null,
      "height": null,
      "justify_content": null,
      "justify_items": null,
      "left": null,
      "margin": null,
      "max_height": null,
      "max_width": null,
      "min_height": null,
      "min_width": null,
      "object_fit": null,
      "object_position": null,
      "order": null,
      "overflow": null,
      "overflow_x": null,
      "overflow_y": null,
      "padding": null,
      "right": null,
      "top": null,
      "visibility": null,
      "width": null
     }
    },
    "07003fc1a7ea47d1b54aca1a310f81fe": {
     "model_module": "@jupyter-widgets/controls",
     "model_module_version": "1.5.0",
     "model_name": "HTMLModel",
     "state": {
      "_dom_classes": [],
      "_model_module": "@jupyter-widgets/controls",
      "_model_module_version": "1.5.0",
      "_model_name": "HTMLModel",
      "_view_count": null,
      "_view_module": "@jupyter-widgets/controls",
      "_view_module_version": "1.5.0",
      "_view_name": "HTMLView",
      "description": "",
      "description_tooltip": null,
      "layout": "IPY_MODEL_d4ce099d04514c068767329e5d766929",
      "placeholder": "​",
      "style": "IPY_MODEL_3a50429fd183465294697b8c57cfec04",
      "value": "Generating validation split:   0%"
     }
    },
    "07c038651bcf4ed98ac7a41f01d09e04": {
     "model_module": "@jupyter-widgets/controls",
     "model_module_version": "1.5.0",
     "model_name": "FloatProgressModel",
     "state": {
      "_dom_classes": [],
      "_model_module": "@jupyter-widgets/controls",
      "_model_module_version": "1.5.0",
      "_model_name": "FloatProgressModel",
      "_view_count": null,
      "_view_module": "@jupyter-widgets/controls",
      "_view_module_version": "1.5.0",
      "_view_name": "ProgressView",
      "bar_style": "success",
      "description": "",
      "description_tooltip": null,
      "layout": "IPY_MODEL_b3df6e6dfed942938cba586fb7f4722e",
      "max": 1848,
      "min": 0,
      "orientation": "horizontal",
      "style": "IPY_MODEL_df21b401080b4f2face0f7a53b42f813",
      "value": 1848
     }
    },
    "08a5830e2d6445ff87e5add8fa2b9c4b": {
     "model_module": "@jupyter-widgets/base",
     "model_module_version": "1.2.0",
     "model_name": "LayoutModel",
     "state": {
      "_model_module": "@jupyter-widgets/base",
      "_model_module_version": "1.2.0",
      "_model_name": "LayoutModel",
      "_view_count": null,
      "_view_module": "@jupyter-widgets/base",
      "_view_module_version": "1.2.0",
      "_view_name": "LayoutView",
      "align_content": null,
      "align_items": null,
      "align_self": null,
      "border": null,
      "bottom": null,
      "display": null,
      "flex": null,
      "flex_flow": null,
      "grid_area": null,
      "grid_auto_columns": null,
      "grid_auto_flow": null,
      "grid_auto_rows": null,
      "grid_column": null,
      "grid_gap": null,
      "grid_row": null,
      "grid_template_areas": null,
      "grid_template_columns": null,
      "grid_template_rows": null,
      "height": null,
      "justify_content": null,
      "justify_items": null,
      "left": null,
      "margin": null,
      "max_height": null,
      "max_width": null,
      "min_height": null,
      "min_width": null,
      "object_fit": null,
      "object_position": null,
      "order": null,
      "overflow": null,
      "overflow_x": null,
      "overflow_y": null,
      "padding": null,
      "right": null,
      "top": null,
      "visibility": null,
      "width": null
     }
    },
    "0906331cec0c42d08e34101e32b1d10c": {
     "model_module": "@jupyter-widgets/controls",
     "model_module_version": "1.5.0",
     "model_name": "DescriptionStyleModel",
     "state": {
      "_model_module": "@jupyter-widgets/controls",
      "_model_module_version": "1.5.0",
      "_model_name": "DescriptionStyleModel",
      "_view_count": null,
      "_view_module": "@jupyter-widgets/base",
      "_view_module_version": "1.2.0",
      "_view_name": "StyleView",
      "description_width": ""
     }
    },
    "0b6a9f502ae74b18a25f702ded662682": {
     "model_module": "@jupyter-widgets/controls",
     "model_module_version": "1.5.0",
     "model_name": "ProgressStyleModel",
     "state": {
      "_model_module": "@jupyter-widgets/controls",
      "_model_module_version": "1.5.0",
      "_model_name": "ProgressStyleModel",
      "_view_count": null,
      "_view_module": "@jupyter-widgets/base",
      "_view_module_version": "1.2.0",
      "_view_name": "StyleView",
      "bar_color": null,
      "description_width": ""
     }
    },
    "1393ffbc23c1455aa8ba96bf7ebb6628": {
     "model_module": "@jupyter-widgets/base",
     "model_module_version": "1.2.0",
     "model_name": "LayoutModel",
     "state": {
      "_model_module": "@jupyter-widgets/base",
      "_model_module_version": "1.2.0",
      "_model_name": "LayoutModel",
      "_view_count": null,
      "_view_module": "@jupyter-widgets/base",
      "_view_module_version": "1.2.0",
      "_view_name": "LayoutView",
      "align_content": null,
      "align_items": null,
      "align_self": null,
      "border": null,
      "bottom": null,
      "display": null,
      "flex": null,
      "flex_flow": null,
      "grid_area": null,
      "grid_auto_columns": null,
      "grid_auto_flow": null,
      "grid_auto_rows": null,
      "grid_column": null,
      "grid_gap": null,
      "grid_row": null,
      "grid_template_areas": null,
      "grid_template_columns": null,
      "grid_template_rows": null,
      "height": null,
      "justify_content": null,
      "justify_items": null,
      "left": null,
      "margin": null,
      "max_height": null,
      "max_width": null,
      "min_height": null,
      "min_width": null,
      "object_fit": null,
      "object_position": null,
      "order": null,
      "overflow": null,
      "overflow_x": null,
      "overflow_y": null,
      "padding": null,
      "right": null,
      "top": null,
      "visibility": "hidden",
      "width": null
     }
    },
    "15946eeef51146b4b079986d3107aa14": {
     "model_module": "@jupyter-widgets/controls",
     "model_module_version": "1.5.0",
     "model_name": "DescriptionStyleModel",
     "state": {
      "_model_module": "@jupyter-widgets/controls",
      "_model_module_version": "1.5.0",
      "_model_name": "DescriptionStyleModel",
      "_view_count": null,
      "_view_module": "@jupyter-widgets/base",
      "_view_module_version": "1.2.0",
      "_view_name": "StyleView",
      "description_width": ""
     }
    },
    "17480ec7b5d84aa39d45f31459f02016": {
     "model_module": "@jupyter-widgets/controls",
     "model_module_version": "1.5.0",
     "model_name": "DescriptionStyleModel",
     "state": {
      "_model_module": "@jupyter-widgets/controls",
      "_model_module_version": "1.5.0",
      "_model_name": "DescriptionStyleModel",
      "_view_count": null,
      "_view_module": "@jupyter-widgets/base",
      "_view_module_version": "1.2.0",
      "_view_name": "StyleView",
      "description_width": ""
     }
    },
    "1949410280a34448bb7f36db6ec9e73f": {
     "model_module": "@jupyter-widgets/controls",
     "model_module_version": "1.5.0",
     "model_name": "FloatProgressModel",
     "state": {
      "_dom_classes": [],
      "_model_module": "@jupyter-widgets/controls",
      "_model_module_version": "1.5.0",
      "_model_name": "FloatProgressModel",
      "_view_count": null,
      "_view_module": "@jupyter-widgets/controls",
      "_view_module_version": "1.5.0",
      "_view_name": "ProgressView",
      "bar_style": "success",
      "description": "",
      "description_tooltip": null,
      "layout": "IPY_MODEL_2263c4c3734e4b94be842e8acc554939",
      "max": 3,
      "min": 0,
      "orientation": "horizontal",
      "style": "IPY_MODEL_ae86d11872c941e19f02e8fbc76e0f02",
      "value": 3
     }
    },
    "1a838f890e344d5697da449b718768dd": {
     "model_module": "@jupyter-widgets/controls",
     "model_module_version": "1.5.0",
     "model_name": "HTMLModel",
     "state": {
      "_dom_classes": [],
      "_model_module": "@jupyter-widgets/controls",
      "_model_module_version": "1.5.0",
      "_model_name": "HTMLModel",
      "_view_count": null,
      "_view_module": "@jupyter-widgets/controls",
      "_view_module_version": "1.5.0",
      "_view_name": "HTMLView",
      "description": "",
      "description_tooltip": null,
      "layout": "IPY_MODEL_6c8bbbb3b592472fb09fbeefe11f54b7",
      "placeholder": "​",
      "style": "IPY_MODEL_d54d3fe606da44348f7363ec37d2c0bc",
      "value": "Generating test split:  78%"
     }
    },
    "1f7b2952b64946b2a6dcb2d7acd73b27": {
     "model_module": "@jupyter-widgets/controls",
     "model_module_version": "1.5.0",
     "model_name": "FloatProgressModel",
     "state": {
      "_dom_classes": [],
      "_model_module": "@jupyter-widgets/controls",
      "_model_module_version": "1.5.0",
      "_model_name": "FloatProgressModel",
      "_view_count": null,
      "_view_module": "@jupyter-widgets/controls",
      "_view_module_version": "1.5.0",
      "_view_name": "ProgressView",
      "bar_style": "success",
      "description": "",
      "description_tooltip": null,
      "layout": "IPY_MODEL_f18c07bace4747a7ac757b5a7913909c",
      "max": 3770,
      "min": 0,
      "orientation": "horizontal",
      "style": "IPY_MODEL_fa3fc3a33cec42e4a228356d67b734ab",
      "value": 3770
     }
    },
    "2263c4c3734e4b94be842e8acc554939": {
     "model_module": "@jupyter-widgets/base",
     "model_module_version": "1.2.0",
     "model_name": "LayoutModel",
     "state": {
      "_model_module": "@jupyter-widgets/base",
      "_model_module_version": "1.2.0",
      "_model_name": "LayoutModel",
      "_view_count": null,
      "_view_module": "@jupyter-widgets/base",
      "_view_module_version": "1.2.0",
      "_view_name": "LayoutView",
      "align_content": null,
      "align_items": null,
      "align_self": null,
      "border": null,
      "bottom": null,
      "display": null,
      "flex": null,
      "flex_flow": null,
      "grid_area": null,
      "grid_auto_columns": null,
      "grid_auto_flow": null,
      "grid_auto_rows": null,
      "grid_column": null,
      "grid_gap": null,
      "grid_row": null,
      "grid_template_areas": null,
      "grid_template_columns": null,
      "grid_template_rows": null,
      "height": null,
      "justify_content": null,
      "justify_items": null,
      "left": null,
      "margin": null,
      "max_height": null,
      "max_width": null,
      "min_height": null,
      "min_width": null,
      "object_fit": null,
      "object_position": null,
      "order": null,
      "overflow": null,
      "overflow_x": null,
      "overflow_y": null,
      "padding": null,
      "right": null,
      "top": null,
      "visibility": null,
      "width": null
     }
    },
    "2347e2c9b6a7446490cf2997ab804d2f": {
     "model_module": "@jupyter-widgets/controls",
     "model_module_version": "1.5.0",
     "model_name": "DescriptionStyleModel",
     "state": {
      "_model_module": "@jupyter-widgets/controls",
      "_model_module_version": "1.5.0",
      "_model_name": "DescriptionStyleModel",
      "_view_count": null,
      "_view_module": "@jupyter-widgets/base",
      "_view_module_version": "1.2.0",
      "_view_name": "StyleView",
      "description_width": ""
     }
    },
    "2392ed2205fa4c4788c59d9aa9bbd019": {
     "model_module": "@jupyter-widgets/controls",
     "model_module_version": "1.5.0",
     "model_name": "HTMLModel",
     "state": {
      "_dom_classes": [],
      "_model_module": "@jupyter-widgets/controls",
      "_model_module_version": "1.5.0",
      "_model_name": "HTMLModel",
      "_view_count": null,
      "_view_module": "@jupyter-widgets/controls",
      "_view_module_version": "1.5.0",
      "_view_name": "HTMLView",
      "description": "",
      "description_tooltip": null,
      "layout": "IPY_MODEL_427c0871f5d34c118a4b1847bc58cf23",
      "placeholder": "​",
      "style": "IPY_MODEL_0906331cec0c42d08e34101e32b1d10c",
      "value": "Downloading readme: 100%"
     }
    },
    "24be459b901441f9b826001f8e97995b": {
     "model_module": "@jupyter-widgets/base",
     "model_module_version": "1.2.0",
     "model_name": "LayoutModel",
     "state": {
      "_model_module": "@jupyter-widgets/base",
      "_model_module_version": "1.2.0",
      "_model_name": "LayoutModel",
      "_view_count": null,
      "_view_module": "@jupyter-widgets/base",
      "_view_module_version": "1.2.0",
      "_view_name": "LayoutView",
      "align_content": null,
      "align_items": null,
      "align_self": null,
      "border": null,
      "bottom": null,
      "display": null,
      "flex": null,
      "flex_flow": null,
      "grid_area": null,
      "grid_auto_columns": null,
      "grid_auto_flow": null,
      "grid_auto_rows": null,
      "grid_column": null,
      "grid_gap": null,
      "grid_row": null,
      "grid_template_areas": null,
      "grid_template_columns": null,
      "grid_template_rows": null,
      "height": null,
      "justify_content": null,
      "justify_items": null,
      "left": null,
      "margin": null,
      "max_height": null,
      "max_width": null,
      "min_height": null,
      "min_width": null,
      "object_fit": null,
      "object_position": null,
      "order": null,
      "overflow": null,
      "overflow_x": null,
      "overflow_y": null,
      "padding": null,
      "right": null,
      "top": null,
      "visibility": null,
      "width": null
     }
    },
    "28c4876d397d4ae6a1764e20543593ea": {
     "model_module": "@jupyter-widgets/base",
     "model_module_version": "1.2.0",
     "model_name": "LayoutModel",
     "state": {
      "_model_module": "@jupyter-widgets/base",
      "_model_module_version": "1.2.0",
      "_model_name": "LayoutModel",
      "_view_count": null,
      "_view_module": "@jupyter-widgets/base",
      "_view_module_version": "1.2.0",
      "_view_name": "LayoutView",
      "align_content": null,
      "align_items": null,
      "align_self": null,
      "border": null,
      "bottom": null,
      "display": null,
      "flex": null,
      "flex_flow": null,
      "grid_area": null,
      "grid_auto_columns": null,
      "grid_auto_flow": null,
      "grid_auto_rows": null,
      "grid_column": null,
      "grid_gap": null,
      "grid_row": null,
      "grid_template_areas": null,
      "grid_template_columns": null,
      "grid_template_rows": null,
      "height": null,
      "justify_content": null,
      "justify_items": null,
      "left": null,
      "margin": null,
      "max_height": null,
      "max_width": null,
      "min_height": null,
      "min_width": null,
      "object_fit": null,
      "object_position": null,
      "order": null,
      "overflow": null,
      "overflow_x": null,
      "overflow_y": null,
      "padding": null,
      "right": null,
      "top": null,
      "visibility": null,
      "width": null
     }
    },
    "2a6b6135342f4f69ae8b3328b4b878b7": {
     "model_module": "@jupyter-widgets/controls",
     "model_module_version": "1.5.0",
     "model_name": "HTMLModel",
     "state": {
      "_dom_classes": [],
      "_model_module": "@jupyter-widgets/controls",
      "_model_module_version": "1.5.0",
      "_model_name": "HTMLModel",
      "_view_count": null,
      "_view_module": "@jupyter-widgets/controls",
      "_view_module_version": "1.5.0",
      "_view_name": "HTMLView",
      "description": "",
      "description_tooltip": null,
      "layout": "IPY_MODEL_7818019a0dfe4d9892df5ba27dc3a9a7",
      "placeholder": "​",
      "style": "IPY_MODEL_c8363f97cc02473386a968e352c4ed4f",
      "value": " 67349/67349 [00:03&lt;00:00, 16000.51 examples/s]"
     }
    },
    "2afeec923bd3482db0a7c3431e88c7c7": {
     "model_module": "@jupyter-widgets/controls",
     "model_module_version": "1.5.0",
     "model_name": "FloatProgressModel",
     "state": {
      "_dom_classes": [],
      "_model_module": "@jupyter-widgets/controls",
      "_model_module_version": "1.5.0",
      "_model_name": "FloatProgressModel",
      "_view_count": null,
      "_view_module": "@jupyter-widgets/controls",
      "_view_module_version": "1.5.0",
      "_view_name": "ProgressView",
      "bar_style": "success",
      "description": "",
      "description_tooltip": null,
      "layout": "IPY_MODEL_d8e62aab46504ded82a2d8279c96c282",
      "max": 7439277,
      "min": 0,
      "orientation": "horizontal",
      "style": "IPY_MODEL_0b6a9f502ae74b18a25f702ded662682",
      "value": 7439277
     }
    },
    "2df0c555b4a34f219ad6db88305b8085": {
     "model_module": "@jupyter-widgets/controls",
     "model_module_version": "1.5.0",
     "model_name": "DescriptionStyleModel",
     "state": {
      "_model_module": "@jupyter-widgets/controls",
      "_model_module_version": "1.5.0",
      "_model_name": "DescriptionStyleModel",
      "_view_count": null,
      "_view_module": "@jupyter-widgets/base",
      "_view_module_version": "1.2.0",
      "_view_name": "StyleView",
      "description_width": ""
     }
    },
    "32cbd8b104214f8dadac51584844004b": {
     "model_module": "@jupyter-widgets/base",
     "model_module_version": "1.2.0",
     "model_name": "LayoutModel",
     "state": {
      "_model_module": "@jupyter-widgets/base",
      "_model_module_version": "1.2.0",
      "_model_name": "LayoutModel",
      "_view_count": null,
      "_view_module": "@jupyter-widgets/base",
      "_view_module_version": "1.2.0",
      "_view_name": "LayoutView",
      "align_content": null,
      "align_items": null,
      "align_self": null,
      "border": null,
      "bottom": null,
      "display": null,
      "flex": null,
      "flex_flow": null,
      "grid_area": null,
      "grid_auto_columns": null,
      "grid_auto_flow": null,
      "grid_auto_rows": null,
      "grid_column": null,
      "grid_gap": null,
      "grid_row": null,
      "grid_template_areas": null,
      "grid_template_columns": null,
      "grid_template_rows": null,
      "height": null,
      "justify_content": null,
      "justify_items": null,
      "left": null,
      "margin": null,
      "max_height": null,
      "max_width": null,
      "min_height": null,
      "min_width": null,
      "object_fit": null,
      "object_position": null,
      "order": null,
      "overflow": null,
      "overflow_x": null,
      "overflow_y": null,
      "padding": null,
      "right": null,
      "top": null,
      "visibility": null,
      "width": null
     }
    },
    "33641ae3b703412f9ebd2fdb48b62e23": {
     "model_module": "@jupyter-widgets/base",
     "model_module_version": "1.2.0",
     "model_name": "LayoutModel",
     "state": {
      "_model_module": "@jupyter-widgets/base",
      "_model_module_version": "1.2.0",
      "_model_name": "LayoutModel",
      "_view_count": null,
      "_view_module": "@jupyter-widgets/base",
      "_view_module_version": "1.2.0",
      "_view_name": "LayoutView",
      "align_content": null,
      "align_items": null,
      "align_self": null,
      "border": null,
      "bottom": null,
      "display": null,
      "flex": null,
      "flex_flow": null,
      "grid_area": null,
      "grid_auto_columns": null,
      "grid_auto_flow": null,
      "grid_auto_rows": null,
      "grid_column": null,
      "grid_gap": null,
      "grid_row": null,
      "grid_template_areas": null,
      "grid_template_columns": null,
      "grid_template_rows": null,
      "height": null,
      "justify_content": null,
      "justify_items": null,
      "left": null,
      "margin": null,
      "max_height": null,
      "max_width": null,
      "min_height": null,
      "min_width": null,
      "object_fit": null,
      "object_position": null,
      "order": null,
      "overflow": null,
      "overflow_x": null,
      "overflow_y": null,
      "padding": null,
      "right": null,
      "top": null,
      "visibility": null,
      "width": null
     }
    },
    "3a50429fd183465294697b8c57cfec04": {
     "model_module": "@jupyter-widgets/controls",
     "model_module_version": "1.5.0",
     "model_name": "DescriptionStyleModel",
     "state": {
      "_model_module": "@jupyter-widgets/controls",
      "_model_module_version": "1.5.0",
      "_model_name": "DescriptionStyleModel",
      "_view_count": null,
      "_view_module": "@jupyter-widgets/base",
      "_view_module_version": "1.2.0",
      "_view_name": "StyleView",
      "description_width": ""
     }
    },
    "3f181012fe7d41feaef629904e894173": {
     "model_module": "@jupyter-widgets/controls",
     "model_module_version": "1.5.0",
     "model_name": "HTMLModel",
     "state": {
      "_dom_classes": [],
      "_model_module": "@jupyter-widgets/controls",
      "_model_module_version": "1.5.0",
      "_model_name": "HTMLModel",
      "_view_count": null,
      "_view_module": "@jupyter-widgets/controls",
      "_view_module_version": "1.5.0",
      "_view_name": "HTMLView",
      "description": "",
      "description_tooltip": null,
      "layout": "IPY_MODEL_8bc1cfae41b0400b801d3f0a2ec45c22",
      "placeholder": "​",
      "style": "IPY_MODEL_4db7b862b0f34750b58f64f76c93c11d",
      "value": "Downloading metadata: 100%"
     }
    },
    "427c0871f5d34c118a4b1847bc58cf23": {
     "model_module": "@jupyter-widgets/base",
     "model_module_version": "1.2.0",
     "model_name": "LayoutModel",
     "state": {
      "_model_module": "@jupyter-widgets/base",
      "_model_module_version": "1.2.0",
      "_model_name": "LayoutModel",
      "_view_count": null,
      "_view_module": "@jupyter-widgets/base",
      "_view_module_version": "1.2.0",
      "_view_name": "LayoutView",
      "align_content": null,
      "align_items": null,
      "align_self": null,
      "border": null,
      "bottom": null,
      "display": null,
      "flex": null,
      "flex_flow": null,
      "grid_area": null,
      "grid_auto_columns": null,
      "grid_auto_flow": null,
      "grid_auto_rows": null,
      "grid_column": null,
      "grid_gap": null,
      "grid_row": null,
      "grid_template_areas": null,
      "grid_template_columns": null,
      "grid_template_rows": null,
      "height": null,
      "justify_content": null,
      "justify_items": null,
      "left": null,
      "margin": null,
      "max_height": null,
      "max_width": null,
      "min_height": null,
      "min_width": null,
      "object_fit": null,
      "object_position": null,
      "order": null,
      "overflow": null,
      "overflow_x": null,
      "overflow_y": null,
      "padding": null,
      "right": null,
      "top": null,
      "visibility": null,
      "width": null
     }
    },
    "475a603cf2384121a9ee4f92edbf1e2b": {
     "model_module": "@jupyter-widgets/controls",
     "model_module_version": "1.5.0",
     "model_name": "HTMLModel",
     "state": {
      "_dom_classes": [],
      "_model_module": "@jupyter-widgets/controls",
      "_model_module_version": "1.5.0",
      "_model_name": "HTMLModel",
      "_view_count": null,
      "_view_module": "@jupyter-widgets/controls",
      "_view_module_version": "1.5.0",
      "_view_name": "HTMLView",
      "description": "",
      "description_tooltip": null,
      "layout": "IPY_MODEL_32cbd8b104214f8dadac51584844004b",
      "placeholder": "​",
      "style": "IPY_MODEL_ed54dbbac3eb43fb85b8263f9db60b98",
      "value": " 3.77k/3.77k [00:00&lt;00:00, 226kB/s]"
     }
    },
    "4d89197fd71441b78d49f1e724dab72f": {
     "model_module": "@jupyter-widgets/controls",
     "model_module_version": "1.5.0",
     "model_name": "FloatProgressModel",
     "state": {
      "_dom_classes": [],
      "_model_module": "@jupyter-widgets/controls",
      "_model_module_version": "1.5.0",
      "_model_name": "FloatProgressModel",
      "_view_count": null,
      "_view_module": "@jupyter-widgets/controls",
      "_view_module_version": "1.5.0",
      "_view_name": "ProgressView",
      "bar_style": "",
      "description": "",
      "description_tooltip": null,
      "layout": "IPY_MODEL_eb4007658adf4d40af675fa8c737353d",
      "max": 67349,
      "min": 0,
      "orientation": "horizontal",
      "style": "IPY_MODEL_6ee3af8e947d47cfa4ccd3773696d259",
      "value": 67349
     }
    },
    "4db7b862b0f34750b58f64f76c93c11d": {
     "model_module": "@jupyter-widgets/controls",
     "model_module_version": "1.5.0",
     "model_name": "DescriptionStyleModel",
     "state": {
      "_model_module": "@jupyter-widgets/controls",
      "_model_module_version": "1.5.0",
      "_model_name": "DescriptionStyleModel",
      "_view_count": null,
      "_view_module": "@jupyter-widgets/base",
      "_view_module_version": "1.2.0",
      "_view_name": "StyleView",
      "description_width": ""
     }
    },
    "514e78b83cd646fca27ac3d1123cde32": {
     "model_module": "@jupyter-widgets/controls",
     "model_module_version": "1.5.0",
     "model_name": "HBoxModel",
     "state": {
      "_dom_classes": [],
      "_model_module": "@jupyter-widgets/controls",
      "_model_module_version": "1.5.0",
      "_model_name": "HBoxModel",
      "_view_count": null,
      "_view_module": "@jupyter-widgets/controls",
      "_view_module_version": "1.5.0",
      "_view_name": "HBoxView",
      "box_style": "",
      "children": [
       "IPY_MODEL_3f181012fe7d41feaef629904e894173",
       "IPY_MODEL_07c038651bcf4ed98ac7a41f01d09e04",
       "IPY_MODEL_fed43f83c2bd4192bb04a7b81325c1ae"
      ],
      "layout": "IPY_MODEL_ee966ca2638f42d78eddc42d559940a7"
     }
    },
    "51ec4efe428940919982a27f99c5f87d": {
     "model_module": "@jupyter-widgets/controls",
     "model_module_version": "1.5.0",
     "model_name": "HBoxModel",
     "state": {
      "_dom_classes": [],
      "_model_module": "@jupyter-widgets/controls",
      "_model_module_version": "1.5.0",
      "_model_name": "HBoxModel",
      "_view_count": null,
      "_view_module": "@jupyter-widgets/controls",
      "_view_module_version": "1.5.0",
      "_view_name": "HBoxView",
      "box_style": "",
      "children": [
       "IPY_MODEL_b3346812528044a3be34cae46951d1bc",
       "IPY_MODEL_2afeec923bd3482db0a7c3431e88c7c7",
       "IPY_MODEL_cd67ebccafd84db58f8cb5ec01421676"
      ],
      "layout": "IPY_MODEL_7fbbf464abd14cff9587ff2dc239b3c6"
     }
    },
    "544ddb6d46964965999ac114ee30588e": {
     "model_module": "@jupyter-widgets/controls",
     "model_module_version": "1.5.0",
     "model_name": "HBoxModel",
     "state": {
      "_dom_classes": [],
      "_model_module": "@jupyter-widgets/controls",
      "_model_module_version": "1.5.0",
      "_model_name": "HBoxModel",
      "_view_count": null,
      "_view_module": "@jupyter-widgets/controls",
      "_view_module_version": "1.5.0",
      "_view_name": "HBoxView",
      "box_style": "",
      "children": [
       "IPY_MODEL_004d5bafdef04319b7db98d3dbf1fbd4",
       "IPY_MODEL_4d89197fd71441b78d49f1e724dab72f",
       "IPY_MODEL_2a6b6135342f4f69ae8b3328b4b878b7"
      ],
      "layout": "IPY_MODEL_df5eabce102343758608a919fce209a5"
     }
    },
    "5d148cd52f394fb6bb19339dfa2c0045": {
     "model_module": "@jupyter-widgets/controls",
     "model_module_version": "1.5.0",
     "model_name": "FloatProgressModel",
     "state": {
      "_dom_classes": [],
      "_model_module": "@jupyter-widgets/controls",
      "_model_module_version": "1.5.0",
      "_model_name": "FloatProgressModel",
      "_view_count": null,
      "_view_module": "@jupyter-widgets/controls",
      "_view_module_version": "1.5.0",
      "_view_name": "ProgressView",
      "bar_style": "success",
      "description": "",
      "description_tooltip": null,
      "layout": "IPY_MODEL_33641ae3b703412f9ebd2fdb48b62e23",
      "max": 5100,
      "min": 0,
      "orientation": "horizontal",
      "style": "IPY_MODEL_ad34029e01e745ecb49784d43538e6b0",
      "value": 5100
     }
    },
    "69ebd508301b4fac8349923a33bf92d7": {
     "model_module": "@jupyter-widgets/controls",
     "model_module_version": "1.5.0",
     "model_name": "ProgressStyleModel",
     "state": {
      "_model_module": "@jupyter-widgets/controls",
      "_model_module_version": "1.5.0",
      "_model_name": "ProgressStyleModel",
      "_view_count": null,
      "_view_module": "@jupyter-widgets/base",
      "_view_module_version": "1.2.0",
      "_view_name": "StyleView",
      "bar_color": null,
      "description_width": ""
     }
    },
    "6a68d3ff523d4a4d847e9346f755d20f": {
     "model_module": "@jupyter-widgets/controls",
     "model_module_version": "1.5.0",
     "model_name": "FloatProgressModel",
     "state": {
      "_dom_classes": [],
      "_model_module": "@jupyter-widgets/controls",
      "_model_module_version": "1.5.0",
      "_model_name": "FloatProgressModel",
      "_view_count": null,
      "_view_module": "@jupyter-widgets/controls",
      "_view_module_version": "1.5.0",
      "_view_name": "ProgressView",
      "bar_style": "",
      "description": "",
      "description_tooltip": null,
      "layout": "IPY_MODEL_e3b403059f5d4698a66599ac49ffa8cc",
      "max": 872,
      "min": 0,
      "orientation": "horizontal",
      "style": "IPY_MODEL_b34c90e775fa4f5bb1f8a7848a6b6189",
      "value": 872
     }
    },
    "6c8bbbb3b592472fb09fbeefe11f54b7": {
     "model_module": "@jupyter-widgets/base",
     "model_module_version": "1.2.0",
     "model_name": "LayoutModel",
     "state": {
      "_model_module": "@jupyter-widgets/base",
      "_model_module_version": "1.2.0",
      "_model_name": "LayoutModel",
      "_view_count": null,
      "_view_module": "@jupyter-widgets/base",
      "_view_module_version": "1.2.0",
      "_view_name": "LayoutView",
      "align_content": null,
      "align_items": null,
      "align_self": null,
      "border": null,
      "bottom": null,
      "display": null,
      "flex": null,
      "flex_flow": null,
      "grid_area": null,
      "grid_auto_columns": null,
      "grid_auto_flow": null,
      "grid_auto_rows": null,
      "grid_column": null,
      "grid_gap": null,
      "grid_row": null,
      "grid_template_areas": null,
      "grid_template_columns": null,
      "grid_template_rows": null,
      "height": null,
      "justify_content": null,
      "justify_items": null,
      "left": null,
      "margin": null,
      "max_height": null,
      "max_width": null,
      "min_height": null,
      "min_width": null,
      "object_fit": null,
      "object_position": null,
      "order": null,
      "overflow": null,
      "overflow_x": null,
      "overflow_y": null,
      "padding": null,
      "right": null,
      "top": null,
      "visibility": null,
      "width": null
     }
    },
    "6ee3af8e947d47cfa4ccd3773696d259": {
     "model_module": "@jupyter-widgets/controls",
     "model_module_version": "1.5.0",
     "model_name": "ProgressStyleModel",
     "state": {
      "_model_module": "@jupyter-widgets/controls",
      "_model_module_version": "1.5.0",
      "_model_name": "ProgressStyleModel",
      "_view_count": null,
      "_view_module": "@jupyter-widgets/base",
      "_view_module_version": "1.2.0",
      "_view_name": "StyleView",
      "bar_color": null,
      "description_width": ""
     }
    },
    "7029981fe2db4a89a6af308a0e97eb16": {
     "model_module": "@jupyter-widgets/controls",
     "model_module_version": "1.5.0",
     "model_name": "HBoxModel",
     "state": {
      "_dom_classes": [],
      "_model_module": "@jupyter-widgets/controls",
      "_model_module_version": "1.5.0",
      "_model_name": "HBoxModel",
      "_view_count": null,
      "_view_module": "@jupyter-widgets/controls",
      "_view_module_version": "1.5.0",
      "_view_name": "HBoxView",
      "box_style": "",
      "children": [
       "IPY_MODEL_2392ed2205fa4c4788c59d9aa9bbd019",
       "IPY_MODEL_5d148cd52f394fb6bb19339dfa2c0045",
       "IPY_MODEL_e9b684dbdcc846deb0e83a0cc589c464"
      ],
      "layout": "IPY_MODEL_9b3c10e05ff84c8d88d87598e0df8b47"
     }
    },
    "72016e6fa04a478eac1611edd0426aaa": {
     "model_module": "@jupyter-widgets/controls",
     "model_module_version": "1.5.0",
     "model_name": "HTMLModel",
     "state": {
      "_dom_classes": [],
      "_model_module": "@jupyter-widgets/controls",
      "_model_module_version": "1.5.0",
      "_model_name": "HTMLModel",
      "_view_count": null,
      "_view_module": "@jupyter-widgets/controls",
      "_view_module_version": "1.5.0",
      "_view_name": "HTMLView",
      "description": "",
      "description_tooltip": null,
      "layout": "IPY_MODEL_01efce9fdd394765b0f953de34f45519",
      "placeholder": "​",
      "style": "IPY_MODEL_92eac85d7447409d8e58483b05c1a704",
      "value": " 3/3 [00:00&lt;00:00, 135.83it/s]"
     }
    },
    "743f9ec230c54b319d8cccc4e5964938": {
     "model_module": "@jupyter-widgets/base",
     "model_module_version": "1.2.0",
     "model_name": "LayoutModel",
     "state": {
      "_model_module": "@jupyter-widgets/base",
      "_model_module_version": "1.2.0",
      "_model_name": "LayoutModel",
      "_view_count": null,
      "_view_module": "@jupyter-widgets/base",
      "_view_module_version": "1.2.0",
      "_view_name": "LayoutView",
      "align_content": null,
      "align_items": null,
      "align_self": null,
      "border": null,
      "bottom": null,
      "display": null,
      "flex": null,
      "flex_flow": null,
      "grid_area": null,
      "grid_auto_columns": null,
      "grid_auto_flow": null,
      "grid_auto_rows": null,
      "grid_column": null,
      "grid_gap": null,
      "grid_row": null,
      "grid_template_areas": null,
      "grid_template_columns": null,
      "grid_template_rows": null,
      "height": null,
      "justify_content": null,
      "justify_items": null,
      "left": null,
      "margin": null,
      "max_height": null,
      "max_width": null,
      "min_height": null,
      "min_width": null,
      "object_fit": null,
      "object_position": null,
      "order": null,
      "overflow": null,
      "overflow_x": null,
      "overflow_y": null,
      "padding": null,
      "right": null,
      "top": null,
      "visibility": null,
      "width": null
     }
    },
    "7818019a0dfe4d9892df5ba27dc3a9a7": {
     "model_module": "@jupyter-widgets/base",
     "model_module_version": "1.2.0",
     "model_name": "LayoutModel",
     "state": {
      "_model_module": "@jupyter-widgets/base",
      "_model_module_version": "1.2.0",
      "_model_name": "LayoutModel",
      "_view_count": null,
      "_view_module": "@jupyter-widgets/base",
      "_view_module_version": "1.2.0",
      "_view_name": "LayoutView",
      "align_content": null,
      "align_items": null,
      "align_self": null,
      "border": null,
      "bottom": null,
      "display": null,
      "flex": null,
      "flex_flow": null,
      "grid_area": null,
      "grid_auto_columns": null,
      "grid_auto_flow": null,
      "grid_auto_rows": null,
      "grid_column": null,
      "grid_gap": null,
      "grid_row": null,
      "grid_template_areas": null,
      "grid_template_columns": null,
      "grid_template_rows": null,
      "height": null,
      "justify_content": null,
      "justify_items": null,
      "left": null,
      "margin": null,
      "max_height": null,
      "max_width": null,
      "min_height": null,
      "min_width": null,
      "object_fit": null,
      "object_position": null,
      "order": null,
      "overflow": null,
      "overflow_x": null,
      "overflow_y": null,
      "padding": null,
      "right": null,
      "top": null,
      "visibility": null,
      "width": null
     }
    },
    "78a947fe0b2a4541be7ff08248bac3ac": {
     "model_module": "@jupyter-widgets/controls",
     "model_module_version": "1.5.0",
     "model_name": "DescriptionStyleModel",
     "state": {
      "_model_module": "@jupyter-widgets/controls",
      "_model_module_version": "1.5.0",
      "_model_name": "DescriptionStyleModel",
      "_view_count": null,
      "_view_module": "@jupyter-widgets/base",
      "_view_module_version": "1.2.0",
      "_view_name": "StyleView",
      "description_width": ""
     }
    },
    "7fbbf464abd14cff9587ff2dc239b3c6": {
     "model_module": "@jupyter-widgets/base",
     "model_module_version": "1.2.0",
     "model_name": "LayoutModel",
     "state": {
      "_model_module": "@jupyter-widgets/base",
      "_model_module_version": "1.2.0",
      "_model_name": "LayoutModel",
      "_view_count": null,
      "_view_module": "@jupyter-widgets/base",
      "_view_module_version": "1.2.0",
      "_view_name": "LayoutView",
      "align_content": null,
      "align_items": null,
      "align_self": null,
      "border": null,
      "bottom": null,
      "display": null,
      "flex": null,
      "flex_flow": null,
      "grid_area": null,
      "grid_auto_columns": null,
      "grid_auto_flow": null,
      "grid_auto_rows": null,
      "grid_column": null,
      "grid_gap": null,
      "grid_row": null,
      "grid_template_areas": null,
      "grid_template_columns": null,
      "grid_template_rows": null,
      "height": null,
      "justify_content": null,
      "justify_items": null,
      "left": null,
      "margin": null,
      "max_height": null,
      "max_width": null,
      "min_height": null,
      "min_width": null,
      "object_fit": null,
      "object_position": null,
      "order": null,
      "overflow": null,
      "overflow_x": null,
      "overflow_y": null,
      "padding": null,
      "right": null,
      "top": null,
      "visibility": null,
      "width": null
     }
    },
    "8335158d358245f7a1335c80cc8accda": {
     "model_module": "@jupyter-widgets/controls",
     "model_module_version": "1.5.0",
     "model_name": "DescriptionStyleModel",
     "state": {
      "_model_module": "@jupyter-widgets/controls",
      "_model_module_version": "1.5.0",
      "_model_name": "DescriptionStyleModel",
      "_view_count": null,
      "_view_module": "@jupyter-widgets/base",
      "_view_module_version": "1.2.0",
      "_view_name": "StyleView",
      "description_width": ""
     }
    },
    "8520ecfd26d74daa881a13ddaaebbe36": {
     "model_module": "@jupyter-widgets/controls",
     "model_module_version": "1.5.0",
     "model_name": "HBoxModel",
     "state": {
      "_dom_classes": [],
      "_model_module": "@jupyter-widgets/controls",
      "_model_module_version": "1.5.0",
      "_model_name": "HBoxModel",
      "_view_count": null,
      "_view_module": "@jupyter-widgets/controls",
      "_view_module_version": "1.5.0",
      "_view_name": "HBoxView",
      "box_style": "",
      "children": [
       "IPY_MODEL_e2d9a29c8c1b461895a4585cd105dffb",
       "IPY_MODEL_1949410280a34448bb7f36db6ec9e73f",
       "IPY_MODEL_72016e6fa04a478eac1611edd0426aaa"
      ],
      "layout": "IPY_MODEL_d8583886b5dc44598e87a345711f3071"
     }
    },
    "880ad94be3aa4713b99d79fce23245e4": {
     "model_module": "@jupyter-widgets/controls",
     "model_module_version": "1.5.0",
     "model_name": "HTMLModel",
     "state": {
      "_dom_classes": [],
      "_model_module": "@jupyter-widgets/controls",
      "_model_module_version": "1.5.0",
      "_model_name": "HTMLModel",
      "_view_count": null,
      "_view_module": "@jupyter-widgets/controls",
      "_view_module_version": "1.5.0",
      "_view_name": "HTMLView",
      "description": "",
      "description_tooltip": null,
      "layout": "IPY_MODEL_24be459b901441f9b826001f8e97995b",
      "placeholder": "​",
      "style": "IPY_MODEL_2df0c555b4a34f219ad6db88305b8085",
      "value": " 1414/1821 [00:00&lt;00:00, 11849.90 examples/s]"
     }
    },
    "8bab4b6d225944648c0bb64efb6e30ba": {
     "model_module": "@jupyter-widgets/base",
     "model_module_version": "1.2.0",
     "model_name": "LayoutModel",
     "state": {
      "_model_module": "@jupyter-widgets/base",
      "_model_module_version": "1.2.0",
      "_model_name": "LayoutModel",
      "_view_count": null,
      "_view_module": "@jupyter-widgets/base",
      "_view_module_version": "1.2.0",
      "_view_name": "LayoutView",
      "align_content": null,
      "align_items": null,
      "align_self": null,
      "border": null,
      "bottom": null,
      "display": null,
      "flex": null,
      "flex_flow": null,
      "grid_area": null,
      "grid_auto_columns": null,
      "grid_auto_flow": null,
      "grid_auto_rows": null,
      "grid_column": null,
      "grid_gap": null,
      "grid_row": null,
      "grid_template_areas": null,
      "grid_template_columns": null,
      "grid_template_rows": null,
      "height": null,
      "justify_content": null,
      "justify_items": null,
      "left": null,
      "margin": null,
      "max_height": null,
      "max_width": null,
      "min_height": null,
      "min_width": null,
      "object_fit": null,
      "object_position": null,
      "order": null,
      "overflow": null,
      "overflow_x": null,
      "overflow_y": null,
      "padding": null,
      "right": null,
      "top": null,
      "visibility": null,
      "width": null
     }
    },
    "8bc1cfae41b0400b801d3f0a2ec45c22": {
     "model_module": "@jupyter-widgets/base",
     "model_module_version": "1.2.0",
     "model_name": "LayoutModel",
     "state": {
      "_model_module": "@jupyter-widgets/base",
      "_model_module_version": "1.2.0",
      "_model_name": "LayoutModel",
      "_view_count": null,
      "_view_module": "@jupyter-widgets/base",
      "_view_module_version": "1.2.0",
      "_view_name": "LayoutView",
      "align_content": null,
      "align_items": null,
      "align_self": null,
      "border": null,
      "bottom": null,
      "display": null,
      "flex": null,
      "flex_flow": null,
      "grid_area": null,
      "grid_auto_columns": null,
      "grid_auto_flow": null,
      "grid_auto_rows": null,
      "grid_column": null,
      "grid_gap": null,
      "grid_row": null,
      "grid_template_areas": null,
      "grid_template_columns": null,
      "grid_template_rows": null,
      "height": null,
      "justify_content": null,
      "justify_items": null,
      "left": null,
      "margin": null,
      "max_height": null,
      "max_width": null,
      "min_height": null,
      "min_width": null,
      "object_fit": null,
      "object_position": null,
      "order": null,
      "overflow": null,
      "overflow_x": null,
      "overflow_y": null,
      "padding": null,
      "right": null,
      "top": null,
      "visibility": null,
      "width": null
     }
    },
    "8c74cbcc177d4528b57d2a349c87b1ff": {
     "model_module": "@jupyter-widgets/base",
     "model_module_version": "1.2.0",
     "model_name": "LayoutModel",
     "state": {
      "_model_module": "@jupyter-widgets/base",
      "_model_module_version": "1.2.0",
      "_model_name": "LayoutModel",
      "_view_count": null,
      "_view_module": "@jupyter-widgets/base",
      "_view_module_version": "1.2.0",
      "_view_name": "LayoutView",
      "align_content": null,
      "align_items": null,
      "align_self": null,
      "border": null,
      "bottom": null,
      "display": null,
      "flex": null,
      "flex_flow": null,
      "grid_area": null,
      "grid_auto_columns": null,
      "grid_auto_flow": null,
      "grid_auto_rows": null,
      "grid_column": null,
      "grid_gap": null,
      "grid_row": null,
      "grid_template_areas": null,
      "grid_template_columns": null,
      "grid_template_rows": null,
      "height": null,
      "justify_content": null,
      "justify_items": null,
      "left": null,
      "margin": null,
      "max_height": null,
      "max_width": null,
      "min_height": null,
      "min_width": null,
      "object_fit": null,
      "object_position": null,
      "order": null,
      "overflow": null,
      "overflow_x": null,
      "overflow_y": null,
      "padding": null,
      "right": null,
      "top": null,
      "visibility": null,
      "width": null
     }
    },
    "8d05ab4ecaf243b69d8687bd95619d49": {
     "model_module": "@jupyter-widgets/controls",
     "model_module_version": "1.5.0",
     "model_name": "DescriptionStyleModel",
     "state": {
      "_model_module": "@jupyter-widgets/controls",
      "_model_module_version": "1.5.0",
      "_model_name": "DescriptionStyleModel",
      "_view_count": null,
      "_view_module": "@jupyter-widgets/base",
      "_view_module_version": "1.2.0",
      "_view_name": "StyleView",
      "description_width": ""
     }
    },
    "90a11f34484a409b8bc3b6884f93e45d": {
     "model_module": "@jupyter-widgets/controls",
     "model_module_version": "1.5.0",
     "model_name": "HBoxModel",
     "state": {
      "_dom_classes": [],
      "_model_module": "@jupyter-widgets/controls",
      "_model_module_version": "1.5.0",
      "_model_name": "HBoxModel",
      "_view_count": null,
      "_view_module": "@jupyter-widgets/controls",
      "_view_module_version": "1.5.0",
      "_view_name": "HBoxView",
      "box_style": "",
      "children": [
       "IPY_MODEL_96066ad54cdf4dff8ad38fedbdbb3f27",
       "IPY_MODEL_1f7b2952b64946b2a6dcb2d7acd73b27",
       "IPY_MODEL_475a603cf2384121a9ee4f92edbf1e2b"
      ],
      "layout": "IPY_MODEL_8bab4b6d225944648c0bb64efb6e30ba"
     }
    },
    "92eac85d7447409d8e58483b05c1a704": {
     "model_module": "@jupyter-widgets/controls",
     "model_module_version": "1.5.0",
     "model_name": "DescriptionStyleModel",
     "state": {
      "_model_module": "@jupyter-widgets/controls",
      "_model_module_version": "1.5.0",
      "_model_name": "DescriptionStyleModel",
      "_view_count": null,
      "_view_module": "@jupyter-widgets/base",
      "_view_module_version": "1.2.0",
      "_view_name": "StyleView",
      "description_width": ""
     }
    },
    "96066ad54cdf4dff8ad38fedbdbb3f27": {
     "model_module": "@jupyter-widgets/controls",
     "model_module_version": "1.5.0",
     "model_name": "HTMLModel",
     "state": {
      "_dom_classes": [],
      "_model_module": "@jupyter-widgets/controls",
      "_model_module_version": "1.5.0",
      "_model_name": "HTMLModel",
      "_view_count": null,
      "_view_module": "@jupyter-widgets/controls",
      "_view_module_version": "1.5.0",
      "_view_name": "HTMLView",
      "description": "",
      "description_tooltip": null,
      "layout": "IPY_MODEL_d431d07174c848ba8ef1070224b38743",
      "placeholder": "​",
      "style": "IPY_MODEL_15946eeef51146b4b079986d3107aa14",
      "value": "Downloading builder script: 100%"
     }
    },
    "9a4c4b725a3e43c0a74360b4d437a25f": {
     "model_module": "@jupyter-widgets/controls",
     "model_module_version": "1.5.0",
     "model_name": "HBoxModel",
     "state": {
      "_dom_classes": [],
      "_model_module": "@jupyter-widgets/controls",
      "_model_module_version": "1.5.0",
      "_model_name": "HBoxModel",
      "_view_count": null,
      "_view_module": "@jupyter-widgets/controls",
      "_view_module_version": "1.5.0",
      "_view_name": "HBoxView",
      "box_style": "",
      "children": [
       "IPY_MODEL_07003fc1a7ea47d1b54aca1a310f81fe",
       "IPY_MODEL_6a68d3ff523d4a4d847e9346f755d20f",
       "IPY_MODEL_b37988defa9e45a3a42df9eb3455f305"
      ],
      "layout": "IPY_MODEL_bdca417ca5584a3094437b5ac82cebcd"
     }
    },
    "9b3c10e05ff84c8d88d87598e0df8b47": {
     "model_module": "@jupyter-widgets/base",
     "model_module_version": "1.2.0",
     "model_name": "LayoutModel",
     "state": {
      "_model_module": "@jupyter-widgets/base",
      "_model_module_version": "1.2.0",
      "_model_name": "LayoutModel",
      "_view_count": null,
      "_view_module": "@jupyter-widgets/base",
      "_view_module_version": "1.2.0",
      "_view_name": "LayoutView",
      "align_content": null,
      "align_items": null,
      "align_self": null,
      "border": null,
      "bottom": null,
      "display": null,
      "flex": null,
      "flex_flow": null,
      "grid_area": null,
      "grid_auto_columns": null,
      "grid_auto_flow": null,
      "grid_auto_rows": null,
      "grid_column": null,
      "grid_gap": null,
      "grid_row": null,
      "grid_template_areas": null,
      "grid_template_columns": null,
      "grid_template_rows": null,
      "height": null,
      "justify_content": null,
      "justify_items": null,
      "left": null,
      "margin": null,
      "max_height": null,
      "max_width": null,
      "min_height": null,
      "min_width": null,
      "object_fit": null,
      "object_position": null,
      "order": null,
      "overflow": null,
      "overflow_x": null,
      "overflow_y": null,
      "padding": null,
      "right": null,
      "top": null,
      "visibility": null,
      "width": null
     }
    },
    "ad34029e01e745ecb49784d43538e6b0": {
     "model_module": "@jupyter-widgets/controls",
     "model_module_version": "1.5.0",
     "model_name": "ProgressStyleModel",
     "state": {
      "_model_module": "@jupyter-widgets/controls",
      "_model_module_version": "1.5.0",
      "_model_name": "ProgressStyleModel",
      "_view_count": null,
      "_view_module": "@jupyter-widgets/base",
      "_view_module_version": "1.2.0",
      "_view_name": "StyleView",
      "bar_color": null,
      "description_width": ""
     }
    },
    "ae86d11872c941e19f02e8fbc76e0f02": {
     "model_module": "@jupyter-widgets/controls",
     "model_module_version": "1.5.0",
     "model_name": "ProgressStyleModel",
     "state": {
      "_model_module": "@jupyter-widgets/controls",
      "_model_module_version": "1.5.0",
      "_model_name": "ProgressStyleModel",
      "_view_count": null,
      "_view_module": "@jupyter-widgets/base",
      "_view_module_version": "1.2.0",
      "_view_name": "StyleView",
      "bar_color": null,
      "description_width": ""
     }
    },
    "b3346812528044a3be34cae46951d1bc": {
     "model_module": "@jupyter-widgets/controls",
     "model_module_version": "1.5.0",
     "model_name": "HTMLModel",
     "state": {
      "_dom_classes": [],
      "_model_module": "@jupyter-widgets/controls",
      "_model_module_version": "1.5.0",
      "_model_name": "HTMLModel",
      "_view_count": null,
      "_view_module": "@jupyter-widgets/controls",
      "_view_module_version": "1.5.0",
      "_view_name": "HTMLView",
      "description": "",
      "description_tooltip": null,
      "layout": "IPY_MODEL_c946c5d89cee4e16bd626076c3887179",
      "placeholder": "​",
      "style": "IPY_MODEL_e62e775a432546d985645146b187c0f1",
      "value": "Downloading data: 100%"
     }
    },
    "b34c90e775fa4f5bb1f8a7848a6b6189": {
     "model_module": "@jupyter-widgets/controls",
     "model_module_version": "1.5.0",
     "model_name": "ProgressStyleModel",
     "state": {
      "_model_module": "@jupyter-widgets/controls",
      "_model_module_version": "1.5.0",
      "_model_name": "ProgressStyleModel",
      "_view_count": null,
      "_view_module": "@jupyter-widgets/base",
      "_view_module_version": "1.2.0",
      "_view_name": "StyleView",
      "bar_color": null,
      "description_width": ""
     }
    },
    "b37988defa9e45a3a42df9eb3455f305": {
     "model_module": "@jupyter-widgets/controls",
     "model_module_version": "1.5.0",
     "model_name": "HTMLModel",
     "state": {
      "_dom_classes": [],
      "_model_module": "@jupyter-widgets/controls",
      "_model_module_version": "1.5.0",
      "_model_name": "HTMLModel",
      "_view_count": null,
      "_view_module": "@jupyter-widgets/controls",
      "_view_module_version": "1.5.0",
      "_view_name": "HTMLView",
      "description": "",
      "description_tooltip": null,
      "layout": "IPY_MODEL_08a5830e2d6445ff87e5add8fa2b9c4b",
      "placeholder": "​",
      "style": "IPY_MODEL_78a947fe0b2a4541be7ff08248bac3ac",
      "value": " 0/872 [00:00&lt;?, ? examples/s]"
     }
    },
    "b3df6e6dfed942938cba586fb7f4722e": {
     "model_module": "@jupyter-widgets/base",
     "model_module_version": "1.2.0",
     "model_name": "LayoutModel",
     "state": {
      "_model_module": "@jupyter-widgets/base",
      "_model_module_version": "1.2.0",
      "_model_name": "LayoutModel",
      "_view_count": null,
      "_view_module": "@jupyter-widgets/base",
      "_view_module_version": "1.2.0",
      "_view_name": "LayoutView",
      "align_content": null,
      "align_items": null,
      "align_self": null,
      "border": null,
      "bottom": null,
      "display": null,
      "flex": null,
      "flex_flow": null,
      "grid_area": null,
      "grid_auto_columns": null,
      "grid_auto_flow": null,
      "grid_auto_rows": null,
      "grid_column": null,
      "grid_gap": null,
      "grid_row": null,
      "grid_template_areas": null,
      "grid_template_columns": null,
      "grid_template_rows": null,
      "height": null,
      "justify_content": null,
      "justify_items": null,
      "left": null,
      "margin": null,
      "max_height": null,
      "max_width": null,
      "min_height": null,
      "min_width": null,
      "object_fit": null,
      "object_position": null,
      "order": null,
      "overflow": null,
      "overflow_x": null,
      "overflow_y": null,
      "padding": null,
      "right": null,
      "top": null,
      "visibility": null,
      "width": null
     }
    },
    "b8aea0901e9a4ab6bfa6ff1805e4b240": {
     "model_module": "@jupyter-widgets/controls",
     "model_module_version": "1.5.0",
     "model_name": "DescriptionStyleModel",
     "state": {
      "_model_module": "@jupyter-widgets/controls",
      "_model_module_version": "1.5.0",
      "_model_name": "DescriptionStyleModel",
      "_view_count": null,
      "_view_module": "@jupyter-widgets/base",
      "_view_module_version": "1.2.0",
      "_view_name": "StyleView",
      "description_width": ""
     }
    },
    "bdca417ca5584a3094437b5ac82cebcd": {
     "model_module": "@jupyter-widgets/base",
     "model_module_version": "1.2.0",
     "model_name": "LayoutModel",
     "state": {
      "_model_module": "@jupyter-widgets/base",
      "_model_module_version": "1.2.0",
      "_model_name": "LayoutModel",
      "_view_count": null,
      "_view_module": "@jupyter-widgets/base",
      "_view_module_version": "1.2.0",
      "_view_name": "LayoutView",
      "align_content": null,
      "align_items": null,
      "align_self": null,
      "border": null,
      "bottom": null,
      "display": null,
      "flex": null,
      "flex_flow": null,
      "grid_area": null,
      "grid_auto_columns": null,
      "grid_auto_flow": null,
      "grid_auto_rows": null,
      "grid_column": null,
      "grid_gap": null,
      "grid_row": null,
      "grid_template_areas": null,
      "grid_template_columns": null,
      "grid_template_rows": null,
      "height": null,
      "justify_content": null,
      "justify_items": null,
      "left": null,
      "margin": null,
      "max_height": null,
      "max_width": null,
      "min_height": null,
      "min_width": null,
      "object_fit": null,
      "object_position": null,
      "order": null,
      "overflow": null,
      "overflow_x": null,
      "overflow_y": null,
      "padding": null,
      "right": null,
      "top": null,
      "visibility": "hidden",
      "width": null
     }
    },
    "bfe85b8af6e54b51954eaa67df77cf90": {
     "model_module": "@jupyter-widgets/base",
     "model_module_version": "1.2.0",
     "model_name": "LayoutModel",
     "state": {
      "_model_module": "@jupyter-widgets/base",
      "_model_module_version": "1.2.0",
      "_model_name": "LayoutModel",
      "_view_count": null,
      "_view_module": "@jupyter-widgets/base",
      "_view_module_version": "1.2.0",
      "_view_name": "LayoutView",
      "align_content": null,
      "align_items": null,
      "align_self": null,
      "border": null,
      "bottom": null,
      "display": null,
      "flex": null,
      "flex_flow": null,
      "grid_area": null,
      "grid_auto_columns": null,
      "grid_auto_flow": null,
      "grid_auto_rows": null,
      "grid_column": null,
      "grid_gap": null,
      "grid_row": null,
      "grid_template_areas": null,
      "grid_template_columns": null,
      "grid_template_rows": null,
      "height": null,
      "justify_content": null,
      "justify_items": null,
      "left": null,
      "margin": null,
      "max_height": null,
      "max_width": null,
      "min_height": null,
      "min_width": null,
      "object_fit": null,
      "object_position": null,
      "order": null,
      "overflow": null,
      "overflow_x": null,
      "overflow_y": null,
      "padding": null,
      "right": null,
      "top": null,
      "visibility": null,
      "width": null
     }
    },
    "c8363f97cc02473386a968e352c4ed4f": {
     "model_module": "@jupyter-widgets/controls",
     "model_module_version": "1.5.0",
     "model_name": "DescriptionStyleModel",
     "state": {
      "_model_module": "@jupyter-widgets/controls",
      "_model_module_version": "1.5.0",
      "_model_name": "DescriptionStyleModel",
      "_view_count": null,
      "_view_module": "@jupyter-widgets/base",
      "_view_module_version": "1.2.0",
      "_view_name": "StyleView",
      "description_width": ""
     }
    },
    "c946c5d89cee4e16bd626076c3887179": {
     "model_module": "@jupyter-widgets/base",
     "model_module_version": "1.2.0",
     "model_name": "LayoutModel",
     "state": {
      "_model_module": "@jupyter-widgets/base",
      "_model_module_version": "1.2.0",
      "_model_name": "LayoutModel",
      "_view_count": null,
      "_view_module": "@jupyter-widgets/base",
      "_view_module_version": "1.2.0",
      "_view_name": "LayoutView",
      "align_content": null,
      "align_items": null,
      "align_self": null,
      "border": null,
      "bottom": null,
      "display": null,
      "flex": null,
      "flex_flow": null,
      "grid_area": null,
      "grid_auto_columns": null,
      "grid_auto_flow": null,
      "grid_auto_rows": null,
      "grid_column": null,
      "grid_gap": null,
      "grid_row": null,
      "grid_template_areas": null,
      "grid_template_columns": null,
      "grid_template_rows": null,
      "height": null,
      "justify_content": null,
      "justify_items": null,
      "left": null,
      "margin": null,
      "max_height": null,
      "max_width": null,
      "min_height": null,
      "min_width": null,
      "object_fit": null,
      "object_position": null,
      "order": null,
      "overflow": null,
      "overflow_x": null,
      "overflow_y": null,
      "padding": null,
      "right": null,
      "top": null,
      "visibility": null,
      "width": null
     }
    },
    "cd67ebccafd84db58f8cb5ec01421676": {
     "model_module": "@jupyter-widgets/controls",
     "model_module_version": "1.5.0",
     "model_name": "HTMLModel",
     "state": {
      "_dom_classes": [],
      "_model_module": "@jupyter-widgets/controls",
      "_model_module_version": "1.5.0",
      "_model_name": "HTMLModel",
      "_view_count": null,
      "_view_module": "@jupyter-widgets/controls",
      "_view_module_version": "1.5.0",
      "_view_name": "HTMLView",
      "description": "",
      "description_tooltip": null,
      "layout": "IPY_MODEL_bfe85b8af6e54b51954eaa67df77cf90",
      "placeholder": "​",
      "style": "IPY_MODEL_8335158d358245f7a1335c80cc8accda",
      "value": " 7.44M/7.44M [00:00&lt;00:00, 69.1MB/s]"
     }
    },
    "d431d07174c848ba8ef1070224b38743": {
     "model_module": "@jupyter-widgets/base",
     "model_module_version": "1.2.0",
     "model_name": "LayoutModel",
     "state": {
      "_model_module": "@jupyter-widgets/base",
      "_model_module_version": "1.2.0",
      "_model_name": "LayoutModel",
      "_view_count": null,
      "_view_module": "@jupyter-widgets/base",
      "_view_module_version": "1.2.0",
      "_view_name": "LayoutView",
      "align_content": null,
      "align_items": null,
      "align_self": null,
      "border": null,
      "bottom": null,
      "display": null,
      "flex": null,
      "flex_flow": null,
      "grid_area": null,
      "grid_auto_columns": null,
      "grid_auto_flow": null,
      "grid_auto_rows": null,
      "grid_column": null,
      "grid_gap": null,
      "grid_row": null,
      "grid_template_areas": null,
      "grid_template_columns": null,
      "grid_template_rows": null,
      "height": null,
      "justify_content": null,
      "justify_items": null,
      "left": null,
      "margin": null,
      "max_height": null,
      "max_width": null,
      "min_height": null,
      "min_width": null,
      "object_fit": null,
      "object_position": null,
      "order": null,
      "overflow": null,
      "overflow_x": null,
      "overflow_y": null,
      "padding": null,
      "right": null,
      "top": null,
      "visibility": null,
      "width": null
     }
    },
    "d4ce099d04514c068767329e5d766929": {
     "model_module": "@jupyter-widgets/base",
     "model_module_version": "1.2.0",
     "model_name": "LayoutModel",
     "state": {
      "_model_module": "@jupyter-widgets/base",
      "_model_module_version": "1.2.0",
      "_model_name": "LayoutModel",
      "_view_count": null,
      "_view_module": "@jupyter-widgets/base",
      "_view_module_version": "1.2.0",
      "_view_name": "LayoutView",
      "align_content": null,
      "align_items": null,
      "align_self": null,
      "border": null,
      "bottom": null,
      "display": null,
      "flex": null,
      "flex_flow": null,
      "grid_area": null,
      "grid_auto_columns": null,
      "grid_auto_flow": null,
      "grid_auto_rows": null,
      "grid_column": null,
      "grid_gap": null,
      "grid_row": null,
      "grid_template_areas": null,
      "grid_template_columns": null,
      "grid_template_rows": null,
      "height": null,
      "justify_content": null,
      "justify_items": null,
      "left": null,
      "margin": null,
      "max_height": null,
      "max_width": null,
      "min_height": null,
      "min_width": null,
      "object_fit": null,
      "object_position": null,
      "order": null,
      "overflow": null,
      "overflow_x": null,
      "overflow_y": null,
      "padding": null,
      "right": null,
      "top": null,
      "visibility": null,
      "width": null
     }
    },
    "d54d3fe606da44348f7363ec37d2c0bc": {
     "model_module": "@jupyter-widgets/controls",
     "model_module_version": "1.5.0",
     "model_name": "DescriptionStyleModel",
     "state": {
      "_model_module": "@jupyter-widgets/controls",
      "_model_module_version": "1.5.0",
      "_model_name": "DescriptionStyleModel",
      "_view_count": null,
      "_view_module": "@jupyter-widgets/base",
      "_view_module_version": "1.2.0",
      "_view_name": "StyleView",
      "description_width": ""
     }
    },
    "d8583886b5dc44598e87a345711f3071": {
     "model_module": "@jupyter-widgets/base",
     "model_module_version": "1.2.0",
     "model_name": "LayoutModel",
     "state": {
      "_model_module": "@jupyter-widgets/base",
      "_model_module_version": "1.2.0",
      "_model_name": "LayoutModel",
      "_view_count": null,
      "_view_module": "@jupyter-widgets/base",
      "_view_module_version": "1.2.0",
      "_view_name": "LayoutView",
      "align_content": null,
      "align_items": null,
      "align_self": null,
      "border": null,
      "bottom": null,
      "display": null,
      "flex": null,
      "flex_flow": null,
      "grid_area": null,
      "grid_auto_columns": null,
      "grid_auto_flow": null,
      "grid_auto_rows": null,
      "grid_column": null,
      "grid_gap": null,
      "grid_row": null,
      "grid_template_areas": null,
      "grid_template_columns": null,
      "grid_template_rows": null,
      "height": null,
      "justify_content": null,
      "justify_items": null,
      "left": null,
      "margin": null,
      "max_height": null,
      "max_width": null,
      "min_height": null,
      "min_width": null,
      "object_fit": null,
      "object_position": null,
      "order": null,
      "overflow": null,
      "overflow_x": null,
      "overflow_y": null,
      "padding": null,
      "right": null,
      "top": null,
      "visibility": null,
      "width": null
     }
    },
    "d8e62aab46504ded82a2d8279c96c282": {
     "model_module": "@jupyter-widgets/base",
     "model_module_version": "1.2.0",
     "model_name": "LayoutModel",
     "state": {
      "_model_module": "@jupyter-widgets/base",
      "_model_module_version": "1.2.0",
      "_model_name": "LayoutModel",
      "_view_count": null,
      "_view_module": "@jupyter-widgets/base",
      "_view_module_version": "1.2.0",
      "_view_name": "LayoutView",
      "align_content": null,
      "align_items": null,
      "align_self": null,
      "border": null,
      "bottom": null,
      "display": null,
      "flex": null,
      "flex_flow": null,
      "grid_area": null,
      "grid_auto_columns": null,
      "grid_auto_flow": null,
      "grid_auto_rows": null,
      "grid_column": null,
      "grid_gap": null,
      "grid_row": null,
      "grid_template_areas": null,
      "grid_template_columns": null,
      "grid_template_rows": null,
      "height": null,
      "justify_content": null,
      "justify_items": null,
      "left": null,
      "margin": null,
      "max_height": null,
      "max_width": null,
      "min_height": null,
      "min_width": null,
      "object_fit": null,
      "object_position": null,
      "order": null,
      "overflow": null,
      "overflow_x": null,
      "overflow_y": null,
      "padding": null,
      "right": null,
      "top": null,
      "visibility": null,
      "width": null
     }
    },
    "db80025ecd274720acea9770af3d6740": {
     "model_module": "@jupyter-widgets/controls",
     "model_module_version": "1.5.0",
     "model_name": "FloatProgressModel",
     "state": {
      "_dom_classes": [],
      "_model_module": "@jupyter-widgets/controls",
      "_model_module_version": "1.5.0",
      "_model_name": "FloatProgressModel",
      "_view_count": null,
      "_view_module": "@jupyter-widgets/controls",
      "_view_module_version": "1.5.0",
      "_view_name": "ProgressView",
      "bar_style": "",
      "description": "",
      "description_tooltip": null,
      "layout": "IPY_MODEL_743f9ec230c54b319d8cccc4e5964938",
      "max": 1821,
      "min": 0,
      "orientation": "horizontal",
      "style": "IPY_MODEL_69ebd508301b4fac8349923a33bf92d7",
      "value": 1821
     }
    },
    "df21b401080b4f2face0f7a53b42f813": {
     "model_module": "@jupyter-widgets/controls",
     "model_module_version": "1.5.0",
     "model_name": "ProgressStyleModel",
     "state": {
      "_model_module": "@jupyter-widgets/controls",
      "_model_module_version": "1.5.0",
      "_model_name": "ProgressStyleModel",
      "_view_count": null,
      "_view_module": "@jupyter-widgets/base",
      "_view_module_version": "1.2.0",
      "_view_name": "StyleView",
      "bar_color": null,
      "description_width": ""
     }
    },
    "df5eabce102343758608a919fce209a5": {
     "model_module": "@jupyter-widgets/base",
     "model_module_version": "1.2.0",
     "model_name": "LayoutModel",
     "state": {
      "_model_module": "@jupyter-widgets/base",
      "_model_module_version": "1.2.0",
      "_model_name": "LayoutModel",
      "_view_count": null,
      "_view_module": "@jupyter-widgets/base",
      "_view_module_version": "1.2.0",
      "_view_name": "LayoutView",
      "align_content": null,
      "align_items": null,
      "align_self": null,
      "border": null,
      "bottom": null,
      "display": null,
      "flex": null,
      "flex_flow": null,
      "grid_area": null,
      "grid_auto_columns": null,
      "grid_auto_flow": null,
      "grid_auto_rows": null,
      "grid_column": null,
      "grid_gap": null,
      "grid_row": null,
      "grid_template_areas": null,
      "grid_template_columns": null,
      "grid_template_rows": null,
      "height": null,
      "justify_content": null,
      "justify_items": null,
      "left": null,
      "margin": null,
      "max_height": null,
      "max_width": null,
      "min_height": null,
      "min_width": null,
      "object_fit": null,
      "object_position": null,
      "order": null,
      "overflow": null,
      "overflow_x": null,
      "overflow_y": null,
      "padding": null,
      "right": null,
      "top": null,
      "visibility": "hidden",
      "width": null
     }
    },
    "e2d9a29c8c1b461895a4585cd105dffb": {
     "model_module": "@jupyter-widgets/controls",
     "model_module_version": "1.5.0",
     "model_name": "HTMLModel",
     "state": {
      "_dom_classes": [],
      "_model_module": "@jupyter-widgets/controls",
      "_model_module_version": "1.5.0",
      "_model_name": "HTMLModel",
      "_view_count": null,
      "_view_module": "@jupyter-widgets/controls",
      "_view_module_version": "1.5.0",
      "_view_name": "HTMLView",
      "description": "",
      "description_tooltip": null,
      "layout": "IPY_MODEL_8c74cbcc177d4528b57d2a349c87b1ff",
      "placeholder": "​",
      "style": "IPY_MODEL_2347e2c9b6a7446490cf2997ab804d2f",
      "value": "100%"
     }
    },
    "e3b403059f5d4698a66599ac49ffa8cc": {
     "model_module": "@jupyter-widgets/base",
     "model_module_version": "1.2.0",
     "model_name": "LayoutModel",
     "state": {
      "_model_module": "@jupyter-widgets/base",
      "_model_module_version": "1.2.0",
      "_model_name": "LayoutModel",
      "_view_count": null,
      "_view_module": "@jupyter-widgets/base",
      "_view_module_version": "1.2.0",
      "_view_name": "LayoutView",
      "align_content": null,
      "align_items": null,
      "align_self": null,
      "border": null,
      "bottom": null,
      "display": null,
      "flex": null,
      "flex_flow": null,
      "grid_area": null,
      "grid_auto_columns": null,
      "grid_auto_flow": null,
      "grid_auto_rows": null,
      "grid_column": null,
      "grid_gap": null,
      "grid_row": null,
      "grid_template_areas": null,
      "grid_template_columns": null,
      "grid_template_rows": null,
      "height": null,
      "justify_content": null,
      "justify_items": null,
      "left": null,
      "margin": null,
      "max_height": null,
      "max_width": null,
      "min_height": null,
      "min_width": null,
      "object_fit": null,
      "object_position": null,
      "order": null,
      "overflow": null,
      "overflow_x": null,
      "overflow_y": null,
      "padding": null,
      "right": null,
      "top": null,
      "visibility": null,
      "width": null
     }
    },
    "e5023c4c6ba744cab046de47d85b7776": {
     "model_module": "@jupyter-widgets/controls",
     "model_module_version": "1.5.0",
     "model_name": "HBoxModel",
     "state": {
      "_dom_classes": [],
      "_model_module": "@jupyter-widgets/controls",
      "_model_module_version": "1.5.0",
      "_model_name": "HBoxModel",
      "_view_count": null,
      "_view_module": "@jupyter-widgets/controls",
      "_view_module_version": "1.5.0",
      "_view_name": "HBoxView",
      "box_style": "",
      "children": [
       "IPY_MODEL_1a838f890e344d5697da449b718768dd",
       "IPY_MODEL_db80025ecd274720acea9770af3d6740",
       "IPY_MODEL_880ad94be3aa4713b99d79fce23245e4"
      ],
      "layout": "IPY_MODEL_1393ffbc23c1455aa8ba96bf7ebb6628"
     }
    },
    "e62e775a432546d985645146b187c0f1": {
     "model_module": "@jupyter-widgets/controls",
     "model_module_version": "1.5.0",
     "model_name": "DescriptionStyleModel",
     "state": {
      "_model_module": "@jupyter-widgets/controls",
      "_model_module_version": "1.5.0",
      "_model_name": "DescriptionStyleModel",
      "_view_count": null,
      "_view_module": "@jupyter-widgets/base",
      "_view_module_version": "1.2.0",
      "_view_name": "StyleView",
      "description_width": ""
     }
    },
    "e9b684dbdcc846deb0e83a0cc589c464": {
     "model_module": "@jupyter-widgets/controls",
     "model_module_version": "1.5.0",
     "model_name": "HTMLModel",
     "state": {
      "_dom_classes": [],
      "_model_module": "@jupyter-widgets/controls",
      "_model_module_version": "1.5.0",
      "_model_name": "HTMLModel",
      "_view_count": null,
      "_view_module": "@jupyter-widgets/controls",
      "_view_module_version": "1.5.0",
      "_view_name": "HTMLView",
      "description": "",
      "description_tooltip": null,
      "layout": "IPY_MODEL_28c4876d397d4ae6a1764e20543593ea",
      "placeholder": "​",
      "style": "IPY_MODEL_8d05ab4ecaf243b69d8687bd95619d49",
      "value": " 5.10k/5.10k [00:00&lt;00:00, 347kB/s]"
     }
    },
    "eb2c6a0bb19e4b0eb423785809314fcd": {
     "model_module": "@jupyter-widgets/base",
     "model_module_version": "1.2.0",
     "model_name": "LayoutModel",
     "state": {
      "_model_module": "@jupyter-widgets/base",
      "_model_module_version": "1.2.0",
      "_model_name": "LayoutModel",
      "_view_count": null,
      "_view_module": "@jupyter-widgets/base",
      "_view_module_version": "1.2.0",
      "_view_name": "LayoutView",
      "align_content": null,
      "align_items": null,
      "align_self": null,
      "border": null,
      "bottom": null,
      "display": null,
      "flex": null,
      "flex_flow": null,
      "grid_area": null,
      "grid_auto_columns": null,
      "grid_auto_flow": null,
      "grid_auto_rows": null,
      "grid_column": null,
      "grid_gap": null,
      "grid_row": null,
      "grid_template_areas": null,
      "grid_template_columns": null,
      "grid_template_rows": null,
      "height": null,
      "justify_content": null,
      "justify_items": null,
      "left": null,
      "margin": null,
      "max_height": null,
      "max_width": null,
      "min_height": null,
      "min_width": null,
      "object_fit": null,
      "object_position": null,
      "order": null,
      "overflow": null,
      "overflow_x": null,
      "overflow_y": null,
      "padding": null,
      "right": null,
      "top": null,
      "visibility": null,
      "width": null
     }
    },
    "eb4007658adf4d40af675fa8c737353d": {
     "model_module": "@jupyter-widgets/base",
     "model_module_version": "1.2.0",
     "model_name": "LayoutModel",
     "state": {
      "_model_module": "@jupyter-widgets/base",
      "_model_module_version": "1.2.0",
      "_model_name": "LayoutModel",
      "_view_count": null,
      "_view_module": "@jupyter-widgets/base",
      "_view_module_version": "1.2.0",
      "_view_name": "LayoutView",
      "align_content": null,
      "align_items": null,
      "align_self": null,
      "border": null,
      "bottom": null,
      "display": null,
      "flex": null,
      "flex_flow": null,
      "grid_area": null,
      "grid_auto_columns": null,
      "grid_auto_flow": null,
      "grid_auto_rows": null,
      "grid_column": null,
      "grid_gap": null,
      "grid_row": null,
      "grid_template_areas": null,
      "grid_template_columns": null,
      "grid_template_rows": null,
      "height": null,
      "justify_content": null,
      "justify_items": null,
      "left": null,
      "margin": null,
      "max_height": null,
      "max_width": null,
      "min_height": null,
      "min_width": null,
      "object_fit": null,
      "object_position": null,
      "order": null,
      "overflow": null,
      "overflow_x": null,
      "overflow_y": null,
      "padding": null,
      "right": null,
      "top": null,
      "visibility": null,
      "width": null
     }
    },
    "ed54dbbac3eb43fb85b8263f9db60b98": {
     "model_module": "@jupyter-widgets/controls",
     "model_module_version": "1.5.0",
     "model_name": "DescriptionStyleModel",
     "state": {
      "_model_module": "@jupyter-widgets/controls",
      "_model_module_version": "1.5.0",
      "_model_name": "DescriptionStyleModel",
      "_view_count": null,
      "_view_module": "@jupyter-widgets/base",
      "_view_module_version": "1.2.0",
      "_view_name": "StyleView",
      "description_width": ""
     }
    },
    "ee966ca2638f42d78eddc42d559940a7": {
     "model_module": "@jupyter-widgets/base",
     "model_module_version": "1.2.0",
     "model_name": "LayoutModel",
     "state": {
      "_model_module": "@jupyter-widgets/base",
      "_model_module_version": "1.2.0",
      "_model_name": "LayoutModel",
      "_view_count": null,
      "_view_module": "@jupyter-widgets/base",
      "_view_module_version": "1.2.0",
      "_view_name": "LayoutView",
      "align_content": null,
      "align_items": null,
      "align_self": null,
      "border": null,
      "bottom": null,
      "display": null,
      "flex": null,
      "flex_flow": null,
      "grid_area": null,
      "grid_auto_columns": null,
      "grid_auto_flow": null,
      "grid_auto_rows": null,
      "grid_column": null,
      "grid_gap": null,
      "grid_row": null,
      "grid_template_areas": null,
      "grid_template_columns": null,
      "grid_template_rows": null,
      "height": null,
      "justify_content": null,
      "justify_items": null,
      "left": null,
      "margin": null,
      "max_height": null,
      "max_width": null,
      "min_height": null,
      "min_width": null,
      "object_fit": null,
      "object_position": null,
      "order": null,
      "overflow": null,
      "overflow_x": null,
      "overflow_y": null,
      "padding": null,
      "right": null,
      "top": null,
      "visibility": null,
      "width": null
     }
    },
    "f18c07bace4747a7ac757b5a7913909c": {
     "model_module": "@jupyter-widgets/base",
     "model_module_version": "1.2.0",
     "model_name": "LayoutModel",
     "state": {
      "_model_module": "@jupyter-widgets/base",
      "_model_module_version": "1.2.0",
      "_model_name": "LayoutModel",
      "_view_count": null,
      "_view_module": "@jupyter-widgets/base",
      "_view_module_version": "1.2.0",
      "_view_name": "LayoutView",
      "align_content": null,
      "align_items": null,
      "align_self": null,
      "border": null,
      "bottom": null,
      "display": null,
      "flex": null,
      "flex_flow": null,
      "grid_area": null,
      "grid_auto_columns": null,
      "grid_auto_flow": null,
      "grid_auto_rows": null,
      "grid_column": null,
      "grid_gap": null,
      "grid_row": null,
      "grid_template_areas": null,
      "grid_template_columns": null,
      "grid_template_rows": null,
      "height": null,
      "justify_content": null,
      "justify_items": null,
      "left": null,
      "margin": null,
      "max_height": null,
      "max_width": null,
      "min_height": null,
      "min_width": null,
      "object_fit": null,
      "object_position": null,
      "order": null,
      "overflow": null,
      "overflow_x": null,
      "overflow_y": null,
      "padding": null,
      "right": null,
      "top": null,
      "visibility": null,
      "width": null
     }
    },
    "f7e0e0eccaab4010832bf507d87ab587": {
     "model_module": "@jupyter-widgets/base",
     "model_module_version": "1.2.0",
     "model_name": "LayoutModel",
     "state": {
      "_model_module": "@jupyter-widgets/base",
      "_model_module_version": "1.2.0",
      "_model_name": "LayoutModel",
      "_view_count": null,
      "_view_module": "@jupyter-widgets/base",
      "_view_module_version": "1.2.0",
      "_view_name": "LayoutView",
      "align_content": null,
      "align_items": null,
      "align_self": null,
      "border": null,
      "bottom": null,
      "display": null,
      "flex": null,
      "flex_flow": null,
      "grid_area": null,
      "grid_auto_columns": null,
      "grid_auto_flow": null,
      "grid_auto_rows": null,
      "grid_column": null,
      "grid_gap": null,
      "grid_row": null,
      "grid_template_areas": null,
      "grid_template_columns": null,
      "grid_template_rows": null,
      "height": null,
      "justify_content": null,
      "justify_items": null,
      "left": null,
      "margin": null,
      "max_height": null,
      "max_width": null,
      "min_height": null,
      "min_width": null,
      "object_fit": null,
      "object_position": null,
      "order": null,
      "overflow": null,
      "overflow_x": null,
      "overflow_y": null,
      "padding": null,
      "right": null,
      "top": null,
      "visibility": null,
      "width": null
     }
    },
    "fa3fc3a33cec42e4a228356d67b734ab": {
     "model_module": "@jupyter-widgets/controls",
     "model_module_version": "1.5.0",
     "model_name": "ProgressStyleModel",
     "state": {
      "_model_module": "@jupyter-widgets/controls",
      "_model_module_version": "1.5.0",
      "_model_name": "ProgressStyleModel",
      "_view_count": null,
      "_view_module": "@jupyter-widgets/base",
      "_view_module_version": "1.2.0",
      "_view_name": "StyleView",
      "bar_color": null,
      "description_width": ""
     }
    },
    "fed43f83c2bd4192bb04a7b81325c1ae": {
     "model_module": "@jupyter-widgets/controls",
     "model_module_version": "1.5.0",
     "model_name": "HTMLModel",
     "state": {
      "_dom_classes": [],
      "_model_module": "@jupyter-widgets/controls",
      "_model_module_version": "1.5.0",
      "_model_name": "HTMLModel",
      "_view_count": null,
      "_view_module": "@jupyter-widgets/controls",
      "_view_module_version": "1.5.0",
      "_view_name": "HTMLView",
      "description": "",
      "description_tooltip": null,
      "layout": "IPY_MODEL_eb2c6a0bb19e4b0eb423785809314fcd",
      "placeholder": "​",
      "style": "IPY_MODEL_17480ec7b5d84aa39d45f31459f02016",
      "value": " 1.85k/1.85k [00:00&lt;00:00, 109kB/s]"
     }
    }
   }
  }
 },
 "nbformat": 4,
 "nbformat_minor": 1
}
